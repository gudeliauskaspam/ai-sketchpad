{
 "cells": [
  {
   "cell_type": "markdown",
   "metadata": {},
   "source": [
    "# Introduction"
   ]
  },
  {
   "cell_type": "markdown",
   "metadata": {},
   "source": [
    "This notebook presents **bag-of-words** sentiment anlysis on [IMDB](http://ai.stanford.edu/~amaas/data/sentiment/) movie reviews dataset in Keras."
   ]
  },
  {
   "cell_type": "markdown",
   "metadata": {},
   "source": [
    "**Contents**\n",
    "\n",
    "* [IMDB Dataset](#IMDB-Dataset) - load and preprocess\n",
    "* [Preprocess Data](#Preprocess-Data) - cleanup and reduce noise\n",
    "* [PyTorch Model](#Keras-Model) - build and train model"
   ]
  },
  {
   "cell_type": "markdown",
   "metadata": {},
   "source": [
    "# Imports"
   ]
  },
  {
   "cell_type": "code",
   "execution_count": 1,
   "metadata": {},
   "outputs": [],
   "source": [
    "import os\n",
    "import re\n",
    "import collections\n",
    "import numpy as np\n",
    "import matplotlib.pyplot as plt\n",
    "import torch\n",
    "import torch.nn as nn"
   ]
  },
  {
   "cell_type": "markdown",
   "metadata": {},
   "source": [
    "Pick GPU if available"
   ]
  },
  {
   "cell_type": "code",
   "execution_count": 2,
   "metadata": {},
   "outputs": [],
   "source": [
    "device = torch.device(\"cuda:0\" if torch.cuda.is_available() else \"cpu\")"
   ]
  },
  {
   "cell_type": "markdown",
   "metadata": {},
   "source": [
    "# IMDB Dataset"
   ]
  },
  {
   "cell_type": "markdown",
   "metadata": {},
   "source": [
    "Download the dataset from [here](http://ai.stanford.edu/~amaas/data/sentiment/aclImdb_v1.tar.gz) and extract. Point path below to extracted location."
   ]
  },
  {
   "cell_type": "code",
   "execution_count": 3,
   "metadata": {},
   "outputs": [],
   "source": [
    "dataset_location = '/home/marcin/Datasets/imdb'"
   ]
  },
  {
   "cell_type": "markdown",
   "metadata": {},
   "source": [
    "Helper to load the dataset"
   ]
  },
  {
   "cell_type": "code",
   "execution_count": 4,
   "metadata": {},
   "outputs": [],
   "source": [
    "def load_imdb_dataset(dataset_loc):\n",
    "    def read_reviews(path, label, reviews, labels):\n",
    "        files_list = sorted(os.listdir(path))\n",
    "        for filename in sorted(os.listdir(path)):\n",
    "            with open(os.path.join(path, filename)) as f:\n",
    "                reviews.append(f.read())\n",
    "                labels.append(label)\n",
    "        return reviews, labels\n",
    "    \n",
    "    path_train_pos = os.path.join(dataset_location, 'aclImdb_v1/aclImdb/train/pos')\n",
    "    path_train_neg = os.path.join(dataset_location, 'aclImdb_v1/aclImdb/train/neg')\n",
    "    path_test_pos = os.path.join(dataset_location, 'aclImdb_v1/aclImdb/test/pos')\n",
    "    path_test_neg = os.path.join(dataset_location, 'aclImdb_v1/aclImdb/test/neg')\n",
    "    \n",
    "    train_revs, train_labels = [], []\n",
    "    train_revs, train_labels = read_reviews(path_train_pos, 1, train_revs, train_labels)\n",
    "    train_revs, train_labels = read_reviews(path_train_neg, 0, train_revs, train_labels)\n",
    "    \n",
    "    test_revs, test_labels = [], []\n",
    "    test_revs, test_labels = read_reviews(path_test_pos, 1, test_revs, test_labels)\n",
    "    test_revs, test_labels = read_reviews(path_test_neg, 0, test_revs, test_labels)\n",
    "    \n",
    "    return (train_revs, train_labels), (test_revs, test_labels)"
   ]
  },
  {
   "cell_type": "markdown",
   "metadata": {},
   "source": [
    "Load dataset"
   ]
  },
  {
   "cell_type": "code",
   "execution_count": 5,
   "metadata": {},
   "outputs": [],
   "source": [
    "train_data, test_data = load_imdb_dataset(dataset_location)\n",
    "train_reviews_raw, train_labels_raw = train_data\n",
    "test_reviews_raw, test_labels_raw = test_data   "
   ]
  },
  {
   "cell_type": "markdown",
   "metadata": {},
   "source": [
    "Lets see a sample review"
   ]
  },
  {
   "cell_type": "code",
   "execution_count": 6,
   "metadata": {},
   "outputs": [
    {
     "name": "stdout",
     "output_type": "stream",
     "text": [
      "Bromwell High is a cartoon comedy. It ran at the same time as some other programs about school life, such as \"Teachers\". My 35 years in the teaching profession lead me to believe that Bromwell High's satire is much closer to reality than is \"Teachers\". The scramble to survive financially, the insightful students who can see right through their pathetic teachers' pomp, the pettiness of the whole situation, all remind me of the schools I knew and their students. When I saw the episode in which a student repeatedly tried to burn down the school, I immediately recalled ......... at .......... High. A classic line: INSPECTOR: I'm here to sack one of your teachers. STUDENT: Welcome to Bromwell High. I expect that many adults of my age think that Bromwell High is far fetched. What a pity that it isn't!\n"
     ]
    }
   ],
   "source": [
    "print(train_reviews_raw[0])"
   ]
  },
  {
   "cell_type": "markdown",
   "metadata": {},
   "source": [
    "Count words in the dataset"
   ]
  },
  {
   "cell_type": "code",
   "execution_count": 7,
   "metadata": {},
   "outputs": [],
   "source": [
    "def count_words(list_of_examples):\n",
    "    if isinstance(list_of_examples[0], str):\n",
    "        split = True  # got list of strings, need to split words\n",
    "    if isinstance(list_of_examples[0], list):\n",
    "        split = False  # list of lists, already split by words\n",
    "    \n",
    "    words_counter = collections.Counter()\n",
    "    for example in list_of_examples:\n",
    "        if split:\n",
    "            words_counter.update(example.split())\n",
    "        else:\n",
    "            words_counter.update(example)\n",
    "            \n",
    "    total_words = sum(list(words_counter.values()))\n",
    "    unique_words = len(words_counter)\n",
    "    \n",
    "    return total_words, unique_words, words_counter"
   ]
  },
  {
   "cell_type": "code",
   "execution_count": 8,
   "metadata": {},
   "outputs": [
    {
     "name": "stdout",
     "output_type": "stream",
     "text": [
      "Total words:  5844680\n",
      "Unique words:  280617\n"
     ]
    }
   ],
   "source": [
    "total_words, unique_words, _ = count_words(train_reviews_raw)\n",
    "print('Total words: ', total_words)\n",
    "print('Unique words: ', unique_words)"
   ]
  },
  {
   "cell_type": "markdown",
   "metadata": {},
   "source": [
    "We have 5.8M words (as separated by spaces) and 280k unique words"
   ]
  },
  {
   "cell_type": "markdown",
   "metadata": {},
   "source": [
    "# Preprocess Data"
   ]
  },
  {
   "cell_type": "markdown",
   "metadata": {},
   "source": [
    "We are going to perform following pre-processing steps:\n",
    "\n",
    "* text cleanup - convert to lowercase and remove any non __a-z__ characters\n",
    "* remove stopwords - remove words like 'the', 'a', 'an' and so on\n",
    "* reduce vocabulary - keep 1000 most common words (same as tf.keras.datasets.imbd)\n",
    "* tokenize - convert words to ints"
   ]
  },
  {
   "cell_type": "markdown",
   "metadata": {},
   "source": [
    "**Text Cleanup**"
   ]
  },
  {
   "cell_type": "markdown",
   "metadata": {},
   "source": [
    "We are going to perform following pre-processing steps:\n",
    "\n",
    "* convert to lowercase\n",
    "* keep only a-z characters, convert everything else to space\n",
    "  * (we could spell digits, i.e. convert 20 to 'two zero' but we won't bother here)\n",
    "* split whatever is left thus removing any consequent spaces\n",
    "  \n",
    "This will leave us with dataset build of 26 letters.\n",
    "\n",
    "Note that words like \"didn't\" will be converted to \"didn t\", but that's ok. Words \"did\" and \"didn\" will still be encoded as different characters. Word \"t\" can be dropped when removing stopwords."
   ]
  },
  {
   "cell_type": "code",
   "execution_count": 9,
   "metadata": {},
   "outputs": [],
   "source": [
    "def text_cleanup(list_of_texts):\n",
    "    \"\"\"Perform text cleanup, reduce to a-z and space.\"\"\"\n",
    "    def cleanup(text):\n",
    "        res = text.lower()\n",
    "        res = regex.sub(' ', res)\n",
    "        return res.split()\n",
    "    \n",
    "    result_cleaned = []\n",
    "    regex = re.compile('[^a-z ]+')    # removes anything that is not a-z or space\n",
    "    for text in list_of_texts:\n",
    "        result_cleaned.append(cleanup(text))\n",
    "    return result_cleaned                     # doubly nested list of words"
   ]
  },
  {
   "cell_type": "code",
   "execution_count": 10,
   "metadata": {},
   "outputs": [
    {
     "name": "stdout",
     "output_type": "stream",
     "text": [
      "['bromwell', 'high', 'is', 'a', 'cartoon', 'comedy', 'it', 'ran', 'at', 'the', 'same', 'time', 'as', 'some', 'other', 'programs', 'about', 'school', 'life', 'such', 'as', 'teachers', 'my', 'years', 'in', 'the', 'teaching', 'profession', 'lead', 'me', 'to', 'believe', 'that', 'bromwell', 'high', 's', 'satire', 'is', 'much', 'closer', 'to', 'reality', 'than', 'is', 'teachers', 'the', 'scramble', 'to', 'survive', 'financially', 'the', 'insightful', 'students', 'who', 'can', 'see', 'right', 'through', 'their', 'pathetic', 'teachers', 'pomp', 'the', 'pettiness', 'of', 'the', 'whole', 'situation', 'all', 'remind', 'me', 'of', 'the', 'schools', 'i', 'knew', 'and', 'their', 'students', 'when', 'i', 'saw', 'the', 'episode', 'in', 'which', 'a', 'student', 'repeatedly', 'tried', 'to', 'burn', 'down', 'the', 'school', 'i', 'immediately', 'recalled', 'at', 'high', 'a', 'classic', 'line', 'inspector', 'i', 'm', 'here', 'to', 'sack', 'one', 'of', 'your', 'teachers', 'student', 'welcome', 'to', 'bromwell', 'high', 'i', 'expect', 'that', 'many', 'adults', 'of', 'my', 'age', 'think', 'that', 'bromwell', 'high', 'is', 'far', 'fetched', 'what', 'a', 'pity', 'that', 'it', 'isn', 't']\n"
     ]
    }
   ],
   "source": [
    "train_reviews = text_cleanup(train_reviews_raw)\n",
    "test_reviews = text_cleanup(test_reviews_raw)\n",
    "print(train_reviews[0])"
   ]
  },
  {
   "cell_type": "markdown",
   "metadata": {},
   "source": [
    "Lets see how it looks like now"
   ]
  },
  {
   "cell_type": "code",
   "execution_count": 11,
   "metadata": {},
   "outputs": [
    {
     "name": "stdout",
     "output_type": "stream",
     "text": [
      "Total words:  6023662\n",
      "Unique words:  73272\n"
     ]
    }
   ],
   "source": [
    "total_words, unique_words, words_counter = count_words(train_reviews)\n",
    "print('Total words: ', total_words)\n",
    "print('Unique words: ', unique_words)"
   ]
  },
  {
   "cell_type": "markdown",
   "metadata": {},
   "source": [
    "And lets have a look at word count distributions"
   ]
  },
  {
   "cell_type": "code",
   "execution_count": 12,
   "metadata": {},
   "outputs": [],
   "source": [
    "def plot_counts(words_counter, title):\n",
    "    sorted_all = np.array(sorted(list(words_counter.values()), reverse=True))\n",
    "    fig, [ax1, ax2] = plt.subplots(1, 2, figsize=[16,6])\n",
    "    ax1.plot(sorted_all); ax1.set_title(title + ' Counts (linear scale)')\n",
    "    ax2.plot(sorted_all); ax2.set_title(title + ' Counts (log scale)')\n",
    "    ax2.set_yscale('log')"
   ]
  },
  {
   "cell_type": "code",
   "execution_count": 13,
   "metadata": {},
   "outputs": [
    {
     "data": {
      "image/png": "[encoded data removed]",
      "text/plain": [
       "<Figure size 1152x432 with 2 Axes>"
      ]
     },
     "metadata": {
      "needs_background": "light"
     },
     "output_type": "display_data"
    }
   ],
   "source": [
    "plot_counts(words_counter, title='Word')"
   ]
  },
  {
   "cell_type": "markdown",
   "metadata": {},
   "source": [
    "Some words appear 300k times (left plot), while there is over 10k words that appear only once (right plot)"
   ]
  },
  {
   "cell_type": "markdown",
   "metadata": {},
   "source": [
    "**Remove Stopwords**"
   ]
  },
  {
   "cell_type": "markdown",
   "metadata": {},
   "source": [
    "Check most common words, they don't contribute to overall meaning of sentences"
   ]
  },
  {
   "cell_type": "code",
   "execution_count": 14,
   "metadata": {},
   "outputs": [
    {
     "data": {
      "text/plain": [
       "[('the', 336758),\n",
       " ('and', 164143),\n",
       " ('a', 163174),\n",
       " ('of', 145867),\n",
       " ('to', 135724),\n",
       " ('is', 107337),\n",
       " ('br', 101872),\n",
       " ('it', 96472),\n",
       " ('in', 93981),\n",
       " ('i', 87702)]"
      ]
     },
     "metadata": {},
     "output_type": "display_data"
    }
   ],
   "source": [
    "display(words_counter.most_common()[:10])"
   ]
  },
  {
   "cell_type": "markdown",
   "metadata": {},
   "source": [
    "List of stopwords from NLTK"
   ]
  },
  {
   "cell_type": "code",
   "execution_count": 15,
   "metadata": {},
   "outputs": [],
   "source": [
    "# import nltk\n",
    "# nltk.download('stopwords')\n",
    "# en_stopwords = nltk.corpus.stopwords.words('english')\n",
    "# stopwords = {sw for sw in en_stopwords}\n",
    "# print(stopwords)\n",
    "stopwords = {'down', 'then', 'of', 'but', 'only', 'yours', 'himself', 'again',\n",
    "             'very', 'or', 'once', 'until', 'have', \"doesn't\", 'what', 'during',\n",
    "             \"that'll\", 'some', 'was', 'be', 'he', \"should've\", 'between',\n",
    "             \"shouldn't\", 'further', 'no', 'yourself', 'm', 've', \"you'll\",\n",
    "             'ain', 't', 'our', 'his', 'o', 'wouldn', 'below', 'any', 'under',\n",
    "             'you', 'isn', 'theirs', 'why', 'that', 'mightn', 'ourselves', 'on',\n",
    "             'haven', 'while', 'to', 'than', 'your', 'she', 'is', 'just',\n",
    "             \"mightn't\", 'with', \"you've\", 'mustn', 'needn', 'same', 'me',\n",
    "             'such', 'myself', 'there', 'own', 'this', 're', 'ma', 'from',\n",
    "             'did', 'couldn', 'hasn', 'for', 'won', \"won't\", \"mustn't\", 'her',\n",
    "             'can', 'doesn', \"wouldn't\", 'when', \"you're\", 'who', 'which', 'll',\n",
    "             'itself', 'against', 'out', 'up', \"it's\", 'a', 'here', 'being',\n",
    "             'they', 'as', 'didn', 'weren', 'aren', 'herself', 'the', 'if',\n",
    "             \"didn't\", 'should', 'doing', 'other', 'has', 'so', \"you'd\",\n",
    "             'above', 'do', 'before', 'at', 'had', 'each', \"aren't\", 'their',\n",
    "             'now', 'an', 'through', 'how', 'those', 'nor', \"hasn't\", 'over',\n",
    "             'by', 'into', 'themselves', 'most', 'shan', 'been', \"she's\",\n",
    "             \"haven't\", \"isn't\", \"wasn't\", 'where', 'about', 'in', \"hadn't\",\n",
    "             'because', 'too', 'whom', 'ours', 'him', 'yourselves', 'after',\n",
    "             'and', 'were', 'both', 'will', 'it', 'my', 'few', 'having', 'them',\n",
    "             'hadn', 'shouldn', 'does', 's', \"couldn't\", 'y', 'all', 'don',\n",
    "             'off', 'more', 'am', 'd', 'hers', 'its', 'are', \"shan't\",\n",
    "             \"weren't\", 'we', \"needn't\", 'i', 'these', \"don't\", 'wasn', 'not'}"
   ]
  },
  {
   "cell_type": "code",
   "execution_count": 16,
   "metadata": {},
   "outputs": [],
   "source": [
    "stopwords.add('br')  # <br /> tag in a lot of reviews"
   ]
  },
  {
   "cell_type": "markdown",
   "metadata": {},
   "source": [
    "Remove stopwords"
   ]
  },
  {
   "cell_type": "code",
   "execution_count": 17,
   "metadata": {},
   "outputs": [],
   "source": [
    "def remove_stopwords(list_of_examples, stopwords):\n",
    "    result_no_stop = []\n",
    "    for list_of_words in list_of_examples:\n",
    "        result_no_stop.append( [w for w in list_of_words if w not in stopwords])\n",
    "    return result_no_stop"
   ]
  },
  {
   "cell_type": "code",
   "execution_count": 18,
   "metadata": {},
   "outputs": [],
   "source": [
    "train_reviews_no_stop = remove_stopwords(train_reviews, stopwords)\n",
    "test_reviews_no_stop = remove_stopwords(test_reviews, stopwords)"
   ]
  },
  {
   "cell_type": "markdown",
   "metadata": {},
   "source": [
    "Show sample review"
   ]
  },
  {
   "cell_type": "code",
   "execution_count": 19,
   "metadata": {},
   "outputs": [
    {
     "name": "stdout",
     "output_type": "stream",
     "text": [
      "['bromwell', 'high', 'cartoon', 'comedy', 'ran', 'time', 'programs', 'school', 'life', 'teachers', 'years', 'teaching', 'profession', 'lead', 'believe', 'bromwell', 'high', 'satire', 'much', 'closer', 'reality', 'teachers', 'scramble', 'survive', 'financially', 'insightful', 'students', 'see', 'right', 'pathetic', 'teachers', 'pomp', 'pettiness', 'whole', 'situation', 'remind', 'schools', 'knew', 'students', 'saw', 'episode', 'student', 'repeatedly', 'tried', 'burn', 'school', 'immediately', 'recalled', 'high', 'classic', 'line', 'inspector', 'sack', 'one', 'teachers', 'student', 'welcome', 'bromwell', 'high', 'expect', 'many', 'adults', 'age', 'think', 'bromwell', 'high', 'far', 'fetched', 'pity']\n"
     ]
    }
   ],
   "source": [
    "print(train_reviews_no_stop[0])"
   ]
  },
  {
   "cell_type": "markdown",
   "metadata": {},
   "source": [
    "And word counts"
   ]
  },
  {
   "cell_type": "code",
   "execution_count": 20,
   "metadata": {},
   "outputs": [
    {
     "name": "stdout",
     "output_type": "stream",
     "text": [
      "Total words:  2988387\n",
      "Unique words:  73118\n"
     ]
    }
   ],
   "source": [
    "total_words, unique_words, words_counter = count_words(train_reviews_no_stop)\n",
    "print('Total words: ', total_words)\n",
    "print('Unique words: ', unique_words)"
   ]
  },
  {
   "cell_type": "markdown",
   "metadata": {},
   "source": [
    "**Reduce Vocabulary**"
   ]
  },
  {
   "cell_type": "markdown",
   "metadata": {},
   "source": [
    "Likewise, check most rare words. They also don't provide much meaning (what is \"lagomorph\" anyways?)"
   ]
  },
  {
   "cell_type": "code",
   "execution_count": 21,
   "metadata": {},
   "outputs": [
    {
     "data": {
      "text/plain": [
       "[('lagomorph', 1),\n",
       " ('ziller', 1),\n",
       " ('deamon', 1),\n",
       " ('yaks', 1),\n",
       " ('hoodies', 1),\n",
       " ('insulation', 1),\n",
       " ('mwuhahahaa', 1),\n",
       " ('bellwood', 1),\n",
       " ('pressurized', 1),\n",
       " ('whelk', 1)]"
      ]
     },
     "metadata": {},
     "output_type": "display_data"
    }
   ],
   "source": [
    "display(words_counter.most_common()[-10:])"
   ]
  },
  {
   "cell_type": "markdown",
   "metadata": {},
   "source": [
    "We will reduce vocabulary to 998 words plus &lt;PAD&gt; and &lt;UNK&gt; tokens for total of 1000 words"
   ]
  },
  {
   "cell_type": "code",
   "execution_count": 22,
   "metadata": {},
   "outputs": [],
   "source": [
    "def get_most_common_words(list_of_examples, num_words):\n",
    "    words_ctr = collections.Counter()\n",
    "    for example in list_of_examples:\n",
    "        words_ctr.update(example)\n",
    "    \n",
    "    keep_words = {w for w, n in words_ctr.most_common()[:num_words]}\n",
    "    return keep_words"
   ]
  },
  {
   "cell_type": "code",
   "execution_count": 23,
   "metadata": {},
   "outputs": [],
   "source": [
    "allowed_words = get_most_common_words(train_reviews_no_stop, 998)"
   ]
  },
  {
   "cell_type": "markdown",
   "metadata": {},
   "source": [
    "Print some of the allowed words"
   ]
  },
  {
   "cell_type": "code",
   "execution_count": 24,
   "metadata": {},
   "outputs": [
    {
     "name": "stdout",
     "output_type": "stream",
     "text": [
      "['hate', 'put', 'revenge', 'mind', 'find', 'away', 'animated', 'island', 'sexual', 'entirely', 'pretty', 'bit', 'recommend', 'simple', 'eye', 'seem', 'lines', 'greatest', 'rock', 'disney']\n"
     ]
    }
   ],
   "source": [
    "print([w for w in allowed_words][:20])"
   ]
  },
  {
   "cell_type": "markdown",
   "metadata": {},
   "source": [
    "And reduce vocabulary"
   ]
  },
  {
   "cell_type": "code",
   "execution_count": 25,
   "metadata": {},
   "outputs": [],
   "source": [
    "def reduce_vocabulary(list_of_examples, allowed_words, unk_tok='<UNK>'):\n",
    "    result_reduced = []\n",
    "    for example in list_of_examples:\n",
    "        result_reduced.append( [w if w in allowed_words else unk_tok for w in example] )\n",
    "    return result_reduced"
   ]
  },
  {
   "cell_type": "code",
   "execution_count": 26,
   "metadata": {},
   "outputs": [],
   "source": [
    "train_reviews_reduced = reduce_vocabulary(train_reviews_no_stop, allowed_words)\n",
    "test_reviews_reduced = reduce_vocabulary(test_reviews_no_stop, allowed_words)"
   ]
  },
  {
   "cell_type": "markdown",
   "metadata": {},
   "source": [
    "Show example after reduction"
   ]
  },
  {
   "cell_type": "code",
   "execution_count": 27,
   "metadata": {},
   "outputs": [
    {
     "name": "stdout",
     "output_type": "stream",
     "text": [
      "['<UNK>', 'high', 'cartoon', 'comedy', '<UNK>', 'time', '<UNK>', 'school', 'life', '<UNK>', 'years', '<UNK>', '<UNK>', 'lead', 'believe', '<UNK>', 'high', '<UNK>', 'much', '<UNK>', 'reality', '<UNK>', '<UNK>', '<UNK>', '<UNK>', '<UNK>', '<UNK>', 'see', 'right', '<UNK>', '<UNK>', '<UNK>', '<UNK>', 'whole', 'situation', '<UNK>', '<UNK>', 'knew', '<UNK>', 'saw', 'episode', '<UNK>', '<UNK>', 'tried', '<UNK>', 'school', '<UNK>', '<UNK>', 'high', 'classic', 'line', '<UNK>', '<UNK>', 'one', '<UNK>', '<UNK>', '<UNK>', '<UNK>', 'high', 'expect', 'many', '<UNK>', 'age', 'think', '<UNK>', 'high', 'far', '<UNK>', '<UNK>']\n"
     ]
    }
   ],
   "source": [
    "print(train_reviews_reduced[0])"
   ]
  },
  {
   "cell_type": "markdown",
   "metadata": {},
   "source": [
    "And count words"
   ]
  },
  {
   "cell_type": "code",
   "execution_count": 28,
   "metadata": {},
   "outputs": [
    {
     "name": "stdout",
     "output_type": "stream",
     "text": [
      "Total words:  2988387\n",
      "Unique words:  999\n"
     ]
    }
   ],
   "source": [
    "total_words, unique_words, words_counter = count_words(train_reviews_reduced)\n",
    "print('Total words: ', total_words)\n",
    "print('Unique words: ', unique_words)"
   ]
  },
  {
   "cell_type": "markdown",
   "metadata": {},
   "source": [
    "**Create dictionaries**"
   ]
  },
  {
   "cell_type": "markdown",
   "metadata": {},
   "source": [
    "Technically we don't do any padding in this notebook but I'm leaving \"&lt;PAD&gt;\" in anyway"
   ]
  },
  {
   "cell_type": "code",
   "execution_count": 29,
   "metadata": {},
   "outputs": [
    {
     "name": "stdout",
     "output_type": "stream",
     "text": [
      "Number of words in dictionaries: 1000\n"
     ]
    }
   ],
   "source": [
    "i2w = {i : w for i, (w, c) in enumerate(words_counter.most_common(), 1)}\n",
    "w2i = {w : i for i, w in i2w.items()}\n",
    "i2w[0] = '<PAD>'                       # use zero index for padding\n",
    "w2i[i2w[0]] = 0\n",
    "print('Number of words in dictionaries:', len(i2w))"
   ]
  },
  {
   "cell_type": "markdown",
   "metadata": {},
   "source": [
    "And confirm dictionaries are build correctly"
   ]
  },
  {
   "cell_type": "code",
   "execution_count": 30,
   "metadata": {},
   "outputs": [
    {
     "name": "stdout",
     "output_type": "stream",
     "text": [
      "0 : <PAD> : 0\n",
      "1 : <UNK> : 1\n",
      "2 : movie : 2\n",
      "3 : film : 3\n",
      "4 : one : 4\n",
      "5 : like : 5\n",
      "6 : good : 6\n",
      "7 : time : 7\n",
      "8 : even : 8\n",
      "9 : would : 9\n"
     ]
    }
   ],
   "source": [
    "for i in range(10):\n",
    "    word = i2w[i]\n",
    "    print(i, ':', word, ':', w2i[word])"
   ]
  },
  {
   "cell_type": "markdown",
   "metadata": {},
   "source": [
    "Print subset of vocabulary"
   ]
  },
  {
   "cell_type": "code",
   "execution_count": 31,
   "metadata": {},
   "outputs": [
    {
     "name": "stdout",
     "output_type": "stream",
     "text": [
      "['<PAD>', '<UNK>', 'able', 'absolutely', 'across', 'act', 'acted', 'acting', 'action', 'actor', 'actors', 'actress', 'actual', 'actually', 'add', 'admit', 'adult', 'adventure', 'age', 'ago', 'agree', 'air', 'almost', 'alone', 'along', 'already', 'also', 'although', 'always', 'amazing', 'america', 'american', 'among', 'amusing', 'animated', 'animation', 'annoying', 'another', 'anyone', 'anything', 'anyway', 'apart', 'apparently', 'appear', 'appears', 'appreciate', 'around', 'art', 'ask', 'atmosphere', 'attempt', 'attempts', 'attention', 'audience', 'average', 'avoid', 'away', 'awful', 'b', 'baby', 'back', 'background', 'bad', 'badly', 'band', 'based', 'basic', 'basically', 'battle', 'beautiful', 'beauty', 'became', 'become', 'becomes', 'begin', 'beginning', 'begins', 'behind', 'believable', 'believe', 'ben', 'best', 'better', 'beyond', 'big', 'biggest', 'bill', 'bit', 'black', 'blood', 'body', 'book', 'books', 'bored', 'boring', 'box', 'boy', 'boys', 'break', 'brilliant']\n"
     ]
    }
   ],
   "source": [
    "print(sorted(list(i2w.values()))[:100])"
   ]
  },
  {
   "cell_type": "markdown",
   "metadata": {},
   "source": [
    "**Tokenize**"
   ]
  },
  {
   "cell_type": "markdown",
   "metadata": {},
   "source": [
    "Convert words into integer tokens"
   ]
  },
  {
   "cell_type": "code",
   "execution_count": 32,
   "metadata": {},
   "outputs": [],
   "source": [
    "def tokenize(list_of_examples, word2idx):\n",
    "    result_tokenized = []\n",
    "    for list_of_words in list_of_examples:\n",
    "        result_tokenized.append( [word2idx[w] for w in list_of_words] )\n",
    "    return result_tokenized"
   ]
  },
  {
   "cell_type": "code",
   "execution_count": 33,
   "metadata": {},
   "outputs": [],
   "source": [
    "train_reviews_tok = tokenize(train_reviews_reduced, w2i)\n",
    "test_reviews_tok = tokenize(test_reviews_reduced, w2i)"
   ]
  },
  {
   "cell_type": "markdown",
   "metadata": {},
   "source": [
    "Show example"
   ]
  },
  {
   "cell_type": "code",
   "execution_count": 34,
   "metadata": {},
   "outputs": [
    {
     "name": "stdout",
     "output_type": "stream",
     "text": [
      "[1, 194, 916, 102, 1, 7, 1, 264, 34, 1, 59, 1, 1, 354, 148, 1, 194, 1, 14, 1, 486, 1, 1, 1, 1, 1, 1, 12, 99, 1, 1, 1, 1, 115, 752, 1, 1, 559, 1, 110, 265, 1, 1, 653, 1, 264, 1, 1, 194, 233, 225, 1, 1, 4, 1, 1, 1, 1, 194, 404, 33, 1, 418, 26, 1, 194, 120, 1, 1]\n"
     ]
    }
   ],
   "source": [
    "print(train_reviews_tok[0])"
   ]
  },
  {
   "cell_type": "code",
   "execution_count": 35,
   "metadata": {},
   "outputs": [],
   "source": [
    "def encode_multihot(arr_of_tokens, encode_size):\n",
    "    result_encoded = np.zeros(shape=(len(arr_of_tokens), encode_size))\n",
    "    for i, tokens in enumerate(arr_of_tokens):\n",
    "        result_encoded[i, tokens] = 1\n",
    "    return result_encoded  # numpy array"
   ]
  },
  {
   "cell_type": "code",
   "execution_count": 36,
   "metadata": {},
   "outputs": [],
   "source": [
    "train_reviews_enc = encode_multihot(train_reviews_tok, encode_size=len(i2w))\n",
    "test_reviews_enc = encode_multihot(test_reviews_tok, encode_size=len(i2w))"
   ]
  },
  {
   "cell_type": "markdown",
   "metadata": {},
   "source": [
    "Show example"
   ]
  },
  {
   "cell_type": "code",
   "execution_count": 37,
   "metadata": {},
   "outputs": [
    {
     "name": "stdout",
     "output_type": "stream",
     "text": [
      "[0. 1. 0. 0. 1. 0. 0. 1. 0. 0. 0. 0. 1. 0. 1. 0. 0. 0. 0. 0. 0. 0. 0. 0.\n",
      " 0. 0. 1. 0. 0. 0. 0. 0. 0. 1. 1. 0. 0. 0. 0. 0. 0. 0. 0. 0. 0. 0. 0. 0.\n",
      " 0. 0. 0. 0. 0. 0. 0. 0. 0. 0. 0. 1. 0. 0. 0. 0. 0. 0. 0. 0. 0. 0. 0. 0.\n",
      " 0. 0. 0. 0. 0. 0. 0. 0. 0. 0. 0. 0. 0. 0. 0. 0. 0. 0. 0. 0. 0. 0. 0. 0.\n",
      " 0. 0. 0. 1.]\n"
     ]
    }
   ],
   "source": [
    "print(train_reviews_enc[0, :100])"
   ]
  },
  {
   "cell_type": "markdown",
   "metadata": {},
   "source": [
    "**Convert Labels**"
   ]
  },
  {
   "cell_type": "code",
   "execution_count": 38,
   "metadata": {},
   "outputs": [],
   "source": [
    "train_labels = np.array(train_labels_raw).reshape(-1, 1)\n",
    "test_labels = np.array(test_labels_raw).reshape(-1, 1)"
   ]
  },
  {
   "cell_type": "code",
   "execution_count": 39,
   "metadata": {},
   "outputs": [
    {
     "name": "stdout",
     "output_type": "stream",
     "text": [
      "[[1]\n",
      " [1]\n",
      " [1]\n",
      " ...\n",
      " [0]\n",
      " [0]\n",
      " [0]]\n"
     ]
    }
   ],
   "source": [
    "print(train_labels)"
   ]
  },
  {
   "cell_type": "markdown",
   "metadata": {},
   "source": [
    "**Final Sanity Check**"
   ]
  },
  {
   "cell_type": "markdown",
   "metadata": {},
   "source": [
    "Get words in the first review back from multi-hot encoded feature vector"
   ]
  },
  {
   "cell_type": "code",
   "execution_count": 40,
   "metadata": {},
   "outputs": [],
   "source": [
    "words = np.nonzero(train_reviews_enc[0])[0]"
   ]
  },
  {
   "cell_type": "markdown",
   "metadata": {},
   "source": [
    "Print them in alphabetical order"
   ]
  },
  {
   "cell_type": "code",
   "execution_count": 41,
   "metadata": {},
   "outputs": [
    {
     "name": "stdout",
     "output_type": "stream",
     "text": [
      "<UNK> age believe cartoon classic comedy episode expect far high knew lead life line many much one reality right saw school see situation think time tried whole years\n"
     ]
    }
   ],
   "source": [
    "print(' '.join(sorted(i2w[i] for i in words)))"
   ]
  },
  {
   "cell_type": "markdown",
   "metadata": {},
   "source": [
    "For comparison, print same review in cleaned up form. Words are sorted for easier comparison"
   ]
  },
  {
   "cell_type": "code",
   "execution_count": 42,
   "metadata": {},
   "outputs": [
    {
     "name": "stdout",
     "output_type": "stream",
     "text": [
      "['<UNK>', '<UNK>', '<UNK>', '<UNK>', '<UNK>', '<UNK>', '<UNK>', '<UNK>', '<UNK>', '<UNK>', '<UNK>', '<UNK>', '<UNK>', '<UNK>', '<UNK>', '<UNK>', '<UNK>', '<UNK>', '<UNK>', '<UNK>', '<UNK>', '<UNK>', '<UNK>', '<UNK>', '<UNK>', '<UNK>', '<UNK>', '<UNK>', '<UNK>', '<UNK>', '<UNK>', '<UNK>', '<UNK>', '<UNK>', '<UNK>', '<UNK>', '<UNK>', 'age', 'believe', 'cartoon', 'classic', 'comedy', 'episode', 'expect', 'far', 'high', 'high', 'high', 'high', 'high', 'knew', 'lead', 'life', 'line', 'many', 'much', 'one', 'reality', 'right', 'saw', 'school', 'school', 'see', 'situation', 'think', 'time', 'tried', 'whole', 'years']\n"
     ]
    }
   ],
   "source": [
    "print(sorted(train_reviews_reduced[0]))"
   ]
  },
  {
   "cell_type": "markdown",
   "metadata": {},
   "source": [
    "Check shapes"
   ]
  },
  {
   "cell_type": "code",
   "execution_count": 43,
   "metadata": {},
   "outputs": [
    {
     "name": "stdout",
     "output_type": "stream",
     "text": [
      "(25000, 1000)\n",
      "(25000, 1)\n",
      "(25000, 1000)\n",
      "(25000, 1)\n"
     ]
    }
   ],
   "source": [
    "print(train_reviews_enc.shape)\n",
    "print(train_labels.shape)\n",
    "print(test_reviews_enc.shape)\n",
    "print(test_labels.shape)"
   ]
  },
  {
   "cell_type": "markdown",
   "metadata": {},
   "source": [
    "# PyTorch Model"
   ]
  },
  {
   "cell_type": "markdown",
   "metadata": {},
   "source": [
    "Helper function for accuracy"
   ]
  },
  {
   "cell_type": "code",
   "execution_count": 44,
   "metadata": {},
   "outputs": [],
   "source": [
    "def accuracy(pred, tar): \n",
    "    return (pred == tar).float().mean()  # tensor!!"
   ]
  },
  {
   "cell_type": "markdown",
   "metadata": {},
   "source": [
    "Model with one hidden, one output layer"
   ]
  },
  {
   "cell_type": "code",
   "execution_count": 45,
   "metadata": {},
   "outputs": [
    {
     "name": "stdout",
     "output_type": "stream",
     "text": [
      "Sequential(\n",
      "  (0): Linear(in_features=1000, out_features=50, bias=True)\n",
      "  (1): Sigmoid()\n",
      "  (2): Linear(in_features=50, out_features=1, bias=True)\n",
      ")\n"
     ]
    }
   ],
   "source": [
    "model = nn.Sequential(\n",
    "    nn.Linear(in_features=1000, out_features=50),\n",
    "    nn.Sigmoid(),\n",
    "    nn.Linear(in_features=50, out_features=1))    # no sigmoid at the output\n",
    "model.to(device)\n",
    "criterion = nn.BCEWithLogitsLoss()                # because this expects logits\n",
    "optimizer = torch.optim.Adam(model.parameters())\n",
    "print(model)"
   ]
  },
  {
   "cell_type": "markdown",
   "metadata": {},
   "source": [
    "Convert dataset to tensors"
   ]
  },
  {
   "cell_type": "code",
   "execution_count": 46,
   "metadata": {},
   "outputs": [],
   "source": [
    "train_features = torch.tensor(train_reviews_enc, dtype=torch.float32, device=device)\n",
    "train_targets = torch.tensor(train_labels, dtype=torch.float32, device=device)\n",
    "test_features = torch.tensor(test_reviews_enc, dtype=torch.float32, device=device)\n",
    "test_targets = torch.tensor(test_labels, dtype=torch.float32, device=device)"
   ]
  },
  {
   "cell_type": "markdown",
   "metadata": {},
   "source": [
    "Train model"
   ]
  },
  {
   "cell_type": "code",
   "execution_count": 47,
   "metadata": {},
   "outputs": [],
   "source": [
    "batch_size = 250\n",
    "hist = { 'loss':[], 'acc':[] }\n",
    "\n",
    "model.train()\n",
    "\n",
    "for epoch in range(2):  # loop over the dataset multiple times\n",
    "    indices = torch.randperm(len(train_features), device=device)\n",
    "    for i in range(0, len(train_features), batch_size):\n",
    "    \n",
    "        # Pick mini-batch\n",
    "        inputs = train_features[indices[i:i+batch_size]]\n",
    "        targets = train_targets[indices[i:i+batch_size]]\n",
    "        \n",
    "        # Optimize\n",
    "        optimizer.zero_grad()\n",
    "        logits = model(inputs)\n",
    "        loss = criterion(logits, targets)\n",
    "        loss.backward()\n",
    "        optimizer.step()\n",
    "        \n",
    "        # Record\n",
    "        with torch.no_grad():\n",
    "            probabilities = torch.sigmoid(logits)\n",
    "            predictions = probabilities.round()\n",
    "            acc = accuracy(predictions, targets)\n",
    "            hist['loss'].append( loss.item() )\n",
    "            hist['acc'].append( acc.item() )"
   ]
  },
  {
   "cell_type": "markdown",
   "metadata": {},
   "source": [
    "Final results"
   ]
  },
  {
   "cell_type": "code",
   "execution_count": 48,
   "metadata": {},
   "outputs": [
    {
     "name": "stdout",
     "output_type": "stream",
     "text": [
      "Accuracy on train set: 0.86\n"
     ]
    }
   ],
   "source": [
    "model.eval()                                                       # set model for evaluatiotn, disable dropout etc\n",
    "with torch.no_grad():\n",
    "    outputs = model(train_features)\n",
    "    probabilities = torch.sigmoid(outputs)\n",
    "    predictions = probabilities.data.round()\n",
    "    acc = accuracy(predictions, train_targets).item() \n",
    "print(f'Accuracy on train set: {acc:.2f}')"
   ]
  },
  {
   "cell_type": "code",
   "execution_count": 49,
   "metadata": {},
   "outputs": [
    {
     "name": "stdout",
     "output_type": "stream",
     "text": [
      "Accuracy on test set: 0.85\n"
     ]
    }
   ],
   "source": [
    "model.eval()                                                       # set model for evaluatiotn, disable dropout etc\n",
    "with torch.no_grad():\n",
    "    outputs = model(test_features)\n",
    "    probabilities = torch.sigmoid(outputs)\n",
    "    predictions = probabilities.data.round()\n",
    "    acc = accuracy(predictions, test_targets).item() \n",
    "print(f'Accuracy on test set: {acc:.2f}')"
   ]
  },
  {
   "cell_type": "markdown",
   "metadata": {},
   "source": [
    "Plot loss and accuracy over training period"
   ]
  },
  {
   "cell_type": "code",
   "execution_count": 50,
   "metadata": {},
   "outputs": [
    {
     "data": {
      "image/png": "[encoded data removed]",
      "text/plain": [
       "<Figure size 432x288 with 1 Axes>"
      ]
     },
     "metadata": {
      "needs_background": "light"
     },
     "output_type": "display_data"
    }
   ],
   "source": [
    "plt.plot(hist['loss'], label='loss')\n",
    "plt.plot(hist['acc'], label='acc', color='red')\n",
    "plt.legend();"
   ]
  }
 ],
 "metadata": {
  "kernelspec": {
   "display_name": "Python [conda env:ptgpu]",
   "language": "python",
   "name": "conda-env-ptgpu-py"
  },
  "language_info": {
   "codemirror_mode": {
    "name": "ipython",
    "version": 3
   },
   "file_extension": ".py",
   "mimetype": "text/x-python",
   "name": "python",
   "nbconvert_exporter": "python",
   "pygments_lexer": "ipython3",
   "version": "3.7.1"
  }
 },
 "nbformat": 4,
 "nbformat_minor": 2
}
