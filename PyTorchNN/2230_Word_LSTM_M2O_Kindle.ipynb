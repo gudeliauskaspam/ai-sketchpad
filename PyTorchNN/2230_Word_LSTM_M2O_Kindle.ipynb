{
 "cells": [
  {
   "cell_type": "markdown",
   "metadata": {},
   "source": [
    "# Introduction"
   ]
  },
  {
   "cell_type": "markdown",
   "metadata": {},
   "source": [
    "This notebooks presents **LSTM** trained to perform sentiment prediction on **Kindle Book Reviews**\n",
    "\n",
    "**Dataset**\n",
    "\n",
    "* [Amazon Review Data](http://jmcauley.ucsd.edu/data/amazon/) - download Kindle Store [5-core](http://snap.stanford.edu/data/amazon/productGraph/categoryFiles/reviews_Kindle_Store_5.json.gz) file and extract"
   ]
  },
  {
   "cell_type": "markdown",
   "metadata": {},
   "source": [
    "# Imports"
   ]
  },
  {
   "cell_type": "code",
   "execution_count": 1,
   "metadata": {},
   "outputs": [],
   "source": [
    "import re\n",
    "import time\n",
    "import json\n",
    "import collections\n",
    "import numpy as np\n",
    "import matplotlib.pyplot as plt"
   ]
  },
  {
   "cell_type": "code",
   "execution_count": 2,
   "metadata": {},
   "outputs": [],
   "source": [
    "import torch\n",
    "import torch.nn as nn\n",
    "import torch.optim as optim\n",
    "import torch.nn.functional as F"
   ]
  },
  {
   "cell_type": "code",
   "execution_count": 3,
   "metadata": {},
   "outputs": [],
   "source": [
    "device = torch.device(\"cuda:0\" if torch.cuda.is_available() else \"cpu\")"
   ]
  },
  {
   "cell_type": "markdown",
   "metadata": {},
   "source": [
    "# Load Data"
   ]
  },
  {
   "cell_type": "markdown",
   "metadata": {},
   "source": [
    "Dataset location"
   ]
  },
  {
   "cell_type": "code",
   "execution_count": 4,
   "metadata": {},
   "outputs": [],
   "source": [
    "dataset_location = '/home/marcin/Datasets/kindle-reviews/reviews_Kindle_Store_5.json'"
   ]
  },
  {
   "cell_type": "markdown",
   "metadata": {},
   "source": [
    "Each line in data file is a separate JSON entry"
   ]
  },
  {
   "cell_type": "code",
   "execution_count": 5,
   "metadata": {},
   "outputs": [
    {
     "data": {
      "text/plain": [
       "'{\"reviewerID\": \"A1F6404F1VG29J\", \"asin\": \"B000F83SZQ\", \"reviewerName\": \"Avidreader\", \"helpful\": [0, 0], \"reviewText\": \"I enjoy vintage books and movies so I enjoyed reading this book.  The plot was unusual.  Don\\'t think killing someone in self-defense but leaving the scene and the body without notifying the police or hitting someone in the jaw to knock them out would wash today.Still it was a good read for me.\", \"overall\": 5.0, \"summary\": \"Nice vintage story\", \"unixReviewTime\": 1399248000, \"reviewTime\": \"05 5, 2014\"}\\n'"
      ]
     },
     "execution_count": 5,
     "metadata": {},
     "output_type": "execute_result"
    }
   ],
   "source": [
    "with open(dataset_location, 'r') as f:\n",
    "    line_raw = f.readline()\n",
    "line_raw"
   ]
  },
  {
   "cell_type": "markdown",
   "metadata": {},
   "source": [
    "Lets print sample data item"
   ]
  },
  {
   "cell_type": "code",
   "execution_count": 6,
   "metadata": {},
   "outputs": [
    {
     "name": "stdout",
     "output_type": "stream",
     "text": [
      "score: 5.0\n",
      "summary: Nice vintage story\n",
      "review:\n",
      "I enjoy vintage books and movies so I enjoyed reading this book.  The plot was unusual.  Don't think killing someone in self-defense but leaving the scene and the body without notifying the police or hitting someone in the jaw to knock them out would wash today.Still it was a good read for me.\n"
     ]
    }
   ],
   "source": [
    "line_json = json.loads(line_raw)\n",
    "sample_score = line_json['overall']\n",
    "sample_summary = line_json['summary']\n",
    "sample_review = line_json['reviewText']\n",
    "print('score:', sample_score)\n",
    "print('summary:', sample_summary)\n",
    "print('review:')\n",
    "print(sample_review)"
   ]
  },
  {
   "cell_type": "markdown",
   "metadata": {},
   "source": [
    "We need to clean it up by:\n",
    "* removing punctuation, digits etc.\n",
    "* convert to lower case\n",
    "* split into words"
   ]
  },
  {
   "cell_type": "code",
   "execution_count": 7,
   "metadata": {},
   "outputs": [
    {
     "name": "stdout",
     "output_type": "stream",
     "text": [
      "['i', 'enjoy', 'vintage', 'books', 'and', 'movies', 'so', 'i', 'enjoyed', 'reading', 'this', 'book', 'the', 'plot', 'was', 'unusual', 'don', 't', 'think', 'killing', 'someone', 'in', 'self', 'defense', 'but', 'leaving', 'the', 'scene', 'and', 'the', 'body', 'without', 'notifying', 'the', 'police', 'or', 'hitting', 'someone', 'in', 'the', 'jaw', 'to', 'knock', 'them', 'out', 'would', 'wash', 'today', 'still', 'it', 'was', 'a', 'good', 'read', 'for', 'me']\n"
     ]
    }
   ],
   "source": [
    "regex = re.compile('[^a-zA-Z ]+')\n",
    "\n",
    "def cleanup(text):\n",
    "    res = regex.sub(' ', text)\n",
    "    res = res.lower()\n",
    "    return res.split()\n",
    "\n",
    "print(cleanup(sample_review))"
   ]
  },
  {
   "cell_type": "markdown",
   "metadata": {},
   "source": [
    "Lets load the whole dataset"
   ]
  },
  {
   "cell_type": "code",
   "execution_count": 8,
   "metadata": {},
   "outputs": [
    {
     "name": "stdout",
     "output_type": "stream",
     "text": [
      "|                                                |\n",
      ".................................................."
     ]
    }
   ],
   "source": [
    "reviews = []\n",
    "summaries = []\n",
    "scores = []\n",
    "print('|' + ' '*48 + '|')\n",
    "with open(dataset_location, 'r') as f:\n",
    "    for i, l in enumerate(f):\n",
    "        jl = json.loads(l)\n",
    "        reviews.append(cleanup(jl['reviewText']))\n",
    "        summaries.append(cleanup(jl['summary']))\n",
    "        scores.append(int(jl['overall']))\n",
    "        if i % 20000 == 0:\n",
    "            print('.', end='')"
   ]
  },
  {
   "cell_type": "markdown",
   "metadata": {},
   "source": [
    "And lets have a look at few samples"
   ]
  },
  {
   "cell_type": "code",
   "execution_count": 9,
   "metadata": {},
   "outputs": [],
   "source": [
    "def print_sample(idx):\n",
    "    print('score:', scores[idx])\n",
    "    print('summary:', ' '.join(summaries[idx]))\n",
    "    print('review:')\n",
    "    print(' '.join(reviews[idx]))"
   ]
  },
  {
   "cell_type": "code",
   "execution_count": 10,
   "metadata": {},
   "outputs": [
    {
     "name": "stdout",
     "output_type": "stream",
     "text": [
      "score: 5\n",
      "summary: nice vintage story\n",
      "review:\n",
      "i enjoy vintage books and movies so i enjoyed reading this book the plot was unusual don t think killing someone in self defense but leaving the scene and the body without notifying the police or hitting someone in the jaw to knock them out would wash today still it was a good read for me\n",
      "\n",
      "score: 4\n",
      "summary: different\n",
      "review:\n",
      "this book is a reissue of an old one the author was born in it s of the era of say nero wolfe the introduction was quite interesting explaining who the author was and why he s been forgotten i d never heard of him the language is a little dated at times like calling a gun a heater i also made good use of my fire s dictionary to look up words like deshabille and canarsie still it was well worth a look see\n",
      "\n",
      "score: 4\n",
      "summary: oldie\n",
      "review:\n",
      "this was a fairly interesting read it had old style terminology i was glad to get to read a story that doesn t have coarse crasslanguage i read for fun and relaxation i like the free ebooksbecause i can check out a writer and decide if they are intriguing innovative and have enough of the command of englishthat they can convey the story without crude language\n",
      "\n"
     ]
    }
   ],
   "source": [
    "for i in range(3):\n",
    "    print_sample(i)\n",
    "    print()"
   ]
  },
  {
   "cell_type": "markdown",
   "metadata": {},
   "source": [
    "Dataset is cleaned now, it contains only lowercase letters and spaces"
   ]
  },
  {
   "cell_type": "markdown",
   "metadata": {},
   "source": [
    "# Preprocess Data"
   ]
  },
  {
   "cell_type": "markdown",
   "metadata": {},
   "source": [
    "First we will count all the different words"
   ]
  },
  {
   "cell_type": "code",
   "execution_count": 11,
   "metadata": {},
   "outputs": [],
   "source": [
    "words_counter = collections.Counter()\n",
    "for review in reviews:\n",
    "    words_counter.update(review)"
   ]
  },
  {
   "cell_type": "code",
   "execution_count": 12,
   "metadata": {},
   "outputs": [
    {
     "name": "stdout",
     "output_type": "stream",
     "text": [
      "Total words:  111201964\n",
      "Unique words: 270677\n"
     ]
    }
   ],
   "source": [
    "print('Total words: ', sum(list(words_counter.values())))\n",
    "print('Unique words:', len(words_counter))"
   ]
  },
  {
   "cell_type": "markdown",
   "metadata": {},
   "source": [
    "Some of the words and their number of occurrences in whole dataset"
   ]
  },
  {
   "cell_type": "code",
   "execution_count": 13,
   "metadata": {
    "scrolled": true
   },
   "outputs": [
    {
     "name": "stdout",
     "output_type": "stream",
     "text": [
      "WORD    : COUNT\n",
      "i       : 3117051\n",
      "enjoy   : 72405\n",
      "vintage : 394\n",
      "books   : 245937\n",
      "and     : 3583503\n",
      "movies  : 3701\n",
      "so      : 493257\n",
      "enjoyed : 146518\n",
      "reading : 225740\n",
      "this    : 1738403\n"
     ]
    }
   ],
   "source": [
    "print('WORD    : COUNT')\n",
    "for w in list(words_counter)[:10]:\n",
    "    print(f'{w:8}: {words_counter[w]}')"
   ]
  },
  {
   "cell_type": "markdown",
   "metadata": {},
   "source": [
    "Lets plot word-counts on linear and logarithmic scales"
   ]
  },
  {
   "cell_type": "code",
   "execution_count": 14,
   "metadata": {},
   "outputs": [
    {
     "data": {
      "image/png": "[encoded data removed]",
      "text/plain": [
       "<Figure size 1152x432 with 2 Axes>"
      ]
     },
     "metadata": {
      "needs_background": "light"
     },
     "output_type": "display_data"
    }
   ],
   "source": [
    "def plot_counts(words_counter):\n",
    "    sorted_all = np.array(sorted(list(words_counter.values()), reverse=True))\n",
    "    fig, [ax1, ax2] = plt.subplots(1, 2, figsize=[16,6])\n",
    "    ax1.plot(sorted_all); ax1.set_title('Word Counts (linear scale)')\n",
    "    ax2.plot(sorted_all); ax2.set_title('Word Counts (log scale)')\n",
    "    ax2.set_yscale('log')\n",
    "    \n",
    "plot_counts(words_counter)"
   ]
  },
  {
   "cell_type": "markdown",
   "metadata": {},
   "source": [
    "This is extremely sharp distribution. Some words appear over 5 million times, while over 100k words appear only once."
   ]
  },
  {
   "cell_type": "markdown",
   "metadata": {},
   "source": [
    "**Common Words**"
   ]
  },
  {
   "cell_type": "markdown",
   "metadata": {},
   "source": [
    "Lets have a look at the most common words."
   ]
  },
  {
   "cell_type": "code",
   "execution_count": 15,
   "metadata": {},
   "outputs": [
    {
     "data": {
      "text/plain": [
       "[('the', 5056842),\n",
       " ('and', 3583503),\n",
       " ('to', 3120917),\n",
       " ('i', 3117051),\n",
       " ('a', 2999778),\n",
       " ('of', 2141725),\n",
       " ('is', 1780140),\n",
       " ('it', 1740139),\n",
       " ('this', 1738403),\n",
       " ('in', 1511066)]"
      ]
     },
     "execution_count": 15,
     "metadata": {},
     "output_type": "execute_result"
    }
   ],
   "source": [
    "words_counter.most_common()[:10]"
   ]
  },
  {
   "cell_type": "markdown",
   "metadata": {},
   "source": [
    "Words like 'the', 'and', 'to' etc. don't contribute much to text meaning. They are called _stopwords_. Below is the list of stopwords in English language taken from NLTK library. This set was created with:\n",
    "\n",
    "```python\n",
    "import nltk\n",
    "nltk.download('stopwords')\n",
    "en_stopwords = nltk.corpus.stopwords.words('english')\n",
    "stopwords = {sw for sw in en_stopwords}\n",
    "print(stopwords)\n",
    "```\n",
    "\n",
    "I'm just copy-pasting it here not to introduce unnecessary `nltk` dependency."
   ]
  },
  {
   "cell_type": "code",
   "execution_count": 16,
   "metadata": {},
   "outputs": [],
   "source": [
    "# this list was aquired with:\n",
    "# import nltk\n",
    "# nltk.download('stopwords')\n",
    "# print(stopwords.words('english'))\n",
    "stopwords = {'down', 'then', 'of', 'but', 'only', 'yours', 'himself', 'again',\n",
    "             'very', 'or', 'once', 'until', 'have', \"doesn't\", 'what', 'during',\n",
    "             \"that'll\", 'some', 'was', 'be', 'he', \"should've\", 'between',\n",
    "             \"shouldn't\", 'further', 'no', 'yourself', 'm', 've', \"you'll\",\n",
    "             'ain', 't', 'our', 'his', 'o', 'wouldn', 'below', 'any', 'under',\n",
    "             'you', 'isn', 'theirs', 'why', 'that', 'mightn', 'ourselves', 'on',\n",
    "             'haven', 'while', 'to', 'than', 'your', 'she', 'is', 'just',\n",
    "             \"mightn't\", 'with', \"you've\", 'mustn', 'needn', 'same', 'me',\n",
    "             'such', 'myself', 'there', 'own', 'this', 're', 'ma', 'from',\n",
    "             'did', 'couldn', 'hasn', 'for', 'won', \"won't\", \"mustn't\", 'her',\n",
    "             'can', 'doesn', \"wouldn't\", 'when', \"you're\", 'who', 'which', 'll',\n",
    "             'itself', 'against', 'out', 'up', \"it's\", 'a', 'here', 'being',\n",
    "             'they', 'as', 'didn', 'weren', 'aren', 'herself', 'the', 'if',\n",
    "             \"didn't\", 'should', 'doing', 'other', 'has', 'so', \"you'd\",\n",
    "             'above', 'do', 'before', 'at', 'had', 'each', \"aren't\", 'their',\n",
    "             'now', 'an', 'through', 'how', 'those', 'nor', \"hasn't\", 'over',\n",
    "             'by', 'into', 'themselves', 'most', 'shan', 'been', \"she's\",\n",
    "             \"haven't\", \"isn't\", \"wasn't\", 'where', 'about', 'in', \"hadn't\",\n",
    "             'because', 'too', 'whom', 'ours', 'him', 'yourselves', 'after',\n",
    "             'and', 'were', 'both', 'will', 'it', 'my', 'few', 'having', 'them',\n",
    "             'hadn', 'shouldn', 'does', 's', \"couldn't\", 'y', 'all', 'don',\n",
    "             'off', 'more', 'am', 'd', 'hers', 'its', 'are', \"shan't\",\n",
    "             \"weren't\", 'we', \"needn't\", 'i', 'these', \"don't\", 'wasn', 'not'}"
   ]
  },
  {
   "cell_type": "markdown",
   "metadata": {},
   "source": [
    "Remove stopwords"
   ]
  },
  {
   "cell_type": "code",
   "execution_count": 19,
   "metadata": {},
   "outputs": [
    {
     "name": "stdout",
     "output_type": "stream",
     "text": [
      "|                                                |\n",
      ".................................................."
     ]
    }
   ],
   "source": [
    "reviews_no_stop = []\n",
    "\n",
    "print('|' + ' '*48 + '|')\n",
    "for i in range(len(reviews)):\n",
    "    reviews_no_stop.append( [w for w in reviews[i] if w not in stopwords] )\n",
    "    if i % 20000 == 0:\n",
    "        print('.', end='')"
   ]
  },
  {
   "cell_type": "code",
   "execution_count": 21,
   "metadata": {},
   "outputs": [],
   "source": [
    "words_counter = collections.Counter()\n",
    "for review in reviews_no_stop:\n",
    "    words_counter.update(review)"
   ]
  },
  {
   "cell_type": "code",
   "execution_count": 22,
   "metadata": {},
   "outputs": [
    {
     "name": "stdout",
     "output_type": "stream",
     "text": [
      "Total words:  53101559\n",
      "Unique words: 270524\n"
     ]
    }
   ],
   "source": [
    "print('Total words: ', sum(list(words_counter.values())))\n",
    "print('Unique words:', len(words_counter))"
   ]
  },
  {
   "cell_type": "markdown",
   "metadata": {},
   "source": [
    "**Rare Words**"
   ]
  },
  {
   "cell_type": "markdown",
   "metadata": {},
   "source": [
    "Lets look at some of of the uncommon words"
   ]
  },
  {
   "cell_type": "code",
   "execution_count": 23,
   "metadata": {},
   "outputs": [
    {
     "data": {
      "text/plain": [
       "[('somethingthatisdoneveryquickly', 1),\n",
       " ('ofsexualintercoursethatisdonein', 1),\n",
       " ('averyshort', 1),\n",
       " ('amountoftimeanticipation', 1),\n",
       " ('afeelingofexcitementaboutsomethingthatisgoingto', 1),\n",
       " ('ofpreparingforsomething', 1),\n",
       " ('fieldingit', 1),\n",
       " ('chenell', 1),\n",
       " ('waitign', 1),\n",
       " ('uunderstand', 1)]"
      ]
     },
     "execution_count": 23,
     "metadata": {},
     "output_type": "execute_result"
    }
   ],
   "source": [
    "words_counter.most_common()[-10:]"
   ]
  },
  {
   "cell_type": "code",
   "execution_count": 24,
   "metadata": {},
   "outputs": [
    {
     "name": "stdout",
     "output_type": "stream",
     "text": [
      "|                                                |\n",
      ".................................................."
     ]
    }
   ],
   "source": [
    "reviews_clean = []\n",
    "\n",
    "print('|' + ' '*48 + '|')\n",
    "for i in range(len(reviews)):\n",
    "    reviews_clean.append( [w for w in reviews_no_stop[i] if words_counter[w] > 5] )\n",
    "    if i % 20000 == 0:\n",
    "        print('.', end='')"
   ]
  },
  {
   "cell_type": "code",
   "execution_count": 26,
   "metadata": {},
   "outputs": [],
   "source": [
    "words_counter = collections.Counter()\n",
    "for review in reviews_clean:\n",
    "    words_counter.update(review)"
   ]
  },
  {
   "cell_type": "code",
   "execution_count": 27,
   "metadata": {},
   "outputs": [
    {
     "name": "stdout",
     "output_type": "stream",
     "text": [
      "Total words:  52791345\n",
      "Unique words: 71081\n"
     ]
    }
   ],
   "source": [
    "print('Total words: ', sum(list(words_counter.values())))\n",
    "print('Unique words:', len(words_counter))"
   ]
  },
  {
   "cell_type": "markdown",
   "metadata": {},
   "source": [
    "**Create dictionaries**"
   ]
  },
  {
   "cell_type": "code",
   "execution_count": 40,
   "metadata": {},
   "outputs": [
    {
     "name": "stdout",
     "output_type": "stream",
     "text": [
      "Number of words after filter: 71082\n"
     ]
    }
   ],
   "source": [
    "i2w = {i : w for i, (w, c) in enumerate(words_counter.most_common(), 1) if c > 5}\n",
    "w2i = {w : i for i, w in i2w.items()}\n",
    "i2w[0] = '<pad>'                       # use zero index for padding\n",
    "w2i[i2w[0]] = 0\n",
    "print('Number of words after filter:', len(i2w))"
   ]
  },
  {
   "cell_type": "markdown",
   "metadata": {},
   "source": [
    "Confirm dictionaries are correct"
   ]
  },
  {
   "cell_type": "code",
   "execution_count": 41,
   "metadata": {},
   "outputs": [
    {
     "name": "stdout",
     "output_type": "stream",
     "text": [
      "0 : <NOP> : 0\n",
      "1 : book : 1\n",
      "2 : story : 2\n",
      "3 : read : 3\n",
      "4 : one : 4\n",
      "5 : love : 5\n",
      "6 : like : 6\n",
      "7 : really : 7\n",
      "8 : good : 8\n",
      "9 : characters : 9\n"
     ]
    }
   ],
   "source": [
    "for i in range(10):\n",
    "    word = i2w[i]\n",
    "    print(i, ':', word, ':', w2i[word])"
   ]
  },
  {
   "cell_type": "markdown",
   "metadata": {},
   "source": [
    "**Tokenize Dataset**"
   ]
  },
  {
   "cell_type": "code",
   "execution_count": 42,
   "metadata": {},
   "outputs": [
    {
     "name": "stdout",
     "output_type": "stream",
     "text": [
      "|                                                |\n",
      ".................................................."
     ]
    }
   ],
   "source": [
    "reviews_tok = []\n",
    "\n",
    "print('|' + ' '*48 + '|')\n",
    "for i in range(len(reviews_clean)):\n",
    "    reviews_tok.append( [w2i[w] for w in reviews_clean[i]] )\n",
    "    if i % 20000 == 0:\n",
    "        print('.', end='')"
   ]
  },
  {
   "cell_type": "code",
   "execution_count": 43,
   "metadata": {},
   "outputs": [
    {
     "name": "stdout",
     "output_type": "stream",
     "text": [
      "['fairly', 'interesting', 'read', 'old', 'style', 'terminology', 'glad', 'get', 'read', 'story', 'coarse', 'read', 'fun', 'relaxation', 'like', 'free', 'check', 'writer', 'decide', 'intriguing', 'innovative', 'enough', 'command', 'convey', 'story', 'without', 'crude', 'language']\n"
     ]
    }
   ],
   "source": [
    "print(reviews_clean[2])"
   ]
  },
  {
   "cell_type": "code",
   "execution_count": 44,
   "metadata": {},
   "outputs": [
    {
     "name": "stdout",
     "output_type": "stream",
     "text": [
      "[1048, 81, 3, 153, 275, 7187, 232, 15, 3, 2, 12357, 3, 85, 8164, 6, 166, 593, 318, 892, 613, 7577, 92, 4105, 4843, 2, 133, 4851, 662]\n"
     ]
    }
   ],
   "source": [
    "print(reviews_tok[2])"
   ]
  },
  {
   "cell_type": "markdown",
   "metadata": {},
   "source": [
    "**Trimming and Padding**"
   ]
  },
  {
   "cell_type": "markdown",
   "metadata": {},
   "source": [
    "Lets have a look at review lengths next"
   ]
  },
  {
   "cell_type": "code",
   "execution_count": 45,
   "metadata": {},
   "outputs": [],
   "source": [
    "lengths = np.array([len(r) for r in reviews_tok])\n",
    "lenghts_counter = collections.Counter(lengths)"
   ]
  },
  {
   "cell_type": "code",
   "execution_count": 46,
   "metadata": {},
   "outputs": [
    {
     "data": {
      "image/png": "[encoded data removed]",
      "text/plain": [
       "<Figure size 1152x432 with 2 Axes>"
      ]
     },
     "metadata": {
      "needs_background": "light"
     },
     "output_type": "display_data"
    }
   ],
   "source": [
    "plot_counts(lenghts_counter)"
   ]
  },
  {
   "cell_type": "markdown",
   "metadata": {},
   "source": [
    "We can see some reviews are over 35k words!"
   ]
  },
  {
   "cell_type": "markdown",
   "metadata": {},
   "source": [
    "To feed reviews into neural network in mini-batches all reviews have to have same length.\n",
    "\n",
    "We will:\n",
    "* trim all reviews to 200 words\n",
    "* pad all shorter reviews with <nop>"
   ]
  },
  {
   "cell_type": "code",
   "execution_count": null,
   "metadata": {},
   "outputs": [],
   "source": []
  },
  {
   "cell_type": "code",
   "execution_count": null,
   "metadata": {},
   "outputs": [],
   "source": []
  },
  {
   "cell_type": "code",
   "execution_count": null,
   "metadata": {},
   "outputs": [],
   "source": []
  },
  {
   "cell_type": "code",
   "execution_count": 63,
   "metadata": {},
   "outputs": [],
   "source": [
    "target_len = 200\n",
    "reviews_np = np.zeros(shape=(len(reviews_tok), target_len), dtype=int)"
   ]
  },
  {
   "cell_type": "code",
   "execution_count": 64,
   "metadata": {},
   "outputs": [
    {
     "name": "stdout",
     "output_type": "stream",
     "text": [
      "|                                                |\n"
     ]
    }
   ],
   "source": [
    "\n",
    "print('|' + ' '*48 + '|')\n",
    "for i in range(len(reviews_tok)):\n",
    "    \n",
    "    rev_trimmed = reviews_tok[0][:200]  # trim to 200\n",
    "    start = target_len - len(rev_trimmed)\n",
    "    reviews_np[i, start:target_len] = rev_trimmed"
   ]
  },
  {
   "cell_type": "code",
   "execution_count": 66,
   "metadata": {},
   "outputs": [
    {
     "name": "stdout",
     "output_type": "stream",
     "text": [
      "[    0     0     0     0     0     0     0     0     0     0     0     0\n",
      "     0     0     0     0     0     0     0     0     0     0     0     0\n",
      "     0     0     0     0     0     0     0     0     0     0     0     0\n",
      "     0     0     0     0     0     0     0     0     0     0     0     0\n",
      "     0     0     0     0     0     0     0     0     0     0     0     0\n",
      "     0     0     0     0     0     0     0     0     0     0     0     0\n",
      "     0     0     0     0     0     0     0     0     0     0     0     0\n",
      "     0     0     0     0     0     0     0     0     0     0     0     0\n",
      "     0     0     0     0     0     0     0     0     0     0     0     0\n",
      "     0     0     0     0     0     0     0     0     0     0     0     0\n",
      "     0     0     0     0     0     0     0     0     0     0     0     0\n",
      "     0     0     0     0     0     0     0     0     0     0     0     0\n",
      "     0     0     0     0     0     0     0     0     0     0     0     0\n",
      "     0     0     0     0     0     0     0     0     0     0     0     0\n",
      "     0     0    97  9302    16  1997    33    17     1    87  1379    37\n",
      "  1440   168   314  4369   719   332   474   133 41395   990  3978   168\n",
      "  4370  3403    12  8262   673    56     8     3]\n"
     ]
    }
   ],
   "source": [
    "print(reviews_np[0])"
   ]
  },
  {
   "cell_type": "code",
   "execution_count": 68,
   "metadata": {},
   "outputs": [
    {
     "data": {
      "text/plain": [
       "'enjoy vintage books movies enjoyed reading book plot unusual think killing someone self defense leaving scene body without notifying police hitting someone jaw knock would wash today still good read'"
      ]
     },
     "execution_count": 68,
     "metadata": {},
     "output_type": "execute_result"
    }
   ],
   "source": [
    "' '.join(i2w[c] for c in reviews_np[0] if c != 0)"
   ]
  },
  {
   "cell_type": "code",
   "execution_count": 57,
   "metadata": {},
   "outputs": [],
   "source": []
  },
  {
   "cell_type": "code",
   "execution_count": 58,
   "metadata": {},
   "outputs": [],
   "source": [
    "i = 0"
   ]
  },
  {
   "cell_type": "code",
   "execution_count": 59,
   "metadata": {},
   "outputs": [],
   "source": []
  },
  {
   "cell_type": "code",
   "execution_count": 61,
   "metadata": {},
   "outputs": [
    {
     "data": {
      "text/plain": [
       "array([0.0000e+00, 0.0000e+00, 0.0000e+00, 0.0000e+00, 0.0000e+00,\n",
       "       0.0000e+00, 0.0000e+00, 0.0000e+00, 0.0000e+00, 0.0000e+00,\n",
       "       0.0000e+00, 0.0000e+00, 0.0000e+00, 0.0000e+00, 0.0000e+00,\n",
       "       0.0000e+00, 0.0000e+00, 0.0000e+00, 0.0000e+00, 0.0000e+00,\n",
       "       0.0000e+00, 0.0000e+00, 0.0000e+00, 0.0000e+00, 0.0000e+00,\n",
       "       0.0000e+00, 0.0000e+00, 0.0000e+00, 0.0000e+00, 0.0000e+00,\n",
       "       0.0000e+00, 0.0000e+00, 0.0000e+00, 0.0000e+00, 0.0000e+00,\n",
       "       0.0000e+00, 0.0000e+00, 0.0000e+00, 0.0000e+00, 0.0000e+00,\n",
       "       0.0000e+00, 0.0000e+00, 0.0000e+00, 0.0000e+00, 0.0000e+00,\n",
       "       0.0000e+00, 0.0000e+00, 0.0000e+00, 0.0000e+00, 0.0000e+00,\n",
       "       0.0000e+00, 0.0000e+00, 0.0000e+00, 0.0000e+00, 0.0000e+00,\n",
       "       0.0000e+00, 0.0000e+00, 0.0000e+00, 0.0000e+00, 0.0000e+00,\n",
       "       0.0000e+00, 0.0000e+00, 0.0000e+00, 0.0000e+00, 0.0000e+00,\n",
       "       0.0000e+00, 0.0000e+00, 0.0000e+00, 0.0000e+00, 0.0000e+00,\n",
       "       0.0000e+00, 0.0000e+00, 0.0000e+00, 0.0000e+00, 0.0000e+00,\n",
       "       0.0000e+00, 0.0000e+00, 0.0000e+00, 0.0000e+00, 0.0000e+00,\n",
       "       0.0000e+00, 0.0000e+00, 0.0000e+00, 0.0000e+00, 0.0000e+00,\n",
       "       0.0000e+00, 0.0000e+00, 0.0000e+00, 0.0000e+00, 0.0000e+00,\n",
       "       0.0000e+00, 0.0000e+00, 0.0000e+00, 0.0000e+00, 0.0000e+00,\n",
       "       0.0000e+00, 0.0000e+00, 0.0000e+00, 0.0000e+00, 0.0000e+00,\n",
       "       0.0000e+00, 0.0000e+00, 0.0000e+00, 0.0000e+00, 0.0000e+00,\n",
       "       0.0000e+00, 0.0000e+00, 0.0000e+00, 0.0000e+00, 0.0000e+00,\n",
       "       0.0000e+00, 0.0000e+00, 0.0000e+00, 0.0000e+00, 0.0000e+00,\n",
       "       0.0000e+00, 0.0000e+00, 0.0000e+00, 0.0000e+00, 0.0000e+00,\n",
       "       0.0000e+00, 0.0000e+00, 0.0000e+00, 0.0000e+00, 0.0000e+00,\n",
       "       0.0000e+00, 0.0000e+00, 0.0000e+00, 0.0000e+00, 0.0000e+00,\n",
       "       0.0000e+00, 0.0000e+00, 0.0000e+00, 0.0000e+00, 0.0000e+00,\n",
       "       0.0000e+00, 0.0000e+00, 0.0000e+00, 0.0000e+00, 0.0000e+00,\n",
       "       0.0000e+00, 0.0000e+00, 0.0000e+00, 0.0000e+00, 0.0000e+00,\n",
       "       0.0000e+00, 0.0000e+00, 0.0000e+00, 0.0000e+00, 0.0000e+00,\n",
       "       0.0000e+00, 0.0000e+00, 0.0000e+00, 0.0000e+00, 0.0000e+00,\n",
       "       0.0000e+00, 0.0000e+00, 0.0000e+00, 0.0000e+00, 0.0000e+00,\n",
       "       0.0000e+00, 0.0000e+00, 0.0000e+00, 0.0000e+00, 0.0000e+00,\n",
       "       0.0000e+00, 0.0000e+00, 0.0000e+00, 0.0000e+00, 0.0000e+00,\n",
       "       9.7000e+01, 9.3020e+03, 1.6000e+01, 1.9970e+03, 3.3000e+01,\n",
       "       1.7000e+01, 1.0000e+00, 8.7000e+01, 1.3790e+03, 3.7000e+01,\n",
       "       1.4400e+03, 1.6800e+02, 3.1400e+02, 4.3690e+03, 7.1900e+02,\n",
       "       3.3200e+02, 4.7400e+02, 1.3300e+02, 4.1395e+04, 9.9000e+02,\n",
       "       3.9780e+03, 1.6800e+02, 4.3700e+03, 3.4030e+03, 1.2000e+01,\n",
       "       8.2620e+03, 6.7300e+02, 5.6000e+01, 8.0000e+00, 3.0000e+00])"
      ]
     },
     "execution_count": 61,
     "metadata": {},
     "output_type": "execute_result"
    }
   ],
   "source": [
    "reviews_np[0]"
   ]
  },
  {
   "cell_type": "code",
   "execution_count": null,
   "metadata": {},
   "outputs": [],
   "source": []
  },
  {
   "cell_type": "code",
   "execution_count": 76,
   "metadata": {},
   "outputs": [],
   "source": [
    "words_counter = collections.Counter()\n",
    "for review in reviews_short:\n",
    "    words_counter.update(review)"
   ]
  },
  {
   "cell_type": "code",
   "execution_count": 77,
   "metadata": {},
   "outputs": [
    {
     "name": "stdout",
     "output_type": "stream",
     "text": [
      "Total words:  49581919\n",
      "Unique words: 71056\n"
     ]
    }
   ],
   "source": [
    "print('Total words: ', sum(list(words_counter.values())))\n",
    "print('Unique words:', len(words_counter))"
   ]
  },
  {
   "cell_type": "code",
   "execution_count": null,
   "metadata": {},
   "outputs": [],
   "source": []
  },
  {
   "cell_type": "code",
   "execution_count": null,
   "metadata": {},
   "outputs": [],
   "source": []
  },
  {
   "cell_type": "code",
   "execution_count": null,
   "metadata": {},
   "outputs": [],
   "source": []
  },
  {
   "cell_type": "code",
   "execution_count": null,
   "metadata": {},
   "outputs": [],
   "source": []
  },
  {
   "cell_type": "code",
   "execution_count": 60,
   "metadata": {},
   "outputs": [],
   "source": []
  },
  {
   "cell_type": "code",
   "execution_count": 67,
   "metadata": {},
   "outputs": [
    {
     "data": {
      "text/plain": [
       "141404"
      ]
     },
     "execution_count": 67,
     "metadata": {},
     "output_type": "execute_result"
    }
   ],
   "source": [
    "np.sum(lengths > 100)"
   ]
  },
  {
   "cell_type": "code",
   "execution_count": 69,
   "metadata": {},
   "outputs": [
    {
     "data": {
      "text/plain": [
       "14.390521656918908"
      ]
     },
     "execution_count": 69,
     "metadata": {},
     "output_type": "execute_result"
    }
   ],
   "source": [
    "100 * np.sum(lengths > 100) / len(lengths)"
   ]
  },
  {
   "cell_type": "code",
   "execution_count": 72,
   "metadata": {},
   "outputs": [
    {
     "data": {
      "text/plain": [
       "0.03622970856456063"
      ]
     },
     "execution_count": 72,
     "metadata": {},
     "output_type": "execute_result"
    }
   ],
   "source": [
    "100 * np.sum(lengths < 2) / len(lengths)"
   ]
  },
  {
   "cell_type": "code",
   "execution_count": 56,
   "metadata": {},
   "outputs": [
    {
     "data": {
      "text/plain": [
       "792627"
      ]
     },
     "execution_count": 56,
     "metadata": {},
     "output_type": "execute_result"
    }
   ],
   "source": [
    "np.argmax(lengths)"
   ]
  },
  {
   "cell_type": "code",
   "execution_count": 59,
   "metadata": {},
   "outputs": [
    {
     "name": "stdout",
     "output_type": "stream",
     "text": [
      "true love s kiss ben cassidysir giles and lily and ella one a elf and another a witch human and dirk a shadow and a thief and torval who is a barbarian who is fighting a beast while the others go to kiss a girl whom is in a deep sleep three of whom kiss her but who is her true love and which one awoke her this moment j l jarviscam and mac are sisters cam is married has two kids and has been setting up mac with men so she d marry and have a life of her own but she wants something more wants a scotsman a highlander type man what she gets is something more than she ever imagined she d ever get a man named ciaran macrae he is more than meets the eye and time runs out and he vanishes will he ever come back for her and will they ever truly have more than a kiss a kick ass kiss shirley bourgetwow it makes you think of what the future will be like if you self destroy yourself in ways you never knew you could but to also think if you could change the past would you this was a very interesting and quick read but also makes you think about the you you can be and the you you are today april the kiss an anthology of love and other close encountersapril th a father s kiss a slammed series epilogue colleen hoovermrs katie is the foster parent of olivia king but soon after she is to move due to mrs katie can t take care of her anymore and is moving to live with her daughter later olivia changes her name to eddie as to why the change i am uncertain but she now has her own family her own daughter whom she names katie after the foster mother she once had layken and will have their own daughter they named after layken s family julia gavin is eddie olivia s husband kel and cauldor are friends but act like brothers who would protect katie and julia kel and kiersten are going out and having issues that eddie sees and has a talk with them cauldor likes someone at school but who that is must read the this kiss anthology as well as a little surprise as far as gavin and eddie are to have in the near future death kiss by george wierthe loser aka lonnie wayne smith who is something more he is at a bar where a girl named erica runs into him because the guy she was set up with by her best friend lori that they do not like each other but she catches something by him and has to have surgery you ask why well to find out why you must buy the book and read the story but if you love mystery then this book is for you http www amazon com review r qcn vst cy p ref cm cr pr viewpnt r qcn vst cy pfor a soldier jason deasmorgan a soldier who comes back and a friend who does not crimson who in many ways was his brother and his soul mate he gets drunk and basically lets what he has been through war to come to the surface and to let the world know how he feels how he wishes he was with his friend crimson but is alive and he isn t it shows how soldiers who come from war feel but most times never get help but need it i remember my ex husband and wanting him to see a counselor to get help from when he was in iraq we are now divorced but he has seen a tour in korea now and i do not know if he ever did seek the help needed to overcome the horrors he has faced in both countries i believe as a soldier and if your a mom or a dad or a wife or a husband of a soldier to help those who have gone to war to get help how to knit yourself a husband in five easy steps traci tyne hiltonheidi lowe joins a knit for peace protest due to the fact she wants to go back to germany but can t due to lack of money so she feels if she gets arrested in american soil that she may get home to wolfgang as to whom or what is wolfgang you will have to read this story to find out she goes to another program to protest and meets an american soldier captain john banks and they talk and now will heidi go back to germany or stay to be with john the soldier read to find out mom s kiss jacques antoinenero maia and maggie are the last of their race maggie passes away and after awhile so does maia s little brother she later befriends noah who she feels in not part of her world and runs but soon comes across other people chui and jake as well as some of their people maia finally realizes that she has a purpose as to why you must pick up the kiss or find the entitled of this book to read it buy it read then review its about loss and how to deal with being alone but also finding out that your not alone after all and there is a purpose to live and not give up more than a couple of camels suzy stewart dubotbathsheba baxter see s a painting called the satyr s seduction said by alistair hutton her new neighbor whom she met through her cousin james her maid peggy was talking to the curator of the museum and alistair tells her why they show the painting in which they are in the exotic room which shocks bathsheba mrs pemberton was an aquaintance to my mom before she died gregory is an ex of bathsheba s who tries to take her virtue but alistair came to her rescue and a proposal was made as to what you must buy the book and read and review and read on til next review the kisssaxon andrewdoctor miriam weaver kissed the twin s gently before she released them she watched the twins fly high into a crystal blue sky and wept for what was to come and what she had to do the twin s were created to bring joy to children not to be a weapon of destruction she wept for her planet and for herself an hour later doctor miriam weaver was vaporized by a nuclear explosion fired by allowen warships still in orbit above earth kiss no c a newsomejoss and her friend though is not named is her best friend they are drinking lattes and are on break amalie rogers soon to bed mathers came through the door to look at the various paintings joss has done to amalie he which is joss s friend was just a boy who does things for philip who was amalie favors joss tells amalie a story on how her kiss was inspired by in which later joss finds out that amalie is with her lee which his name is jonathan according to amalie and she soon tells joss that she will never return later joss and her friend talk and joss confesses on something that is to help her friend as to what this may be you will have to buy then read then review and read on moving on anna j mcintyremaddison and vincent both met in highschool he was the school quarterback later in college he was in law her husband lucas was in band later turned teacher in music vincent asks her to go to a new years eve party she hesistates after seeing her husband through her window later she goes but there is more to this story that you can find love even if love leaves you it can return again through someone you least expect it to be midnight snack by molly snowmaddison has a date with ryder she has a need for a cure for what she has she needs a werewolf to cure it but later finds she is dating a vampire they fight then soon after she is eating ice cream as to what kind or what happened with the fight you will have to find that out for yourself by reading this book or buying it then reading it then reviewing it until net read and review read on friends with benefits by kate aaronliam mcginty has been using tobias black since they were five years old liam was dating hannah in school even though tobias has had feelings for liam later though liam started dating a guy named will and not tobias who loves him which upsets tobias and makes him feel as if he is not good enough will took liams virginity from him from tobias liam took tobias s virginity only because of a dry spell soon after they seperated for many months liam contacted tobias and they got together but tobias could not handle liams treatment of him so he finally told liam to leave him or take him cause he could no longer take the rejection and to finally make a choice he does as to which choice liam makes with tobias you will have to buy and read for yourselves and then review it a kiss through time robert thomaspfc willy mcguiness and hooker are friends serving the military in the army willy is married to his high school sweetheart kathleen captain meyer the chaplain and lt walker both come to kathleen to tell her willy will never come home so she leaves and starts a new fifty years later a woman named vicki sumter enters the house and it is now her home vicki is married to a captain and has kids that will be coming within the week and her husband is a stickler to tidiness vicki s and her husbands children arrive with her mother in law holly her children is sarah and natalie vicki finds out her husband wont be home for christmas which means a small christmas with little presents vicki gets a job offer and her mother in law does not mind watching over her grandkids her boss is named george and he gave her the history of her house so she would know what others may ask of their homes of their history vicki found kathleen s present to willy and now she is on a mission to give the present to his or her owner the chief finds willy and his wife his wife is still living but is in a home she did remarry but she was never the same she had a child but died as well two husbands and child died before she has now vicki is seeking her out when vicki meets kathleen she gives the present she found and she takes the photo of her husband and takes her last breathe songs from the heart mona ingrammandy is a singer and she is at her old school where she and her friends talked many times simon her manager is worried about mobs at her school but he has instigated them usually pete is her driver mandy remembers her past at the school with her memories mandy remembers her friends and her in debates and she was to lead but lost to a friend of her s matthew matt wanted a kiss from mandy but was interrupted by the vice principal simon and mandy used to date until he caught him with his pants down so then they became manager and singer relationship without the romance she has never met the songwriter but is about to wonders whom it may be mandy finds out it is matthew whom she was going to kiss years ago is her songwriter sunnys boyfriend david is coming to mandy s debut mandy s guitar player broke his wrist and now can t play due to playing football mandy is hoping matthew will help the band out to play at her debut after mandys debut she announces that she couldn t of done it without her fans her back up singers and her band and the man whom is her long time friend and the person who wrote every song she announces she owes him something and there in front of everyone she does what they should of done long ago as to what you must buy then read then review it until next read and review that first kiss s patrick o connellmarrick has lived a crime of thiefing in walks in a captain a woman named captain severside the captain wants merrick to bust out her pilot that is in the jail where they are at otherwise she is stuck there for months merrick gets the crew man out of jail and is day dreaming of the captain and if they have a future merrick finds out the captain and crewman are more and just relaxes til next port divinity s kiss a day soldiers short story brandon halenovember st sister abigail reid cleaned the pews in the chapel as she listen to what father o reilly and tim tim believes in werewolves where as o reilly does not the sister and tim and o reilly come across monsters who turn out to be vampires who have come to end humantiy since the church has hunted the vampires abbie acts fast and tells everyone to grab a cross and wood to defend themselves abbie is a channeler and o reilly gets turned into a vampire and abbie uses her inner strength to defeat the vampires inside the church abbie goes alone and tim wishes he would of gone with her abbie faints and wakes up days later to meet a geoff wallace dr bates televised the werewolf transformation that started the war they are called the day soldiers and she will be leading the army to defeat the vampires from mankind how jessica met simon a tube riders origins story by chris wardjessica went out to look for a boy but gunshots rang out as she hid underground and soon after met a boy simon comes to his flat with his father though his father is taken by the dca and looters are on their way so he gets some clothes and things to take and gets going soon after his home is being ramsacked and now he is without a home he heads underground where he hopes marta switch and paul may be there sadly simon comes to the underground station to find they closed it down simon hopes to make it close to where he works and try to find cover and somewhere to sleep jessica goes back to where she met a boy but the boy was gone and she has no idea what to do now but she senses danger and tries to find a place to hide while jessica is hiding she finds simon is close by and they kiss and for the rest of the story buy the tube riders the riddle alison blakea woman named erin is in an accident and is talking to tootrue which i believe is herself in the way of her subconsious people find her and wonder how they may be able to get her out a man offers erin his hand but the man s companion tells him not to erin finds out she has three choices one to go with nick which i believe though it was not stated was satan the devil trying to tempt her to go to hell and lie to her tootrue or as they mention tt tells her that his way is better which from what he mentions sounds like heaven but her last choice is staying on earth and living instead of dying what do you think her choice was to find out buy then read then review this book until next read and review read on dark visions the paladin s kiss jeanette raleigha woman isabelle was looking for a man named luke whom she wants to be with but her father has plans for her to marry another his name thindle perkins thindle is an arrogant man who thinks hes gods gift to women but isabelle does not share his opinion of himself she rather be with luke thindle talks with her but she rather run and go to luke she finally does and meets lukes best friend stefan thindle loathes luke and tells isabelle that luke came to her father and he denied his suit to isabelle so now thindle thinks he can have her but isa and luke come to terms and luke realizes she still loves him and is not engaged as thindle has boasted about thindle catches luke and isa in a compromising position and goes and tells her father edward edward sees how his daughter looks at luke and reconsiders as long as he makes enough money and has land he will allow the match and they will be married to read the rest of this story buy then read and review friday afternoonelizabeth jaspergeorge a barman who bartends a club and has four newcomers come in and orders the best wines they get drunk and he has two of his regulars there watching the four get drunk with the best on tap soon after they leave george realizes they were not human as to what they were you must buy then read then review to find out just one kisssuzie o connellalicia remembers her marriage to tucker they lasted for six years tucker feels they can work things out alicia is unsure she wants to but wonders how he asks her to take a walk with him they do they race and laugh and soon tucker asks for a kiss as to what happens after that run you will need to buy and read the book also if people who divorce would just sit down with each other see if there is anything instead of fighting it we would have less divorce in this world and marriage to last a life time i kinda wish my story could of been as alicia and tucker s story is until next read and review read on strangersholli spauldingwow stella goes to the park to remember her dad and the happy memories they had there that day she meets a boy named river who in turn saves her life she had a plan to ended it because she feels guilty that he father died due to her wanting ice cream its about forgiving yourself and to accept the fact you have no control over the world and what may happen she then goes to the park the next day and river wants to take her to her fathers grave sight they do and she feels now at peace to more to this story must buy this and read it and review it until next read and review read on the gift of gabsharon delarosegeorge wants to speak the gift of gab but gets more than he bargains for his girlfriend is rose and he has a great job but once he goes to a place to give him the gift of gab he gets the reverse and loses everything in the process the graveyard kissmeghan ciana doidgeluci writes a love not to her boyfriend colby but a woman comes in claiming a boy killed himself and how to find a card to state this to their parents you never do know what you have til it is gone she goes to her boyfriends funeral and has her friends there to help her through it luci goes to her now dead boyfriends parents room to get jewelry to help her on her quest she then goes to her boyfriends room and gets their love notes then goes to the kitchen and goes to get a knife to find out why she does you will have to buy read and review this book to find out i will say it is a very interesting twist it may be morbid and in a way fascinating as well until next read and review read on true lovee b boggsbob a man who was sad about losing his wife nora his boss pat wanted him to come to his place where phylis would make him a home cooked meal and valerie scratched his car with her car and stayed to apologize and give him her insurance info he declined every ones concerns to have dinner and went home to read more of this story and what happened cause i am leaving a big key in this so buy it then read it until next read and review read on it is a sad story but can be considered joy if you look deeper revelation of an angel queenj r c saltercoran a traveler right now but not who he will become someone follows him but he or she is always someone else who he or she is only time will tell damariya is to look after the children but she wants to stay and she is great with a sword thus why he wants her to protect the children but is being defiant cilnawn is to take damariya to the temple to ensure she does what coran has instructed she do atharron is an only child but coran wants someone who wont defy him as damariya does to him damariya is coran s sister she wants to join the army but he will not allow it coran s people had a fight but not without casualities maybe even including his own sister a girl came to him she used her powerrs to protect the women her name is galvahha she is also afiraena who could not save his sister who died after getting to safety galvahha afiraena and coran s lives are now intertwined she becomes his queen and he becomes her king my contactcleve sylcoxdave winters who worked for a lawyer named bill tinsley who is bad news and dave takes a package to a guy named al be careful in whom you do dealings with this is what dave winters has learned he takes a package as told to do but finds trouble when he goes to moe s a club that bab business is at and finds two women one he sees as a waitress the other more dark and mysterious and which woman to trust and to give the package to to find out buy then read then review until next read and review read on the callcorrie fischerdebra was there to get korian and the mom nancy was there nancy gets a call at the gym from paul her husband to come home as to what the calle entailed debra does not know but will be there for her friend paul fletcher into thoeology who follows god and teaches the word but his faith is about to be tested he told her something that her sister told him and she screamed she just found out her father and her two sisters have been shot her sisters passed on but her father has not its a very sad story the slave who d never been kissedjess mountifieldthe captain s first contactauraylia see s the captain whose name is dylan in which she follows him the slave girl auraylia finally makes a move on dylan and tries to have him buy her from her owner but she gets turned down and now dylan is in the commanding officers office he used to get his orders from admiral keana but now it is someone else he is thinking of buying the slave girl but is unsure the go yo see auraylia s owner to buy her and set her free he dylan negotiates with her owner and finally he gets her papers and are on their way to his orders to go to a distant planet to send medical and food supplies she wants to pay him back and they make a deal to only have her give a percentage of her earnings auraylia finds herself the object of one of the crew men who find out she was a former slave and now they want more from her she does not want to give also she finds herself in a war that someone race has now invaded the ship and are now fighting an alien race auraylia has a hard time with the male humans considering they want more with her so when the thorian whom is not human allows her to sleep in the one section where he will be for awhile allows her protection where as in her bunk she doesn t feel safe with the two men who want to take her to their beds she attacked the captain but did not realize it now she is going to be having a trial and now she wants to come to an understanding even if it means she gives the captain her body in return to her freedom the question is will he allow it or deny this few of the crew knows auraylia is hiding the truth and come up with a plan to have the truth come out so they send varl the thorian to talk with her finally tells why she did what she did and wishes she could give the captain the credits he bought her with so she would not feel guilty she just wishes to feel safe again only two people she feels safe with the captain and the thorian his second in command the truth comes out and auraylia is allowed to sleep where she feels more comfortable and also recieves a christmas present to find this out and more to all the stories in this book buy the book read and then review\n"
     ]
    }
   ],
   "source": [
    "print(' '.join(reviews[792627]))"
   ]
  },
  {
   "cell_type": "code",
   "execution_count": 42,
   "metadata": {},
   "outputs": [
    {
     "data": {
      "text/plain": [
       "[35624,\n",
       " 35434,\n",
       " 32586,\n",
       " 32511,\n",
       " 29742,\n",
       " 27176,\n",
       " 25728,\n",
       " 24931,\n",
       " 23158,\n",
       " 21874,\n",
       " 20313,\n",
       " 19248,\n",
       " 18315,\n",
       " 17457,\n",
       " 16362,\n",
       " 16253,\n",
       " 15845,\n",
       " 15072,\n",
       " 14707,\n",
       " 13851,\n",
       " 13190,\n",
       " 12690,\n",
       " 12218,\n",
       " 11568,\n",
       " 11224,\n",
       " 10823,\n",
       " 10229,\n",
       " 10041,\n",
       " 9851,\n",
       " 9212,\n",
       " 8828,\n",
       " 8602,\n",
       " 8291,\n",
       " 8197,\n",
       " 7960,\n",
       " 7627,\n",
       " 7613,\n",
       " 7354,\n",
       " 6998,\n",
       " 6644,\n",
       " 6446,\n",
       " 6266,\n",
       " 6158,\n",
       " 5992,\n",
       " 5735,\n",
       " 5559,\n",
       " 5487,\n",
       " 5185,\n",
       " 5164,\n",
       " 4986,\n",
       " 4843,\n",
       " 4593,\n",
       " 4527,\n",
       " 4491,\n",
       " 4394,\n",
       " 4180,\n",
       " 4084,\n",
       " 4028,\n",
       " 3928,\n",
       " 3734,\n",
       " 3665,\n",
       " 3656,\n",
       " 3549,\n",
       " 3482,\n",
       " 3460,\n",
       " 3396,\n",
       " 3248,\n",
       " 3191,\n",
       " 3112,\n",
       " 3106,\n",
       " 3093,\n",
       " 2953,\n",
       " 2864,\n",
       " 2828,\n",
       " 2813,\n",
       " 2704,\n",
       " 2687,\n",
       " 2570,\n",
       " 2566,\n",
       " 2526,\n",
       " 2431,\n",
       " 2416,\n",
       " 2337,\n",
       " 2311,\n",
       " 2280,\n",
       " 2244,\n",
       " 2221,\n",
       " 2160,\n",
       " 2107,\n",
       " 2082,\n",
       " 2030,\n",
       " 2012,\n",
       " 1980,\n",
       " 1976,\n",
       " 1930,\n",
       " 1888,\n",
       " 1879,\n",
       " 1815,\n",
       " 1738,\n",
       " 1737,\n",
       " 1733,\n",
       " 1692,\n",
       " 1683,\n",
       " 1655,\n",
       " 1630,\n",
       " 1575,\n",
       " 1567,\n",
       " 1553,\n",
       " 1539,\n",
       " 1517,\n",
       " 1511,\n",
       " 1510,\n",
       " 1416,\n",
       " 1415,\n",
       " 1413,\n",
       " 1410,\n",
       " 1390,\n",
       " 1384,\n",
       " 1384,\n",
       " 1376,\n",
       " 1370,\n",
       " 1260,\n",
       " 1246,\n",
       " 1245,\n",
       " 1244,\n",
       " 1239,\n",
       " 1224,\n",
       " 1212,\n",
       " 1208,\n",
       " 1191,\n",
       " 1171,\n",
       " 1170,\n",
       " 1166,\n",
       " 1130,\n",
       " 1121,\n",
       " 1086,\n",
       " 1064,\n",
       " 1054,\n",
       " 1037,\n",
       " 1029,\n",
       " 1020,\n",
       " 1002,\n",
       " 985,\n",
       " 964,\n",
       " 932,\n",
       " 927,\n",
       " 921,\n",
       " 921,\n",
       " 917,\n",
       " 875,\n",
       " 872,\n",
       " 864,\n",
       " 850,\n",
       " 841,\n",
       " 835,\n",
       " 834,\n",
       " 805,\n",
       " 801,\n",
       " 798,\n",
       " 777,\n",
       " 773,\n",
       " 757,\n",
       " 742,\n",
       " 730,\n",
       " 727,\n",
       " 727,\n",
       " 727,\n",
       " 718,\n",
       " 708,\n",
       " 689,\n",
       " 676,\n",
       " 661,\n",
       " 652,\n",
       " 651,\n",
       " 641,\n",
       " 637,\n",
       " 633,\n",
       " 627,\n",
       " 619,\n",
       " 618,\n",
       " 609,\n",
       " 605,\n",
       " 596,\n",
       " 592,\n",
       " 587,\n",
       " 584,\n",
       " 578,\n",
       " 563,\n",
       " 553,\n",
       " 540,\n",
       " 539,\n",
       " 539,\n",
       " 534,\n",
       " 521,\n",
       " 516,\n",
       " 515,\n",
       " 499,\n",
       " 499,\n",
       " 491,\n",
       " 490,\n",
       " 485,\n",
       " 479,\n",
       " 471,\n",
       " 471,\n",
       " 467,\n",
       " 466,\n",
       " 460,\n",
       " 450,\n",
       " 448,\n",
       " 437,\n",
       " 410,\n",
       " 409,\n",
       " 406,\n",
       " 401,\n",
       " 397,\n",
       " 386,\n",
       " 385,\n",
       " 383,\n",
       " 374,\n",
       " 373,\n",
       " 367,\n",
       " 364,\n",
       " 364,\n",
       " 359,\n",
       " 358,\n",
       " 357,\n",
       " 356,\n",
       " 354,\n",
       " 354,\n",
       " 347,\n",
       " 338,\n",
       " 337,\n",
       " 325,\n",
       " 323,\n",
       " 318,\n",
       " 310,\n",
       " 309,\n",
       " 300,\n",
       " 295,\n",
       " 286,\n",
       " 285,\n",
       " 283,\n",
       " 276,\n",
       " 276,\n",
       " 271,\n",
       " 267,\n",
       " 267,\n",
       " 266,\n",
       " 265,\n",
       " 257,\n",
       " 254,\n",
       " 254,\n",
       " 250,\n",
       " 245,\n",
       " 243,\n",
       " 235,\n",
       " 231,\n",
       " 228,\n",
       " 228,\n",
       " 225,\n",
       " 225,\n",
       " 215,\n",
       " 206,\n",
       " 206,\n",
       " 205,\n",
       " 199,\n",
       " 199,\n",
       " 198,\n",
       " 192,\n",
       " 189,\n",
       " 187,\n",
       " 184,\n",
       " 184,\n",
       " 183,\n",
       " 183,\n",
       " 182,\n",
       " 181,\n",
       " 176,\n",
       " 174,\n",
       " 172,\n",
       " 168,\n",
       " 164,\n",
       " 163,\n",
       " 161,\n",
       " 160,\n",
       " 156,\n",
       " 154,\n",
       " 154,\n",
       " 154,\n",
       " 153,\n",
       " 146,\n",
       " 144,\n",
       " 144,\n",
       " 144,\n",
       " 143,\n",
       " 142,\n",
       " 142,\n",
       " 139,\n",
       " 139,\n",
       " 135,\n",
       " 130,\n",
       " 129,\n",
       " 125,\n",
       " 124,\n",
       " 124,\n",
       " 124,\n",
       " 123,\n",
       " 121,\n",
       " 121,\n",
       " 119,\n",
       " 119,\n",
       " 117,\n",
       " 116,\n",
       " 113,\n",
       " 111,\n",
       " 109,\n",
       " 108,\n",
       " 105,\n",
       " 105,\n",
       " 104,\n",
       " 103,\n",
       " 103,\n",
       " 102,\n",
       " 102,\n",
       " 102,\n",
       " 99,\n",
       " 98,\n",
       " 98,\n",
       " 96,\n",
       " 94,\n",
       " 92,\n",
       " 91,\n",
       " 91,\n",
       " 89,\n",
       " 87,\n",
       " 85,\n",
       " 84,\n",
       " 83,\n",
       " 81,\n",
       " 76,\n",
       " 74,\n",
       " 74,\n",
       " 74,\n",
       " 74,\n",
       " 73,\n",
       " 73,\n",
       " 71,\n",
       " 71,\n",
       " 71,\n",
       " 69,\n",
       " 68,\n",
       " 67,\n",
       " 65,\n",
       " 65,\n",
       " 64,\n",
       " 63,\n",
       " 63,\n",
       " 63,\n",
       " 63,\n",
       " 63,\n",
       " 62,\n",
       " 62,\n",
       " 61,\n",
       " 60,\n",
       " 60,\n",
       " 59,\n",
       " 58,\n",
       " 57,\n",
       " 56,\n",
       " 56,\n",
       " 56,\n",
       " 55,\n",
       " 55,\n",
       " 54,\n",
       " 52,\n",
       " 51,\n",
       " 51,\n",
       " 51,\n",
       " 50,\n",
       " 49,\n",
       " 48,\n",
       " 48,\n",
       " 46,\n",
       " 46,\n",
       " 46,\n",
       " 45,\n",
       " 45,\n",
       " 45,\n",
       " 43,\n",
       " 43,\n",
       " 43,\n",
       " 42,\n",
       " 42,\n",
       " 41,\n",
       " 39,\n",
       " 39,\n",
       " 39,\n",
       " 38,\n",
       " 38,\n",
       " 38,\n",
       " 37,\n",
       " 36,\n",
       " 36,\n",
       " 35,\n",
       " 35,\n",
       " 35,\n",
       " 35,\n",
       " 34,\n",
       " 34,\n",
       " 34,\n",
       " 34,\n",
       " 33,\n",
       " 33,\n",
       " 33,\n",
       " 32,\n",
       " 32,\n",
       " 32,\n",
       " 32,\n",
       " 32,\n",
       " 31,\n",
       " 31,\n",
       " 31,\n",
       " 30,\n",
       " 29,\n",
       " 29,\n",
       " 28,\n",
       " 28,\n",
       " 28,\n",
       " 28,\n",
       " 28,\n",
       " 27,\n",
       " 27,\n",
       " 26,\n",
       " 26,\n",
       " 26,\n",
       " 25,\n",
       " 25,\n",
       " 25,\n",
       " 24,\n",
       " 24,\n",
       " 24,\n",
       " 24,\n",
       " 23,\n",
       " 23,\n",
       " 23,\n",
       " 22,\n",
       " 21,\n",
       " 21,\n",
       " 21,\n",
       " 21,\n",
       " 21,\n",
       " 21,\n",
       " 21,\n",
       " 19,\n",
       " 19,\n",
       " 19,\n",
       " 19,\n",
       " 19,\n",
       " 19,\n",
       " 19,\n",
       " 19,\n",
       " 18,\n",
       " 18,\n",
       " 18,\n",
       " 17,\n",
       " 17,\n",
       " 17,\n",
       " 17,\n",
       " 17,\n",
       " 17,\n",
       " 17,\n",
       " 17,\n",
       " 16,\n",
       " 16,\n",
       " 16,\n",
       " 16,\n",
       " 16,\n",
       " 15,\n",
       " 15,\n",
       " 15,\n",
       " 15,\n",
       " 14,\n",
       " 14,\n",
       " 14,\n",
       " 14,\n",
       " 14,\n",
       " 14,\n",
       " 13,\n",
       " 13,\n",
       " 13,\n",
       " 13,\n",
       " 13,\n",
       " 13,\n",
       " 13,\n",
       " 13,\n",
       " 12,\n",
       " 12,\n",
       " 12,\n",
       " 12,\n",
       " 12,\n",
       " 12,\n",
       " 12,\n",
       " 12,\n",
       " 11,\n",
       " 11,\n",
       " 11,\n",
       " 11,\n",
       " 11,\n",
       " 11,\n",
       " 11,\n",
       " 11,\n",
       " 11,\n",
       " 11,\n",
       " 11,\n",
       " 11,\n",
       " 11,\n",
       " 10,\n",
       " 10,\n",
       " 10,\n",
       " 10,\n",
       " 10,\n",
       " 10,\n",
       " 10,\n",
       " 10,\n",
       " 10,\n",
       " 10,\n",
       " 9,\n",
       " 9,\n",
       " 9,\n",
       " 9,\n",
       " 9,\n",
       " 9,\n",
       " 9,\n",
       " 9,\n",
       " 8,\n",
       " 8,\n",
       " 8,\n",
       " 8,\n",
       " 8,\n",
       " 8,\n",
       " 8,\n",
       " 8,\n",
       " 8,\n",
       " 8,\n",
       " 8,\n",
       " 8,\n",
       " 8,\n",
       " 8,\n",
       " 8,\n",
       " 8,\n",
       " 8,\n",
       " 8,\n",
       " 8,\n",
       " 7,\n",
       " 7,\n",
       " 7,\n",
       " 7,\n",
       " 7,\n",
       " 7,\n",
       " 7,\n",
       " 7,\n",
       " 6,\n",
       " 6,\n",
       " 6,\n",
       " 6,\n",
       " 6,\n",
       " 6,\n",
       " 6,\n",
       " 6,\n",
       " 6,\n",
       " 6,\n",
       " 6,\n",
       " 6,\n",
       " 6,\n",
       " 6,\n",
       " 6,\n",
       " 5,\n",
       " 5,\n",
       " 5,\n",
       " 5,\n",
       " 5,\n",
       " 5,\n",
       " 5,\n",
       " 5,\n",
       " 5,\n",
       " 5,\n",
       " 5,\n",
       " 5,\n",
       " 5,\n",
       " 5,\n",
       " 5,\n",
       " 5,\n",
       " 4,\n",
       " 4,\n",
       " 4,\n",
       " 4,\n",
       " 4,\n",
       " 4,\n",
       " 4,\n",
       " 4,\n",
       " 4,\n",
       " 4,\n",
       " 4,\n",
       " 4,\n",
       " 4,\n",
       " 4,\n",
       " 4,\n",
       " 4,\n",
       " 4,\n",
       " 4,\n",
       " 4,\n",
       " 4,\n",
       " 4,\n",
       " 4,\n",
       " 4,\n",
       " 4,\n",
       " 4,\n",
       " 4,\n",
       " 4,\n",
       " 3,\n",
       " 3,\n",
       " 3,\n",
       " 3,\n",
       " 3,\n",
       " 3,\n",
       " 3,\n",
       " 3,\n",
       " 3,\n",
       " 3,\n",
       " 3,\n",
       " 3,\n",
       " 3,\n",
       " 3,\n",
       " 3,\n",
       " 3,\n",
       " 3,\n",
       " 3,\n",
       " 3,\n",
       " 3,\n",
       " 3,\n",
       " 3,\n",
       " 3,\n",
       " 3,\n",
       " 3,\n",
       " 3,\n",
       " 3,\n",
       " 3,\n",
       " 3,\n",
       " 3,\n",
       " 3,\n",
       " 3,\n",
       " 3,\n",
       " 3,\n",
       " 3,\n",
       " 2,\n",
       " 2,\n",
       " 2,\n",
       " 2,\n",
       " 2,\n",
       " 2,\n",
       " 2,\n",
       " 2,\n",
       " 2,\n",
       " 2,\n",
       " 2,\n",
       " 2,\n",
       " 2,\n",
       " 2,\n",
       " 2,\n",
       " 2,\n",
       " 2,\n",
       " 2,\n",
       " 2,\n",
       " 2,\n",
       " 2,\n",
       " 2,\n",
       " 2,\n",
       " 2,\n",
       " 2,\n",
       " 2,\n",
       " 2,\n",
       " 2,\n",
       " 2,\n",
       " 2,\n",
       " 2,\n",
       " 2,\n",
       " 2,\n",
       " 2,\n",
       " 2,\n",
       " 2,\n",
       " 2,\n",
       " 2,\n",
       " 2,\n",
       " 2,\n",
       " 2,\n",
       " 2,\n",
       " 2,\n",
       " 2,\n",
       " 2,\n",
       " 2,\n",
       " 2,\n",
       " 2,\n",
       " 2,\n",
       " 2,\n",
       " 2,\n",
       " 2,\n",
       " 2,\n",
       " 2,\n",
       " 2,\n",
       " 2,\n",
       " 2,\n",
       " 2,\n",
       " 2,\n",
       " 2,\n",
       " 1,\n",
       " 1,\n",
       " 1,\n",
       " 1,\n",
       " 1,\n",
       " 1,\n",
       " 1,\n",
       " 1,\n",
       " 1,\n",
       " 1,\n",
       " 1,\n",
       " 1,\n",
       " 1,\n",
       " 1,\n",
       " 1,\n",
       " 1,\n",
       " 1,\n",
       " 1,\n",
       " 1,\n",
       " 1,\n",
       " 1,\n",
       " 1,\n",
       " 1,\n",
       " 1,\n",
       " 1,\n",
       " 1,\n",
       " 1,\n",
       " 1,\n",
       " 1,\n",
       " 1,\n",
       " 1,\n",
       " 1,\n",
       " 1,\n",
       " 1,\n",
       " 1,\n",
       " 1,\n",
       " 1,\n",
       " 1,\n",
       " 1,\n",
       " 1,\n",
       " 1,\n",
       " 1,\n",
       " 1,\n",
       " 1,\n",
       " 1,\n",
       " 1,\n",
       " 1,\n",
       " 1,\n",
       " 1,\n",
       " 1,\n",
       " 1,\n",
       " 1,\n",
       " 1,\n",
       " 1,\n",
       " 1,\n",
       " 1,\n",
       " 1,\n",
       " 1,\n",
       " 1,\n",
       " 1,\n",
       " 1,\n",
       " 1,\n",
       " 1,\n",
       " 1,\n",
       " 1,\n",
       " 1,\n",
       " 1,\n",
       " 1,\n",
       " 1,\n",
       " 1,\n",
       " 1,\n",
       " 1,\n",
       " 1,\n",
       " 1,\n",
       " 1,\n",
       " 1,\n",
       " 1,\n",
       " 1,\n",
       " 1,\n",
       " 1,\n",
       " 1,\n",
       " 1,\n",
       " 1,\n",
       " 1,\n",
       " 1,\n",
       " 1,\n",
       " 1,\n",
       " 1,\n",
       " 1,\n",
       " 1,\n",
       " 1,\n",
       " 1,\n",
       " 1,\n",
       " 1,\n",
       " 1,\n",
       " 1,\n",
       " 1,\n",
       " 1,\n",
       " 1,\n",
       " 1,\n",
       " 1,\n",
       " 1,\n",
       " 1,\n",
       " 1,\n",
       " 1,\n",
       " 1,\n",
       " 1,\n",
       " 1,\n",
       " 1,\n",
       " 1,\n",
       " 1,\n",
       " 1,\n",
       " 1,\n",
       " 1,\n",
       " 1,\n",
       " 1,\n",
       " 1,\n",
       " 1,\n",
       " 1,\n",
       " 1,\n",
       " 1,\n",
       " 1,\n",
       " 1,\n",
       " 1,\n",
       " 1,\n",
       " 1,\n",
       " 1,\n",
       " 1,\n",
       " 1,\n",
       " 1,\n",
       " 1,\n",
       " 1,\n",
       " 1,\n",
       " 1,\n",
       " 1,\n",
       " 1,\n",
       " 1,\n",
       " 1,\n",
       " 1,\n",
       " 1,\n",
       " 1,\n",
       " 1,\n",
       " 1,\n",
       " 1,\n",
       " 1,\n",
       " 1,\n",
       " 1,\n",
       " 1,\n",
       " 1,\n",
       " 1,\n",
       " 1,\n",
       " 1,\n",
       " 1,\n",
       " 1,\n",
       " 1,\n",
       " 1,\n",
       " 1]"
      ]
     },
     "execution_count": 42,
     "metadata": {},
     "output_type": "execute_result"
    }
   ],
   "source": [
    "sorted(list(length_counter.values()), reverse=True)"
   ]
  },
  {
   "cell_type": "code",
   "execution_count": 52,
   "metadata": {},
   "outputs": [
    {
     "data": {
      "text/plain": [
       "1"
      ]
     },
     "execution_count": 52,
     "metadata": {},
     "output_type": "execute_result"
    }
   ],
   "source": [
    "min(list(length_counter.values()))"
   ]
  },
  {
   "cell_type": "code",
   "execution_count": null,
   "metadata": {},
   "outputs": [],
   "source": []
  },
  {
   "cell_type": "code",
   "execution_count": 46,
   "metadata": {},
   "outputs": [
    {
     "data": {
      "image/png": "[encoded data removed]",
      "text/plain": [
       "<Figure size 1152x432 with 2 Axes>"
      ]
     },
     "metadata": {
      "needs_background": "light"
     },
     "output_type": "display_data"
    }
   ],
   "source": [
    "plot_word_counts(length_counter)"
   ]
  },
  {
   "cell_type": "code",
   "execution_count": null,
   "metadata": {},
   "outputs": [],
   "source": [
    "for i in range(len(reviews_tok)):\n",
    "    length_counter\n",
    "    reviews_tok.append( [w2i[w] for w in reviews_good[i]] )"
   ]
  },
  {
   "cell_type": "code",
   "execution_count": null,
   "metadata": {},
   "outputs": [],
   "source": []
  },
  {
   "cell_type": "code",
   "execution_count": 41,
   "metadata": {},
   "outputs": [
    {
     "name": "stdout",
     "output_type": "stream",
     "text": [
      "Number of words after filter: 71081\n"
     ]
    }
   ],
   "source": [
    "i2w = {i : w for i, (w, c) in enumerate(words_counter.most_common()) if c > 5}\n",
    "w2i = {w : i for i, w in i2w.items()}\n",
    "print('Number of words after filter:', len(i2w))"
   ]
  },
  {
   "cell_type": "code",
   "execution_count": null,
   "metadata": {},
   "outputs": [],
   "source": []
  },
  {
   "cell_type": "code",
   "execution_count": 32,
   "metadata": {},
   "outputs": [
    {
     "name": "stdout",
     "output_type": "stream",
     "text": [
      "['i', 'enjoy', 'vintage', 'books', 'and', 'movies', 'so', 'i', 'enjoyed', 'reading', 'this', 'book', 'the', 'plot', 'was', 'unusual', 'don', 't', 'think', 'killing', 'someone', 'in', 'self', 'defense', 'but', 'leaving', 'the', 'scene', 'and', 'the', 'body', 'without', 'notifying', 'the', 'police', 'or', 'hitting', 'someone', 'in', 'the', 'jaw', 'to', 'knock', 'them', 'out', 'would', 'wash', 'today', 'still', 'it', 'was', 'a', 'good', 'read', 'for', 'me']\n"
     ]
    }
   ],
   "source": [
    "reviews_2 = []\n",
    "\n",
    "for i in range(len(reviews)):\n",
    "    print(reviews[i])\n",
    "    \n",
    "    reviews[i] = [w for w in reviews[i] if w not in stopwords]\n",
    "    \n",
    "    break"
   ]
  },
  {
   "cell_type": "code",
   "execution_count": 33,
   "metadata": {},
   "outputs": [
    {
     "name": "stdout",
     "output_type": "stream",
     "text": [
      "['i', 'enjoy', 'vintage', 'books', 'and', 'movies', 'so', 'i', 'enjoyed', 'reading', 'this', 'book', 'the', 'plot', 'was', 'unusual', 'don', 't', 'think', 'killing', 'someone', 'in', 'self', 'defense', 'but', 'leaving', 'the', 'scene', 'and', 'the', 'body', 'without', 'notifying', 'the', 'police', 'or', 'hitting', 'someone', 'in', 'the', 'jaw', 'to', 'knock', 'them', 'out', 'would', 'wash', 'today', 'still', 'it', 'was', 'a', 'good', 'read', 'for', 'me']\n"
     ]
    }
   ],
   "source": []
  },
  {
   "cell_type": "code",
   "execution_count": 34,
   "metadata": {},
   "outputs": [
    {
     "name": "stdout",
     "output_type": "stream",
     "text": [
      "['enjoy', 'vintage', 'books', 'movies', 'enjoyed', 'reading', 'book', 'plot', 'unusual', 'think', 'killing', 'someone', 'self', 'defense', 'leaving', 'scene', 'body', 'without', 'notifying', 'police', 'hitting', 'someone', 'jaw', 'knock', 'would', 'wash', 'today', 'still', 'good', 'read']\n"
     ]
    }
   ],
   "source": [
    "print(reviews[0])"
   ]
  },
  {
   "cell_type": "code",
   "execution_count": 27,
   "metadata": {},
   "outputs": [
    {
     "data": {
      "text/plain": [
       "['alice', 'has', 'a', 'cat']"
      ]
     },
     "execution_count": 27,
     "metadata": {},
     "output_type": "execute_result"
    }
   ],
   "source": [
    "txt = 'alice has a cat'.split()\n",
    "txt"
   ]
  },
  {
   "cell_type": "code",
   "execution_count": 28,
   "metadata": {},
   "outputs": [
    {
     "ename": "ValueError",
     "evalue": "list.remove(x): x not in list",
     "output_type": "error",
     "traceback": [
      "\u001b[0;31m---------------------------------------------------------------------------\u001b[0m",
      "\u001b[0;31mValueError\u001b[0m                                Traceback (most recent call last)",
      "\u001b[0;32m<ipython-input-28-fd6dafb2b931>\u001b[0m in \u001b[0;36m<module>\u001b[0;34m\u001b[0m\n\u001b[0;32m----> 1\u001b[0;31m \u001b[0mtxt\u001b[0m\u001b[0;34m.\u001b[0m\u001b[0mremove\u001b[0m\u001b[0;34m(\u001b[0m\u001b[0;34m[\u001b[0m\u001b[0;34m'the'\u001b[0m\u001b[0;34m,\u001b[0m \u001b[0;34m'has'\u001b[0m\u001b[0;34m]\u001b[0m\u001b[0;34m)\u001b[0m\u001b[0;34m\u001b[0m\u001b[0;34m\u001b[0m\u001b[0m\n\u001b[0m",
      "\u001b[0;31mValueError\u001b[0m: list.remove(x): x not in list"
     ]
    }
   ],
   "source": [
    "txt.remove(['the', 'has'])"
   ]
  },
  {
   "cell_type": "code",
   "execution_count": 31,
   "metadata": {},
   "outputs": [
    {
     "data": {
      "text/plain": [
       "['alice', 'cat']"
      ]
     },
     "execution_count": 31,
     "metadata": {},
     "output_type": "execute_result"
    }
   ],
   "source": [
    "[w for w in txt if w not in stopwords]"
   ]
  },
  {
   "cell_type": "code",
   "execution_count": null,
   "metadata": {},
   "outputs": [],
   "source": [
    "stopw = nltkkk.stopwords"
   ]
  },
  {
   "cell_type": "markdown",
   "metadata": {},
   "source": [
    "**Rare Words**"
   ]
  },
  {
   "cell_type": "code",
   "execution_count": null,
   "metadata": {},
   "outputs": [],
   "source": []
  },
  {
   "cell_type": "code",
   "execution_count": 55,
   "metadata": {},
   "outputs": [
    {
     "data": {
      "text/plain": [
       "['alice', 'has', 'cats']"
      ]
     },
     "execution_count": 55,
     "metadata": {},
     "output_type": "execute_result"
    }
   ],
   "source": [
    "preprocess('Alice has 7 cats!!111')"
   ]
  },
  {
   "cell_type": "markdown",
   "metadata": {},
   "source": [
    "Typical JSON entry:"
   ]
  },
  {
   "cell_type": "code",
   "execution_count": 11,
   "metadata": {},
   "outputs": [
    {
     "data": {
      "text/plain": [
       "{'reviewerID': 'A2NRGE3CSFY2TQ',\n",
       " 'asin': 'B00M13FNSS',\n",
       " 'reviewerName': 'Yo',\n",
       " 'helpful': [2, 2],\n",
       " 'reviewText': \"This book was everything. I just hope Alexus wise up and move on. And lawd I thought Cherika worked my nerves but damn Keanna was doing to much. I uunderstand she was hurting but TJ was never her's sooo she should had walked away from that situation. And that damn Dre well let's just say he knows 1st hand that Chick name KARMA is no joke. I truly enjoyed this. Now patiently waiting for part 2.\",\n",
       " 'overall': 5.0,\n",
       " 'summary': 'Great read.hands down #5star hit',\n",
       " 'unixReviewTime': 1406073600,\n",
       " 'reviewTime': '07 23, 2014'}"
      ]
     },
     "execution_count": 11,
     "metadata": {},
     "output_type": "execute_result"
    }
   ],
   "source": [
    "jl"
   ]
  },
  {
   "cell_type": "markdown",
   "metadata": {},
   "source": [
    "What we loaded:"
   ]
  },
  {
   "cell_type": "code",
   "execution_count": 13,
   "metadata": {},
   "outputs": [
    {
     "data": {
      "text/plain": [
       "\"I enjoy vintage books and movies so I enjoyed reading this book.  The plot was unusual.  Don't think killing someone in self-defense but leaving the scene and the body without notifying the police or hitting someone in the jaw to knock them out would wash today.Still it was a good read for me.\""
      ]
     },
     "execution_count": 13,
     "metadata": {},
     "output_type": "execute_result"
    }
   ],
   "source": [
    "review_raw[0]"
   ]
  },
  {
   "cell_type": "code",
   "execution_count": 14,
   "metadata": {},
   "outputs": [
    {
     "data": {
      "text/plain": [
       "'Nice vintage story'"
      ]
     },
     "execution_count": 14,
     "metadata": {},
     "output_type": "execute_result"
    }
   ],
   "source": [
    "summary_raw[0]"
   ]
  },
  {
   "cell_type": "code",
   "execution_count": 15,
   "metadata": {},
   "outputs": [
    {
     "data": {
      "text/plain": [
       "5.0"
      ]
     },
     "execution_count": 15,
     "metadata": {},
     "output_type": "execute_result"
    }
   ],
   "source": [
    "score_raw[0]"
   ]
  },
  {
   "cell_type": "code",
   "execution_count": 25,
   "metadata": {},
   "outputs": [],
   "source": [
    "char_counter = collections.Counter()\n",
    "word_counter = collections.Counter()\n",
    "\n",
    "for review in review_raw:\n",
    "    char_counter.update(review)\n",
    "    word_counter.update(review.split())"
   ]
  },
  {
   "cell_type": "code",
   "execution_count": 35,
   "metadata": {},
   "outputs": [],
   "source": [
    "import string"
   ]
  },
  {
   "cell_type": "code",
   "execution_count": 39,
   "metadata": {},
   "outputs": [],
   "source": [
    "translator = str.maketrans(string.punctuation + string.digits, ' '*len(string.punctuation+string.digits))"
   ]
  },
  {
   "cell_type": "code",
   "execution_count": 43,
   "metadata": {},
   "outputs": [],
   "source": [
    "import re"
   ]
  },
  {
   "cell_type": "code",
   "execution_count": 46,
   "metadata": {},
   "outputs": [],
   "source": []
  },
  {
   "cell_type": "code",
   "execution_count": 47,
   "metadata": {},
   "outputs": [
    {
     "data": {
      "text/plain": [
       "'This book was everything  I just hope Alexus wise up and move on  And lawd I thought Cherika worked my nerves but damn Keanna was doing to much  I uunderstand she was hurting but TJ was never her s sooo she should had walked away from that situation  And that damn Dre well let s just say he knows  st hand that Chick name KARMA is no joke  I truly enjoyed this  Now patiently waiting for part  '"
      ]
     },
     "execution_count": 47,
     "metadata": {},
     "output_type": "execute_result"
    }
   ],
   "source": []
  },
  {
   "cell_type": "code",
   "execution_count": 42,
   "metadata": {},
   "outputs": [
    {
     "data": {
      "text/plain": [
       "\"This book was everything. I just hope Alexus wise up and move on. And lawd I thought Cherika worked my nerves but damn Keanna was doing to much. I uunderstand she was hurting but TJ was never her's sooo she should had walked away from that situation. And that damn Dre well let's just say he knows 1st hand that Chick name KARMA is no joke. I truly enjoyed this. Now patiently waiting for part 2.\""
      ]
     },
     "execution_count": 42,
     "metadata": {},
     "output_type": "execute_result"
    }
   ],
   "source": [
    "review"
   ]
  },
  {
   "cell_type": "code",
   "execution_count": 41,
   "metadata": {},
   "outputs": [
    {
     "data": {
      "text/plain": [
       "'this book was everything  i just hope alexus wise up and move on  and lawd i thought cherika worked my nerves but damn keanna was doing to much  i uunderstand she was hurting but tj was never her s sooo she should had walked away from that situation  and that damn dre well let s just say he knows  st hand that chick name karma is no joke  i truly enjoyed this  now patiently waiting for part   '"
      ]
     },
     "execution_count": 41,
     "metadata": {},
     "output_type": "execute_result"
    }
   ],
   "source": [
    "review.translate(translator).lower()"
   ]
  },
  {
   "cell_type": "code",
   "execution_count": 34,
   "metadata": {},
   "outputs": [
    {
     "data": {
      "text/plain": [
       "\"this book was everything. i just hope alexus wise up and move on. and lawd i thought cherika worked my nerves but damn keanna was doing to much. i uunderstand she was hurting but tj was never her's sooo she should had walked away from that situation. and that damn dre well let's just say he knows 1st hand that chick name karma is no joke. i truly enjoyed this. now patiently waiting for part 2.\""
      ]
     },
     "execution_count": 34,
     "metadata": {},
     "output_type": "execute_result"
    }
   ],
   "source": [
    "review.replace()"
   ]
  },
  {
   "cell_type": "code",
   "execution_count": null,
   "metadata": {},
   "outputs": [],
   "source": []
  },
  {
   "cell_type": "code",
   "execution_count": 29,
   "metadata": {},
   "outputs": [],
   "source": [
    "from string import ascii_letters"
   ]
  },
  {
   "cell_type": "code",
   "execution_count": 31,
   "metadata": {},
   "outputs": [],
   "source": [
    "from string import digits"
   ]
  },
  {
   "cell_type": "code",
   "execution_count": 32,
   "metadata": {},
   "outputs": [
    {
     "data": {
      "text/plain": [
       "'0123456789'"
      ]
     },
     "execution_count": 32,
     "metadata": {},
     "output_type": "execute_result"
    }
   ],
   "source": [
    "digits"
   ]
  },
  {
   "cell_type": "code",
   "execution_count": 26,
   "metadata": {},
   "outputs": [
    {
     "data": {
      "text/plain": [
       "Counter({'I': 3903627,\n",
       "         ' ': 108453845,\n",
       "         'e': 55771631,\n",
       "         'n': 30262125,\n",
       "         'j': 874844,\n",
       "         'o': 36856180,\n",
       "         'y': 9833445,\n",
       "         'v': 5177095,\n",
       "         'i': 30702174,\n",
       "         't': 42722203,\n",
       "         'a': 36413252,\n",
       "         'g': 9567396,\n",
       "         'b': 7349413,\n",
       "         'k': 5165274,\n",
       "         's': 29595600,\n",
       "         'd': 17139733,\n",
       "         'm': 9777664,\n",
       "         'r': 26800051,\n",
       "         'h': 25998475,\n",
       "         '.': 7192541,\n",
       "         'T': 1974441,\n",
       "         'p': 6819956,\n",
       "         'l': 18873707,\n",
       "         'w': 9818118,\n",
       "         'u': 11886155,\n",
       "         'D': 500815,\n",
       "         \"'\": 1969615,\n",
       "         'f': 9170877,\n",
       "         '-': 618904,\n",
       "         'c': 10167919,\n",
       "         'S': 1024565,\n",
       "         ';': 583635,\n",
       "         '1': 424599,\n",
       "         '9': 52178,\n",
       "         '0': 156666,\n",
       "         ',': 3874113,\n",
       "         'N': 445085,\n",
       "         'W': 605336,\n",
       "         'q': 312878,\n",
       "         'x': 947795,\n",
       "         '&': 573705,\n",
       "         '#': 508496,\n",
       "         '3': 264591,\n",
       "         '4': 223649,\n",
       "         'F': 320104,\n",
       "         'C': 597343,\n",
       "         'E': 611152,\n",
       "         'A': 1131394,\n",
       "         'B': 615058,\n",
       "         '2': 507997,\n",
       "         '/': 90355,\n",
       "         'M': 661536,\n",
       "         'G': 364207,\n",
       "         'H': 681074,\n",
       "         '(': 214373,\n",
       "         ':': 149793,\n",
       "         ')': 248013,\n",
       "         'R': 527012,\n",
       "         'K': 277862,\n",
       "         'P': 304329,\n",
       "         'L': 558757,\n",
       "         'Y': 220141,\n",
       "         'z': 328057,\n",
       "         'V': 167508,\n",
       "         'J': 335628,\n",
       "         'O': 497336,\n",
       "         '?': 238389,\n",
       "         '\"': 297898,\n",
       "         '!': 957334,\n",
       "         'U': 127510,\n",
       "         '*': 139391,\n",
       "         '6': 37976,\n",
       "         'Z': 39530,\n",
       "         'Q': 26842,\n",
       "         '5': 98838,\n",
       "         '`': 12426,\n",
       "         '8': 356692,\n",
       "         '%': 12344,\n",
       "         '$': 11925,\n",
       "         '7': 247813,\n",
       "         '~': 17735,\n",
       "         '_': 9734,\n",
       "         '+': 9131,\n",
       "         'X': 13891,\n",
       "         '[': 8810,\n",
       "         ']': 8792,\n",
       "         '=': 5116,\n",
       "         '>': 3166,\n",
       "         '{': 779,\n",
       "         '}': 872,\n",
       "         '^': 927,\n",
       "         '\\\\': 234,\n",
       "         '@': 3010,\n",
       "         '|': 258,\n",
       "         '\\x06': 3,\n",
       "         '\\x12': 2,\n",
       "         '\\x04': 2,\n",
       "         '\\x11': 2,\n",
       "         '\\x02': 2,\n",
       "         '\\x16': 1,\n",
       "         '\\x0b': 1,\n",
       "         '\\x1e': 1,\n",
       "         '\\x10': 1,\n",
       "         '\\x00': 1})"
      ]
     },
     "execution_count": 26,
     "metadata": {},
     "output_type": "execute_result"
    }
   ],
   "source": [
    "char_counter"
   ]
  },
  {
   "cell_type": "code",
   "execution_count": 23,
   "metadata": {},
   "outputs": [],
   "source": [
    "char_counter.update('ala ma kota')"
   ]
  },
  {
   "cell_type": "code",
   "execution_count": 24,
   "metadata": {},
   "outputs": [
    {
     "data": {
      "text/plain": [
       "Counter({'a': 8, 'l': 2, ' ': 4, 'm': 2, 'k': 2, 'o': 2, 't': 2})"
      ]
     },
     "execution_count": 24,
     "metadata": {},
     "output_type": "execute_result"
    }
   ],
   "source": [
    "char_counter"
   ]
  },
  {
   "cell_type": "code",
   "execution_count": null,
   "metadata": {},
   "outputs": [],
   "source": []
  }
 ],
 "metadata": {
  "kernelspec": {
   "display_name": "Python 3",
   "language": "python",
   "name": "python3"
  },
  "language_info": {
   "codemirror_mode": {
    "name": "ipython",
    "version": 3
   },
   "file_extension": ".py",
   "mimetype": "text/x-python",
   "name": "python",
   "nbconvert_exporter": "python",
   "pygments_lexer": "ipython3",
   "version": "3.7.1"
  }
 },
 "nbformat": 4,
 "nbformat_minor": 2
}
