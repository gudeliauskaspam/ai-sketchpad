{
 "cells": [
  {
   "cell_type": "code",
   "execution_count": 3,
   "metadata": {},
   "outputs": [],
   "source": [
    "import math\n",
    "import collections\n",
    "import itertools"
   ]
  },
  {
   "cell_type": "code",
   "execution_count": null,
   "metadata": {},
   "outputs": [],
   "source": []
  },
  {
   "cell_type": "code",
   "execution_count": null,
   "metadata": {},
   "outputs": [],
   "source": []
  },
  {
   "cell_type": "code",
   "execution_count": 1,
   "metadata": {},
   "outputs": [],
   "source": [
    "import numpy as np"
   ]
  },
  {
   "cell_type": "code",
   "execution_count": null,
   "metadata": {},
   "outputs": [],
   "source": [
    "np.abs"
   ]
  },
  {
   "cell_type": "code",
   "execution_count": null,
   "metadata": {},
   "outputs": [],
   "source": []
  },
  {
   "cell_type": "code",
   "execution_count": 29,
   "metadata": {},
   "outputs": [],
   "source": [
    "S = '{[()()]}'\n",
    "#S = '([)()]'\n",
    "#S = '())))'\n",
    "S = '(((((())))))(()'"
   ]
  },
  {
   "cell_type": "markdown",
   "metadata": {},
   "source": []
  },
  {
   "cell_type": "code",
   "execution_count": 33,
   "metadata": {},
   "outputs": [],
   "source": [
    "import collections\n",
    "\n",
    "def solution(S):\n",
    "    \n",
    "    correct = {'(':')', '[':']', '{':'}' }\n",
    "    Q = collections.deque()\n",
    "    \n",
    "    for c in S:\n",
    "        # print(c)\n",
    "        if c in '([{':\n",
    "            Q.append(c)\n",
    "        elif c in ')]}':\n",
    "            \n",
    "            if len(Q) == 0:\n",
    "                return 0\n",
    "            \n",
    "            if correct[Q[-1]] == c:\n",
    "                Q.pop()\n",
    "            else:\n",
    "                return 0\n",
    "    \n",
    "    if len(Q) == 0:\n",
    "        return 1\n",
    "    else:\n",
    "        return 0"
   ]
  },
  {
   "cell_type": "code",
   "execution_count": 34,
   "metadata": {},
   "outputs": [
    {
     "data": {
      "text/plain": [
       "0"
      ]
     },
     "execution_count": 34,
     "metadata": {},
     "output_type": "execute_result"
    }
   ],
   "source": [
    "solution(S)"
   ]
  },
  {
   "cell_type": "code",
   "execution_count": 32,
   "metadata": {},
   "outputs": [
    {
     "data": {
      "text/plain": [
       "deque(['{', '[', '(', '('])"
      ]
     },
     "execution_count": 32,
     "metadata": {},
     "output_type": "execute_result"
    }
   ],
   "source": [
    "Q"
   ]
  },
  {
   "cell_type": "code",
   "execution_count": 29,
   "metadata": {},
   "outputs": [
    {
     "data": {
      "text/plain": [
       "11"
      ]
     },
     "execution_count": 29,
     "metadata": {},
     "output_type": "execute_result"
    }
   ],
   "source": [
    "sum_intersects"
   ]
  },
  {
   "cell_type": "code",
   "execution_count": 30,
   "metadata": {},
   "outputs": [
    {
     "data": {
      "text/plain": [
       "0"
      ]
     },
     "execution_count": 30,
     "metadata": {},
     "output_type": "execute_result"
    }
   ],
   "source": [
    "nb_active_disks"
   ]
  },
  {
   "cell_type": "code",
   "execution_count": null,
   "metadata": {},
   "outputs": [],
   "source": []
  },
  {
   "cell_type": "code",
   "execution_count": null,
   "metadata": {},
   "outputs": [],
   "source": []
  },
  {
   "cell_type": "code",
   "execution_count": null,
   "metadata": {},
   "outputs": [],
   "source": []
  },
  {
   "cell_type": "code",
   "execution_count": null,
   "metadata": {},
   "outputs": [],
   "source": []
  },
  {
   "cell_type": "code",
   "execution_count": null,
   "metadata": {},
   "outputs": [],
   "source": []
  },
  {
   "cell_type": "code",
   "execution_count": null,
   "metadata": {},
   "outputs": [],
   "source": []
  },
  {
   "cell_type": "code",
   "execution_count": null,
   "metadata": {},
   "outputs": [],
   "source": []
  },
  {
   "cell_type": "code",
   "execution_count": null,
   "metadata": {},
   "outputs": [],
   "source": []
  },
  {
   "cell_type": "code",
   "execution_count": 36,
   "metadata": {},
   "outputs": [],
   "source": [
    "I = [0, 1, 2, 3]\n",
    "list(map(lambda x: 2*x, I))\n"
   ]
  },
  {
   "cell_type": "code",
   "execution_count": 39,
   "metadata": {},
   "outputs": [
    {
     "data": {
      "text/plain": [
       "[0, 2, 4, 6]"
      ]
     },
     "execution_count": 39,
     "metadata": {},
     "output_type": "execute_result"
    }
   ],
   "source": []
  },
  {
   "cell_type": "code",
   "execution_count": 42,
   "metadata": {},
   "outputs": [
    {
     "data": {
      "text/plain": [
       "['0a', '1b', '2c', '3d']"
      ]
     },
     "execution_count": 42,
     "metadata": {},
     "output_type": "execute_result"
    }
   ],
   "source": [
    "I = [0, 1, 2, 3]\n",
    "A = ['a', 'b', 'c', 'd']\n",
    "list(map(lambda x, y: str(x)+y, I, A))"
   ]
  },
  {
   "cell_type": "code",
   "execution_count": 64,
   "metadata": {},
   "outputs": [
    {
     "data": {
      "text/plain": [
       "[0, 2]"
      ]
     },
     "execution_count": 64,
     "metadata": {},
     "output_type": "execute_result"
    }
   ],
   "source": [
    "list(filter(lambda x: x%2==0, [0, 1, 2, 3]))"
   ]
  },
  {
   "cell_type": "code",
   "execution_count": 65,
   "metadata": {},
   "outputs": [
    {
     "ename": "NameError",
     "evalue": "name 'reduce' is not defined",
     "output_type": "error",
     "traceback": [
      "\u001b[0;31m---------------------------------------------------------------------------\u001b[0m",
      "\u001b[0;31mNameError\u001b[0m                                 Traceback (most recent call last)",
      "\u001b[0;32m<ipython-input-65-62f6239f03f9>\u001b[0m in \u001b[0;36m<module>\u001b[0;34m()\u001b[0m\n\u001b[0;32m----> 1\u001b[0;31m \u001b[0mreduce\u001b[0m\u001b[0;34m\u001b[0m\u001b[0;34m\u001b[0m\u001b[0m\n\u001b[0m",
      "\u001b[0;31mNameError\u001b[0m: name 'reduce' is not defined"
     ]
    }
   ],
   "source": [
    "reduce"
   ]
  },
  {
   "cell_type": "code",
   "execution_count": 66,
   "metadata": {},
   "outputs": [
    {
     "data": {
      "text/plain": [
       "<function __main__.<lambda>(x)>"
      ]
     },
     "execution_count": 66,
     "metadata": {},
     "output_type": "execute_result"
    }
   ],
   "source": [
    "lambda x : 2*x"
   ]
  },
  {
   "cell_type": "code",
   "execution_count": 53,
   "metadata": {},
   "outputs": [
    {
     "data": {
      "text/plain": [
       "'2'"
      ]
     },
     "execution_count": 53,
     "metadata": {},
     "output_type": "execute_result"
    }
   ],
   "source": [
    "max(list(map(str, [0, 1, 2])))"
   ]
  },
  {
   "cell_type": "code",
   "execution_count": null,
   "metadata": {},
   "outputs": [],
   "source": []
  },
  {
   "cell_type": "markdown",
   "metadata": {},
   "source": [
    "# Algorithms"
   ]
  },
  {
   "cell_type": "markdown",
   "metadata": {},
   "source": [
    "### Prefix Sum"
   ]
  },
  {
   "cell_type": "code",
   "execution_count": 99,
   "metadata": {},
   "outputs": [
    {
     "name": "stdout",
     "output_type": "stream",
     "text": [
      "Original array: [1, 2, 3, 4, 5]\n",
      "Prefix sum arr: [0, 1, 3, 6, 10, 15]\n"
     ]
    }
   ],
   "source": [
    "arr = [1, 2, 3, 4, 5]                          # given array\n",
    "acc = [0] + list(itertools.accumulate(IR))     # each element contains SUM of all PREVIOUS entries in 'arr'\n",
    "print('Original array:', arr)\n",
    "print('Prefix sum arr:', acc)"
   ]
  },
  {
   "cell_type": "code",
   "execution_count": null,
   "metadata": {},
   "outputs": [],
   "source": [
    "start, end = 1, 4      # both inclusive\n",
    "sum_subarr = acc[end+1] - acc[start]\n",
    "sum_subarr"
   ]
  },
  {
   "cell_type": "markdown",
   "metadata": {},
   "source": [
    "### Leader"
   ]
  },
  {
   "attachments": {
    "image.png": {
     "image/png": "[encoded data removed]"
    }
   },
   "cell_type": "markdown",
   "metadata": {},
   "source": [
    "Find the leader in the array. Leader is element that occurs more than n/2 times.\n",
    "\n",
    "![image.png](attachment:image.png)\n",
    "\n",
    "Notice that if the sequence a0, a1,...,an≠1 contains a leader, then after removing a pair of elements of dierent values, the remaining sequence still has the same leader. Let’s create an empty stack onto which we will be pushing consecutive elements. After each such operation we check whether the two elements at the top of the stack are dierent. If they are, we remove them from the stack. In fact, we don’t need to remember all the elements from the stack, because all the values\n",
    "below the top are always equal. It is sucient to remember only the values of elements and the size of the stack.\n",
    "\n",
    "Link: [https://codility.com/media/train/6-Leader.pdf](https://codility.com/media/train/6-Leader.pdf)"
   ]
  },
  {
   "cell_type": "code",
   "execution_count": 35,
   "metadata": {},
   "outputs": [],
   "source": [
    "A = [6, 8, 4, 6, 8, 6, 6]"
   ]
  },
  {
   "cell_type": "code",
   "execution_count": 39,
   "metadata": {},
   "outputs": [],
   "source": [
    "def goldenLeader(A):\n",
    "    n = len(A)\n",
    "    size = 0\n",
    "    \n",
    "    for k in range(n):\n",
    "        if (size == 0):\n",
    "            size += 1\n",
    "            value = A[k]\n",
    "        else:\n",
    "            if (value != A[k]):\n",
    "                 size -= 1\n",
    "            else:\n",
    "                 size += 1\n",
    "    \n",
    "    candidate = -1\n",
    "    if (size > 0):\n",
    "        candidate = value\n",
    "    \n",
    "    leader = -1\n",
    "    count = 0\n",
    "    \n",
    "    for k in range(n):\n",
    "        if (A[k] == candidate):\n",
    "            count += 1\n",
    "    if (count > n // 2):\n",
    "        leader = candidate\n",
    "    \n",
    "    return leader"
   ]
  },
  {
   "cell_type": "code",
   "execution_count": 40,
   "metadata": {},
   "outputs": [
    {
     "data": {
      "text/plain": [
       "6"
      ]
     },
     "execution_count": 40,
     "metadata": {},
     "output_type": "execute_result"
    }
   ],
   "source": [
    "goldenLeader(A)"
   ]
  },
  {
   "cell_type": "markdown",
   "metadata": {},
   "source": [
    "### Maximum Subarray"
   ]
  },
  {
   "cell_type": "code",
   "execution_count": 1,
   "metadata": {},
   "outputs": [],
   "source": [
    "A = [-2, -3, 4, -1, -2, -1, 5, -3]\n",
    "A = [3, 2, -6, 4, 0]"
   ]
  },
  {
   "cell_type": "code",
   "execution_count": 2,
   "metadata": {},
   "outputs": [],
   "source": [
    "def solution(A):\n",
    "    max_ending_here = -1000000\n",
    "    max_so_far = -1000000\n",
    "    \n",
    "    for a in A:\n",
    "        max_ending_here = max(max_ending_here + a, a)\n",
    "        max_so_far = max(max_so_far, max_ending_here)\n",
    "        \n",
    "    \n",
    "    return max_so_far"
   ]
  },
  {
   "cell_type": "code",
   "execution_count": 3,
   "metadata": {},
   "outputs": [
    {
     "data": {
      "text/plain": [
       "5"
      ]
     },
     "execution_count": 3,
     "metadata": {},
     "output_type": "execute_result"
    }
   ],
   "source": [
    "max_subarray(A)"
   ]
  },
  {
   "cell_type": "markdown",
   "metadata": {},
   "source": [
    "# Exercises"
   ]
  },
  {
   "cell_type": "markdown",
   "metadata": {},
   "source": [
    "### NumberOfDiscIntersections (Lesson 6)"
   ]
  },
  {
   "attachments": {
    "image.png": {
     "image/png": "[encoded data removed]"
    }
   },
   "cell_type": "markdown",
   "metadata": {},
   "source": [
    "![image.png](attachment:image.png)"
   ]
  },
  {
   "attachments": {
    "image.png": {
     "image/png": "[encoded data removed]"
    }
   },
   "cell_type": "markdown",
   "metadata": {},
   "source": [
    "![image.png](attachment:image.png)"
   ]
  },
  {
   "cell_type": "code",
   "execution_count": 35,
   "metadata": {},
   "outputs": [
    {
     "data": {
      "text/plain": [
       "11"
      ]
     },
     "execution_count": 35,
     "metadata": {},
     "output_type": "execute_result"
    }
   ],
   "source": [
    "Event = collections.namedtuple('Event', ['x', 'v'])\n",
    "\n",
    "A = [1, 5, 2, 1, 4, 0]\n",
    "\n",
    "def solution(A):\n",
    "    # extract events: disk begins or ends\n",
    "    events = []\n",
    "    for x in range(len(A)):\n",
    "        radius = A[x]\n",
    "        events.append(Event(x-radius,  1))\n",
    "        events.append(Event(x+radius, -1))\n",
    "        \n",
    "    # sort events by x ascending, then by v descending\n",
    "    events = sorted(events, key=lambda event: (event.x, -event.v))\n",
    "    events\n",
    "    \n",
    "    sum_intersects = 0\n",
    "    nb_active_disks = 0\n",
    "    \n",
    "    for ev in events:\n",
    "        if ev.v > 0:\n",
    "            sum_intersects += nb_active_disks\n",
    "            nb_active_disks += 1\n",
    "        else:\n",
    "            nb_active_disks -= 1\n",
    "            \n",
    "        if sum_intersects > 10000000:\n",
    "            return -1\n",
    "            \n",
    "    return sum_intersects\n",
    "\n",
    "solution(A)"
   ]
  },
  {
   "cell_type": "code",
   "execution_count": null,
   "metadata": {},
   "outputs": [],
   "source": []
  }
 ],
 "metadata": {
  "kernelspec": {
   "display_name": "Python 3",
   "language": "python",
   "name": "python3"
  },
  "language_info": {
   "codemirror_mode": {
    "name": "ipython",
    "version": 3
   },
   "file_extension": ".py",
   "mimetype": "text/x-python",
   "name": "python",
   "nbconvert_exporter": "python",
   "pygments_lexer": "ipython3",
   "version": "3.6.7"
  }
 },
 "nbformat": 4,
 "nbformat_minor": 2
}
