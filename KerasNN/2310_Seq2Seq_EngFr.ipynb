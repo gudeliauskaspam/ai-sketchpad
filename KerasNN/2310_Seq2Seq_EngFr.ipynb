{
 "cells": [
  {
   "cell_type": "markdown",
   "metadata": {},
   "source": [
    "# Introduction"
   ]
  },
  {
   "cell_type": "markdown",
   "metadata": {},
   "source": [
    "This notebook presents **Sequence-to-Sequence** encoder-decoder architecture based on **LSTM** cells. Neural network is used to learn **English to French** translation task on a small corpus of sequences."
   ]
  },
  {
   "cell_type": "markdown",
   "metadata": {},
   "source": [
    "<img src=\"assets/seq2seq.png\"/>\n",
    "<center>Sequence to sequence architecuter</center>"
   ]
  },
  {
   "cell_type": "markdown",
   "metadata": {},
   "source": [
    "**Dataset**\n",
    "\n",
    "* [Udacity NLP Nanodegree](https://eu.udacity.com/course/natural-language-processing-nanodegree--nd892) - I found dataset as part of the course\n",
    "* [Udacity NLP GitHub](https://github.com/udacity/aind2-nlp-capstone) - dataset link"
   ]
  },
  {
   "cell_type": "markdown",
   "metadata": {},
   "source": [
    "**Code**\n",
    "\n",
    "* [A ten-minute introduction to sequence-to-sequence learning in Keras](https://blog.keras.io/a-ten-minute-introduction-to-sequence-to-sequence-learning-in-keras.html) - code with explanation\n",
    "* [Official Keras Seq2Seq Example](https://github.com/keras-team/keras/blob/master/examples/lstm_seq2seq.py) - code"
   ]
  },
  {
   "cell_type": "markdown",
   "metadata": {},
   "source": [
    "**Resources**\n",
    "\n",
    "* [Sequence to Sequence Learning with Neural Networks](https://arxiv.org/abs/1409.3215) (2014) by Ilya Sutskever, Oriol Vinyals, Quoc V. Le\n",
    "* [Learning Phrase Representations using RNN Encoder-Decoder for Statistical Machine Translation](https://arxiv.org/abs/1406.1078) (2014) by Kyunghyun Cho, Bart van Merrienboer, Caglar Gulcehre, Dzmitry Bahdanau, Fethi Bougares, Holger Schwenk, Yoshua Bengio"
   ]
  },
  {
   "cell_type": "markdown",
   "metadata": {},
   "source": [
    "# Imports"
   ]
  },
  {
   "cell_type": "code",
   "execution_count": 1,
   "metadata": {},
   "outputs": [],
   "source": [
    "import os\n",
    "import numpy as np\n",
    "import matplotlib.pyplot as plt"
   ]
  },
  {
   "cell_type": "markdown",
   "metadata": {},
   "source": [
    "Limit TensorFlow GPU memory usage"
   ]
  },
  {
   "cell_type": "code",
   "execution_count": 2,
   "metadata": {},
   "outputs": [],
   "source": [
    "import tensorflow as tf\n",
    "gpu_options = tf.GPUOptions(allow_growth=True)  # init TF ...\n",
    "config=tf.ConfigProto(gpu_options=gpu_options)  # w/o taking ...\n",
    "with tf.Session(config=config): pass            # all GPU memory"
   ]
  },
  {
   "cell_type": "markdown",
   "metadata": {},
   "source": [
    "# English to French Dataset"
   ]
  },
  {
   "cell_type": "markdown",
   "metadata": {},
   "source": [
    "Download dataset from the link in the introduction and point path below to folder with *small_vocab_en* and *small_vocab_fr*"
   ]
  },
  {
   "cell_type": "code",
   "execution_count": 3,
   "metadata": {},
   "outputs": [],
   "source": [
    "dataset_location = '/home/marcin/Dropbox/Courses/Udacity/NLPND/aind2-nlp-capstone/data/'"
   ]
  },
  {
   "cell_type": "markdown",
   "metadata": {},
   "source": [
    "*small_vocab_en* contains approx 137860 short sentences in English. *small_vocab_fr* contains corresponding sentences in french."
   ]
  },
  {
   "cell_type": "code",
   "execution_count": 4,
   "metadata": {},
   "outputs": [
    {
     "name": "stdout",
     "output_type": "stream",
     "text": [
      "len: 137860\n",
      "example sentences:\n"
     ]
    },
    {
     "data": {
      "text/plain": [
       "['ST your least liked fruit is the grape , but my least liked is the apple . EN',\n",
       " 'ST his favorite fruit is the orange , but my favorite is the grape . EN',\n",
       " 'ST paris is relaxing during december , but it is usually chilly in july . EN']"
      ]
     },
     "execution_count": 4,
     "metadata": {},
     "output_type": "execute_result"
    }
   ],
   "source": [
    "with open(os.path.join(dataset_location, 'small_vocab_en')) as f:\n",
    "    # line below: 1) reads lines from file,\n",
    "    #             2) strips /n char and converts to lowercase,\n",
    "    #             3) adds special start/end words\n",
    "    data_en_raw = list(map(lambda x: 'ST '+x.strip().lower()+' EN', f.readlines()))\n",
    "print('len:', len(data_en_raw))\n",
    "print('example sentences:')\n",
    "data_en_raw[4:7]"
   ]
  },
  {
   "cell_type": "code",
   "execution_count": 5,
   "metadata": {
    "scrolled": true
   },
   "outputs": [
    {
     "name": "stdout",
     "output_type": "stream",
     "text": [
      "len: 137860\n",
      "example sentences:\n"
     ]
    },
    {
     "data": {
      "text/plain": [
       "['ST votre moins aimé fruit est le raisin , mais mon moins aimé est la pomme . EN',\n",
       " \"ST son fruit préféré est l'orange , mais mon préféré est le raisin . EN\",\n",
       " 'ST paris est relaxant en décembre , mais il est généralement froid en juillet . EN']"
      ]
     },
     "execution_count": 5,
     "metadata": {},
     "output_type": "execute_result"
    }
   ],
   "source": [
    "with open(os.path.join(dataset_location, 'small_vocab_fr')) as f:\n",
    "    # line below: 1) reads lines from file,\n",
    "    #             2) strips /n char and converts to lowercase,\n",
    "    #             3) adds special start/end words\n",
    "    data_fr_raw = list(map(lambda x: 'ST '+x.strip().lower()+' EN', f.readlines()))\n",
    "print('len:', len(data_fr_raw))\n",
    "print('example sentences:')\n",
    "data_fr_raw[4:7]"
   ]
  },
  {
   "cell_type": "markdown",
   "metadata": {},
   "source": [
    "Use Keras tokenizer to convert text sentences to tokens. Each word gets it's own unique integer token. Special words ST/EN also get their tokens."
   ]
  },
  {
   "cell_type": "code",
   "execution_count": 6,
   "metadata": {},
   "outputs": [],
   "source": [
    "tok_en = tf.keras.preprocessing.text.Tokenizer(lower=False)\n",
    "tok_en.fit_on_texts(data_en_raw)\n",
    "data_en_tok = tok_en.texts_to_sequences(data_en_raw)"
   ]
  },
  {
   "cell_type": "code",
   "execution_count": 7,
   "metadata": {},
   "outputs": [
    {
     "name": "stdout",
     "output_type": "stream",
     "text": [
      "example tokens for English:\n",
      "is: 1     ST: 2     EN: 3     in: 4     it: 5\n",
      "example sentences after tokenization:\n"
     ]
    },
    {
     "data": {
      "text/plain": [
       "[[2, 31, 14, 18, 15, 1, 7, 84, 8, 32, 14, 18, 1, 7, 85, 3],\n",
       " [2, 33, 13, 15, 1, 7, 86, 8, 32, 13, 1, 7, 84, 3],\n",
       " [2, 20, 1, 68, 6, 49, 8, 5, 1, 11, 64, 4, 45, 3]]"
      ]
     },
     "execution_count": 7,
     "metadata": {},
     "output_type": "execute_result"
    }
   ],
   "source": [
    "print('example tokens for English:')\n",
    "print('is:', tok_en.word_index['is'], '   ',\n",
    "      'ST:', tok_en.word_index['ST'], '   ',\n",
    "      'EN:', tok_en.word_index['EN'], '   ',\n",
    "      'in:', tok_en.word_index['in'], '   ',\n",
    "      'it:', tok_en.word_index['it'])\n",
    "print('example sentences after tokenization:')\n",
    "data_en_tok[4:7]"
   ]
  },
  {
   "cell_type": "code",
   "execution_count": 8,
   "metadata": {},
   "outputs": [],
   "source": [
    "tok_fr = tf.keras.preprocessing.text.Tokenizer(lower=False)\n",
    "tok_fr.fit_on_texts(data_fr_raw)\n",
    "data_fr_tok = tok_fr.texts_to_sequences(data_fr_raw)"
   ]
  },
  {
   "cell_type": "code",
   "execution_count": 9,
   "metadata": {},
   "outputs": [
    {
     "name": "stdout",
     "output_type": "stream",
     "text": [
      "example tokens for French:\n",
      "est: 1     ST: 2     EN: 3     en: 4     il: 5\n",
      "example sentences after tokenization:\n"
     ]
    },
    {
     "data": {
      "text/plain": [
       "[[2, 42, 15, 16, 18, 1, 12, 84, 7, 41, 15, 16, 1, 9, 85, 3],\n",
       " [2, 22, 18, 19, 1, 86, 7, 41, 19, 1, 12, 84, 3],\n",
       " [2, 31, 1, 60, 4, 54, 7, 5, 1, 14, 21, 4, 51, 3]]"
      ]
     },
     "execution_count": 9,
     "metadata": {},
     "output_type": "execute_result"
    }
   ],
   "source": [
    "print('example tokens for French:')\n",
    "print('est:', tok_fr.word_index['est'], '   ',\n",
    "      'ST:', tok_fr.word_index['ST'], '   ',\n",
    "      'EN:', tok_fr.word_index['EN'], '   ',\n",
    "      'en:', tok_fr.word_index['en'], '   ',\n",
    "      'il:', tok_fr.word_index['il'])\n",
    "print('example sentences after tokenization:')\n",
    "data_fr_tok[4:7]"
   ]
  },
  {
   "cell_type": "markdown",
   "metadata": {},
   "source": [
    "Calculate maximum sentence lengths"
   ]
  },
  {
   "cell_type": "code",
   "execution_count": 10,
   "metadata": {},
   "outputs": [
    {
     "name": "stdout",
     "output_type": "stream",
     "text": [
      "Max length English sentence (tokens):   17\n",
      "Max length French sentence (tokens):    23\n",
      "Max length in either English or French: 23 tokens (including EN/ST)\n"
     ]
    }
   ],
   "source": [
    "max_len_en = len(max(data_en_tok, key=len))\n",
    "max_len_fr = len(max(data_fr_tok, key=len))\n",
    "max_len_both = max(max_len_en, max_len_fr)\n",
    "print('Max length English sentence (tokens):  ', max_len_en)\n",
    "print('Max length French sentence (tokens):   ', max_len_fr)\n",
    "print('Max length in either English or French:', max_len_both, 'tokens (including EN/ST)')"
   ]
  },
  {
   "cell_type": "markdown",
   "metadata": {},
   "source": [
    "Pad both corpuses to longest sentence in each language"
   ]
  },
  {
   "cell_type": "code",
   "execution_count": 11,
   "metadata": {},
   "outputs": [],
   "source": [
    "data_en = tf.keras.preprocessing.sequence.pad_sequences(\n",
    "    data_en_tok, maxlen=max_len_en, padding='post')\n",
    "data_fr = tf.keras.preprocessing.sequence.pad_sequences(\n",
    "    data_fr_tok, maxlen=max_len_fr, padding='post')"
   ]
  },
  {
   "cell_type": "markdown",
   "metadata": {},
   "source": [
    "Print some statistics"
   ]
  },
  {
   "cell_type": "code",
   "execution_count": 12,
   "metadata": {},
   "outputs": [
    {
     "name": "stdout",
     "output_type": "stream",
     "text": [
      "Max length English sentence (tokens):    17\n",
      "Max length French sentence (tokens):     23\n",
      "Num tokens in English vocabulary:        201\n",
      "Num tokens in English vocabulary:        346\n"
     ]
    }
   ],
   "source": [
    "n_en_seq = data_en.shape[1]\n",
    "n_fr_seq = data_fr.shape[1]\n",
    "n_en_vocab = len(tok_en.word_index)\n",
    "n_fr_vocab = len(tok_fr.word_index)\n",
    "max_seq_len = max(n_en_seq, n_fr_seq)\n",
    "print('Max length English sentence (tokens):   ', n_en_seq)\n",
    "print('Max length French sentence (tokens):    ', n_fr_seq)\n",
    "print('Num tokens in English vocabulary:       ', n_en_vocab)\n",
    "print('Num tokens in English vocabulary:       ', n_fr_vocab)"
   ]
  },
  {
   "cell_type": "code",
   "execution_count": 13,
   "metadata": {},
   "outputs": [
    {
     "name": "stdout",
     "output_type": "stream",
     "text": [
      "English train data\n",
      "shape: (137860, 17)\n",
      "[[ 2 31 14 18 15  1  7 84  8 32 14 18  1  7 85  3  0]\n",
      " [ 2 33 13 15  1  7 86  8 32 13  1  7 84  3  0  0  0]\n",
      " [ 2 20  1 68  6 49  8  5  1 11 64  4 45  3  0  0  0]]\n"
     ]
    }
   ],
   "source": [
    "print('English train data')\n",
    "print('shape:', data_en.shape)\n",
    "print(data_en[4:7])"
   ]
  },
  {
   "cell_type": "code",
   "execution_count": 14,
   "metadata": {},
   "outputs": [
    {
     "name": "stdout",
     "output_type": "stream",
     "text": [
      "French train targets data\n",
      "shape: (137860, 23)\n",
      "[[ 2 42 15 16 18  1 12 84  7 41 15 16  1  9 85  3  0  0  0  0  0  0  0]\n",
      " [ 2 22 18 19  1 86  7 41 19  1 12 84  3  0  0  0  0  0  0  0  0  0  0]\n",
      " [ 2 31  1 60  4 54  7  5  1 14 21  4 51  3  0  0  0  0  0  0  0  0  0]]\n"
     ]
    }
   ],
   "source": [
    "print('French train targets data')\n",
    "print('shape:', data_fr.shape)\n",
    "print(data_fr[4:7])"
   ]
  },
  {
   "cell_type": "markdown",
   "metadata": {},
   "source": [
    "# Sequence to Sequence"
   ]
  },
  {
   "cell_type": "markdown",
   "metadata": {},
   "source": [
    "We will use technique called 'Teacher Forces' to train decoder. I.e. instead of getting decoder to generate one word at a time and then feed it into the next step in decoder, we will pretend decoder generated correct sequence and just feed in correct inputs. Because we know correct french translation, we don't have to sample one-at-a-time.\n",
    "\n",
    "To do this we will need two version of French dataset:\n",
    "\n",
    "* actual target dataset, with ST marker removed\n",
    "* feed-in target dataset, which we will use as input to decoder, this one contains ST token at first position"
   ]
  },
  {
   "cell_type": "code",
   "execution_count": 15,
   "metadata": {},
   "outputs": [
    {
     "name": "stdout",
     "output_type": "stream",
     "text": [
      "French train targets data\n",
      "shape: (137860, 23)\n",
      "[[42 15 16 18  1 12 84  7 41 15 16  1  9 85  3  0  0  0  0  0  0  0  0]\n",
      " [22 18 19  1 86  7 41 19  1 12 84  3  0  0  0  0  0  0  0  0  0  0  0]\n",
      " [31  1 60  4 54  7  5  1 14 21  4 51  3  0  0  0  0  0  0  0  0  0  0]]\n"
     ]
    }
   ],
   "source": [
    "data_fr_noST = np.roll(data_fr, shift=-1, axis=-1)  # shift left by one and pad 0 on right\n",
    "data_fr_noST[:,-1] = 0\n",
    "print('French train targets data')\n",
    "print('shape:', data_fr_noST.shape)\n",
    "print(data_fr_noST[4:7])"
   ]
  },
  {
   "cell_type": "markdown",
   "metadata": {},
   "source": [
    "Create following parts of graph:\n",
    "* Encoder\n",
    "  * inputs: whole English sentence\n",
    "  * outputs: LSTM hidden states\n",
    "* Decoder in train mode\n",
    "  * inputs: LSTM hidden states **and** target French sentence in \"teacher forcing\" mode (w/o ST token at the begining)\n",
    "  * outputs: whole French sentence"
   ]
  },
  {
   "cell_type": "code",
   "execution_count": 17,
   "metadata": {},
   "outputs": [],
   "source": [
    "from tensorflow.keras.layers import Input, Embedding, LSTM, Dense, Activation\n",
    "\n",
    "# Encoder\n",
    "E_in = Input(shape=(n_en_seq,), name='Enc_In')                               # (?, 17)\n",
    "E_emb = Embedding(input_dim=n_en_vocab, output_dim=50, name='Enc_Emb')(E_in) # (?, 17, 50)\n",
    "_, Eh, Ec = LSTM(units=512, return_state=True, name='Enc_LSTM')(E_emb)       # (?, 512)\n",
    "\n",
    "# Decoder layer definitions - we will need to reuse these in sampling code later on\n",
    "decoder_embedding = Embedding(input_dim=n_fr_vocab, output_dim=50, name='Dec_Emb')\n",
    "decoder_lstm = LSTM(512, return_sequences=True, return_state=True, name='Dec_LSTM')\n",
    "decoder_dense = Dense(n_fr_vocab, activation='softmax', name='Dec_Out')\n",
    "\n",
    "# Decoder in train mode\n",
    "D_in = Input(shape=(n_fr_seq,), name='Dec_Target')                          # (?, 23)\n",
    "D_emb = decoder_embedding(D_in)                                             # (?, 23, 50)\n",
    "D_lstm, _, _ = decoder_lstm(D_emb, initial_state=[Eh, Ec])                  # (?, 23, 512)\n",
    "D_out = decoder_dense(D_lstm)                                               # (?, 23, 346)"
   ]
  },
  {
   "cell_type": "markdown",
   "metadata": {},
   "source": [
    "Create end-to-end Keras model for training. Contains both encoder and decoder"
   ]
  },
  {
   "cell_type": "code",
   "execution_count": 19,
   "metadata": {},
   "outputs": [
    {
     "name": "stdout",
     "output_type": "stream",
     "text": [
      "__________________________________________________________________________________________________\n",
      "Layer (type)                    Output Shape         Param #     Connected to                     \n",
      "==================================================================================================\n",
      "Enc_In (InputLayer)             (None, 17)           0                                            \n",
      "__________________________________________________________________________________________________\n",
      "Dec_Target (InputLayer)         (None, 23)           0                                            \n",
      "__________________________________________________________________________________________________\n",
      "Enc_Emb (Embedding)             (None, 17, 50)       10050       Enc_In[0][0]                     \n",
      "__________________________________________________________________________________________________\n",
      "Dec_Emb (Embedding)             (None, 23, 50)       17300       Dec_Target[0][0]                 \n",
      "__________________________________________________________________________________________________\n",
      "Enc_LSTM (LSTM)                 [(None, 512), (None, 1153024     Enc_Emb[0][0]                    \n",
      "__________________________________________________________________________________________________\n",
      "Dec_LSTM (LSTM)                 [(None, 23, 512), (N 1153024     Dec_Emb[0][0]                    \n",
      "                                                                 Enc_LSTM[0][1]                   \n",
      "                                                                 Enc_LSTM[0][2]                   \n",
      "__________________________________________________________________________________________________\n",
      "Dec_Out (Dense)                 (None, 23, 346)      177498      Dec_LSTM[0][0]                   \n",
      "==================================================================================================\n",
      "Total params: 2,510,896\n",
      "Trainable params: 2,510,896\n",
      "Non-trainable params: 0\n",
      "__________________________________________________________________________________________________\n"
     ]
    }
   ],
   "source": [
    "# full seq-2-seq model\n",
    "model = tf.keras.Model(inputs=[E_in, D_in], outputs=D_out)\n",
    "model.compile(optimizer=tf.keras.optimizers.Adam(lr=0.001),\n",
    "              loss=tf.keras.losses.sparse_categorical_crossentropy,\n",
    "              metrics=[tf.keras.metrics.sparse_categorical_accuracy])    \n",
    "model.summary()"
   ]
  },
  {
   "cell_type": "markdown",
   "metadata": {},
   "source": [
    "Optional: plot nice diagram and save to file. This requires `graphviz` and `pydot` to be installed."
   ]
  },
  {
   "cell_type": "code",
   "execution_count": 20,
   "metadata": {},
   "outputs": [],
   "source": [
    "# from tensorflow.keras.utils import plot_model\n",
    "# plot_model(model, to_file='model.png', show_shapes=True, show_layer_names=True)"
   ]
  },
  {
   "cell_type": "markdown",
   "metadata": {},
   "source": [
    "The result should be as follows"
   ]
  },
  {
   "attachments": {
    "image.png": {
     "image/png": "[encoded data removed]"
    }
   },
   "cell_type": "markdown",
   "metadata": {},
   "source": [
    "![image.png](attachment:image.png)"
   ]
  },
  {
   "cell_type": "markdown",
   "metadata": {},
   "source": [
    "Train model"
   ]
  },
  {
   "cell_type": "code",
   "execution_count": 21,
   "metadata": {
    "scrolled": false
   },
   "outputs": [
    {
     "name": "stdout",
     "output_type": "stream",
     "text": [
      "Train on 110288 samples, validate on 27572 samples\n",
      "WARNING:tensorflow:From /home/marcin/.anaconda/envs/tfgpu113/lib/python3.7/site-packages/tensorflow/python/ops/math_ops.py:3066: to_int32 (from tensorflow.python.ops.math_ops) is deprecated and will be removed in a future version.\n",
      "Instructions for updating:\n",
      "Use tf.cast instead.\n",
      "WARNING:tensorflow:From /home/marcin/.anaconda/envs/tfgpu113/lib/python3.7/site-packages/tensorflow/python/ops/math_grad.py:102: div (from tensorflow.python.ops.math_ops) is deprecated and will be removed in a future version.\n",
      "Instructions for updating:\n",
      "Deprecated in favor of operator or tf.math.divide.\n",
      "Epoch 1/10\n",
      "110288/110288 [==============================] - 21s 187us/sample - loss: 2.7985 - sparse_categorical_accuracy: 0.4654 - val_loss: nan - val_sparse_categorical_accuracy: 0.5536\n",
      "Epoch 2/10\n",
      "110288/110288 [==============================] - 19s 174us/sample - loss: 1.5292 - sparse_categorical_accuracy: 0.6283 - val_loss: nan - val_sparse_categorical_accuracy: 0.6974\n",
      "Epoch 3/10\n",
      "110288/110288 [==============================] - 19s 175us/sample - loss: 0.8839 - sparse_categorical_accuracy: 0.7383 - val_loss: nan - val_sparse_categorical_accuracy: 0.7739\n",
      "Epoch 4/10\n",
      "110288/110288 [==============================] - 19s 176us/sample - loss: 0.6470 - sparse_categorical_accuracy: 0.7935 - val_loss: nan - val_sparse_categorical_accuracy: 0.8109\n",
      "Epoch 5/10\n",
      "110288/110288 [==============================] - 19s 176us/sample - loss: 0.5508 - sparse_categorical_accuracy: 0.8172 - val_loss: nan - val_sparse_categorical_accuracy: 0.8245\n",
      "Epoch 6/10\n",
      "110288/110288 [==============================] - 19s 176us/sample - loss: 0.4966 - sparse_categorical_accuracy: 0.8316 - val_loss: nan - val_sparse_categorical_accuracy: 0.8443\n",
      "Epoch 7/10\n",
      "110288/110288 [==============================] - 20s 179us/sample - loss: 0.4430 - sparse_categorical_accuracy: 0.8498 - val_loss: nan - val_sparse_categorical_accuracy: 0.8477\n",
      "Epoch 8/10\n",
      "110288/110288 [==============================] - 20s 183us/sample - loss: 0.4153 - sparse_categorical_accuracy: 0.8569 - val_loss: nan - val_sparse_categorical_accuracy: 0.8203\n",
      "Epoch 9/10\n",
      "110288/110288 [==============================] - 20s 180us/sample - loss: 0.3893 - sparse_categorical_accuracy: 0.8642 - val_loss: nan - val_sparse_categorical_accuracy: 0.8722\n",
      "Epoch 10/10\n",
      "110288/110288 [==============================] - 20s 180us/sample - loss: 0.3437 - sparse_categorical_accuracy: 0.8802 - val_loss: nan - val_sparse_categorical_accuracy: 0.8838\n"
     ]
    },
    {
     "data": {
      "text/plain": [
       "<tensorflow.python.keras.callbacks.History at 0x7ff8d8fadf98>"
      ]
     },
     "execution_count": 21,
     "metadata": {},
     "output_type": "execute_result"
    }
   ],
   "source": [
    "model.fit(x=[data_en, data_fr], y=np.expand_dims(data_fr_noST, axis=-1),\n",
    "          batch_size=1024, epochs=10, validation_split=0.2)"
   ]
  },
  {
   "cell_type": "markdown",
   "metadata": {},
   "source": [
    "**Model for sampling translations**"
   ]
  },
  {
   "cell_type": "markdown",
   "metadata": {},
   "source": [
    "Create Keras model for encoder as separate unit"
   ]
  },
  {
   "cell_type": "code",
   "execution_count": 22,
   "metadata": {},
   "outputs": [
    {
     "name": "stdout",
     "output_type": "stream",
     "text": [
      "_________________________________________________________________\n",
      "Layer (type)                 Output Shape              Param #   \n",
      "=================================================================\n",
      "Enc_In (InputLayer)          (None, 17)                0         \n",
      "_________________________________________________________________\n",
      "Enc_Emb (Embedding)          (None, 17, 50)            10050     \n",
      "_________________________________________________________________\n",
      "Enc_LSTM (LSTM)              [(None, 512), (None, 512) 1153024   \n",
      "=================================================================\n",
      "Total params: 1,163,074\n",
      "Trainable params: 1,163,074\n",
      "Non-trainable params: 0\n",
      "_________________________________________________________________\n"
     ]
    }
   ],
   "source": [
    "encoder = tf.keras.Model(inputs=E_in, outputs=[Eh, Ec])\n",
    "encoder.summary()"
   ]
  },
  {
   "cell_type": "markdown",
   "metadata": {},
   "source": [
    "Create decoder in sampling mode, reuse layer definitions form previous section\n",
    "* Inputs: hidden states **and** single English word-token (not whole French sentence)\n",
    "* Outputs: single French word-token"
   ]
  },
  {
   "cell_type": "code",
   "execution_count": 35,
   "metadata": {},
   "outputs": [],
   "source": [
    "Sh_init = Input(shape=(512,))                                          # (?, 512)\n",
    "Sc_init = Input(shape=(512,))                                          # (?, 512)\n",
    "S_input = Input(shape=(1,), name='Sam_Input')                          # (?, 1)\n",
    "S_emb = decoder_embedding(S_input)                                     # (?, 1, 50)\n",
    "S_lstm, Sh, Sc = decoder_lstm(S_emb, initial_state=[Sh_init, Sc_init]) # (?, 1, 512)\n",
    "S_output = decoder_dense(S_lstm)                                       # (?, 1, 346) "
   ]
  },
  {
   "cell_type": "markdown",
   "metadata": {},
   "source": [
    "Create Keras model for decoder-sampler (one word at a time)"
   ]
  },
  {
   "cell_type": "code",
   "execution_count": 36,
   "metadata": {},
   "outputs": [
    {
     "name": "stdout",
     "output_type": "stream",
     "text": [
      "__________________________________________________________________________________________________\n",
      "Layer (type)                    Output Shape         Param #     Connected to                     \n",
      "==================================================================================================\n",
      "Sam_Input (InputLayer)          (None, 1)            0                                            \n",
      "__________________________________________________________________________________________________\n",
      "Dec_Emb (Embedding)             multiple             17300       Sam_Input[0][0]                  \n",
      "__________________________________________________________________________________________________\n",
      "input_5 (InputLayer)            (None, 512)          0                                            \n",
      "__________________________________________________________________________________________________\n",
      "input_6 (InputLayer)            (None, 512)          0                                            \n",
      "__________________________________________________________________________________________________\n",
      "Dec_LSTM (LSTM)                 multiple             1153024     Dec_Emb[3][0]                    \n",
      "                                                                 input_5[0][0]                    \n",
      "                                                                 input_6[0][0]                    \n",
      "__________________________________________________________________________________________________\n",
      "Dec_Out (Dense)                 multiple             177498      Dec_LSTM[3][0]                   \n",
      "==================================================================================================\n",
      "Total params: 1,347,822\n",
      "Trainable params: 1,347,822\n",
      "Non-trainable params: 0\n",
      "__________________________________________________________________________________________________\n"
     ]
    }
   ],
   "source": [
    "sampler = tf.keras.Model(inputs=[S_input, Sh_init, Sc_init], outputs=[S_output, Sh, Sc])\n",
    "sampler.summary()"
   ]
  },
  {
   "cell_type": "markdown",
   "metadata": {},
   "source": [
    "Optional: plot nice diagram"
   ]
  },
  {
   "cell_type": "code",
   "execution_count": 37,
   "metadata": {},
   "outputs": [],
   "source": [
    "# plot_model(sampler, to_file='sampler.png', show_shapes=True, show_layer_names=True)"
   ]
  },
  {
   "attachments": {
    "image.png": {
     "image/png": "[encoded data removed]"
    }
   },
   "cell_type": "markdown",
   "metadata": {},
   "source": [
    "![image.png](attachment:image.png)"
   ]
  },
  {
   "cell_type": "code",
   "execution_count": 39,
   "metadata": {},
   "outputs": [
    {
     "name": "stdout",
     "output_type": "stream",
     "text": [
      "english:             ST she liked a rusty black truck . EN\n",
      "french (original):   ST elle aimait un camion noir rouillé . EN\n"
     ]
    }
   ],
   "source": [
    "index = 777\n",
    "english_sentence = data_en_raw[index]\n",
    "french_sentence = data_fr_raw[index]\n",
    "print('english:            ', english_sentence)\n",
    "print('french (original):  ', french_sentence)"
   ]
  },
  {
   "cell_type": "markdown",
   "metadata": {},
   "source": [
    "**Actually Sample**"
   ]
  },
  {
   "cell_type": "markdown",
   "metadata": {},
   "source": [
    "Run input sentence through encoder"
   ]
  },
  {
   "cell_type": "code",
   "execution_count": 40,
   "metadata": {},
   "outputs": [],
   "source": [
    "st_h, st_c = encoder.predict(data_en[index:index+1])\n",
    "assert st_h.shape == (1, 512) and st_c.shape == (1, 512)"
   ]
  },
  {
   "cell_type": "markdown",
   "metadata": {},
   "source": [
    "Create input variables - thse will be feed into decoder at first decode time step"
   ]
  },
  {
   "cell_type": "code",
   "execution_count": 41,
   "metadata": {},
   "outputs": [],
   "source": [
    "st_input = tok_fr.word_index['ST']\n",
    "st_input = np.array([[st_input]])  # batch size = 1, seq len = 1\n",
    "assert st_input.shape == (1, 1)"
   ]
  },
  {
   "cell_type": "markdown",
   "metadata": {},
   "source": [
    "Generate output words one-at-a-time and feed them back next time step"
   ]
  },
  {
   "cell_type": "code",
   "execution_count": 42,
   "metadata": {},
   "outputs": [],
   "source": [
    "prediction_tok = []                     # list of output tokens, generated one at a time\n",
    "for i in range(n_fr_seq):\n",
    "    # feed one word (st_input) intot decoder\n",
    "    probs, st_h, st_c = sampler.predict([st_input, st_h, st_c])\n",
    "    assert st_h.shape == (1, 512) and st_c.shape == (1, 512)\n",
    "    \n",
    "    # pick maximum probability prediction as next word\n",
    "    # (but keep shape so we can feed in next step)\n",
    "    st_input = probs.argmax(axis=-1)\n",
    "    assert st_input.shape == (1, 1)\n",
    "    \n",
    "    # pick maximum probability prediction and append to generate list\n",
    "    # (this does same as line above, but discards shape)\n",
    "    token = probs.argmax()\n",
    "    prediction_tok.append(token)\n",
    "    \n",
    "    # if decoder generated special end-word, break\n",
    "    if token == tok_fr.word_index['EN']:\n",
    "        break    "
   ]
  },
  {
   "cell_type": "markdown",
   "metadata": {},
   "source": [
    "Print output sentence tokens"
   ]
  },
  {
   "cell_type": "code",
   "execution_count": 43,
   "metadata": {},
   "outputs": [
    {
     "data": {
      "text/plain": [
       "[29, 145, 146, 112, 184, 171, 3]"
      ]
     },
     "execution_count": 43,
     "metadata": {},
     "output_type": "execute_result"
    }
   ],
   "source": [
    "prediction_tok"
   ]
  },
  {
   "cell_type": "markdown",
   "metadata": {},
   "source": [
    "Helper to convert tokenized sequence back to words"
   ]
  },
  {
   "cell_type": "code",
   "execution_count": 44,
   "metadata": {},
   "outputs": [],
   "source": [
    "def sequence_to_french(seq):\n",
    "    words = [tok_fr.index_word[x] for x in seq if x in tok_fr.index_word]\n",
    "    return ' '.join(words)"
   ]
  },
  {
   "cell_type": "markdown",
   "metadata": {},
   "source": [
    "Print input english sentence, target French and generated French sentences"
   ]
  },
  {
   "cell_type": "code",
   "execution_count": 45,
   "metadata": {
    "scrolled": true
   },
   "outputs": [
    {
     "name": "stdout",
     "output_type": "stream",
     "text": [
      "english:             ST she liked a rusty black truck . EN\n",
      "french (original):   ST elle aimait un camion noir rouillé . EN\n",
      "french (predicted):     elle aimait un camion vert rouillé EN\n"
     ]
    }
   ],
   "source": [
    "print('english:            ', english_sentence)\n",
    "print('french (original):  ', french_sentence)\n",
    "predicted_sentence = sequence_to_french(prediction_tok)\n",
    "print('french (predicted):    ', predicted_sentence)"
   ]
  }
 ],
 "metadata": {
  "kernelspec": {
   "display_name": "Python [conda env:tfgpu113]",
   "language": "python",
   "name": "conda-env-tfgpu113-py"
  },
  "language_info": {
   "codemirror_mode": {
    "name": "ipython",
    "version": 3
   },
   "file_extension": ".py",
   "mimetype": "text/x-python",
   "name": "python",
   "nbconvert_exporter": "python",
   "pygments_lexer": "ipython3",
   "version": "3.7.3"
  }
 },
 "nbformat": 4,
 "nbformat_minor": 2
}
