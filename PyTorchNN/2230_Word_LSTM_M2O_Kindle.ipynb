{
 "cells": [
  {
   "cell_type": "markdown",
   "metadata": {},
   "source": [
    "# Introduction"
   ]
  },
  {
   "cell_type": "markdown",
   "metadata": {},
   "source": [
    "This notebooks presents **LSTM** trained to perform sentiment prediction on **Kindle Book Reviews**\n",
    "\n",
    "**Dataset**\n",
    "\n",
    "* [Amazon Review Data](http://jmcauley.ucsd.edu/data/amazon/) - download Kindle Store [5-core](http://snap.stanford.edu/data/amazon/productGraph/categoryFiles/reviews_Kindle_Store_5.json.gz) file and extract"
   ]
  },
  {
   "cell_type": "markdown",
   "metadata": {},
   "source": [
    "# Imports"
   ]
  },
  {
   "cell_type": "code",
   "execution_count": 1,
   "metadata": {},
   "outputs": [],
   "source": [
    "import re\n",
    "import time\n",
    "import json\n",
    "import collections\n",
    "import numpy as np\n",
    "import matplotlib.pyplot as plt"
   ]
  },
  {
   "cell_type": "code",
   "execution_count": 2,
   "metadata": {},
   "outputs": [],
   "source": [
    "import torch\n",
    "import torch.nn as nn\n",
    "import torch.optim as optim\n",
    "import torch.nn.functional as F"
   ]
  },
  {
   "cell_type": "code",
   "execution_count": 3,
   "metadata": {},
   "outputs": [],
   "source": [
    "device = torch.device(\"cuda:0\" if torch.cuda.is_available() else \"cpu\")"
   ]
  },
  {
   "cell_type": "markdown",
   "metadata": {},
   "source": [
    "# Load Data"
   ]
  },
  {
   "cell_type": "markdown",
   "metadata": {},
   "source": [
    "Dataset location"
   ]
  },
  {
   "cell_type": "code",
   "execution_count": 4,
   "metadata": {},
   "outputs": [],
   "source": [
    "dataset_location = '/home/marcin/Datasets/kindle-reviews/reviews_Kindle_Store_5.json'"
   ]
  },
  {
   "cell_type": "markdown",
   "metadata": {},
   "source": [
    "Each line in data file is a separate JSON entry"
   ]
  },
  {
   "cell_type": "code",
   "execution_count": 5,
   "metadata": {},
   "outputs": [
    {
     "data": {
      "text/plain": [
       "'{\"reviewerID\": \"A1F6404F1VG29J\", \"asin\": \"B000F83SZQ\", \"reviewerName\": \"Avidreader\", \"helpful\": [0, 0], \"reviewText\": \"I enjoy vintage books and movies so I enjoyed reading this book.  The plot was unusual.  Don\\'t think killing someone in self-defense but leaving the scene and the body without notifying the police or hitting someone in the jaw to knock them out would wash today.Still it was a good read for me.\", \"overall\": 5.0, \"summary\": \"Nice vintage story\", \"unixReviewTime\": 1399248000, \"reviewTime\": \"05 5, 2014\"}\\n'"
      ]
     },
     "execution_count": 5,
     "metadata": {},
     "output_type": "execute_result"
    }
   ],
   "source": [
    "with open(dataset_location, 'r') as f:\n",
    "    line_raw = f.readline()\n",
    "line_raw"
   ]
  },
  {
   "cell_type": "markdown",
   "metadata": {},
   "source": [
    "Lets print sample data item"
   ]
  },
  {
   "cell_type": "code",
   "execution_count": 6,
   "metadata": {},
   "outputs": [
    {
     "name": "stdout",
     "output_type": "stream",
     "text": [
      "score: 5.0\n",
      "summary: Nice vintage story\n",
      "review:\n",
      "I enjoy vintage books and movies so I enjoyed reading this book.  The plot was unusual.  Don't think killing someone in self-defense but leaving the scene and the body without notifying the police or hitting someone in the jaw to knock them out would wash today.Still it was a good read for me.\n"
     ]
    }
   ],
   "source": [
    "line_json = json.loads(line_raw)\n",
    "sample_score = line_json['overall']\n",
    "sample_summary = line_json['summary']\n",
    "sample_review = line_json['reviewText']\n",
    "print('score:', sample_score)\n",
    "print('summary:', sample_summary)\n",
    "print('review:')\n",
    "print(sample_review)"
   ]
  },
  {
   "cell_type": "markdown",
   "metadata": {},
   "source": [
    "We need to clean it up by:\n",
    "* removing punctuation, digits etc.\n",
    "* convert to lower case\n",
    "* split into words"
   ]
  },
  {
   "cell_type": "code",
   "execution_count": 7,
   "metadata": {},
   "outputs": [
    {
     "name": "stdout",
     "output_type": "stream",
     "text": [
      "['i', 'enjoy', 'vintage', 'books', 'and', 'movies', 'so', 'i', 'enjoyed', 'reading', 'this', 'book', 'the', 'plot', 'was', 'unusual', 'don', 't', 'think', 'killing', 'someone', 'in', 'self', 'defense', 'but', 'leaving', 'the', 'scene', 'and', 'the', 'body', 'without', 'notifying', 'the', 'police', 'or', 'hitting', 'someone', 'in', 'the', 'jaw', 'to', 'knock', 'them', 'out', 'would', 'wash', 'today', 'still', 'it', 'was', 'a', 'good', 'read', 'for', 'me']\n"
     ]
    }
   ],
   "source": [
    "regex = re.compile('[^a-zA-Z ]+')\n",
    "\n",
    "def cleanup(text):\n",
    "    res = regex.sub(' ', text)\n",
    "    res = res.lower()\n",
    "    return res.split()\n",
    "\n",
    "print(cleanup(sample_review))"
   ]
  },
  {
   "cell_type": "markdown",
   "metadata": {},
   "source": [
    "Lets load the whole dataset"
   ]
  },
  {
   "cell_type": "code",
   "execution_count": 8,
   "metadata": {},
   "outputs": [
    {
     "name": "stdout",
     "output_type": "stream",
     "text": [
      "|                                                |\n",
      ".................................................."
     ]
    }
   ],
   "source": [
    "reviews = []\n",
    "summaries = []\n",
    "scores = []\n",
    "print('|' + ' '*48 + '|')\n",
    "with open(dataset_location, 'r') as f:\n",
    "    for i, l in enumerate(f):\n",
    "        jl = json.loads(l)\n",
    "        reviews.append(cleanup(jl['reviewText']))\n",
    "        summaries.append(cleanup(jl['summary']))\n",
    "        scores.append(int(jl['overall']))\n",
    "        if i % 20000 == 0:\n",
    "            print('.', end='')"
   ]
  },
  {
   "cell_type": "markdown",
   "metadata": {},
   "source": [
    "And lets have a look at few samples"
   ]
  },
  {
   "cell_type": "code",
   "execution_count": 9,
   "metadata": {},
   "outputs": [],
   "source": [
    "def print_sample(idx):\n",
    "    print('score:', scores[idx])\n",
    "    print('summary:', ' '.join(summaries[idx]))\n",
    "    print('review:')\n",
    "    print(' '.join(reviews[idx]))"
   ]
  },
  {
   "cell_type": "code",
   "execution_count": 10,
   "metadata": {},
   "outputs": [
    {
     "name": "stdout",
     "output_type": "stream",
     "text": [
      "score: 5\n",
      "summary: nice vintage story\n",
      "review:\n",
      "i enjoy vintage books and movies so i enjoyed reading this book the plot was unusual don t think killing someone in self defense but leaving the scene and the body without notifying the police or hitting someone in the jaw to knock them out would wash today still it was a good read for me\n",
      "\n",
      "score: 4\n",
      "summary: different\n",
      "review:\n",
      "this book is a reissue of an old one the author was born in it s of the era of say nero wolfe the introduction was quite interesting explaining who the author was and why he s been forgotten i d never heard of him the language is a little dated at times like calling a gun a heater i also made good use of my fire s dictionary to look up words like deshabille and canarsie still it was well worth a look see\n",
      "\n",
      "score: 4\n",
      "summary: oldie\n",
      "review:\n",
      "this was a fairly interesting read it had old style terminology i was glad to get to read a story that doesn t have coarse crasslanguage i read for fun and relaxation i like the free ebooksbecause i can check out a writer and decide if they are intriguing innovative and have enough of the command of englishthat they can convey the story without crude language\n",
      "\n"
     ]
    }
   ],
   "source": [
    "for i in range(3):\n",
    "    print_sample(i)\n",
    "    print()"
   ]
  },
  {
   "cell_type": "markdown",
   "metadata": {},
   "source": [
    "Dataset is cleaned now, it contains only lowercase letters and spaces"
   ]
  },
  {
   "cell_type": "markdown",
   "metadata": {},
   "source": [
    "# Preprocess Data"
   ]
  },
  {
   "cell_type": "markdown",
   "metadata": {},
   "source": [
    "First we will count all the different words"
   ]
  },
  {
   "cell_type": "code",
   "execution_count": 11,
   "metadata": {},
   "outputs": [],
   "source": [
    "words_counter = collections.Counter()\n",
    "for review in reviews:\n",
    "    words_counter.update(review)"
   ]
  },
  {
   "cell_type": "code",
   "execution_count": 12,
   "metadata": {},
   "outputs": [
    {
     "name": "stdout",
     "output_type": "stream",
     "text": [
      "Total words:  111201964\n",
      "Unique words: 270677\n"
     ]
    }
   ],
   "source": [
    "print('Total words: ', sum(list(words_counter.values())))\n",
    "print('Unique words:', len(words_counter))"
   ]
  },
  {
   "cell_type": "markdown",
   "metadata": {},
   "source": [
    "Some of the words and their number of occurrences in whole dataset"
   ]
  },
  {
   "cell_type": "code",
   "execution_count": 13,
   "metadata": {
    "scrolled": true
   },
   "outputs": [
    {
     "name": "stdout",
     "output_type": "stream",
     "text": [
      "WORD    : COUNT\n",
      "i       : 3117051\n",
      "enjoy   : 72405\n",
      "vintage : 394\n",
      "books   : 245937\n",
      "and     : 3583503\n",
      "movies  : 3701\n",
      "so      : 493257\n",
      "enjoyed : 146518\n",
      "reading : 225740\n",
      "this    : 1738403\n"
     ]
    }
   ],
   "source": [
    "print('WORD    : COUNT')\n",
    "for w in list(words_counter)[:10]:\n",
    "    print(f'{w:8}: {words_counter[w]}')"
   ]
  },
  {
   "cell_type": "markdown",
   "metadata": {},
   "source": [
    "Lets plot word-counts on linear and logarithmic scales"
   ]
  },
  {
   "cell_type": "code",
   "execution_count": 14,
   "metadata": {},
   "outputs": [
    {
     "data": {
      "image/png": "[encoded data removed]",
      "text/plain": [
       "<Figure size 1152x432 with 2 Axes>"
      ]
     },
     "metadata": {
      "needs_background": "light"
     },
     "output_type": "display_data"
    }
   ],
   "source": [
    "def plot_counts(words_counter):\n",
    "    sorted_all = np.array(sorted(list(words_counter.values()), reverse=True))\n",
    "    fig, [ax1, ax2] = plt.subplots(1, 2, figsize=[16,6])\n",
    "    ax1.plot(sorted_all); ax1.set_title('Word Counts (linear scale)')\n",
    "    ax2.plot(sorted_all); ax2.set_title('Word Counts (log scale)')\n",
    "    ax2.set_yscale('log')\n",
    "    \n",
    "plot_counts(words_counter)"
   ]
  },
  {
   "cell_type": "markdown",
   "metadata": {},
   "source": [
    "This is extremely sharp distribution. Some words appear over 5 million times, while over 100k words appear only once."
   ]
  },
  {
   "cell_type": "markdown",
   "metadata": {},
   "source": [
    "**Common Words**"
   ]
  },
  {
   "cell_type": "markdown",
   "metadata": {},
   "source": [
    "Lets have a look at the most common words."
   ]
  },
  {
   "cell_type": "code",
   "execution_count": 15,
   "metadata": {},
   "outputs": [
    {
     "data": {
      "text/plain": [
       "[('the', 5056842),\n",
       " ('and', 3583503),\n",
       " ('to', 3120917),\n",
       " ('i', 3117051),\n",
       " ('a', 2999778),\n",
       " ('of', 2141725),\n",
       " ('is', 1780140),\n",
       " ('it', 1740139),\n",
       " ('this', 1738403),\n",
       " ('in', 1511066)]"
      ]
     },
     "execution_count": 15,
     "metadata": {},
     "output_type": "execute_result"
    }
   ],
   "source": [
    "words_counter.most_common()[:10]"
   ]
  },
  {
   "cell_type": "markdown",
   "metadata": {},
   "source": [
    "Words like 'the', 'and', 'to' etc. don't contribute much to text meaning. They are called _stopwords_. Below is the list of stopwords in English language taken from NLTK library. This set was created with:\n",
    "\n",
    "```python\n",
    "import nltk\n",
    "nltk.download('stopwords')\n",
    "en_stopwords = nltk.corpus.stopwords.words('english')\n",
    "stopwords = {sw for sw in en_stopwords}\n",
    "print(stopwords)\n",
    "```\n",
    "\n",
    "I'm just copy-pasting it here not to introduce unnecessary `nltk` dependency."
   ]
  },
  {
   "cell_type": "code",
   "execution_count": 16,
   "metadata": {},
   "outputs": [],
   "source": [
    "# this list was aquired with:\n",
    "# import nltk\n",
    "# nltk.download('stopwords')\n",
    "# print(stopwords.words('english'))\n",
    "stopwords = {'down', 'then', 'of', 'but', 'only', 'yours', 'himself', 'again',\n",
    "             'very', 'or', 'once', 'until', 'have', \"doesn't\", 'what', 'during',\n",
    "             \"that'll\", 'some', 'was', 'be', 'he', \"should've\", 'between',\n",
    "             \"shouldn't\", 'further', 'no', 'yourself', 'm', 've', \"you'll\",\n",
    "             'ain', 't', 'our', 'his', 'o', 'wouldn', 'below', 'any', 'under',\n",
    "             'you', 'isn', 'theirs', 'why', 'that', 'mightn', 'ourselves', 'on',\n",
    "             'haven', 'while', 'to', 'than', 'your', 'she', 'is', 'just',\n",
    "             \"mightn't\", 'with', \"you've\", 'mustn', 'needn', 'same', 'me',\n",
    "             'such', 'myself', 'there', 'own', 'this', 're', 'ma', 'from',\n",
    "             'did', 'couldn', 'hasn', 'for', 'won', \"won't\", \"mustn't\", 'her',\n",
    "             'can', 'doesn', \"wouldn't\", 'when', \"you're\", 'who', 'which', 'll',\n",
    "             'itself', 'against', 'out', 'up', \"it's\", 'a', 'here', 'being',\n",
    "             'they', 'as', 'didn', 'weren', 'aren', 'herself', 'the', 'if',\n",
    "             \"didn't\", 'should', 'doing', 'other', 'has', 'so', \"you'd\",\n",
    "             'above', 'do', 'before', 'at', 'had', 'each', \"aren't\", 'their',\n",
    "             'now', 'an', 'through', 'how', 'those', 'nor', \"hasn't\", 'over',\n",
    "             'by', 'into', 'themselves', 'most', 'shan', 'been', \"she's\",\n",
    "             \"haven't\", \"isn't\", \"wasn't\", 'where', 'about', 'in', \"hadn't\",\n",
    "             'because', 'too', 'whom', 'ours', 'him', 'yourselves', 'after',\n",
    "             'and', 'were', 'both', 'will', 'it', 'my', 'few', 'having', 'them',\n",
    "             'hadn', 'shouldn', 'does', 's', \"couldn't\", 'y', 'all', 'don',\n",
    "             'off', 'more', 'am', 'd', 'hers', 'its', 'are', \"shan't\",\n",
    "             \"weren't\", 'we', \"needn't\", 'i', 'these', \"don't\", 'wasn', 'not'}"
   ]
  },
  {
   "cell_type": "markdown",
   "metadata": {},
   "source": [
    "Remove stopwords"
   ]
  },
  {
   "cell_type": "code",
   "execution_count": 17,
   "metadata": {},
   "outputs": [
    {
     "name": "stdout",
     "output_type": "stream",
     "text": [
      "|                                                |\n",
      ".................................................."
     ]
    }
   ],
   "source": [
    "reviews_no_stop = []\n",
    "\n",
    "print('|' + ' '*48 + '|')\n",
    "for i in range(len(reviews)):\n",
    "    reviews_no_stop.append( [w for w in reviews[i] if w not in stopwords] )\n",
    "    if i % 20000 == 0:\n",
    "        print('.', end='')"
   ]
  },
  {
   "cell_type": "code",
   "execution_count": 20,
   "metadata": {},
   "outputs": [],
   "source": [
    "words_counter = collections.Counter()\n",
    "for review in reviews_no_stop:\n",
    "    words_counter.update(review)"
   ]
  },
  {
   "cell_type": "code",
   "execution_count": 21,
   "metadata": {},
   "outputs": [
    {
     "name": "stdout",
     "output_type": "stream",
     "text": [
      "Total words:  53101559\n",
      "Unique words: 270524\n"
     ]
    }
   ],
   "source": [
    "print('Total words: ', sum(list(words_counter.values())))\n",
    "print('Unique words:', len(words_counter))"
   ]
  },
  {
   "cell_type": "markdown",
   "metadata": {},
   "source": [
    "**Rare Words**"
   ]
  },
  {
   "cell_type": "markdown",
   "metadata": {},
   "source": [
    "Lets look at some of of the uncommon words"
   ]
  },
  {
   "cell_type": "code",
   "execution_count": 22,
   "metadata": {},
   "outputs": [
    {
     "data": {
      "text/plain": [
       "[('somethingthatisdoneveryquickly', 1),\n",
       " ('ofsexualintercoursethatisdonein', 1),\n",
       " ('averyshort', 1),\n",
       " ('amountoftimeanticipation', 1),\n",
       " ('afeelingofexcitementaboutsomethingthatisgoingto', 1),\n",
       " ('ofpreparingforsomething', 1),\n",
       " ('fieldingit', 1),\n",
       " ('chenell', 1),\n",
       " ('waitign', 1),\n",
       " ('uunderstand', 1)]"
      ]
     },
     "execution_count": 22,
     "metadata": {},
     "output_type": "execute_result"
    }
   ],
   "source": [
    "words_counter.most_common()[-10:]"
   ]
  },
  {
   "cell_type": "code",
   "execution_count": 23,
   "metadata": {},
   "outputs": [
    {
     "name": "stdout",
     "output_type": "stream",
     "text": [
      "|                                                |\n",
      ".................................................."
     ]
    }
   ],
   "source": [
    "reviews_clean = []\n",
    "\n",
    "print('|' + ' '*48 + '|')\n",
    "for i in range(len(reviews)):\n",
    "    reviews_clean.append( [w for w in reviews_no_stop[i] if words_counter[w] > 5] )\n",
    "    if i % 20000 == 0:\n",
    "        print('.', end='')"
   ]
  },
  {
   "cell_type": "code",
   "execution_count": 24,
   "metadata": {},
   "outputs": [],
   "source": [
    "words_counter = collections.Counter()\n",
    "for review in reviews_clean:\n",
    "    words_counter.update(review)"
   ]
  },
  {
   "cell_type": "code",
   "execution_count": 25,
   "metadata": {},
   "outputs": [
    {
     "name": "stdout",
     "output_type": "stream",
     "text": [
      "Total words:  52791345\n",
      "Unique words: 71081\n"
     ]
    }
   ],
   "source": [
    "print('Total words: ', sum(list(words_counter.values())))\n",
    "print('Unique words:', len(words_counter))"
   ]
  },
  {
   "cell_type": "markdown",
   "metadata": {},
   "source": [
    "**Create dictionaries**"
   ]
  },
  {
   "cell_type": "code",
   "execution_count": 26,
   "metadata": {},
   "outputs": [
    {
     "name": "stdout",
     "output_type": "stream",
     "text": [
      "Number of words after filter: 71082\n"
     ]
    }
   ],
   "source": [
    "i2w = {i : w for i, (w, c) in enumerate(words_counter.most_common(), 1) if c > 5}\n",
    "w2i = {w : i for i, w in i2w.items()}\n",
    "i2w[0] = '<pad>'                       # use zero index for padding\n",
    "w2i[i2w[0]] = 0\n",
    "print('Number of words after filter:', len(i2w))"
   ]
  },
  {
   "cell_type": "markdown",
   "metadata": {},
   "source": [
    "Confirm dictionaries are correct"
   ]
  },
  {
   "cell_type": "code",
   "execution_count": 27,
   "metadata": {},
   "outputs": [
    {
     "name": "stdout",
     "output_type": "stream",
     "text": [
      "0 : <pad> : 0\n",
      "1 : book : 1\n",
      "2 : story : 2\n",
      "3 : read : 3\n",
      "4 : one : 4\n",
      "5 : love : 5\n",
      "6 : like : 6\n",
      "7 : really : 7\n",
      "8 : good : 8\n",
      "9 : characters : 9\n"
     ]
    }
   ],
   "source": [
    "for i in range(10):\n",
    "    word = i2w[i]\n",
    "    print(i, ':', word, ':', w2i[word])"
   ]
  },
  {
   "cell_type": "markdown",
   "metadata": {},
   "source": [
    "**Tokenize Dataset**"
   ]
  },
  {
   "cell_type": "code",
   "execution_count": 28,
   "metadata": {},
   "outputs": [
    {
     "name": "stdout",
     "output_type": "stream",
     "text": [
      "|                                                |\n",
      ".................................................."
     ]
    }
   ],
   "source": [
    "reviews_tok = []\n",
    "\n",
    "print('|' + ' '*48 + '|')\n",
    "for i in range(len(reviews_clean)):\n",
    "    reviews_tok.append( [w2i[w] for w in reviews_clean[i]] )\n",
    "    if i % 20000 == 0:\n",
    "        print('.', end='')"
   ]
  },
  {
   "cell_type": "code",
   "execution_count": 35,
   "metadata": {},
   "outputs": [
    {
     "name": "stdout",
     "output_type": "stream",
     "text": [
      "['fairly', 'interesting', 'read', 'old', 'style', 'terminology', 'glad', 'get', 'read', 'story', 'coarse', 'read', 'fun', 'relaxation', 'like', 'free', 'check', 'writer', 'decide', 'intriguing', 'innovative', 'enough', 'command', 'convey', 'story', 'without', 'crude', 'language']\n"
     ]
    }
   ],
   "source": [
    "print(reviews_clean[2])"
   ]
  },
  {
   "cell_type": "code",
   "execution_count": 36,
   "metadata": {},
   "outputs": [
    {
     "name": "stdout",
     "output_type": "stream",
     "text": [
      "[1048, 81, 3, 153, 275, 7187, 232, 15, 3, 2, 12357, 3, 85, 8164, 6, 166, 593, 318, 892, 613, 7577, 92, 4105, 4843, 2, 133, 4851, 662]\n"
     ]
    }
   ],
   "source": [
    "print(reviews_tok[2])"
   ]
  },
  {
   "cell_type": "markdown",
   "metadata": {},
   "source": [
    "**Trimming and Padding**"
   ]
  },
  {
   "cell_type": "markdown",
   "metadata": {},
   "source": [
    "Lets have a look at review lengths next"
   ]
  },
  {
   "cell_type": "code",
   "execution_count": 37,
   "metadata": {},
   "outputs": [],
   "source": [
    "lengths = np.array([len(r) for r in reviews_tok])\n",
    "lenghts_counter = collections.Counter(lengths)"
   ]
  },
  {
   "cell_type": "code",
   "execution_count": 38,
   "metadata": {},
   "outputs": [
    {
     "data": {
      "image/png": "[encoded data removed]",
      "text/plain": [
       "<Figure size 1152x432 with 2 Axes>"
      ]
     },
     "metadata": {
      "needs_background": "light"
     },
     "output_type": "display_data"
    }
   ],
   "source": [
    "plot_counts(lenghts_counter)"
   ]
  },
  {
   "cell_type": "markdown",
   "metadata": {},
   "source": [
    "We can see some reviews are over 35k words!"
   ]
  },
  {
   "cell_type": "markdown",
   "metadata": {},
   "source": [
    "To feed reviews into neural network in mini-batches all reviews have to have same length.\n",
    "\n",
    "We will:\n",
    "* trim all reviews to 200 words\n",
    "* pad all shorter reviews with <nop>"
   ]
  },
  {
   "cell_type": "code",
   "execution_count": 75,
   "metadata": {},
   "outputs": [],
   "source": [
    "target_len = 200\n",
    "reviews_np = np.zeros(shape=(len(reviews_tok), target_len), dtype=int)\n",
    "\n",
    "for i in range(len(reviews_tok)):\n",
    "    rev_trimmed = reviews_tok[i][:200]                # trim to 200\n",
    "    start = target_len - len(rev_trimmed)\n",
    "    reviews_np[i, start:target_len] = rev_trimmed"
   ]
  },
  {
   "cell_type": "code",
   "execution_count": 77,
   "metadata": {},
   "outputs": [
    {
     "name": "stdout",
     "output_type": "stream",
     "text": [
      "[[   0    0    0 ...   56    8    3]\n",
      " [   0    0    0 ...  165  118   26]\n",
      " [   0    0    0 ...  133 4851  662]\n",
      " ...\n",
      " [   0    0    0 ...  111   69   31]\n",
      " [   0    0    0 ...    5   42   69]\n",
      " [   0    0    0 ... 3339  337   69]]\n"
     ]
    }
   ],
   "source": [
    "print(reviews_np)"
   ]
  },
  {
   "cell_type": "markdown",
   "metadata": {},
   "source": [
    "Check out the result"
   ]
  },
  {
   "cell_type": "code",
   "execution_count": 78,
   "metadata": {},
   "outputs": [
    {
     "name": "stdout",
     "output_type": "stream",
     "text": [
      "[    0     0     0     0     0     0     0     0     0     0     0     0\n",
      "     0     0     0     0     0     0     0     0     0     0     0     0\n",
      "     0     0     0     0     0     0     0     0     0     0     0     0\n",
      "     0     0     0     0     0     0     0     0     0     0     0     0\n",
      "     0     0     0     0     0     0     0     0     0     0     0     0\n",
      "     0     0     0     0     0     0     0     0     0     0     0     0\n",
      "     0     0     0     0     0     0     0     0     0     0     0     0\n",
      "     0     0     0     0     0     0     0     0     0     0     0     0\n",
      "     0     0     0     0     0     0     0     0     0     0     0     0\n",
      "     0     0     0     0     0     0     0     0     0     0     0     0\n",
      "     0     0     0     0     0     0     0     0     0     0     0     0\n",
      "     0     0     0     0     0     0     0     0     0     0     0     0\n",
      "     0     0     0     0     0     0     0     0     0     0     0     0\n",
      "     0     0     0     0     0     0     0     0     0     0     0     0\n",
      "     0     0    97  9302    16  1997    33    17     1    87  1379    37\n",
      "  1440   168   314  4369   719   332   474   133 41395   990  3978   168\n",
      "  4370  3403    12  8262   673    56     8     3]\n"
     ]
    }
   ],
   "source": [
    "print(reviews_np[0])"
   ]
  },
  {
   "cell_type": "markdown",
   "metadata": {},
   "source": [
    "And convert back to string to make sure it's ok"
   ]
  },
  {
   "cell_type": "code",
   "execution_count": 79,
   "metadata": {},
   "outputs": [
    {
     "data": {
      "text/plain": [
       "'enjoy vintage books movies enjoyed reading book plot unusual think killing someone self defense leaving scene body without notifying police hitting someone jaw knock would wash today still good read'"
      ]
     },
     "execution_count": 79,
     "metadata": {},
     "output_type": "execute_result"
    }
   ],
   "source": [
    "' '.join(i2w[c] for c in reviews_np[0] if c != 0)"
   ]
  },
  {
   "cell_type": "markdown",
   "metadata": {},
   "source": [
    "**Convert Labels**"
   ]
  },
  {
   "cell_type": "code",
   "execution_count": 80,
   "metadata": {},
   "outputs": [],
   "source": [
    "scores_np = np.array(scores)\n",
    "\n",
    "assert len(reviews_np) == len(scores_np)"
   ]
  },
  {
   "cell_type": "markdown",
   "metadata": {},
   "source": [
    "**Shuffle and Split**"
   ]
  },
  {
   "cell_type": "markdown",
   "metadata": {},
   "source": [
    "Create index array and shuffle"
   ]
  },
  {
   "cell_type": "code",
   "execution_count": 81,
   "metadata": {},
   "outputs": [],
   "source": [
    "indices = np.array(range(len(reviews_np)))\n",
    "np.random.shuffle(indices)"
   ]
  },
  {
   "cell_type": "markdown",
   "metadata": {},
   "source": [
    "Calculate split points and split"
   ]
  },
  {
   "cell_type": "code",
   "execution_count": 82,
   "metadata": {},
   "outputs": [
    {
     "name": "stdout",
     "output_type": "stream",
     "text": [
      "Nb train reviews: 884357\n",
      "Nb valid reviews:  49131\n",
      "Nb test reviews:   49131\n"
     ]
    }
   ],
   "source": [
    "train_split_index = int(len(reviews_np) * .90)\n",
    "valid_split_index = int(len(reviews_np) * .95)\n",
    "\n",
    "train_i, valid_i, test_i = np.split(\n",
    "    indices, [train_split_index, valid_split_index])\n",
    "\n",
    "print('Nb train reviews:', len(train_i))\n",
    "print('Nb valid reviews: ', len(valid_i))\n",
    "print('Nb test reviews:  ', len(test_i))"
   ]
  },
  {
   "cell_type": "markdown",
   "metadata": {},
   "source": [
    "Split the dataset into three parts"
   ]
  },
  {
   "cell_type": "code",
   "execution_count": 89,
   "metadata": {},
   "outputs": [],
   "source": [
    "train_x, train_y = reviews_np[train_i], scores_np[train_i]\n",
    "valid_x, valid_y = reviews_np[valid_i], scores_np[valid_i]\n",
    "test_x, test_y = reviews_np[test_i], scores_np[test_i]"
   ]
  },
  {
   "cell_type": "code",
   "execution_count": 91,
   "metadata": {},
   "outputs": [],
   "source": [
    "train_x = torch.tensor(train_x, device=device)\n",
    "train_y = torch.tensor(train_y, device=device)\n",
    "valid_x = torch.tensor(valid_x, device=device)\n",
    "valid_y = torch.tensor(valid_y, device=device)"
   ]
  },
  {
   "cell_type": "code",
   "execution_count": null,
   "metadata": {},
   "outputs": [],
   "source": []
  }
 ],
 "metadata": {
  "kernelspec": {
   "display_name": "Python 3",
   "language": "python",
   "name": "python3"
  },
  "language_info": {
   "codemirror_mode": {
    "name": "ipython",
    "version": 3
   },
   "file_extension": ".py",
   "mimetype": "text/x-python",
   "name": "python",
   "nbconvert_exporter": "python",
   "pygments_lexer": "ipython3",
   "version": "3.7.1"
  }
 },
 "nbformat": 4,
 "nbformat_minor": 2
}
