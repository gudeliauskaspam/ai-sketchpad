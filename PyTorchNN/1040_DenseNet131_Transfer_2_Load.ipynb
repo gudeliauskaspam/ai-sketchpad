{
 "cells": [
  {
   "cell_type": "code",
   "execution_count": 1,
   "metadata": {},
   "outputs": [],
   "source": [
    "import os\n",
    "import time\n",
    "import numpy as np\n",
    "import matplotlib.pyplot as plt\n",
    "import torch\n",
    "import torch.nn as nn\n",
    "import torch.nn.functional as F\n",
    "from torchvision import datasets, transforms, models\n",
    "from collections import OrderedDict\n",
    "import PIL"
   ]
  },
  {
   "cell_type": "code",
   "execution_count": 2,
   "metadata": {},
   "outputs": [],
   "source": [
    "device = torch.device(\"cuda:0\" if torch.cuda.is_available() else \"cpu\")"
   ]
  },
  {
   "cell_type": "code",
   "execution_count": 3,
   "metadata": {},
   "outputs": [],
   "source": [
    "dataset_location = '/home/marcin/Datasets/udacity-challange-flower-data/flower_data/'"
   ]
  },
  {
   "cell_type": "markdown",
   "metadata": {},
   "source": [
    "# Load Model"
   ]
  },
  {
   "cell_type": "code",
   "execution_count": 4,
   "metadata": {},
   "outputs": [
    {
     "data": {
      "text/plain": [
       "'/home/marcin/Datasets/udacity-challange-flower-data/flower_data/model.pth'"
      ]
     },
     "execution_count": 4,
     "metadata": {},
     "output_type": "execute_result"
    }
   ],
   "source": [
    "model_pth = os.path.join(dataset_location, 'model.pth')\n",
    "model_pth"
   ]
  },
  {
   "cell_type": "code",
   "execution_count": 5,
   "metadata": {},
   "outputs": [
    {
     "name": "stderr",
     "output_type": "stream",
     "text": [
      "/home/marcin/.anaconda/envs/ptgpu/lib/python3.7/site-packages/torchvision/models/densenet.py:212: UserWarning: nn.init.kaiming_normal is now deprecated in favor of nn.init.kaiming_normal_.\n",
      "  nn.init.kaiming_normal(m.weight.data)\n"
     ]
    }
   ],
   "source": [
    "model = models.densenet201(pretrained=True)\n",
    "\n",
    "for param in model.parameters():\n",
    "    param.requires_grad = False"
   ]
  },
  {
   "cell_type": "code",
   "execution_count": 6,
   "metadata": {},
   "outputs": [],
   "source": [
    "classifier = nn.Sequential(OrderedDict([\n",
    "    ('bn1', nn.BatchNorm1d(1920)),\n",
    "    ('fc1', nn.Linear(1920, 128)),\n",
    "    ('elu1', nn.ELU()),\n",
    "    ('drp1', nn.Dropout(0.75)),\n",
    "    \n",
    "#     ('fc2', nn.Linear(512, 512)),\n",
    "#     ('elu2', nn.ELU()),\n",
    "#     ('drp2', nn.Dropout(0.75)),\n",
    "    \n",
    "    ('fcf', nn.Linear(128, 102)),\n",
    "]))\n",
    "model.classifier = classifier"
   ]
  },
  {
   "cell_type": "code",
   "execution_count": 7,
   "metadata": {},
   "outputs": [],
   "source": [
    "model.load_state_dict(torch.load(model_pth))"
   ]
  },
  {
   "cell_type": "code",
   "execution_count": 8,
   "metadata": {},
   "outputs": [],
   "source": [
    "model.to(device);"
   ]
  },
  {
   "cell_type": "markdown",
   "metadata": {},
   "source": [
    "# Load Model"
   ]
  },
  {
   "cell_type": "code",
   "execution_count": null,
   "metadata": {},
   "outputs": [],
   "source": [
    "model_cnn = models.densenet201(pretrained=True)\n",
    "\n",
    "for param in model_cnn.parameters():\n",
    "    param.requires_grad = False"
   ]
  },
  {
   "cell_type": "code",
   "execution_count": null,
   "metadata": {},
   "outputs": [],
   "source": [
    "model_pth = os.path.join(dataset_location, 'model.pth')\n",
    "model_pth"
   ]
  },
  {
   "cell_type": "code",
   "execution_count": null,
   "metadata": {},
   "outputs": [],
   "source": [
    "model = nn.Sequential(OrderedDict([\n",
    "    ('bn1', nn.BatchNorm1d(1920)),\n",
    "    ('fc1', nn.Linear(1920, 128)),\n",
    "    ('elu1', nn.ELU()),\n",
    "    ('drp1', nn.Dropout(0.75)),\n",
    "    \n",
    "#     ('fc2', nn.Linear(512, 512)),\n",
    "#     ('elu2', nn.ELU()),\n",
    "#     ('drp2', nn.Dropout(0.75)),\n",
    "    \n",
    "    ('fcf', nn.Linear(128, 102)),\n",
    "]))"
   ]
  },
  {
   "cell_type": "code",
   "execution_count": null,
   "metadata": {},
   "outputs": [],
   "source": [
    "model.load_state_dict(torch.load(model_pth))"
   ]
  },
  {
   "cell_type": "code",
   "execution_count": null,
   "metadata": {},
   "outputs": [],
   "source": [
    "model_cnn.classifier = model"
   ]
  },
  {
   "cell_type": "code",
   "execution_count": null,
   "metadata": {},
   "outputs": [],
   "source": [
    "model = model_cnn"
   ]
  },
  {
   "cell_type": "code",
   "execution_count": null,
   "metadata": {},
   "outputs": [],
   "source": [
    "model.to(device)"
   ]
  },
  {
   "cell_type": "markdown",
   "metadata": {},
   "source": [
    "# Test Model"
   ]
  },
  {
   "cell_type": "markdown",
   "metadata": {},
   "source": [
    "**Create Dataloaders**"
   ]
  },
  {
   "cell_type": "code",
   "execution_count": 9,
   "metadata": {},
   "outputs": [],
   "source": [
    "transforms_valid = transforms.Compose([\n",
    "    transforms.Resize(256),\n",
    "    transforms.CenterCrop(224),\n",
    "    transforms.ToTensor(),\n",
    "    transforms.Normalize([0.485, 0.456, 0.406], \n",
    "                         [0.229, 0.224, 0.225])\n",
    "])"
   ]
  },
  {
   "cell_type": "code",
   "execution_count": 10,
   "metadata": {},
   "outputs": [
    {
     "name": "stdout",
     "output_type": "stream",
     "text": [
      "Number of valid images: 818\n",
      "Number of test images: 819\n"
     ]
    }
   ],
   "source": [
    "dataset_valid = datasets.ImageFolder(os.path.join(dataset_location, 'valid'), transforms_valid)\n",
    "dataset_test = datasets.ImageFolder(os.path.join(dataset_location, 'test'), transforms_valid)\n",
    "print('Number of valid images:', len(dataset_valid))\n",
    "print('Number of test images:', len(dataset_test))"
   ]
  },
  {
   "cell_type": "code",
   "execution_count": 11,
   "metadata": {},
   "outputs": [],
   "source": [
    "dataloader_valid = torch.utils.data.DataLoader(dataset_valid, batch_size=16, shuffle=True,\n",
    "                                               num_workers=6, pin_memory=True)\n",
    "dataloader_test = torch.utils.data.DataLoader(dataset_test, batch_size=16, shuffle=True,\n",
    "                                               num_workers=6, pin_memory=True)"
   ]
  },
  {
   "cell_type": "markdown",
   "metadata": {},
   "source": [
    "**Test Model**"
   ]
  },
  {
   "cell_type": "code",
   "execution_count": 12,
   "metadata": {},
   "outputs": [],
   "source": [
    "def accuracy(logits, labels): \n",
    "    predictions = torch.argmax(logits, dim=1)\n",
    "    return (predictions == labels).float().mean()  # tensor!!"
   ]
  },
  {
   "cell_type": "code",
   "execution_count": 13,
   "metadata": {},
   "outputs": [],
   "source": [
    "hist = { 'valid_loss':[], 'valid_acc':[] }        # valid set loss/acc every epoch"
   ]
  },
  {
   "cell_type": "code",
   "execution_count": 16,
   "metadata": {},
   "outputs": [],
   "source": [
    "criterion = nn.CrossEntropyLoss()"
   ]
  },
  {
   "cell_type": "code",
   "execution_count": 17,
   "metadata": {},
   "outputs": [],
   "source": [
    "batch_size = 16\n",
    "\n",
    "model.eval()\n",
    "\n",
    "### Evaluate Valid Set ###\n",
    "loss_sum = 0\n",
    "acc_sum = 0\n",
    "for images, labels in dataloader_valid:\n",
    "\n",
    "    # Push to GPU\n",
    "    x = images.to(device)\n",
    "    y = labels.to(device)\n",
    "\n",
    "    with torch.no_grad():\n",
    "        outputs = model(x)\n",
    "        loss = criterion(outputs, y)\n",
    "        acc = accuracy(outputs, y)\n",
    "        loss_sum += loss.item() * len(images)\n",
    "        acc_sum += acc.item() * len(images)\n",
    "\n",
    "valid_loss = loss_sum / len(dataset_valid)\n",
    "valid_acc = acc_sum / len(dataset_valid)"
   ]
  },
  {
   "cell_type": "code",
   "execution_count": 18,
   "metadata": {},
   "outputs": [
    {
     "name": "stdout",
     "output_type": "stream",
     "text": [
      "         loss / acc\n",
      "Valid: 0.1063 / 0.9804\n"
     ]
    }
   ],
   "source": [
    "print( '         loss / acc')\n",
    "print(f'Valid: {valid_loss:6.4f} / {valid_acc:4.4f}')"
   ]
  },
  {
   "cell_type": "code",
   "execution_count": null,
   "metadata": {},
   "outputs": [],
   "source": []
  }
 ],
 "metadata": {
  "kernelspec": {
   "display_name": "Python 3",
   "language": "python",
   "name": "python3"
  },
  "language_info": {
   "codemirror_mode": {
    "name": "ipython",
    "version": 3
   },
   "file_extension": ".py",
   "mimetype": "text/x-python",
   "name": "python",
   "nbconvert_exporter": "python",
   "pygments_lexer": "ipython3",
   "version": "3.7.1"
  }
 },
 "nbformat": 4,
 "nbformat_minor": 2
}
