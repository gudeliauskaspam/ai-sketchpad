{
 "cells": [
  {
   "cell_type": "markdown",
   "metadata": {},
   "source": [
    "# Introduction"
   ]
  },
  {
   "cell_type": "markdown",
   "metadata": {},
   "source": [
    "This notebook presents sentiment analysis on [Kindle Book Reviews](http://jmcauley.ucsd.edu/data/amazon/) dataset.\n",
    "\n",
    "**Dataset**\n",
    "\n",
    "* [Amazon Review Data](http://jmcauley.ucsd.edu/data/amazon/) - download Kindle Store [5-core](http://snap.stanford.edu/data/amazon/productGraph/categoryFiles/reviews_Kindle_Store_5.json.gz) file and extract\n",
    "\n",
    "**Contents**\n",
    "\n",
    "* [Load Data](#Load-Data) - load and preprocess\n",
    "* [Preprocess Data](#Preprocess-Data) - cleanup and reduce noise\n",
    "* [PyTorch Model](#PyTorch-Model) - build and train model"
   ]
  },
  {
   "cell_type": "markdown",
   "metadata": {},
   "source": [
    "# Imports"
   ]
  },
  {
   "cell_type": "code",
   "execution_count": 1,
   "metadata": {},
   "outputs": [],
   "source": [
    "import re\n",
    "import time\n",
    "import json\n",
    "import collections\n",
    "import numpy as np\n",
    "import matplotlib.pyplot as plt"
   ]
  },
  {
   "cell_type": "code",
   "execution_count": 2,
   "metadata": {},
   "outputs": [],
   "source": [
    "import torch\n",
    "import torch.nn as nn\n",
    "import torch.optim as optim\n",
    "import torch.nn.functional as F"
   ]
  },
  {
   "cell_type": "markdown",
   "metadata": {},
   "source": [
    "Pick GPU if available"
   ]
  },
  {
   "cell_type": "code",
   "execution_count": 3,
   "metadata": {},
   "outputs": [],
   "source": [
    "device = torch.device(\"cuda:0\" if torch.cuda.is_available() else \"cpu\")"
   ]
  },
  {
   "cell_type": "markdown",
   "metadata": {},
   "source": [
    "# Load Data"
   ]
  },
  {
   "cell_type": "markdown",
   "metadata": {},
   "source": [
    "Download the dataset from [here](http://snap.stanford.edu/data/amazon/productGraph/categoryFiles/reviews_Kindle_Store_5.json.gz) and extract. Point path below to extracted .json file."
   ]
  },
  {
   "cell_type": "code",
   "execution_count": 4,
   "metadata": {},
   "outputs": [],
   "source": [
    "dataset_location = '/home/marcin/Datasets/kindle-reviews/reviews_Kindle_Store_5.json'"
   ]
  },
  {
   "cell_type": "markdown",
   "metadata": {},
   "source": [
    "In this section, we will read the data while performing following transforms:\n",
    "* load the data\n",
    "  * convert text to lower case\n",
    "  * remove punctuation, digits etc.\n",
    "  * split into words\n",
    "* have a look at raw data"
   ]
  },
  {
   "cell_type": "markdown",
   "metadata": {},
   "source": [
    "Each line in data file is a separate JSON entry"
   ]
  },
  {
   "cell_type": "code",
   "execution_count": 5,
   "metadata": {},
   "outputs": [
    {
     "data": {
      "text/plain": [
       "'{\"reviewerID\": \"A1F6404F1VG29J\", \"asin\": \"B000F83SZQ\", \"reviewerName\": \"Avidreader\", \"helpful\": [0, 0], \"reviewText\": \"I enjoy vintage books and movies so I enjoyed reading this book.  The plot was unusual.  Don\\'t think killing someone in self-defense but leaving the scene and the body without notifying the police or hitting someone in the jaw to knock them out would wash today.Still it was a good read for me.\", \"overall\": 5.0, \"summary\": \"Nice vintage story\", \"unixReviewTime\": 1399248000, \"reviewTime\": \"05 5, 2014\"}\\n'"
      ]
     },
     "execution_count": 5,
     "metadata": {},
     "output_type": "execute_result"
    }
   ],
   "source": [
    "with open(dataset_location, 'r') as f:\n",
    "    line_raw = f.readline()\n",
    "line_raw"
   ]
  },
  {
   "cell_type": "markdown",
   "metadata": {},
   "source": [
    "Lets print sample data item"
   ]
  },
  {
   "cell_type": "code",
   "execution_count": 6,
   "metadata": {},
   "outputs": [
    {
     "name": "stdout",
     "output_type": "stream",
     "text": [
      "score: 5.0\n",
      "summary: Nice vintage story\n",
      "review:\n",
      "I enjoy vintage books and movies so I enjoyed reading this book.  The plot was unusual.  Don't think killing someone in self-defense but leaving the scene and the body without notifying the police or hitting someone in the jaw to knock them out would wash today.Still it was a good read for me.\n"
     ]
    }
   ],
   "source": [
    "line_json = json.loads(line_raw)\n",
    "sample_score = line_json['overall']\n",
    "sample_summary = line_json['summary']\n",
    "sample_review = line_json['reviewText']\n",
    "print('score:', sample_score)\n",
    "print('summary:', sample_summary)\n",
    "print('review:')\n",
    "print(sample_review)"
   ]
  },
  {
   "cell_type": "markdown",
   "metadata": {},
   "source": [
    "Setup a function to help with transforms"
   ]
  },
  {
   "cell_type": "code",
   "execution_count": 7,
   "metadata": {},
   "outputs": [
    {
     "name": "stdout",
     "output_type": "stream",
     "text": [
      "['i', 'enjoy', 'vintage', 'books', 'and', 'movies', 'so', 'i', 'enjoyed', 'reading', 'this', 'book', 'the', 'plot', 'was', 'unusual', 'don', 't', 'think', 'killing', 'someone', 'in', 'self', 'defense', 'but', 'leaving', 'the', 'scene', 'and', 'the', 'body', 'without', 'notifying', 'the', 'police', 'or', 'hitting', 'someone', 'in', 'the', 'jaw', 'to', 'knock', 'them', 'out', 'would', 'wash', 'today', 'still', 'it', 'was', 'a', 'good', 'read', 'for', 'me']\n"
     ]
    }
   ],
   "source": [
    "regex = re.compile('[^a-zA-Z ]+')\n",
    "\n",
    "def cleanup(text):\n",
    "    res = regex.sub(' ', text)\n",
    "    res = res.lower()\n",
    "    return res.split()\n",
    "\n",
    "print(cleanup(sample_review))"
   ]
  },
  {
   "cell_type": "markdown",
   "metadata": {},
   "source": [
    "Lets load the whole dataset"
   ]
  },
  {
   "cell_type": "code",
   "execution_count": 8,
   "metadata": {},
   "outputs": [
    {
     "name": "stdout",
     "output_type": "stream",
     "text": [
      "|                                                |\n",
      ".................................................."
     ]
    }
   ],
   "source": [
    "reviews = []\n",
    "summaries = []\n",
    "scores = []\n",
    "print('|' + ' '*48 + '|')\n",
    "with open(dataset_location, 'r') as f:\n",
    "    for i, l in enumerate(f):\n",
    "        jl = json.loads(l)\n",
    "        reviews.append(cleanup(jl['reviewText']))\n",
    "        summaries.append(cleanup(jl['summary']))\n",
    "        scores.append(int(jl['overall']))\n",
    "        if i % 20000 == 0:\n",
    "            print('.', end='')"
   ]
  },
  {
   "cell_type": "markdown",
   "metadata": {},
   "source": [
    "Dataset is loaded and cleaned, it should contain only lowercase letters and reviews should be split into words"
   ]
  },
  {
   "cell_type": "markdown",
   "metadata": {},
   "source": [
    "**Look at the Data**"
   ]
  },
  {
   "cell_type": "markdown",
   "metadata": {},
   "source": [
    "And lets have a look at few samples"
   ]
  },
  {
   "cell_type": "code",
   "execution_count": 9,
   "metadata": {},
   "outputs": [],
   "source": [
    "def print_sample(idx):\n",
    "    print('score:', scores[idx])\n",
    "    print('summary:', summaries[idx])\n",
    "    print('review:')\n",
    "    print(reviews[idx])"
   ]
  },
  {
   "cell_type": "code",
   "execution_count": 10,
   "metadata": {},
   "outputs": [
    {
     "name": "stdout",
     "output_type": "stream",
     "text": [
      "score: 5\n",
      "summary: ['nice', 'vintage', 'story']\n",
      "review:\n",
      "['i', 'enjoy', 'vintage', 'books', 'and', 'movies', 'so', 'i', 'enjoyed', 'reading', 'this', 'book', 'the', 'plot', 'was', 'unusual', 'don', 't', 'think', 'killing', 'someone', 'in', 'self', 'defense', 'but', 'leaving', 'the', 'scene', 'and', 'the', 'body', 'without', 'notifying', 'the', 'police', 'or', 'hitting', 'someone', 'in', 'the', 'jaw', 'to', 'knock', 'them', 'out', 'would', 'wash', 'today', 'still', 'it', 'was', 'a', 'good', 'read', 'for', 'me']\n",
      "\n",
      "score: 4\n",
      "summary: ['different']\n",
      "review:\n",
      "['this', 'book', 'is', 'a', 'reissue', 'of', 'an', 'old', 'one', 'the', 'author', 'was', 'born', 'in', 'it', 's', 'of', 'the', 'era', 'of', 'say', 'nero', 'wolfe', 'the', 'introduction', 'was', 'quite', 'interesting', 'explaining', 'who', 'the', 'author', 'was', 'and', 'why', 'he', 's', 'been', 'forgotten', 'i', 'd', 'never', 'heard', 'of', 'him', 'the', 'language', 'is', 'a', 'little', 'dated', 'at', 'times', 'like', 'calling', 'a', 'gun', 'a', 'heater', 'i', 'also', 'made', 'good', 'use', 'of', 'my', 'fire', 's', 'dictionary', 'to', 'look', 'up', 'words', 'like', 'deshabille', 'and', 'canarsie', 'still', 'it', 'was', 'well', 'worth', 'a', 'look', 'see']\n",
      "\n",
      "score: 4\n",
      "summary: ['oldie']\n",
      "review:\n",
      "['this', 'was', 'a', 'fairly', 'interesting', 'read', 'it', 'had', 'old', 'style', 'terminology', 'i', 'was', 'glad', 'to', 'get', 'to', 'read', 'a', 'story', 'that', 'doesn', 't', 'have', 'coarse', 'crasslanguage', 'i', 'read', 'for', 'fun', 'and', 'relaxation', 'i', 'like', 'the', 'free', 'ebooksbecause', 'i', 'can', 'check', 'out', 'a', 'writer', 'and', 'decide', 'if', 'they', 'are', 'intriguing', 'innovative', 'and', 'have', 'enough', 'of', 'the', 'command', 'of', 'englishthat', 'they', 'can', 'convey', 'the', 'story', 'without', 'crude', 'language']\n",
      "\n"
     ]
    }
   ],
   "source": [
    "for i in range(3):\n",
    "    print_sample(i)\n",
    "    print()"
   ]
  },
  {
   "cell_type": "markdown",
   "metadata": {},
   "source": [
    "We will count all the different words"
   ]
  },
  {
   "cell_type": "code",
   "execution_count": 11,
   "metadata": {},
   "outputs": [],
   "source": [
    "def count_words(list_of_examples):\n",
    "    if isinstance(list_of_examples[0], str):\n",
    "        split = True  # got list of strings, need to split words\n",
    "    if isinstance(list_of_examples[0], list):\n",
    "        split = False  # list of lists, already split by words\n",
    "    \n",
    "    words_counter = collections.Counter()\n",
    "    for example in list_of_examples:\n",
    "        if split:\n",
    "            words_counter.update(example.split())\n",
    "        else:\n",
    "            words_counter.update(example)\n",
    "            \n",
    "    total_words = sum(list(words_counter.values()))\n",
    "    unique_words = len(words_counter)\n",
    "    \n",
    "    return total_words, unique_words, words_counter"
   ]
  },
  {
   "cell_type": "code",
   "execution_count": 12,
   "metadata": {},
   "outputs": [
    {
     "name": "stdout",
     "output_type": "stream",
     "text": [
      "Total words:  111201964\n",
      "Unique words:  270677\n"
     ]
    }
   ],
   "source": [
    "total_words, unique_words, words_counter = count_words(reviews)\n",
    "print('Total words: ', total_words)\n",
    "print('Unique words: ', unique_words)"
   ]
  },
  {
   "cell_type": "markdown",
   "metadata": {},
   "source": [
    "We have over 110M words in total and 270k unique words"
   ]
  },
  {
   "cell_type": "markdown",
   "metadata": {},
   "source": [
    "Lets have a look at word count distributions"
   ]
  },
  {
   "cell_type": "code",
   "execution_count": 13,
   "metadata": {},
   "outputs": [],
   "source": [
    "def plot_counts(words_counter, title):\n",
    "    sorted_all = np.array(sorted(list(words_counter.values()), reverse=True))\n",
    "    fig, [ax1, ax2] = plt.subplots(1, 2, figsize=[16,6])\n",
    "    ax1.plot(sorted_all); ax1.set_title(title + ' Counts (linear scale)')\n",
    "    ax2.plot(sorted_all); ax2.set_title(title + ' Counts (log scale)')\n",
    "    ax2.set_yscale('log')"
   ]
  },
  {
   "cell_type": "code",
   "execution_count": 14,
   "metadata": {},
   "outputs": [
    {
     "data": {
      "image/png": "[encoded data removed]",
      "text/plain": [
       "<Figure size 1152x432 with 2 Axes>"
      ]
     },
     "metadata": {
      "needs_background": "light"
     },
     "output_type": "display_data"
    }
   ],
   "source": [
    "plot_counts(words_counter, title='Word')"
   ]
  },
  {
   "cell_type": "markdown",
   "metadata": {},
   "source": [
    "This is extremely sharp distribution. Some words appear over 5 million times, while over 100k words appear only once."
   ]
  },
  {
   "cell_type": "markdown",
   "metadata": {},
   "source": [
    "Lets display some of the words and their number of occurrences in whole dataset"
   ]
  },
  {
   "cell_type": "code",
   "execution_count": 15,
   "metadata": {},
   "outputs": [
    {
     "name": "stdout",
     "output_type": "stream",
     "text": [
      "WORD    : COUNT\n",
      "i       : 3117051\n",
      "enjoy   : 72405\n",
      "vintage : 394\n",
      "books   : 245937\n",
      "and     : 3583503\n",
      "movies  : 3701\n",
      "so      : 493257\n",
      "enjoyed : 146518\n",
      "reading : 225740\n",
      "this    : 1738403\n"
     ]
    }
   ],
   "source": [
    "print('WORD    : COUNT')\n",
    "for w in list(words_counter)[:10]:\n",
    "    print(f'{w:8}: {words_counter[w]}')"
   ]
  },
  {
   "cell_type": "markdown",
   "metadata": {},
   "source": [
    "# Preprocess Data"
   ]
  },
  {
   "cell_type": "markdown",
   "metadata": {},
   "source": [
    "In this section we will perform following tasks:\n",
    "* remove stopwords - remove words like 'the', 'a', 'an' and so on\n",
    "* reduce vocabulary - remove very rare words that appear only few times\n",
    "* tokenize dataset - convert words to ints"
   ]
  },
  {
   "cell_type": "markdown",
   "metadata": {},
   "source": [
    "**Common Words**"
   ]
  },
  {
   "cell_type": "markdown",
   "metadata": {},
   "source": [
    "Check most common words"
   ]
  },
  {
   "cell_type": "code",
   "execution_count": 16,
   "metadata": {},
   "outputs": [
    {
     "data": {
      "text/plain": [
       "[('the', 5056842),\n",
       " ('and', 3583503),\n",
       " ('to', 3120917),\n",
       " ('i', 3117051),\n",
       " ('a', 2999778),\n",
       " ('of', 2141725),\n",
       " ('is', 1780140),\n",
       " ('it', 1740139),\n",
       " ('this', 1738403),\n",
       " ('in', 1511066)]"
      ]
     },
     "metadata": {},
     "output_type": "display_data"
    }
   ],
   "source": [
    "display(words_counter.most_common()[:10])"
   ]
  },
  {
   "cell_type": "markdown",
   "metadata": {},
   "source": [
    "Words like 'the', 'and', 'to' etc. don't contribute much to text meaning. They are called _stopwords_. Below is the list of stopwords in English language taken from [NLTK](https://www.nltk.org/) library. This set was created with:\n",
    "\n",
    "```python\n",
    "import nltk\n",
    "nltk.download('stopwords')\n",
    "en_stopwords = nltk.corpus.stopwords.words('english')\n",
    "stopwords = {sw for sw in en_stopwords}\n",
    "print(stopwords)\n",
    "```\n",
    "\n",
    "I'm just copy-pasting it here not to introduce otherwise unnecessary `nltk` dependency."
   ]
  },
  {
   "cell_type": "code",
   "execution_count": 17,
   "metadata": {},
   "outputs": [],
   "source": [
    "stopwords = {'down', 'then', 'of', 'but', 'only', 'yours', 'himself', 'again',\n",
    "             'very', 'or', 'once', 'until', 'have', \"doesn't\", 'what', 'during',\n",
    "             \"that'll\", 'some', 'was', 'be', 'he', \"should've\", 'between',\n",
    "             \"shouldn't\", 'further', 'no', 'yourself', 'm', 've', \"you'll\",\n",
    "             'ain', 't', 'our', 'his', 'o', 'wouldn', 'below', 'any', 'under',\n",
    "             'you', 'isn', 'theirs', 'why', 'that', 'mightn', 'ourselves', 'on',\n",
    "             'haven', 'while', 'to', 'than', 'your', 'she', 'is', 'just',\n",
    "             \"mightn't\", 'with', \"you've\", 'mustn', 'needn', 'same', 'me',\n",
    "             'such', 'myself', 'there', 'own', 'this', 're', 'ma', 'from',\n",
    "             'did', 'couldn', 'hasn', 'for', 'won', \"won't\", \"mustn't\", 'her',\n",
    "             'can', 'doesn', \"wouldn't\", 'when', \"you're\", 'who', 'which', 'll',\n",
    "             'itself', 'against', 'out', 'up', \"it's\", 'a', 'here', 'being',\n",
    "             'they', 'as', 'didn', 'weren', 'aren', 'herself', 'the', 'if',\n",
    "             \"didn't\", 'should', 'doing', 'other', 'has', 'so', \"you'd\",\n",
    "             'above', 'do', 'before', 'at', 'had', 'each', \"aren't\", 'their',\n",
    "             'now', 'an', 'through', 'how', 'those', 'nor', \"hasn't\", 'over',\n",
    "             'by', 'into', 'themselves', 'most', 'shan', 'been', \"she's\",\n",
    "             \"haven't\", \"isn't\", \"wasn't\", 'where', 'about', 'in', \"hadn't\",\n",
    "             'because', 'too', 'whom', 'ours', 'him', 'yourselves', 'after',\n",
    "             'and', 'were', 'both', 'will', 'it', 'my', 'few', 'having', 'them',\n",
    "             'hadn', 'shouldn', 'does', 's', \"couldn't\", 'y', 'all', 'don',\n",
    "             'off', 'more', 'am', 'd', 'hers', 'its', 'are', \"shan't\",\n",
    "             \"weren't\", 'we', \"needn't\", 'i', 'these', \"don't\", 'wasn', 'not'}"
   ]
  },
  {
   "cell_type": "markdown",
   "metadata": {},
   "source": [
    "Remove stopwords"
   ]
  },
  {
   "cell_type": "code",
   "execution_count": 18,
   "metadata": {},
   "outputs": [],
   "source": [
    "def remove_stopwords(list_of_examples, stopwords, print_progress=False):\n",
    "    result_no_stop = []\n",
    "    if print_progress: print('|' + ' '*48 + '|')\n",
    "    for i, list_of_words in enumerate(list_of_examples):\n",
    "        result_no_stop.append( [w for w in list_of_words if w not in stopwords])\n",
    "        if print_progress and i % (len(list_of_examples)//49) == 0:\n",
    "            print('.', end='')\n",
    "    return result_no_stop"
   ]
  },
  {
   "cell_type": "code",
   "execution_count": 19,
   "metadata": {},
   "outputs": [
    {
     "name": "stdout",
     "output_type": "stream",
     "text": [
      "|                                                |\n",
      ".................................................."
     ]
    }
   ],
   "source": [
    "reviews_no_stop = remove_stopwords(reviews, stopwords, print_progress=True)"
   ]
  },
  {
   "cell_type": "code",
   "execution_count": 20,
   "metadata": {},
   "outputs": [
    {
     "name": "stdout",
     "output_type": "stream",
     "text": [
      "['enjoy', 'vintage', 'books', 'movies', 'enjoyed', 'reading', 'book', 'plot', 'unusual', 'think', 'killing', 'someone', 'self', 'defense', 'leaving', 'scene', 'body', 'without', 'notifying', 'police', 'hitting', 'someone', 'jaw', 'knock', 'would', 'wash', 'today', 'still', 'good', 'read']\n"
     ]
    }
   ],
   "source": [
    "print(reviews_no_stop[0])"
   ]
  },
  {
   "cell_type": "markdown",
   "metadata": {},
   "source": [
    "And count words"
   ]
  },
  {
   "cell_type": "code",
   "execution_count": 21,
   "metadata": {},
   "outputs": [
    {
     "name": "stdout",
     "output_type": "stream",
     "text": [
      "Total words:  53101559\n",
      "Unique words:  270524\n"
     ]
    }
   ],
   "source": [
    "total_words, unique_words, words_counter = count_words(reviews_no_stop)\n",
    "print('Total words: ', total_words)\n",
    "print('Unique words: ', unique_words)"
   ]
  },
  {
   "cell_type": "markdown",
   "metadata": {},
   "source": [
    "We are down to 53M total from 110M by removing meaningless words"
   ]
  },
  {
   "cell_type": "markdown",
   "metadata": {},
   "source": [
    "**Reduce Vocabulary**"
   ]
  },
  {
   "cell_type": "markdown",
   "metadata": {},
   "source": [
    "Lets look at some of of the uncommon words. Most of them are misspelled and provide no transferable information"
   ]
  },
  {
   "cell_type": "code",
   "execution_count": 22,
   "metadata": {},
   "outputs": [
    {
     "data": {
      "text/plain": [
       "[('somethingthatisdoneveryquickly', 1),\n",
       " ('ofsexualintercoursethatisdonein', 1),\n",
       " ('averyshort', 1),\n",
       " ('amountoftimeanticipation', 1),\n",
       " ('afeelingofexcitementaboutsomethingthatisgoingto', 1),\n",
       " ('ofpreparingforsomething', 1),\n",
       " ('fieldingit', 1),\n",
       " ('chenell', 1),\n",
       " ('waitign', 1),\n",
       " ('uunderstand', 1)]"
      ]
     },
     "metadata": {},
     "output_type": "display_data"
    }
   ],
   "source": [
    "display(words_counter.most_common()[-10:])"
   ]
  },
  {
   "cell_type": "code",
   "execution_count": 23,
   "metadata": {},
   "outputs": [],
   "source": [
    "def reduce_vocabulary(list_of_examples, min_occurances, unk_tok='<UNK>', print_=False):\n",
    "    words_ctr = collections.Counter()\n",
    "    for example in list_of_examples:\n",
    "        words_ctr.update(example)\n",
    "    \n",
    "    result_reduced = []\n",
    "    if print_: print('|' + ' '*48 + '|')\n",
    "    for i, list_of_words in enumerate(list_of_examples):\n",
    "        tmp = [w if words_ctr[w] >= min_occurances else unk_tok for w in list_of_words]\n",
    "        result_reduced.append( tmp )\n",
    "        if print_ and i % (len(list_of_examples)//49) == 0:\n",
    "            print('.', end='')\n",
    "    return result_reduced"
   ]
  },
  {
   "cell_type": "code",
   "execution_count": 24,
   "metadata": {},
   "outputs": [
    {
     "name": "stdout",
     "output_type": "stream",
     "text": [
      "|                                                |\n",
      ".................................................."
     ]
    }
   ],
   "source": [
    "reviews_reduced = reduce_vocabulary(reviews_no_stop, min_occurances=50, print_=True)"
   ]
  },
  {
   "cell_type": "markdown",
   "metadata": {},
   "source": [
    "Show sample after reduction"
   ]
  },
  {
   "cell_type": "code",
   "execution_count": 25,
   "metadata": {},
   "outputs": [
    {
     "name": "stdout",
     "output_type": "stream",
     "text": [
      "['book', '<UNK>', 'old', 'one', 'author', 'born', 'era', 'say', 'nero', 'wolfe', 'introduction', 'quite', 'interesting', 'explaining', 'author', 'forgotten', 'never', 'heard', 'language', 'little', 'dated', 'times', 'like', 'calling', 'gun', '<UNK>', 'also', 'made', 'good', 'use', 'fire', 'dictionary', 'look', 'words', 'like', '<UNK>', '<UNK>', 'still', 'well', 'worth', 'look', 'see']\n"
     ]
    }
   ],
   "source": [
    "print(reviews_reduced[1])"
   ]
  },
  {
   "cell_type": "code",
   "execution_count": 26,
   "metadata": {},
   "outputs": [
    {
     "name": "stdout",
     "output_type": "stream",
     "text": [
      "Total words:  53101559\n",
      "Unique words:  27319\n"
     ]
    }
   ],
   "source": [
    "total_words, unique_words, words_counter = count_words(reviews_reduced)\n",
    "print('Total words: ', total_words)\n",
    "print('Unique words: ', unique_words)"
   ]
  },
  {
   "cell_type": "markdown",
   "metadata": {},
   "source": [
    "**Create dictionaries**"
   ]
  },
  {
   "cell_type": "code",
   "execution_count": 27,
   "metadata": {},
   "outputs": [
    {
     "name": "stdout",
     "output_type": "stream",
     "text": [
      "Number of words after filter: 27320\n"
     ]
    }
   ],
   "source": [
    "i2w = {i : w for i, (w, c) in enumerate(words_counter.most_common(), 1)}\n",
    "w2i = {w : i for i, w in i2w.items()}\n",
    "i2w[0] = '<PAD>'                       # use zero index for padding\n",
    "w2i[i2w[0]] = 0\n",
    "print('Number of words after filter:', len(i2w))"
   ]
  },
  {
   "cell_type": "markdown",
   "metadata": {},
   "source": [
    "Confirm dictionaries are correct"
   ]
  },
  {
   "cell_type": "code",
   "execution_count": 28,
   "metadata": {},
   "outputs": [
    {
     "name": "stdout",
     "output_type": "stream",
     "text": [
      "0 : <PAD> : 0\n",
      "1 : book : 1\n",
      "2 : <UNK> : 2\n",
      "3 : story : 3\n",
      "4 : read : 4\n",
      "5 : one : 5\n",
      "6 : love : 6\n",
      "7 : like : 7\n",
      "8 : really : 8\n",
      "9 : good : 9\n"
     ]
    }
   ],
   "source": [
    "for i in range(10):\n",
    "    word = i2w[i]\n",
    "    print(i, ':', word, ':', w2i[word])"
   ]
  },
  {
   "cell_type": "markdown",
   "metadata": {},
   "source": [
    "Print subset of vocabulary, alphabetically sorted"
   ]
  },
  {
   "cell_type": "code",
   "execution_count": 29,
   "metadata": {},
   "outputs": [
    {
     "name": "stdout",
     "output_type": "stream",
     "text": [
      "['<PAD>', '<UNK>', 'aa', 'aaa', 'aacute', 'aaliyah', 'aaron', 'ab', 'aback', 'abandon', 'abandoned', 'abandoning', 'abandonment', 'abandons', 'abbey', 'abbi', 'abbie', 'abbot', 'abbott', 'abbreviated', 'abbreviations', 'abby', 'abc', 'abcs', 'abd', 'abduct', 'abducted', 'abducting', 'abduction', 'abductions', 'abductor', 'abdulla', 'abe', 'abel', 'aber', 'abercrombie', 'abhor', 'abhorrent', 'abi', 'abide', 'abiding', 'abigail', 'abilities', 'ability', 'abit', 'abject', 'ablaze', 'able', 'ably', 'abnormal', 'abo', 'aboard', 'abomination', 'aboriginal', 'abortion', 'abound', 'abounds', 'abraham', 'abram', 'abrams', 'abrasive', 'abridged', 'abroad', 'abrupt', 'abruptly', 'abruptness', 'abs', 'absence', 'absent', 'absentee', 'absinthe', 'abso', 'absolute', 'absolutely', 'absolution', 'absolutley', 'absolutly', 'absorb', 'absorbed', 'absorbing', 'absorption', 'abstinence', 'abstract', 'absurd', 'absurdity', 'absurdly', 'abt', 'abundance', 'abundant', 'abundantly', 'abuse', 'abused', 'abuser', 'abusers', 'abuses', 'abusing', 'abusive', 'abut', 'abysmal', 'abyss']\n"
     ]
    }
   ],
   "source": [
    "print(sorted(list(i2w.values()))[:100])"
   ]
  },
  {
   "cell_type": "markdown",
   "metadata": {},
   "source": [
    "**Tokenize Dataset**"
   ]
  },
  {
   "cell_type": "markdown",
   "metadata": {},
   "source": [
    "Convert words into integer tokens"
   ]
  },
  {
   "cell_type": "code",
   "execution_count": 30,
   "metadata": {},
   "outputs": [],
   "source": [
    "def tokenize(list_of_examples, word2idx):\n",
    "    result_tokenized = []\n",
    "    for list_of_words in list_of_examples:\n",
    "        result_tokenized.append( [word2idx[w] for w in list_of_words] )\n",
    "    return result_tokenized"
   ]
  },
  {
   "cell_type": "code",
   "execution_count": 31,
   "metadata": {},
   "outputs": [],
   "source": [
    "reviews_tok = tokenize(reviews_reduced, w2i)"
   ]
  },
  {
   "cell_type": "markdown",
   "metadata": {},
   "source": [
    "Show example"
   ]
  },
  {
   "cell_type": "code",
   "execution_count": 32,
   "metadata": {},
   "outputs": [
    {
     "name": "stdout",
     "output_type": "stream",
     "text": [
      "[98, 9303, 17, 1998, 34, 18, 1, 88, 1380, 38, 1441, 169, 315, 4370, 720, 333, 475, 134, 2, 991, 3979, 169, 4371, 3404, 13, 8263, 674, 57, 9, 4]\n"
     ]
    }
   ],
   "source": [
    "print(reviews_tok[0])"
   ]
  },
  {
   "cell_type": "code",
   "execution_count": null,
   "metadata": {},
   "outputs": [],
   "source": []
  },
  {
   "cell_type": "code",
   "execution_count": null,
   "metadata": {},
   "outputs": [],
   "source": []
  },
  {
   "cell_type": "code",
   "execution_count": null,
   "metadata": {},
   "outputs": [],
   "source": []
  },
  {
   "cell_type": "markdown",
   "metadata": {},
   "source": [
    "<div class=\"alert alert-danger\">\n",
    "\n",
    "This is only for testing\n",
    "            \n",
    "</div>"
   ]
  },
  {
   "cell_type": "markdown",
   "metadata": {},
   "source": [
    "**Reduce Vocab**"
   ]
  },
  {
   "cell_type": "code",
   "execution_count": 33,
   "metadata": {},
   "outputs": [
    {
     "name": "stdout",
     "output_type": "stream",
     "text": [
      "|                                                |\n",
      ".................................................."
     ]
    }
   ],
   "source": [
    "reviews_reduced = reduce_vocabulary(reviews_no_stop, min_occurances=5000, print_=True)"
   ]
  },
  {
   "cell_type": "code",
   "execution_count": 34,
   "metadata": {},
   "outputs": [
    {
     "name": "stdout",
     "output_type": "stream",
     "text": [
      "['book', '<UNK>', 'old', 'one', 'author', 'born', '<UNK>', 'say', '<UNK>', '<UNK>', 'introduction', 'quite', 'interesting', '<UNK>', 'author', '<UNK>', 'never', 'heard', 'language', 'little', '<UNK>', 'times', 'like', '<UNK>', '<UNK>', '<UNK>', 'also', 'made', 'good', 'use', 'fire', '<UNK>', 'look', 'words', 'like', '<UNK>', '<UNK>', 'still', 'well', 'worth', 'look', 'see']\n"
     ]
    }
   ],
   "source": [
    "print(reviews_reduced[1])"
   ]
  },
  {
   "cell_type": "code",
   "execution_count": 35,
   "metadata": {},
   "outputs": [
    {
     "name": "stdout",
     "output_type": "stream",
     "text": [
      "Total words:  53101559\n",
      "Unique words:  1548\n"
     ]
    }
   ],
   "source": [
    "total_words, unique_words, words_counter = count_words(reviews_reduced)\n",
    "print('Total words: ', total_words)\n",
    "print('Unique words: ', unique_words)"
   ]
  },
  {
   "cell_type": "markdown",
   "metadata": {},
   "source": [
    "**Create Dicts**"
   ]
  },
  {
   "cell_type": "code",
   "execution_count": 36,
   "metadata": {},
   "outputs": [
    {
     "name": "stdout",
     "output_type": "stream",
     "text": [
      "Number of words after filter: 1549\n"
     ]
    }
   ],
   "source": [
    "i2w = {i : w for i, (w, c) in enumerate(words_counter.most_common(), 1)}\n",
    "w2i = {w : i for i, w in i2w.items()}\n",
    "i2w[0] = '<PAD>'                       # use zero index for padding\n",
    "w2i[i2w[0]] = 0\n",
    "print('Number of words after filter:', len(i2w))"
   ]
  },
  {
   "cell_type": "code",
   "execution_count": 37,
   "metadata": {},
   "outputs": [
    {
     "name": "stdout",
     "output_type": "stream",
     "text": [
      "0 : <PAD> : 0\n",
      "1 : <UNK> : 1\n",
      "2 : book : 2\n",
      "3 : story : 3\n",
      "4 : read : 4\n",
      "5 : one : 5\n",
      "6 : love : 6\n",
      "7 : like : 7\n",
      "8 : really : 8\n",
      "9 : good : 9\n"
     ]
    }
   ],
   "source": [
    "for i in range(10):\n",
    "    word = i2w[i]\n",
    "    print(i, ':', word, ':', w2i[word])"
   ]
  },
  {
   "cell_type": "markdown",
   "metadata": {},
   "source": [
    "**Tokenize**"
   ]
  },
  {
   "cell_type": "code",
   "execution_count": 38,
   "metadata": {},
   "outputs": [],
   "source": [
    "reviews_tok = tokenize(reviews_reduced, w2i)"
   ]
  },
  {
   "cell_type": "code",
   "execution_count": 39,
   "metadata": {},
   "outputs": [
    {
     "name": "stdout",
     "output_type": "stream",
     "text": [
      "[98, 1, 17, 1, 34, 18, 2, 88, 1380, 38, 1441, 169, 315, 1, 720, 333, 475, 134, 1, 991, 1, 169, 1, 1, 13, 1, 674, 57, 9, 4]\n"
     ]
    }
   ],
   "source": [
    "print(reviews_tok[0])"
   ]
  },
  {
   "cell_type": "markdown",
   "metadata": {},
   "source": [
    "**Enc MH**"
   ]
  },
  {
   "cell_type": "code",
   "execution_count": 40,
   "metadata": {},
   "outputs": [],
   "source": [
    "def encode_multihot(arr_of_tokens, encode_size):\n",
    "    result_encoded = np.zeros(shape=(len(arr_of_tokens), encode_size), dtype=np.byte)\n",
    "    for i, tokens in enumerate(arr_of_tokens):\n",
    "        result_encoded[i, tokens] = 1\n",
    "    return result_encoded  # numpy array"
   ]
  },
  {
   "cell_type": "code",
   "execution_count": 41,
   "metadata": {},
   "outputs": [],
   "source": [
    "reviews_enc = encode_multihot(reviews_tok, len(i2w))"
   ]
  },
  {
   "cell_type": "code",
   "execution_count": 42,
   "metadata": {},
   "outputs": [
    {
     "name": "stdout",
     "output_type": "stream",
     "text": [
      "[0 1 1 0 1 0 0 0 0 1 0 0 0 1 0 0 0 1 1 0 0 0 0 0 0 0 0 0 0 0 0 0 0 0 1 0 0\n",
      " 0 1 0 0 0 0 0 0 0 0 0 0 0 0 0 0 0 0 0 0 1 0 0 0 0 0 0 0 0 0 0 0 0 0 0 0 0\n",
      " 0 0 0 0 0 0 0 0 0 0 0 0 0 0 1 0 0 0 0 0 0 0 0 0 1 0]\n"
     ]
    }
   ],
   "source": [
    "print(reviews_enc[0, :100])"
   ]
  },
  {
   "cell_type": "code",
   "execution_count": 43,
   "metadata": {},
   "outputs": [
    {
     "data": {
      "text/plain": [
       "(982619, 1549)"
      ]
     },
     "execution_count": 43,
     "metadata": {},
     "output_type": "execute_result"
    }
   ],
   "source": [
    "reviews_enc.shape"
   ]
  },
  {
   "cell_type": "markdown",
   "metadata": {},
   "source": [
    "**Labels**"
   ]
  },
  {
   "cell_type": "code",
   "execution_count": 44,
   "metadata": {},
   "outputs": [
    {
     "data": {
      "image/png": "[encoded data removed]",
      "text/plain": [
       "<Figure size 432x288 with 1 Axes>"
      ]
     },
     "metadata": {
      "needs_background": "light"
     },
     "output_type": "display_data"
    }
   ],
   "source": [
    "scores_counter = collections.Counter(scores)\n",
    "plt.bar(scores_counter.keys(), scores_counter.values())\n",
    "plt.plot();"
   ]
  },
  {
   "cell_type": "code",
   "execution_count": 45,
   "metadata": {},
   "outputs": [],
   "source": [
    "s2s = {1:0, 2:0, 3:1, 4:2, 5:2 }        # convert scores to 3-way scale neg/mix/pos\n",
    "scores_np = np.array([s2s[s] for s in scores])\n",
    "assert len(reviews_enc) == len(scores_np)"
   ]
  },
  {
   "cell_type": "code",
   "execution_count": 46,
   "metadata": {},
   "outputs": [
    {
     "data": {
      "image/png": "[encoded data removed]",
      "text/plain": [
       "<Figure size 432x288 with 1 Axes>"
      ]
     },
     "metadata": {
      "needs_background": "light"
     },
     "output_type": "display_data"
    }
   ],
   "source": [
    "scores_counter = collections.Counter(scores_np)\n",
    "plt.bar(scores_counter.keys(), scores_counter.values())\n",
    "plt.plot();"
   ]
  },
  {
   "cell_type": "code",
   "execution_count": 47,
   "metadata": {},
   "outputs": [
    {
     "data": {
      "text/plain": [
       "dtype('int64')"
      ]
     },
     "execution_count": 47,
     "metadata": {},
     "output_type": "execute_result"
    }
   ],
   "source": [
    "scores_np.dtype"
   ]
  },
  {
   "cell_type": "code",
   "execution_count": 48,
   "metadata": {},
   "outputs": [],
   "source": [
    "np.savez('data_tmp.npz',\n",
    "        reviews_enc=reviews_enc,\n",
    "        scores_np=scores_np)"
   ]
  },
  {
   "cell_type": "markdown",
   "metadata": {},
   "source": [
    "<div class=\"alert alert-warning\">\n",
    "\n",
    "Break to load data from new kernel\n",
    "            \n",
    "</div>"
   ]
  },
  {
   "cell_type": "code",
   "execution_count": 1,
   "metadata": {},
   "outputs": [],
   "source": [
    "import re\n",
    "import time\n",
    "import json\n",
    "import collections\n",
    "import numpy as np\n",
    "import matplotlib.pyplot as plt"
   ]
  },
  {
   "cell_type": "code",
   "execution_count": 2,
   "metadata": {},
   "outputs": [],
   "source": [
    "import torch\n",
    "import torch.nn as nn\n",
    "import torch.optim as optim\n",
    "import torch.nn.functional as F"
   ]
  },
  {
   "cell_type": "markdown",
   "metadata": {},
   "source": [
    "Pick GPU if available"
   ]
  },
  {
   "cell_type": "code",
   "execution_count": 3,
   "metadata": {},
   "outputs": [],
   "source": [
    "device = torch.device(\"cuda:0\" if torch.cuda.is_available() else \"cpu\")"
   ]
  },
  {
   "cell_type": "code",
   "execution_count": 4,
   "metadata": {},
   "outputs": [],
   "source": [
    "npzfile = np.load('data_tmp.npz')\n",
    "reviews_enc = npzfile['reviews_enc'].astype(np.uint8)\n",
    "scores_np = npzfile['scores_np']\n",
    "del npzfile"
   ]
  },
  {
   "cell_type": "code",
   "execution_count": 5,
   "metadata": {},
   "outputs": [],
   "source": [
    "labels = scores_np.reshape(-1, 1)"
   ]
  },
  {
   "cell_type": "code",
   "execution_count": 11,
   "metadata": {},
   "outputs": [],
   "source": [
    "indices = np.array(range(len(labels)))\n",
    "np.random.shuffle(indices)\n",
    "reviews_enc = reviews_enc[indices]\n",
    "labels = labels[indices]"
   ]
  },
  {
   "cell_type": "code",
   "execution_count": 12,
   "metadata": {},
   "outputs": [],
   "source": [
    "split = 800000\n",
    "train_reviews_enc = reviews_enc[:split]\n",
    "train_labels = labels[:split]\n",
    "test_reviews_enc = reviews_enc[split:]\n",
    "test_labels = labels[split:]"
   ]
  },
  {
   "cell_type": "code",
   "execution_count": 13,
   "metadata": {},
   "outputs": [
    {
     "name": "stdout",
     "output_type": "stream",
     "text": [
      "(800000, 1549)\n",
      "(800000, 1)\n",
      "(182619, 1549)\n",
      "(182619, 1)\n"
     ]
    }
   ],
   "source": [
    "print(train_reviews_enc.shape)\n",
    "print(train_labels.shape)\n",
    "print(test_reviews_enc.shape)\n",
    "print(test_labels.shape)"
   ]
  },
  {
   "cell_type": "code",
   "execution_count": 15,
   "metadata": {},
   "outputs": [
    {
     "data": {
      "image/png": "[encoded data removed]",
      "text/plain": [
       "<Figure size 432x288 with 1 Axes>"
      ]
     },
     "metadata": {
      "needs_background": "light"
     },
     "output_type": "display_data"
    }
   ],
   "source": [
    "scores_counter = collections.Counter(test_labels.ravel())\n",
    "plt.bar(scores_counter.keys(), scores_counter.values())\n",
    "plt.plot();"
   ]
  },
  {
   "cell_type": "markdown",
   "metadata": {},
   "source": [
    "**PyTorch Model**"
   ]
  },
  {
   "cell_type": "code",
   "execution_count": 16,
   "metadata": {},
   "outputs": [
    {
     "name": "stdout",
     "output_type": "stream",
     "text": [
      "nb_neg: 46401\n",
      "nb_mix: 78177\n",
      "nb_pos: 675422\n",
      "nb_all: 800000\n"
     ]
    }
   ],
   "source": [
    "nb_neg = np.sum(train_labels==0)\n",
    "nb_mix = np.sum(train_labels==1)\n",
    "nb_pos = np.sum(train_labels==2)\n",
    "nb_all = len(train_labels)\n",
    "print('nb_neg:', nb_neg)\n",
    "print('nb_mix:', nb_mix)\n",
    "print('nb_pos:', nb_pos)\n",
    "print('nb_all:', nb_all)"
   ]
  },
  {
   "cell_type": "code",
   "execution_count": 17,
   "metadata": {},
   "outputs": [
    {
     "name": "stdout",
     "output_type": "stream",
     "text": [
      "[1.80479677 1.071215   0.12398823]\n"
     ]
    }
   ],
   "source": [
    "pos_weight = nb_all / np.array([nb_neg, nb_mix, nb_pos])\n",
    "pos_weight = 3*pos_weight / pos_weight.sum()\n",
    "print(pos_weight)"
   ]
  },
  {
   "cell_type": "code",
   "execution_count": 18,
   "metadata": {},
   "outputs": [
    {
     "data": {
      "text/plain": [
       "3.0"
      ]
     },
     "execution_count": 18,
     "metadata": {},
     "output_type": "execute_result"
    }
   ],
   "source": [
    "sum(pos_weight)"
   ]
  },
  {
   "cell_type": "code",
   "execution_count": 19,
   "metadata": {},
   "outputs": [
    {
     "data": {
      "text/plain": [
       "array([83744.37511007, 83744.37511007, 83744.37511007])"
      ]
     },
     "execution_count": 19,
     "metadata": {},
     "output_type": "execute_result"
    }
   ],
   "source": [
    "np.array([nb_neg, nb_mix, nb_pos]) * pos_weight"
   ]
  },
  {
   "cell_type": "code",
   "execution_count": 20,
   "metadata": {},
   "outputs": [],
   "source": [
    "# pos_weight = nb_neg / nb_pos\n",
    "# print(pos_weight)"
   ]
  },
  {
   "cell_type": "code",
   "execution_count": 21,
   "metadata": {},
   "outputs": [
    {
     "name": "stdout",
     "output_type": "stream",
     "text": [
      "weight: tensor([[1.8048, 1.0712, 0.1240]], device='cuda:0')\n"
     ]
    }
   ],
   "source": [
    "weight = torch.tensor([pos_weight], dtype=torch.float32, device=device)\n",
    "print('weight:', weight)"
   ]
  },
  {
   "cell_type": "code",
   "execution_count": 22,
   "metadata": {},
   "outputs": [],
   "source": [
    "def accuracy(logits, labels): \n",
    "    predictions = torch.argmax(logits, dim=1)\n",
    "    return (predictions == labels).float().mean()  # tensor!!"
   ]
  },
  {
   "cell_type": "code",
   "execution_count": 23,
   "metadata": {},
   "outputs": [
    {
     "name": "stdout",
     "output_type": "stream",
     "text": [
      "Sequential(\n",
      "  (0): Linear(in_features=1549, out_features=512, bias=True)\n",
      "  (1): ELU(alpha=1.0)\n",
      "  (2): Dropout(p=0.5)\n",
      "  (3): Linear(in_features=512, out_features=512, bias=True)\n",
      "  (4): ELU(alpha=1.0)\n",
      "  (5): Dropout(p=0.5)\n",
      "  (6): Linear(in_features=512, out_features=3, bias=True)\n",
      ")\n"
     ]
    }
   ],
   "source": [
    "model = nn.Sequential(\n",
    "    nn.Linear(in_features=1549, out_features=512),\n",
    "    nn.ELU(),\n",
    "    nn.Dropout(0.5),\n",
    "    nn.Linear(in_features=512, out_features=512),\n",
    "    nn.ELU(),\n",
    "    nn.Dropout(0.5),\n",
    "    nn.Linear(in_features=512, out_features=3),  # return logits\n",
    ")\n",
    "model.to(device)\n",
    "criterion = nn.CrossEntropyLoss(weight=weight)    # because this expects logits\n",
    "optimizer = torch.optim.Adam(model.parameters(), lr=0.0001)\n",
    "print(model)"
   ]
  },
  {
   "cell_type": "code",
   "execution_count": 24,
   "metadata": {},
   "outputs": [],
   "source": [
    "# model = nn.Sequential(\n",
    "#     nn.Linear(in_features=1549, out_features=250),\n",
    "#     nn.Sigmoid(),\n",
    "#     nn.Linear(in_features=250, out_features=3))    # no sigmoid at the output\n",
    "# model.to(device)\n",
    "# criterion = nn.CrossEntropyLoss(weight=weight)    # because this expects logits\n",
    "# optimizer = torch.optim.Adam(model.parameters())\n",
    "# print(model)"
   ]
  },
  {
   "cell_type": "code",
   "execution_count": 25,
   "metadata": {},
   "outputs": [],
   "source": [
    "train_features = torch.tensor(train_reviews_enc, dtype=torch.int8, device=device)\n",
    "train_targets = torch.tensor(train_labels.ravel(), dtype=torch.int64, device=device)\n",
    "test_features = torch.tensor(test_reviews_enc, dtype=torch.int8, device=device)\n",
    "test_targets = torch.tensor(test_labels.ravel(), dtype=torch.int64, device=device)"
   ]
  },
  {
   "cell_type": "code",
   "execution_count": 26,
   "metadata": {},
   "outputs": [
    {
     "name": "stdout",
     "output_type": "stream",
     "text": [
      "Epoch 0 (0%)\n",
      "Epoch 0 (10%)\n",
      "Epoch 0 (20%)\n",
      "Epoch 0 (30%)\n",
      "Epoch 0 (40%)\n",
      "Epoch 0 (50%)\n",
      "Epoch 0 (60%)\n",
      "Epoch 0 (70%)\n",
      "Epoch 0 (80%)\n",
      "Epoch 0 (90%)\n",
      "Epoch 1 (0%)\n",
      "Epoch 1 (10%)\n",
      "Epoch 1 (20%)\n",
      "Epoch 1 (30%)\n",
      "Epoch 1 (40%)\n",
      "Epoch 1 (50%)\n",
      "Epoch 1 (60%)\n",
      "Epoch 1 (70%)\n",
      "Epoch 1 (80%)\n",
      "Epoch 1 (90%)\n"
     ]
    }
   ],
   "source": [
    "batch_size = 250\n",
    "hist = { 'loss':[], 'acc':[] }\n",
    "\n",
    "model.train()\n",
    "\n",
    "for epoch in range(2):  # loop over the dataset multiple times\n",
    "    indices = torch.randperm(len(train_features), device=device)\n",
    "    for i in range(0, len(train_features), batch_size):\n",
    "    \n",
    "        # Pick mini-batch\n",
    "        inputs = train_features[indices[i:i+batch_size]]\n",
    "        targets = train_targets[indices[i:i+batch_size]]\n",
    "        inputs = inputs.float()  # int8 -> float\n",
    "        \n",
    "        # Optimize\n",
    "        optimizer.zero_grad()\n",
    "        logits = model(inputs)\n",
    "        loss = criterion(logits, targets)\n",
    "        loss.backward()\n",
    "        optimizer.step()\n",
    "        \n",
    "        # Record\n",
    "        with torch.no_grad():\n",
    "            acc = accuracy(logits, targets)\n",
    "            hist['loss'].append( loss.item() )\n",
    "            hist['acc'].append( acc.item() )\n",
    "            \n",
    "            \n",
    "        if i % 80000 == 0:\n",
    "            print(f'Epoch {epoch} ({100*(i/len(train_features)):.0f}%)')"
   ]
  },
  {
   "cell_type": "code",
   "execution_count": 27,
   "metadata": {},
   "outputs": [],
   "source": [
    "def evaluate(data_features, data_targets, batch_size):\n",
    "    \n",
    "    predictions = torch.zeros_like(data_targets)   # model outputs\n",
    "    \n",
    "    model.eval()\n",
    "    loss_sum, acc_sum = 0, 0\n",
    "    with torch.no_grad():        \n",
    "        for i in range(0, len(data_features), batch_size):\n",
    "\n",
    "            # Pick mini-batch\n",
    "            inputs = data_features[i:i+batch_size]\n",
    "            targets = data_targets[i:i+batch_size]\n",
    "            inputs = inputs.float()  # int8 -> float\n",
    "\n",
    "            # Forward pass\n",
    "            logits = model(inputs)\n",
    "            loss = criterion(logits, targets)\n",
    "            acc = accuracy(logits, targets)\n",
    "\n",
    "            predictions[i:i+batch_size] = logits.argmax(dim=1)\n",
    "            \n",
    "            # Record per-iteration loss\n",
    "            loss_sum += loss.item() * len(inputs)\n",
    "            acc_sum += acc.item() * len(inputs)\n",
    "        \n",
    "    loss_avg = loss_sum / len(data_features)\n",
    "    acc_avg = acc_sum / len(data_features)\n",
    "    \n",
    "    return loss_avg, acc_avg, predictions"
   ]
  },
  {
   "cell_type": "code",
   "execution_count": 28,
   "metadata": {},
   "outputs": [
    {
     "name": "stdout",
     "output_type": "stream",
     "text": [
      "0.6734410502016545 0.7557262843474746\n"
     ]
    }
   ],
   "source": [
    "loss, acc, predictions = evaluate(train_features, train_targets, batch_size)\n",
    "print(loss, acc)"
   ]
  },
  {
   "cell_type": "code",
   "execution_count": null,
   "metadata": {},
   "outputs": [],
   "source": [
    "model.eval()                                                       # set model for evaluatiotn, disable dropout etc\n",
    "with torch.no_grad():\n",
    "    logits = model(train_features.float())\n",
    "    acc = accuracy(logits, train_targets).item() \n",
    "print(f'Accuracy on train set: {acc}')"
   ]
  },
  {
   "cell_type": "code",
   "execution_count": 29,
   "metadata": {},
   "outputs": [
    {
     "name": "stdout",
     "output_type": "stream",
     "text": [
      "0.6775532329673708 0.7565368682219347\n"
     ]
    }
   ],
   "source": [
    "loss, acc, predictions = evaluate(test_features, test_targets, batch_size)\n",
    "print(loss, acc)"
   ]
  },
  {
   "cell_type": "code",
   "execution_count": null,
   "metadata": {},
   "outputs": [],
   "source": [
    "model.eval()                                                       # set model for evaluatiotn, disable dropout etc\n",
    "with torch.no_grad():\n",
    "    logits = model(test_features.float())\n",
    "    acc = accuracy(logits, test_targets).item() \n",
    "print(f'Accuracy on test set: {acc}')"
   ]
  },
  {
   "cell_type": "code",
   "execution_count": 30,
   "metadata": {},
   "outputs": [
    {
     "data": {
      "image/png": "[encoded data removed]",
      "text/plain": [
       "<Figure size 432x288 with 1 Axes>"
      ]
     },
     "metadata": {
      "needs_background": "light"
     },
     "output_type": "display_data"
    }
   ],
   "source": [
    "plt.plot(hist['loss'], label='loss')\n",
    "plt.plot(hist['acc'], label='acc', color='red')\n",
    "plt.legend();"
   ]
  },
  {
   "cell_type": "code",
   "execution_count": 33,
   "metadata": {},
   "outputs": [
    {
     "name": "stdout",
     "output_type": "stream",
     "text": [
      "Confusion Matrix\n",
      "[[  8430.   1801.    516.]\n",
      " [  5132.   9651.   3234.]\n",
      " [ 11214.  22564. 120077.]]\n",
      "Per class acc: [0.78440493 0.53566074 0.78045565]\n",
      "Accuracy:      0.7565368413925171\n"
     ]
    }
   ],
   "source": [
    "cm, pca, acc = get_stats(test_targets, predictions, nb_class=3)\n",
    "print('Confusion Matrix')\n",
    "print(cm)\n",
    "print('Per class acc:', pca)\n",
    "print('Accuracy:     ', acc)"
   ]
  },
  {
   "cell_type": "code",
   "execution_count": null,
   "metadata": {},
   "outputs": [],
   "source": []
  },
  {
   "cell_type": "code",
   "execution_count": null,
   "metadata": {},
   "outputs": [],
   "source": []
  },
  {
   "cell_type": "code",
   "execution_count": null,
   "metadata": {},
   "outputs": [],
   "source": []
  },
  {
   "cell_type": "code",
   "execution_count": null,
   "metadata": {},
   "outputs": [],
   "source": []
  },
  {
   "cell_type": "code",
   "execution_count": null,
   "metadata": {},
   "outputs": [],
   "source": []
  },
  {
   "cell_type": "code",
   "execution_count": null,
   "metadata": {},
   "outputs": [],
   "source": []
  },
  {
   "cell_type": "code",
   "execution_count": null,
   "metadata": {},
   "outputs": [],
   "source": []
  },
  {
   "cell_type": "code",
   "execution_count": null,
   "metadata": {},
   "outputs": [],
   "source": []
  },
  {
   "cell_type": "markdown",
   "metadata": {},
   "source": [
    "**Confusion Matrix**"
   ]
  },
  {
   "cell_type": "code",
   "execution_count": 31,
   "metadata": {},
   "outputs": [],
   "source": [
    "def confusion_matrix(y_true, y_pred, result=None, nb_classes=None, norm='none'):\n",
    "    \"\"\"Compute confusion matrix. Works with NumPy and PyTorch tensors seamlessly\"\"\"\n",
    "    assert y_true.shape == y_pred.shape\n",
    "        \n",
    "    if nb_classes==None:\n",
    "        nb_classes = int(max(y_true.max(), y_pred.max())) + 1\n",
    "        \n",
    "    if result is None:\n",
    "        confusion_matrix = np.zeros((nb_classes, nb_classes), dtype=np.long)\n",
    "    else:\n",
    "        confusion_matrix = result\n",
    "    \n",
    "    for true_class_idx in range(nb_classes):\n",
    "        y_pred_for_class = y_pred[y_true==true_class_idx]\n",
    "        for pred_class_idx in range(nb_classes):\n",
    "            tmp = (y_pred_for_class==pred_class_idx).sum()\n",
    "            confusion_matrix[true_class_idx, pred_class_idx] = tmp\n",
    "        \n",
    "    if norm == 'none':\n",
    "        return confusion_matrix  # return raw\n",
    "    elif norm == 'row':\n",
    "        return confusion_matrix / confusion_matrix.sum(axis=1, keepdims=True)  # rows sum to 1\n",
    "    elif norm == 'col':\n",
    "        return confusion_matrix / confusion_matrix.sum(axis=0, keepdims=True)  # cols sum to 1\n",
    "    else:\n",
    "        raise ValueError('norm must be \"none\", \"row\" or \"col\"')"
   ]
  },
  {
   "cell_type": "code",
   "execution_count": 32,
   "metadata": {},
   "outputs": [],
   "source": [
    "def get_stats(y_true, y_pred, nb_class):\n",
    "    cm = torch.zeros((nb_class, nb_class), dtype=torch.float32, device=device)\n",
    "    cm = confusion_matrix(test_targets, predictions, result=cm)\n",
    "    cmr = cm / cm.sum(dim=1, keepdim=True)\n",
    "    pca = cmr.diagonal()\n",
    "    acc = cm.trace() / cm.sum()\n",
    "    return cm.cpu().numpy(), pca.cpu().numpy(), acc.item()"
   ]
  },
  {
   "cell_type": "code",
   "execution_count": 72,
   "metadata": {
    "scrolled": true
   },
   "outputs": [
    {
     "name": "stdout",
     "output_type": "stream",
     "text": [
      "Confusion Matrix\n",
      "[[  3083.    631.   2398.]\n",
      " [  1213.   2406.   7421.]\n",
      " [   661.   1205. 163601.]]\n",
      "Per class acc: [0.50441754 0.21793479 0.9887228 ]\n",
      "Accuracy:      0.9259167909622192\n"
     ]
    }
   ],
   "source": [
    "cm, pca, acc = get_stats(test_targets, predictions)\n",
    "print('Confusion Matrix')\n",
    "print(cm)\n",
    "print('Per class acc:', pca)\n",
    "print('Accuracy:     ', acc)"
   ]
  },
  {
   "cell_type": "code",
   "execution_count": 379,
   "metadata": {},
   "outputs": [],
   "source": []
  },
  {
   "cell_type": "code",
   "execution_count": null,
   "metadata": {},
   "outputs": [],
   "source": []
  },
  {
   "cell_type": "code",
   "execution_count": null,
   "metadata": {},
   "outputs": [],
   "source": []
  },
  {
   "cell_type": "code",
   "execution_count": null,
   "metadata": {},
   "outputs": [],
   "source": []
  },
  {
   "cell_type": "code",
   "execution_count": null,
   "metadata": {},
   "outputs": [],
   "source": []
  },
  {
   "cell_type": "code",
   "execution_count": null,
   "metadata": {},
   "outputs": [],
   "source": []
  },
  {
   "cell_type": "markdown",
   "metadata": {},
   "source": [
    "<div class=\"alert alert-danger\">\n",
    "\n",
    "End of testing\n",
    "            \n",
    "</div>"
   ]
  },
  {
   "cell_type": "code",
   "execution_count": null,
   "metadata": {},
   "outputs": [],
   "source": []
  },
  {
   "cell_type": "code",
   "execution_count": null,
   "metadata": {},
   "outputs": [],
   "source": []
  },
  {
   "cell_type": "code",
   "execution_count": null,
   "metadata": {},
   "outputs": [],
   "source": []
  },
  {
   "cell_type": "code",
   "execution_count": null,
   "metadata": {},
   "outputs": [],
   "source": []
  },
  {
   "cell_type": "code",
   "execution_count": null,
   "metadata": {},
   "outputs": [],
   "source": []
  },
  {
   "cell_type": "code",
   "execution_count": null,
   "metadata": {},
   "outputs": [],
   "source": []
  },
  {
   "cell_type": "code",
   "execution_count": null,
   "metadata": {},
   "outputs": [],
   "source": []
  },
  {
   "cell_type": "code",
   "execution_count": null,
   "metadata": {},
   "outputs": [],
   "source": []
  },
  {
   "cell_type": "code",
   "execution_count": null,
   "metadata": {},
   "outputs": [],
   "source": []
  },
  {
   "cell_type": "code",
   "execution_count": null,
   "metadata": {},
   "outputs": [],
   "source": []
  },
  {
   "cell_type": "code",
   "execution_count": null,
   "metadata": {},
   "outputs": [],
   "source": []
  },
  {
   "cell_type": "code",
   "execution_count": null,
   "metadata": {},
   "outputs": [],
   "source": []
  },
  {
   "cell_type": "code",
   "execution_count": null,
   "metadata": {},
   "outputs": [],
   "source": []
  },
  {
   "cell_type": "code",
   "execution_count": null,
   "metadata": {},
   "outputs": [],
   "source": []
  },
  {
   "cell_type": "code",
   "execution_count": null,
   "metadata": {},
   "outputs": [],
   "source": []
  },
  {
   "cell_type": "code",
   "execution_count": null,
   "metadata": {},
   "outputs": [],
   "source": []
  },
  {
   "cell_type": "code",
   "execution_count": null,
   "metadata": {},
   "outputs": [],
   "source": []
  },
  {
   "cell_type": "code",
   "execution_count": null,
   "metadata": {},
   "outputs": [],
   "source": []
  },
  {
   "cell_type": "code",
   "execution_count": null,
   "metadata": {},
   "outputs": [],
   "source": []
  },
  {
   "cell_type": "code",
   "execution_count": null,
   "metadata": {},
   "outputs": [],
   "source": []
  },
  {
   "cell_type": "code",
   "execution_count": null,
   "metadata": {},
   "outputs": [],
   "source": []
  },
  {
   "cell_type": "code",
   "execution_count": null,
   "metadata": {},
   "outputs": [],
   "source": []
  },
  {
   "cell_type": "code",
   "execution_count": null,
   "metadata": {},
   "outputs": [],
   "source": []
  },
  {
   "cell_type": "code",
   "execution_count": null,
   "metadata": {},
   "outputs": [],
   "source": []
  },
  {
   "cell_type": "code",
   "execution_count": null,
   "metadata": {},
   "outputs": [],
   "source": []
  },
  {
   "cell_type": "code",
   "execution_count": null,
   "metadata": {},
   "outputs": [],
   "source": []
  },
  {
   "cell_type": "code",
   "execution_count": null,
   "metadata": {},
   "outputs": [],
   "source": []
  },
  {
   "cell_type": "code",
   "execution_count": null,
   "metadata": {},
   "outputs": [],
   "source": []
  },
  {
   "cell_type": "code",
   "execution_count": null,
   "metadata": {},
   "outputs": [],
   "source": []
  },
  {
   "cell_type": "code",
   "execution_count": null,
   "metadata": {},
   "outputs": [],
   "source": []
  },
  {
   "cell_type": "code",
   "execution_count": null,
   "metadata": {},
   "outputs": [],
   "source": []
  },
  {
   "cell_type": "code",
   "execution_count": null,
   "metadata": {},
   "outputs": [],
   "source": []
  },
  {
   "cell_type": "code",
   "execution_count": null,
   "metadata": {},
   "outputs": [],
   "source": []
  },
  {
   "cell_type": "code",
   "execution_count": 26,
   "metadata": {},
   "outputs": [
    {
     "name": "stdout",
     "output_type": "stream",
     "text": [
      "|                                                |\n",
      ".................................................."
     ]
    }
   ],
   "source": [
    "reviews_tok = []\n",
    "\n",
    "print('|' + ' '*48 + '|')\n",
    "for i in range(len(reviews_clean)):\n",
    "    reviews_tok.append( [w2i[w] for w in reviews_clean[i]] )\n",
    "    if i % 20000 == 0:\n",
    "        print('.', end='')"
   ]
  },
  {
   "cell_type": "code",
   "execution_count": 27,
   "metadata": {},
   "outputs": [
    {
     "name": "stdout",
     "output_type": "stream",
     "text": [
      "['fairly', 'interesting', 'read', 'old', 'style', 'terminology', 'glad', 'get', 'read', 'story', 'coarse', 'read', 'fun', 'relaxation', 'like', 'free', 'check', 'writer', 'decide', 'intriguing', 'innovative', 'enough', 'command', 'convey', 'story', 'without', 'crude', 'language']\n"
     ]
    }
   ],
   "source": [
    "print(reviews_clean[2])"
   ]
  },
  {
   "cell_type": "code",
   "execution_count": 28,
   "metadata": {},
   "outputs": [
    {
     "name": "stdout",
     "output_type": "stream",
     "text": [
      "[1048, 81, 3, 153, 275, 7187, 232, 15, 3, 2, 12357, 3, 85, 8164, 6, 166, 593, 318, 892, 613, 7577, 92, 4105, 4843, 2, 133, 4851, 662]\n"
     ]
    }
   ],
   "source": [
    "print(reviews_tok[2])"
   ]
  },
  {
   "cell_type": "markdown",
   "metadata": {},
   "source": [
    "**Trimming and Padding**"
   ]
  },
  {
   "cell_type": "markdown",
   "metadata": {},
   "source": [
    "Lets have a look at review lengths next"
   ]
  },
  {
   "cell_type": "code",
   "execution_count": 29,
   "metadata": {},
   "outputs": [],
   "source": [
    "lengths = np.array([len(r) for r in reviews_tok])\n",
    "lenghts_counter = collections.Counter(lengths)"
   ]
  },
  {
   "cell_type": "code",
   "execution_count": 30,
   "metadata": {},
   "outputs": [
    {
     "data": {
      "image/png": "[encoded data removed]",
      "text/plain": [
       "<Figure size 1152x432 with 2 Axes>"
      ]
     },
     "metadata": {
      "needs_background": "light"
     },
     "output_type": "display_data"
    }
   ],
   "source": [
    "plot_counts(lenghts_counter, title='Length')"
   ]
  },
  {
   "cell_type": "markdown",
   "metadata": {},
   "source": [
    "We can see some reviews are over 35k words!"
   ]
  },
  {
   "cell_type": "markdown",
   "metadata": {},
   "source": [
    "To feed reviews into neural network in mini-batches all reviews have to have same length.\n",
    "\n",
    "We will:\n",
    "* trim all reviews to 200 words\n",
    "* pad all shorter reviews with <nop>"
   ]
  },
  {
   "cell_type": "code",
   "execution_count": 31,
   "metadata": {},
   "outputs": [],
   "source": [
    "target_len = 200\n",
    "reviews_np = np.zeros(shape=(len(reviews_tok), target_len), dtype=int)\n",
    "\n",
    "for i in range(len(reviews_tok)):\n",
    "    rev_trimmed = reviews_tok[i][:200]                # trim to 200\n",
    "    start = target_len - len(rev_trimmed)\n",
    "    reviews_np[i, start:target_len] = rev_trimmed"
   ]
  },
  {
   "cell_type": "code",
   "execution_count": 32,
   "metadata": {},
   "outputs": [
    {
     "name": "stdout",
     "output_type": "stream",
     "text": [
      "[[   0    0    0 ...   56    8    3]\n",
      " [   0    0    0 ...  165  118   26]\n",
      " [   0    0    0 ...  133 4851  662]\n",
      " ...\n",
      " [   0    0    0 ...  111   69   31]\n",
      " [   0    0    0 ...    5   42   69]\n",
      " [   0    0    0 ... 3339  337   69]]\n"
     ]
    }
   ],
   "source": [
    "print(reviews_np)"
   ]
  },
  {
   "cell_type": "markdown",
   "metadata": {},
   "source": [
    "Check out the result"
   ]
  },
  {
   "cell_type": "code",
   "execution_count": 33,
   "metadata": {},
   "outputs": [
    {
     "name": "stdout",
     "output_type": "stream",
     "text": [
      "[    0     0     0     0     0     0     0     0     0     0     0     0\n",
      "     0     0     0     0     0     0     0     0     0     0     0     0\n",
      "     0     0     0     0     0     0     0     0     0     0     0     0\n",
      "     0     0     0     0     0     0     0     0     0     0     0     0\n",
      "     0     0     0     0     0     0     0     0     0     0     0     0\n",
      "     0     0     0     0     0     0     0     0     0     0     0     0\n",
      "     0     0     0     0     0     0     0     0     0     0     0     0\n",
      "     0     0     0     0     0     0     0     0     0     0     0     0\n",
      "     0     0     0     0     0     0     0     0     0     0     0     0\n",
      "     0     0     0     0     0     0     0     0     0     0     0     0\n",
      "     0     0     0     0     0     0     0     0     0     0     0     0\n",
      "     0     0     0     0     0     0     0     0     0     0     0     0\n",
      "     0     0     0     0     0     0     0     0     0     0     0     0\n",
      "     0     0     0     0     0     0     0     0     0     0     0     0\n",
      "     0     0    97  9302    16  1997    33    17     1    87  1379    37\n",
      "  1440   168   314  4369   719   332   474   133 41395   990  3978   168\n",
      "  4370  3403    12  8262   673    56     8     3]\n"
     ]
    }
   ],
   "source": [
    "print(reviews_np[0])"
   ]
  },
  {
   "cell_type": "markdown",
   "metadata": {},
   "source": [
    "And convert back to string to make sure it's ok"
   ]
  },
  {
   "cell_type": "code",
   "execution_count": 34,
   "metadata": {},
   "outputs": [
    {
     "data": {
      "text/plain": [
       "'enjoy vintage books movies enjoyed reading book plot unusual think killing someone self defense leaving scene body without notifying police hitting someone jaw knock would wash today still good read'"
      ]
     },
     "execution_count": 34,
     "metadata": {},
     "output_type": "execute_result"
    }
   ],
   "source": [
    "' '.join(i2w[c] for c in reviews_np[0] if c != 0)"
   ]
  },
  {
   "cell_type": "markdown",
   "metadata": {},
   "source": [
    "**Convert Labels**"
   ]
  },
  {
   "cell_type": "markdown",
   "metadata": {},
   "source": [
    "Lets just check class distribution before we do anything"
   ]
  },
  {
   "cell_type": "code",
   "execution_count": 35,
   "metadata": {},
   "outputs": [
    {
     "data": {
      "image/png": "[encoded data removed]",
      "text/plain": [
       "<Figure size 432x288 with 1 Axes>"
      ]
     },
     "metadata": {
      "needs_background": "light"
     },
     "output_type": "display_data"
    }
   ],
   "source": [
    "scores_counter = collections.Counter(scores)\n",
    "plt.bar(scores_counter.keys(), scores_counter.values())\n",
    "plt.plot();"
   ]
  },
  {
   "cell_type": "markdown",
   "metadata": {},
   "source": [
    "Ok, this is not very well balanced dataset :S. There is not much we can do about it here"
   ]
  },
  {
   "cell_type": "code",
   "execution_count": 36,
   "metadata": {},
   "outputs": [],
   "source": [
    "s2s = {1:0, 2:0, 3:1, 4:2, 5:2 }        # convert scores to 3-way scale neg/mix/pos\n",
    "scores_np = np.array([s2s[s] for s in scores])\n",
    "assert len(reviews_np) == len(scores_np)"
   ]
  },
  {
   "cell_type": "markdown",
   "metadata": {},
   "source": [
    "Sanity check"
   ]
  },
  {
   "cell_type": "code",
   "execution_count": 37,
   "metadata": {},
   "outputs": [
    {
     "data": {
      "image/png": "[encoded data removed]",
      "text/plain": [
       "<Figure size 432x288 with 1 Axes>"
      ]
     },
     "metadata": {
      "needs_background": "light"
     },
     "output_type": "display_data"
    }
   ],
   "source": [
    "scores_counter = collections.Counter(scores_np)\n",
    "plt.bar(scores_counter.keys(), scores_counter.values())\n",
    "plt.plot();"
   ]
  },
  {
   "cell_type": "markdown",
   "metadata": {},
   "source": [
    "**Shuffle and Split**"
   ]
  },
  {
   "cell_type": "markdown",
   "metadata": {},
   "source": [
    "Create index array and shuffle"
   ]
  },
  {
   "cell_type": "code",
   "execution_count": 38,
   "metadata": {},
   "outputs": [],
   "source": [
    "indices = np.array(range(len(reviews_np)))\n",
    "np.random.shuffle(indices)"
   ]
  },
  {
   "cell_type": "markdown",
   "metadata": {},
   "source": [
    "Calculate split points and split"
   ]
  },
  {
   "cell_type": "code",
   "execution_count": 39,
   "metadata": {},
   "outputs": [
    {
     "name": "stdout",
     "output_type": "stream",
     "text": [
      "Nb train reviews: 884357\n",
      "Nb valid reviews:  49131\n",
      "Nb test reviews:   49131\n"
     ]
    }
   ],
   "source": [
    "train_split_index = int(len(reviews_np) * .90)\n",
    "valid_split_index = int(len(reviews_np) * .95)\n",
    "\n",
    "train_i, valid_i, test_i = np.split(\n",
    "    indices, [train_split_index, valid_split_index])\n",
    "\n",
    "print('Nb train reviews:', len(train_i))\n",
    "print('Nb valid reviews: ', len(valid_i))\n",
    "print('Nb test reviews:  ', len(test_i))"
   ]
  },
  {
   "cell_type": "markdown",
   "metadata": {},
   "source": [
    "Split the dataset into three parts"
   ]
  },
  {
   "cell_type": "code",
   "execution_count": 40,
   "metadata": {},
   "outputs": [],
   "source": [
    "train_x, train_y = reviews_np[train_i], scores_np[train_i]\n",
    "valid_x, valid_y = reviews_np[valid_i], scores_np[valid_i]\n",
    "test_x, test_y = reviews_np[test_i], scores_np[test_i]"
   ]
  },
  {
   "cell_type": "code",
   "execution_count": 41,
   "metadata": {},
   "outputs": [],
   "source": [
    "train_x = torch.tensor(train_x, device=device)\n",
    "train_y = torch.tensor(train_y, device=device)\n",
    "valid_x = torch.tensor(valid_x, device=device)\n",
    "valid_y = torch.tensor(valid_y, device=device)"
   ]
  },
  {
   "cell_type": "markdown",
   "metadata": {},
   "source": [
    "# Train Model"
   ]
  },
  {
   "cell_type": "code",
   "execution_count": 370,
   "metadata": {},
   "outputs": [],
   "source": [
    "class SentimentNetwork(nn.Module):\n",
    "    def __init__(self, nb_layers, n_vocab, n_embed, n_hid, n_out, dropout):\n",
    "        super(SentimentNetwork, self).__init__()\n",
    "        \n",
    "        self.embed = nn.Embedding(num_embeddings=n_vocab, embedding_dim=n_embed)\n",
    "        self.lstm = nn.LSTM(input_size=n_embed, hidden_size=n_hid, num_layers=nb_layers,\n",
    "                           batch_first=True, dropout=dropout)\n",
    "        self.drop = nn.Dropout(p=dropout)\n",
    "        self.fc = nn.Linear(in_features=n_hid, out_features=n_out)\n",
    "        \n",
    "    def forward(self, x):\n",
    "        x = self.embed(x)                   # shape [n_batch, n_seq, n_embed]\n",
    "        x, _ = self.lstm(x)                 # shape [n_batch, n_seq, n_hid]\n",
    "        x = x[:, -1, :]                     # shape [n_batch, n_hid]\n",
    "        return self.fc(x)                   # shape [n_batch, n_out]\n",
    "    \n",
    "#     def init_hidden(self, n_batch):\n",
    "#         x = torch.zeros(n_batch, 1, dtype=torch.int64, device=device)\n",
    "#         x = self.embed(x)\n",
    "#         _, self.hidden = self.lstm(x)"
   ]
  },
  {
   "cell_type": "code",
   "execution_count": 375,
   "metadata": {},
   "outputs": [],
   "source": [
    "nb_layers = 2\n",
    "n_vocab = len(i2w)\n",
    "n_embed = 300\n",
    "n_hid = 512\n",
    "n_out = 3              # neg/mix/pos\n",
    "n_batch = 256"
   ]
  },
  {
   "cell_type": "code",
   "execution_count": 376,
   "metadata": {},
   "outputs": [],
   "source": [
    "model = SentimentNetwork(nb_layers, n_vocab, n_embed, n_hid, n_out, dropout=.5)\n",
    "model.to(device)\n",
    "optimizer = optim.Adam(model.parameters())\n",
    "criterion = nn.CrossEntropyLoss()"
   ]
  },
  {
   "cell_type": "code",
   "execution_count": null,
   "metadata": {},
   "outputs": [],
   "source": []
  },
  {
   "cell_type": "code",
   "execution_count": null,
   "metadata": {},
   "outputs": [],
   "source": [
    "def accuracy(logits, labels): \n",
    "    predictions = torch.argmax(logits, dim=1)\n",
    "    return (predictions == labels).float().mean()  # tensor!!"
   ]
  },
  {
   "cell_type": "code",
   "execution_count": null,
   "metadata": {},
   "outputs": [],
   "source": [
    "def per_class_accuracy(y_true, y_pred, nb_classes):\n",
    "    \n",
    "    y_correct = y_true == y_hat\n",
    "    result = torch.zeros(nb_classes)\n",
    "    for c in range(nb_classes):\n",
    "        curr_class =  y_true == c\n",
    "        class_correct = y_true[curr_class] == y_hat[curr_class]\n",
    "        class_acc = class_correct.sum(dtype=torch.float) / len(class_correct)\n",
    "        result[c] = class_acc\n",
    "        \n",
    "    return result.cpu().numpy()"
   ]
  },
  {
   "cell_type": "code",
   "execution_count": 428,
   "metadata": {},
   "outputs": [],
   "source": [
    "def evaluate(data_x, data_y):\n",
    "    \n",
    "    pred_y = torch.zeros_like(data_y) + 7  # model outputs\n",
    "    \n",
    "    model.eval()\n",
    "    loss_sum, acc_sum = 0, 0\n",
    "    with torch.no_grad():        \n",
    "        for i in range(0, len(data_x), n_batch):\n",
    "\n",
    "            # Pick mini-batch\n",
    "            inputs = data_x[i:i+n_batch]\n",
    "            targets = data_y[i:i+n_batch]\n",
    "\n",
    "            # Forward pass\n",
    "            outputs = model(inputs)                      # logits\n",
    "            loss = criterion(outputs, targets)\n",
    "            acc = accuracy(outputs, targets)\n",
    "\n",
    "            pred_y[i:i+n_batch] = outputs.argmax(dim=1)  # logits\n",
    "            \n",
    "            # Record per-iteration loss\n",
    "            loss_sum += loss.item() * len(inputs)\n",
    "            acc_sum += acc.item() * len(inputs)\n",
    "            \n",
    "        nb_classes = outputs.shape[1]\n",
    "        class_acc = per_class_accuracy(data_y, pred_y, nb_classes)\n",
    "\n",
    "    loss_avg = loss_sum / len(data_x)\n",
    "    acc_avg = acc_sum / len(data_x)\n",
    "    \n",
    "    return loss_avg, acc_avg, class_acc"
   ]
  },
  {
   "cell_type": "code",
   "execution_count": null,
   "metadata": {},
   "outputs": [],
   "source": []
  },
  {
   "cell_type": "code",
   "execution_count": null,
   "metadata": {},
   "outputs": [],
   "source": []
  },
  {
   "cell_type": "code",
   "execution_count": 377,
   "metadata": {},
   "outputs": [],
   "source": [
    "trace = {'epoch': [], 'tloss': [], 'vloss': []}    # per epoch\n",
    "trace2 = {'loss' : []}                             # per iteration\n",
    "\n",
    "nb_epochs = 1"
   ]
  },
  {
   "cell_type": "code",
   "execution_count": 378,
   "metadata": {},
   "outputs": [
    {
     "name": "stdout",
     "output_type": "stream",
     "text": [
      "Epoch:   0 (0%)     Loss: 1.1156     Time: 0.31s\n",
      "Epoch:   0 (3%)     Loss: 0.3986     Time: 31.63s\n",
      "Epoch:   0 (6%)     Loss: 0.3837     Time: 65.80s\n"
     ]
    },
    {
     "ename": "KeyboardInterrupt",
     "evalue": "",
     "output_type": "error",
     "traceback": [
      "\u001b[0;31m---------------------------------------------------------------------------\u001b[0m",
      "\u001b[0;31mKeyboardInterrupt\u001b[0m                         Traceback (most recent call last)",
      "\u001b[0;32m<ipython-input-378-23d3ad8e5004>\u001b[0m in \u001b[0;36m<module>\u001b[0;34m\u001b[0m\n\u001b[1;32m     22\u001b[0m             \u001b[0;31m# Optimize\u001b[0m\u001b[0;34m\u001b[0m\u001b[0;34m\u001b[0m\u001b[0;34m\u001b[0m\u001b[0m\n\u001b[1;32m     23\u001b[0m             \u001b[0moptimizer\u001b[0m\u001b[0;34m.\u001b[0m\u001b[0mzero_grad\u001b[0m\u001b[0;34m(\u001b[0m\u001b[0;34m)\u001b[0m\u001b[0;34m\u001b[0m\u001b[0;34m\u001b[0m\u001b[0m\n\u001b[0;32m---> 24\u001b[0;31m             \u001b[0moutputs\u001b[0m \u001b[0;34m=\u001b[0m \u001b[0mmodel\u001b[0m\u001b[0;34m(\u001b[0m\u001b[0minputs\u001b[0m\u001b[0;34m)\u001b[0m\u001b[0;34m\u001b[0m\u001b[0;34m\u001b[0m\u001b[0m\n\u001b[0m\u001b[1;32m     25\u001b[0m             \u001b[0mloss\u001b[0m \u001b[0;34m=\u001b[0m \u001b[0mcriterion\u001b[0m\u001b[0;34m(\u001b[0m\u001b[0moutputs\u001b[0m\u001b[0;34m,\u001b[0m \u001b[0mtargets\u001b[0m\u001b[0;34m)\u001b[0m\u001b[0;34m\u001b[0m\u001b[0;34m\u001b[0m\u001b[0m\n\u001b[1;32m     26\u001b[0m             \u001b[0mloss\u001b[0m\u001b[0;34m.\u001b[0m\u001b[0mbackward\u001b[0m\u001b[0;34m(\u001b[0m\u001b[0;34m)\u001b[0m\u001b[0;34m\u001b[0m\u001b[0;34m\u001b[0m\u001b[0m\n",
      "\u001b[0;32m~/.anaconda/envs/ptgpu/lib/python3.7/site-packages/torch/nn/modules/module.py\u001b[0m in \u001b[0;36m__call__\u001b[0;34m(self, *input, **kwargs)\u001b[0m\n\u001b[1;32m    487\u001b[0m             \u001b[0mresult\u001b[0m \u001b[0;34m=\u001b[0m \u001b[0mself\u001b[0m\u001b[0;34m.\u001b[0m\u001b[0m_slow_forward\u001b[0m\u001b[0;34m(\u001b[0m\u001b[0;34m*\u001b[0m\u001b[0minput\u001b[0m\u001b[0;34m,\u001b[0m \u001b[0;34m**\u001b[0m\u001b[0mkwargs\u001b[0m\u001b[0;34m)\u001b[0m\u001b[0;34m\u001b[0m\u001b[0;34m\u001b[0m\u001b[0m\n\u001b[1;32m    488\u001b[0m         \u001b[0;32melse\u001b[0m\u001b[0;34m:\u001b[0m\u001b[0;34m\u001b[0m\u001b[0;34m\u001b[0m\u001b[0m\n\u001b[0;32m--> 489\u001b[0;31m             \u001b[0mresult\u001b[0m \u001b[0;34m=\u001b[0m \u001b[0mself\u001b[0m\u001b[0;34m.\u001b[0m\u001b[0mforward\u001b[0m\u001b[0;34m(\u001b[0m\u001b[0;34m*\u001b[0m\u001b[0minput\u001b[0m\u001b[0;34m,\u001b[0m \u001b[0;34m**\u001b[0m\u001b[0mkwargs\u001b[0m\u001b[0;34m)\u001b[0m\u001b[0;34m\u001b[0m\u001b[0;34m\u001b[0m\u001b[0m\n\u001b[0m\u001b[1;32m    490\u001b[0m         \u001b[0;32mfor\u001b[0m \u001b[0mhook\u001b[0m \u001b[0;32min\u001b[0m \u001b[0mself\u001b[0m\u001b[0;34m.\u001b[0m\u001b[0m_forward_hooks\u001b[0m\u001b[0;34m.\u001b[0m\u001b[0mvalues\u001b[0m\u001b[0;34m(\u001b[0m\u001b[0;34m)\u001b[0m\u001b[0;34m:\u001b[0m\u001b[0;34m\u001b[0m\u001b[0;34m\u001b[0m\u001b[0m\n\u001b[1;32m    491\u001b[0m             \u001b[0mhook_result\u001b[0m \u001b[0;34m=\u001b[0m \u001b[0mhook\u001b[0m\u001b[0;34m(\u001b[0m\u001b[0mself\u001b[0m\u001b[0;34m,\u001b[0m \u001b[0minput\u001b[0m\u001b[0;34m,\u001b[0m \u001b[0mresult\u001b[0m\u001b[0;34m)\u001b[0m\u001b[0;34m\u001b[0m\u001b[0;34m\u001b[0m\u001b[0m\n",
      "\u001b[0;32m<ipython-input-370-d39b889ad7b3>\u001b[0m in \u001b[0;36mforward\u001b[0;34m(self, x)\u001b[0m\n\u001b[1;32m     11\u001b[0m     \u001b[0;32mdef\u001b[0m \u001b[0mforward\u001b[0m\u001b[0;34m(\u001b[0m\u001b[0mself\u001b[0m\u001b[0;34m,\u001b[0m \u001b[0mx\u001b[0m\u001b[0;34m)\u001b[0m\u001b[0;34m:\u001b[0m\u001b[0;34m\u001b[0m\u001b[0;34m\u001b[0m\u001b[0m\n\u001b[1;32m     12\u001b[0m         \u001b[0mx\u001b[0m \u001b[0;34m=\u001b[0m \u001b[0mself\u001b[0m\u001b[0;34m.\u001b[0m\u001b[0membed\u001b[0m\u001b[0;34m(\u001b[0m\u001b[0mx\u001b[0m\u001b[0;34m)\u001b[0m                   \u001b[0;31m# shape [n_batch, n_seq, n_embed]\u001b[0m\u001b[0;34m\u001b[0m\u001b[0;34m\u001b[0m\u001b[0m\n\u001b[0;32m---> 13\u001b[0;31m         \u001b[0mx\u001b[0m\u001b[0;34m,\u001b[0m \u001b[0m_\u001b[0m \u001b[0;34m=\u001b[0m \u001b[0mself\u001b[0m\u001b[0;34m.\u001b[0m\u001b[0mlstm\u001b[0m\u001b[0;34m(\u001b[0m\u001b[0mx\u001b[0m\u001b[0;34m)\u001b[0m                 \u001b[0;31m# shape [n_batch, n_seq, n_hid]\u001b[0m\u001b[0;34m\u001b[0m\u001b[0;34m\u001b[0m\u001b[0m\n\u001b[0m\u001b[1;32m     14\u001b[0m         \u001b[0mx\u001b[0m \u001b[0;34m=\u001b[0m \u001b[0mx\u001b[0m\u001b[0;34m[\u001b[0m\u001b[0;34m:\u001b[0m\u001b[0;34m,\u001b[0m \u001b[0;34m-\u001b[0m\u001b[0;36m1\u001b[0m\u001b[0;34m,\u001b[0m \u001b[0;34m:\u001b[0m\u001b[0;34m]\u001b[0m                     \u001b[0;31m# shape [n_batch, n_hid]\u001b[0m\u001b[0;34m\u001b[0m\u001b[0;34m\u001b[0m\u001b[0m\n\u001b[1;32m     15\u001b[0m         \u001b[0;32mreturn\u001b[0m \u001b[0mself\u001b[0m\u001b[0;34m.\u001b[0m\u001b[0mfc\u001b[0m\u001b[0;34m(\u001b[0m\u001b[0mx\u001b[0m\u001b[0;34m)\u001b[0m                   \u001b[0;31m# shape [n_batch, n_out]\u001b[0m\u001b[0;34m\u001b[0m\u001b[0;34m\u001b[0m\u001b[0m\n",
      "\u001b[0;32m~/.anaconda/envs/ptgpu/lib/python3.7/site-packages/torch/nn/modules/module.py\u001b[0m in \u001b[0;36m__call__\u001b[0;34m(self, *input, **kwargs)\u001b[0m\n\u001b[1;32m    487\u001b[0m             \u001b[0mresult\u001b[0m \u001b[0;34m=\u001b[0m \u001b[0mself\u001b[0m\u001b[0;34m.\u001b[0m\u001b[0m_slow_forward\u001b[0m\u001b[0;34m(\u001b[0m\u001b[0;34m*\u001b[0m\u001b[0minput\u001b[0m\u001b[0;34m,\u001b[0m \u001b[0;34m**\u001b[0m\u001b[0mkwargs\u001b[0m\u001b[0;34m)\u001b[0m\u001b[0;34m\u001b[0m\u001b[0;34m\u001b[0m\u001b[0m\n\u001b[1;32m    488\u001b[0m         \u001b[0;32melse\u001b[0m\u001b[0;34m:\u001b[0m\u001b[0;34m\u001b[0m\u001b[0;34m\u001b[0m\u001b[0m\n\u001b[0;32m--> 489\u001b[0;31m             \u001b[0mresult\u001b[0m \u001b[0;34m=\u001b[0m \u001b[0mself\u001b[0m\u001b[0;34m.\u001b[0m\u001b[0mforward\u001b[0m\u001b[0;34m(\u001b[0m\u001b[0;34m*\u001b[0m\u001b[0minput\u001b[0m\u001b[0;34m,\u001b[0m \u001b[0;34m**\u001b[0m\u001b[0mkwargs\u001b[0m\u001b[0;34m)\u001b[0m\u001b[0;34m\u001b[0m\u001b[0;34m\u001b[0m\u001b[0m\n\u001b[0m\u001b[1;32m    490\u001b[0m         \u001b[0;32mfor\u001b[0m \u001b[0mhook\u001b[0m \u001b[0;32min\u001b[0m \u001b[0mself\u001b[0m\u001b[0;34m.\u001b[0m\u001b[0m_forward_hooks\u001b[0m\u001b[0;34m.\u001b[0m\u001b[0mvalues\u001b[0m\u001b[0;34m(\u001b[0m\u001b[0;34m)\u001b[0m\u001b[0;34m:\u001b[0m\u001b[0;34m\u001b[0m\u001b[0;34m\u001b[0m\u001b[0m\n\u001b[1;32m    491\u001b[0m             \u001b[0mhook_result\u001b[0m \u001b[0;34m=\u001b[0m \u001b[0mhook\u001b[0m\u001b[0;34m(\u001b[0m\u001b[0mself\u001b[0m\u001b[0;34m,\u001b[0m \u001b[0minput\u001b[0m\u001b[0;34m,\u001b[0m \u001b[0mresult\u001b[0m\u001b[0;34m)\u001b[0m\u001b[0;34m\u001b[0m\u001b[0;34m\u001b[0m\u001b[0m\n",
      "\u001b[0;32m~/.anaconda/envs/ptgpu/lib/python3.7/site-packages/torch/nn/modules/rnn.py\u001b[0m in \u001b[0;36mforward\u001b[0;34m(self, input, hx)\u001b[0m\n\u001b[1;32m    177\u001b[0m         \u001b[0;32mif\u001b[0m \u001b[0mbatch_sizes\u001b[0m \u001b[0;32mis\u001b[0m \u001b[0;32mNone\u001b[0m\u001b[0;34m:\u001b[0m\u001b[0;34m\u001b[0m\u001b[0;34m\u001b[0m\u001b[0m\n\u001b[1;32m    178\u001b[0m             result = _impl(input, hx, self._flat_weights, self.bias, self.num_layers,\n\u001b[0;32m--> 179\u001b[0;31m                            self.dropout, self.training, self.bidirectional, self.batch_first)\n\u001b[0m\u001b[1;32m    180\u001b[0m         \u001b[0;32melse\u001b[0m\u001b[0;34m:\u001b[0m\u001b[0;34m\u001b[0m\u001b[0;34m\u001b[0m\u001b[0m\n\u001b[1;32m    181\u001b[0m             result = _impl(input, batch_sizes, hx, self._flat_weights, self.bias,\n",
      "\u001b[0;31mKeyboardInterrupt\u001b[0m: "
     ]
    }
   ],
   "source": [
    "#def train(nb_epochs, trace, trace2):\n",
    "if True:\n",
    "\n",
    "    epoch = len(trace['epoch'])\n",
    "\n",
    "    for _ in range(nb_epochs):\n",
    "\n",
    "        time_start = time.time()\n",
    "\n",
    "        #\n",
    "        #   Train Model\n",
    "        #\n",
    "        model.train()\n",
    "        tloss_sum = 0\n",
    "        hidden = None                                  # reset LSTM hidden state\n",
    "        for i in range(0, len(train_x), n_batch):\n",
    "\n",
    "            # Pick mini-batch\n",
    "            inputs = train_x[i:i+n_batch]    # [n_batch, n_seq], less for last batch\n",
    "            targets = train_y[i:i+n_batch]   # [n_batch, n_seq], less for last batch\n",
    "            \n",
    "            # Optimize\n",
    "            optimizer.zero_grad()\n",
    "            outputs = model(inputs)\n",
    "            loss = criterion(outputs, targets)\n",
    "            loss.backward()\n",
    "            optimizer.step()\n",
    "            \n",
    "            with torch.no_grad():\n",
    "                acc = accuracy(outputs, targets)\n",
    "                tloss_sum += loss.item() * len(inputs)\n",
    "                tacc_sum  += acc.item() * len(inputs)\n",
    "                \n",
    "            \n",
    "            if i % (100*n_batch) == 0:\n",
    "                percent_complete = i * 100 / len(train_x)\n",
    "                time_delta = time.time() - time_start\n",
    "                print(f'Epoch: {epoch:3} ({percent_complete:.0f}%)     '\n",
    "                      f'Loss: {loss:.4f}     Time: {time_delta:.2f}s')\n",
    "                \n",
    "                loss, acc, class_acc = evaluate(valid_x, valid_y)\n",
    "\n",
    "\n",
    "#         tloss_avg = tloss_sum / train_size\n",
    "\n",
    "#         #\n",
    "#         #   Evaluate Model\n",
    "#         #\n",
    "#         model.eval()\n",
    "#         vloss_sum = 0\n",
    "#         hidden = None\n",
    "#         with torch.no_grad():        \n",
    "#             for i in range(0, valid_size, n_seq):\n",
    "\n",
    "#                 # Pick mini-batch\n",
    "#                 inputs = valid_x[:,i:i+n_seq]\n",
    "#                 targets = valid_x[:,i+1:i+1+n_seq]\n",
    "#                 if inputs.shape[1] != targets.shape[1]:\n",
    "#                     inputs = inputs[:,:-1]\n",
    "\n",
    "#                 # Optimize\n",
    "#                 outputs, hidden = model(inputs, hidden)\n",
    "#                 loss = criterion(outputs.view(-1, n_out), targets.flatten())\n",
    "\n",
    "#                 # Record per-iteration loss\n",
    "#                 vloss_sum += loss.item() * inputs.shape[1]\n",
    "\n",
    "#         vloss_avg = vloss_sum / valid_size\n",
    "\n",
    "        #\n",
    "        #   Logging\n",
    "        #\n",
    "\n",
    "#         time_delta = time.time() - time_start\n",
    "\n",
    "#         trace['epoch'].append(epoch)\n",
    "#         trace['tloss'].append(tloss_avg)\n",
    "#         trace['vloss'].append(vloss_avg)\n",
    "        \n",
    "#         #\n",
    "#         #   Print loss\n",
    "#         #\n",
    "#         print(f'Epoch: {epoch:3}     '\n",
    "#               f'T/V Loss: {tloss_avg:.4f} / {vloss_avg:.4f}     '\n",
    "#               f'Time: {time_delta:.2f}s')\n",
    "\n",
    "#         epoch += 1"
   ]
  },
  {
   "cell_type": "code",
   "execution_count": 380,
   "metadata": {},
   "outputs": [
    {
     "data": {
      "text/plain": [
       "[<matplotlib.lines.Line2D at 0x7f5fd4b04588>]"
      ]
     },
     "execution_count": 380,
     "metadata": {},
     "output_type": "execute_result"
    },
    {
     "data": {
      "image/png": "[encoded data removed]",
      "text/plain": [
       "<Figure size 432x288 with 1 Axes>"
      ]
     },
     "metadata": {
      "needs_background": "light"
     },
     "output_type": "display_data"
    }
   ],
   "source": [
    "plt.plot(trace2['loss'])"
   ]
  },
  {
   "cell_type": "code",
   "execution_count": null,
   "metadata": {},
   "outputs": [],
   "source": [
    "#         model.eval()\n",
    "#         vloss_sum = 0\n",
    "#         hidden = None\n",
    "#         with torch.no_grad():        \n",
    "#             for i in range(0, valid_size, n_seq):\n",
    "\n",
    "#                 # Pick mini-batch\n",
    "#                 inputs = valid_x[:,i:i+n_seq]\n",
    "#                 targets = valid_x[:,i+1:i+1+n_seq]\n",
    "#                 if inputs.shape[1] != targets.shape[1]:\n",
    "#                     inputs = inputs[:,:-1]\n",
    "\n",
    "#                 # Optimize\n",
    "#                 outputs, hidden = model(inputs, hidden)\n",
    "#                 loss = criterion(outputs.view(-1, n_out), targets.flatten())\n",
    "\n",
    "#                 # Record per-iteration loss\n",
    "#                 vloss_sum += loss.item() * inputs.shape[1]\n",
    "\n",
    "#         vloss_avg = vloss_sum / valid_size\n"
   ]
  },
  {
   "cell_type": "code",
   "execution_count": 381,
   "metadata": {},
   "outputs": [],
   "source": []
  },
  {
   "cell_type": "code",
   "execution_count": 410,
   "metadata": {},
   "outputs": [],
   "source": []
  },
  {
   "cell_type": "code",
   "execution_count": 411,
   "metadata": {},
   "outputs": [],
   "source": []
  },
  {
   "cell_type": "code",
   "execution_count": 429,
   "metadata": {},
   "outputs": [
    {
     "name": "stdout",
     "output_type": "stream",
     "text": [
      "0.3813960278067694 0.8655024321370272 [0.3570695  0.20452604 0.9758224 ]\n"
     ]
    }
   ],
   "source": [
    "loss, acc, class_acc = evaluate(valid_x, valid_y)\n",
    "print(loss, acc, class_acc)"
   ]
  },
  {
   "cell_type": "code",
   "execution_count": 416,
   "metadata": {},
   "outputs": [
    {
     "data": {
      "text/plain": [
       "array([0.3570695 , 0.20452604, 0.9758224 ], dtype=float32)"
      ]
     },
     "execution_count": 416,
     "metadata": {},
     "output_type": "execute_result"
    }
   ],
   "source": [
    "per_class_accuracy(valid_y, predictions, nb_classes=3)"
   ]
  },
  {
   "cell_type": "code",
   "execution_count": null,
   "metadata": {},
   "outputs": [],
   "source": []
  },
  {
   "cell_type": "code",
   "execution_count": null,
   "metadata": {},
   "outputs": [],
   "source": []
  },
  {
   "cell_type": "code",
   "execution_count": 408,
   "metadata": {},
   "outputs": [],
   "source": [
    "y_true = valid_y\n",
    "y_hat = predictions\n",
    "nb_classes = 3\n"
   ]
  },
  {
   "cell_type": "code",
   "execution_count": 409,
   "metadata": {
    "scrolled": true
   },
   "outputs": [
    {
     "data": {
      "text/plain": [
       "tensor([0.3571, 0.2045, 0.9758])"
      ]
     },
     "execution_count": 409,
     "metadata": {},
     "output_type": "execute_result"
    }
   ],
   "source": [
    "result"
   ]
  },
  {
   "cell_type": "code",
   "execution_count": 391,
   "metadata": {},
   "outputs": [
    {
     "data": {
      "text/plain": [
       "tensor(27, device='cuda:0', dtype=torch.uint8)"
      ]
     },
     "execution_count": 391,
     "metadata": {},
     "output_type": "execute_result"
    }
   ],
   "source": [
    "sum(y_correct)"
   ]
  },
  {
   "cell_type": "code",
   "execution_count": 396,
   "metadata": {},
   "outputs": [
    {
     "data": {
      "text/plain": [
       "tensor([0., 2., 1.])"
      ]
     },
     "execution_count": 396,
     "metadata": {},
     "output_type": "execute_result"
    }
   ],
   "source": [
    "result"
   ]
  },
  {
   "cell_type": "code",
   "execution_count": 405,
   "metadata": {},
   "outputs": [
    {
     "data": {
      "text/plain": [
       "tensor(1043., device='cuda:0')"
      ]
     },
     "execution_count": 405,
     "metadata": {},
     "output_type": "execute_result"
    }
   ],
   "source": []
  },
  {
   "cell_type": "code",
   "execution_count": null,
   "metadata": {},
   "outputs": [],
   "source": []
  },
  {
   "cell_type": "code",
   "execution_count": null,
   "metadata": {},
   "outputs": [],
   "source": []
  },
  {
   "cell_type": "code",
   "execution_count": null,
   "metadata": {},
   "outputs": [],
   "source": []
  },
  {
   "cell_type": "code",
   "execution_count": 264,
   "metadata": {},
   "outputs": [],
   "source": []
  },
  {
   "cell_type": "code",
   "execution_count": 392,
   "metadata": {},
   "outputs": [
    {
     "data": {
      "text/plain": [
       "array([0.3570695 , 0.20452605, 0.97582238])"
      ]
     },
     "execution_count": 392,
     "metadata": {},
     "output_type": "execute_result"
    }
   ],
   "source": [
    "y_hat = predictions.cpu().numpy()\n",
    "y_true = valid_y.cpu().numpy()\n",
    "get_class_coverage(y_true, y_hat, 3)"
   ]
  },
  {
   "cell_type": "code",
   "execution_count": 242,
   "metadata": {},
   "outputs": [],
   "source": [
    "def plot_class_coverage(y, y_hat, axis=None):\n",
    "    #\n",
    "    #   Per-class accuracy\n",
    "    #\n",
    "    assert y.ndim == 2 and y_hat.ndim == 2\n",
    "    assert y.shape == y_hat.shape\n",
    "    \n",
    "    nb_classses = y.shape[-1]\n",
    "    \n",
    "    y_correct = np.argmax(y, axis=-1) == np.argmax(y_hat, axis=-1)\n",
    "    classes_correct = []\n",
    "    classes_all = []\n",
    "    for i in range(nb_classses):\n",
    "        is_y_class_i = y_correct * (np.argmax(y, axis=-1)==i)\n",
    "        nb_correct_class_i = np.sum(is_y_class_i)\n",
    "        classes_correct.append(nb_correct_class_i)\n",
    "        classes_all.append(np.count_nonzero(np.argmax(y, axis=-1)==i))\n",
    "    classes_correct = np.array(classes_correct)\n",
    "    classes_all = np.array(classes_all)\n",
    "\n",
    "    if axis is None:\n",
    "        fig, axis = plt.subplots()\n",
    "    \n",
    "    axis.bar(range(10), classes_all, label='All Member')\n",
    "    axis.bar(range(10), classes_correct, label='Correctly Predicted')\n",
    "    axis.legend(loc=3)"
   ]
  },
  {
   "cell_type": "code",
   "execution_count": 243,
   "metadata": {},
   "outputs": [
    {
     "ename": "AssertionError",
     "evalue": "",
     "output_type": "error",
     "traceback": [
      "\u001b[0;31m---------------------------------------------------------------------------\u001b[0m",
      "\u001b[0;31mAssertionError\u001b[0m                            Traceback (most recent call last)",
      "\u001b[0;32m<ipython-input-243-88c7163de365>\u001b[0m in \u001b[0;36m<module>\u001b[0;34m\u001b[0m\n\u001b[0;32m----> 1\u001b[0;31m \u001b[0mplot_class_coverage\u001b[0m\u001b[0;34m(\u001b[0m\u001b[0my_true\u001b[0m\u001b[0;34m,\u001b[0m \u001b[0my_hat\u001b[0m\u001b[0;34m)\u001b[0m\u001b[0;34m\u001b[0m\u001b[0;34m\u001b[0m\u001b[0m\n\u001b[0m",
      "\u001b[0;32m<ipython-input-242-c7616fafd87b>\u001b[0m in \u001b[0;36mplot_class_coverage\u001b[0;34m(y, y_hat, axis)\u001b[0m\n\u001b[1;32m      3\u001b[0m     \u001b[0;31m#   Per-class accuracy\u001b[0m\u001b[0;34m\u001b[0m\u001b[0;34m\u001b[0m\u001b[0;34m\u001b[0m\u001b[0m\n\u001b[1;32m      4\u001b[0m     \u001b[0;31m#\u001b[0m\u001b[0;34m\u001b[0m\u001b[0;34m\u001b[0m\u001b[0;34m\u001b[0m\u001b[0m\n\u001b[0;32m----> 5\u001b[0;31m     \u001b[0;32massert\u001b[0m \u001b[0my\u001b[0m\u001b[0;34m.\u001b[0m\u001b[0mndim\u001b[0m \u001b[0;34m==\u001b[0m \u001b[0;36m2\u001b[0m \u001b[0;32mand\u001b[0m \u001b[0my_hat\u001b[0m\u001b[0;34m.\u001b[0m\u001b[0mndim\u001b[0m \u001b[0;34m==\u001b[0m \u001b[0;36m2\u001b[0m\u001b[0;34m\u001b[0m\u001b[0;34m\u001b[0m\u001b[0m\n\u001b[0m\u001b[1;32m      6\u001b[0m     \u001b[0;32massert\u001b[0m \u001b[0my\u001b[0m\u001b[0;34m.\u001b[0m\u001b[0mshape\u001b[0m \u001b[0;34m==\u001b[0m \u001b[0my_hat\u001b[0m\u001b[0;34m.\u001b[0m\u001b[0mshape\u001b[0m\u001b[0;34m\u001b[0m\u001b[0;34m\u001b[0m\u001b[0m\n\u001b[1;32m      7\u001b[0m \u001b[0;34m\u001b[0m\u001b[0m\n",
      "\u001b[0;31mAssertionError\u001b[0m: "
     ]
    }
   ],
   "source": [
    "plot_class_coverage(y_true, y_hat)"
   ]
  },
  {
   "cell_type": "code",
   "execution_count": null,
   "metadata": {},
   "outputs": [],
   "source": []
  },
  {
   "cell_type": "code",
   "execution_count": null,
   "metadata": {},
   "outputs": [],
   "source": []
  },
  {
   "cell_type": "code",
   "execution_count": 222,
   "metadata": {},
   "outputs": [
    {
     "name": "stdout",
     "output_type": "stream",
     "text": [
      "0.2872463878780543 0.89192034439275\n"
     ]
    }
   ],
   "source": [
    "loss_avg, acc_avg = evaluate(train_x, train_y)\n",
    "print(loss_avg, acc_avg)"
   ]
  },
  {
   "cell_type": "code",
   "execution_count": 229,
   "metadata": {},
   "outputs": [
    {
     "data": {
      "text/plain": [
       "tensor([2, 2, 2, 2, 2, 2, 2, 2, 2, 2, 1, 2, 2, 2, 2, 2, 0, 2, 2, 2, 2, 2, 2, 2,\n",
       "        2, 2, 2, 2, 2, 2, 0, 2, 2, 2, 2, 2, 2, 2, 2, 2, 2, 2, 2, 2, 2, 2, 2, 2,\n",
       "        2, 2, 2, 2, 2, 0, 2, 2, 2, 1, 2, 2, 2, 2, 2, 2, 2, 2, 2, 2, 2, 2, 2, 2,\n",
       "        2, 2, 2, 1, 2, 2, 0, 2, 1, 2, 2, 2, 2, 2, 2, 2, 2, 2, 2, 2, 2, 2, 2, 2,\n",
       "        2, 2, 2, 2, 2, 2, 2, 2, 2, 2, 2, 0, 2, 2, 2, 1, 2, 2, 2, 2, 2, 0, 0, 2,\n",
       "        2, 2, 1, 2, 2, 2, 0, 2, 2, 1, 2, 2, 2, 2, 2, 0, 2, 2, 2, 2, 0, 1, 2, 2,\n",
       "        0, 2, 2, 2, 2, 0, 2, 0, 1, 2, 2, 2, 2, 0, 2, 2, 2, 2, 2, 2, 2, 2, 2, 2,\n",
       "        2, 2, 2, 2, 2, 0, 2, 0, 2, 2, 2, 2, 2, 2, 2, 2, 2, 2, 2, 2, 2, 2, 0, 2,\n",
       "        2, 2, 2, 1, 2, 2, 0, 2, 2, 2, 2, 2, 2, 2, 2, 2, 2, 2, 2, 2, 2, 2, 2, 2,\n",
       "        0, 2, 2, 2, 1, 2, 2, 2, 1, 0, 0, 2, 2, 2, 2, 2, 2, 2, 0, 2, 2, 2, 2, 2,\n",
       "        2, 2, 2, 2, 2, 2, 2, 2, 2, 0, 2, 2, 0, 2, 2, 2, 2, 2, 2, 2, 2, 2, 2, 2,\n",
       "        2, 2, 0, 2, 2, 1, 2, 2, 2, 2, 2, 2, 2, 2, 1, 2, 2, 2, 2, 2, 2, 2, 2, 2,\n",
       "        2, 2, 2, 2, 0, 2, 0, 2, 2, 2, 2, 2, 2, 2, 2, 2, 2, 2, 2, 2, 2, 0, 2, 2,\n",
       "        2, 1, 2, 2, 2, 2, 2, 1, 2, 2, 2, 2, 2, 2, 2, 2, 2, 0, 2, 2, 2, 2, 2, 2,\n",
       "        2, 2, 2, 2, 2, 2, 2, 2, 2, 2, 2, 0, 2, 2, 2, 2, 2, 2, 2, 2, 2, 2, 0, 2,\n",
       "        2, 2, 2, 2, 0, 0, 2, 2, 2, 2, 2, 2, 2, 2, 2, 2, 2, 2, 2, 0, 2, 2, 2, 2,\n",
       "        2, 2, 2, 2, 0, 2, 0, 0, 2, 2, 0, 2, 2, 2, 2, 2, 2, 2, 2, 2, 2, 2, 2, 2,\n",
       "        2, 2, 2, 2, 2, 1, 2, 2, 2, 2, 0, 2, 2, 2, 2, 2, 0, 2, 2, 2, 0, 2, 2, 2,\n",
       "        2, 2, 0, 2, 2, 2, 2, 2, 2, 2, 2, 2, 2, 2, 2, 2, 0, 2, 2, 2, 2, 2, 0, 2,\n",
       "        2, 2, 0, 2, 2, 2, 2, 0, 2, 2, 2, 2, 2, 1, 2, 2, 2, 2, 2, 2, 0, 2, 2, 2,\n",
       "        1, 2, 2, 2, 2, 2, 2, 2, 0, 2, 2], device='cuda:0')"
      ]
     },
     "execution_count": 229,
     "metadata": {},
     "output_type": "execute_result"
    }
   ],
   "source": [
    "outputs.argmax(dim=1)"
   ]
  },
  {
   "cell_type": "code",
   "execution_count": null,
   "metadata": {},
   "outputs": [],
   "source": []
  },
  {
   "cell_type": "code",
   "execution_count": null,
   "metadata": {},
   "outputs": [],
   "source": []
  },
  {
   "cell_type": "code",
   "execution_count": null,
   "metadata": {},
   "outputs": [],
   "source": []
  },
  {
   "cell_type": "code",
   "execution_count": 209,
   "metadata": {},
   "outputs": [
    {
     "data": {
      "text/plain": [
       "0.2804724872112274"
      ]
     },
     "execution_count": 209,
     "metadata": {},
     "output_type": "execute_result"
    }
   ],
   "source": [
    "loss.item()"
   ]
  },
  {
   "cell_type": "code",
   "execution_count": 206,
   "metadata": {},
   "outputs": [
    {
     "ename": "RuntimeError",
     "evalue": "CUDA out of memory. Tried to allocate 10.98 GiB (GPU 0; 11.93 GiB total capacity; 6.76 GiB already allocated; 3.80 GiB free; 294.47 MiB cached)",
     "output_type": "error",
     "traceback": [
      "\u001b[0;31m---------------------------------------------------------------------------\u001b[0m",
      "\u001b[0;31mRuntimeError\u001b[0m                              Traceback (most recent call last)",
      "\u001b[0;32m<ipython-input-206-4ae0eca0ebf5>\u001b[0m in \u001b[0;36m<module>\u001b[0;34m\u001b[0m\n\u001b[0;32m----> 1\u001b[0;31m \u001b[0mmodel\u001b[0m\u001b[0;34m(\u001b[0m\u001b[0mvalid_x\u001b[0m\u001b[0;34m)\u001b[0m\u001b[0;34m\u001b[0m\u001b[0;34m\u001b[0m\u001b[0m\n\u001b[0m",
      "\u001b[0;32m~/.anaconda/envs/ptgpu/lib/python3.7/site-packages/torch/nn/modules/module.py\u001b[0m in \u001b[0;36m__call__\u001b[0;34m(self, *input, **kwargs)\u001b[0m\n\u001b[1;32m    487\u001b[0m             \u001b[0mresult\u001b[0m \u001b[0;34m=\u001b[0m \u001b[0mself\u001b[0m\u001b[0;34m.\u001b[0m\u001b[0m_slow_forward\u001b[0m\u001b[0;34m(\u001b[0m\u001b[0;34m*\u001b[0m\u001b[0minput\u001b[0m\u001b[0;34m,\u001b[0m \u001b[0;34m**\u001b[0m\u001b[0mkwargs\u001b[0m\u001b[0;34m)\u001b[0m\u001b[0;34m\u001b[0m\u001b[0;34m\u001b[0m\u001b[0m\n\u001b[1;32m    488\u001b[0m         \u001b[0;32melse\u001b[0m\u001b[0;34m:\u001b[0m\u001b[0;34m\u001b[0m\u001b[0;34m\u001b[0m\u001b[0m\n\u001b[0;32m--> 489\u001b[0;31m             \u001b[0mresult\u001b[0m \u001b[0;34m=\u001b[0m \u001b[0mself\u001b[0m\u001b[0;34m.\u001b[0m\u001b[0mforward\u001b[0m\u001b[0;34m(\u001b[0m\u001b[0;34m*\u001b[0m\u001b[0minput\u001b[0m\u001b[0;34m,\u001b[0m \u001b[0;34m**\u001b[0m\u001b[0mkwargs\u001b[0m\u001b[0;34m)\u001b[0m\u001b[0;34m\u001b[0m\u001b[0;34m\u001b[0m\u001b[0m\n\u001b[0m\u001b[1;32m    490\u001b[0m         \u001b[0;32mfor\u001b[0m \u001b[0mhook\u001b[0m \u001b[0;32min\u001b[0m \u001b[0mself\u001b[0m\u001b[0;34m.\u001b[0m\u001b[0m_forward_hooks\u001b[0m\u001b[0;34m.\u001b[0m\u001b[0mvalues\u001b[0m\u001b[0;34m(\u001b[0m\u001b[0;34m)\u001b[0m\u001b[0;34m:\u001b[0m\u001b[0;34m\u001b[0m\u001b[0;34m\u001b[0m\u001b[0m\n\u001b[1;32m    491\u001b[0m             \u001b[0mhook_result\u001b[0m \u001b[0;34m=\u001b[0m \u001b[0mhook\u001b[0m\u001b[0;34m(\u001b[0m\u001b[0mself\u001b[0m\u001b[0;34m,\u001b[0m \u001b[0minput\u001b[0m\u001b[0;34m,\u001b[0m \u001b[0mresult\u001b[0m\u001b[0;34m)\u001b[0m\u001b[0;34m\u001b[0m\u001b[0;34m\u001b[0m\u001b[0m\n",
      "\u001b[0;32m<ipython-input-193-701f1d762d41>\u001b[0m in \u001b[0;36mforward\u001b[0;34m(self, x)\u001b[0m\n\u001b[1;32m     10\u001b[0m \u001b[0;34m\u001b[0m\u001b[0m\n\u001b[1;32m     11\u001b[0m     \u001b[0;32mdef\u001b[0m \u001b[0mforward\u001b[0m\u001b[0;34m(\u001b[0m\u001b[0mself\u001b[0m\u001b[0;34m,\u001b[0m \u001b[0mx\u001b[0m\u001b[0;34m)\u001b[0m\u001b[0;34m:\u001b[0m\u001b[0;34m\u001b[0m\u001b[0;34m\u001b[0m\u001b[0m\n\u001b[0;32m---> 12\u001b[0;31m         \u001b[0mx\u001b[0m \u001b[0;34m=\u001b[0m \u001b[0mself\u001b[0m\u001b[0;34m.\u001b[0m\u001b[0membed\u001b[0m\u001b[0;34m(\u001b[0m\u001b[0mx\u001b[0m\u001b[0;34m)\u001b[0m                   \u001b[0;31m# shape [n_batch, n_seq, n_embed]\u001b[0m\u001b[0;34m\u001b[0m\u001b[0;34m\u001b[0m\u001b[0m\n\u001b[0m\u001b[1;32m     13\u001b[0m         \u001b[0mx\u001b[0m\u001b[0;34m,\u001b[0m \u001b[0mhidden\u001b[0m \u001b[0;34m=\u001b[0m \u001b[0mself\u001b[0m\u001b[0;34m.\u001b[0m\u001b[0mlstm\u001b[0m\u001b[0;34m(\u001b[0m\u001b[0mx\u001b[0m\u001b[0;34m,\u001b[0m \u001b[0;32mNone\u001b[0m\u001b[0;34m)\u001b[0m      \u001b[0;31m# shape [n_batch, n_seq, n_hid]\u001b[0m\u001b[0;34m\u001b[0m\u001b[0;34m\u001b[0m\u001b[0m\n\u001b[1;32m     14\u001b[0m         \u001b[0mx\u001b[0m \u001b[0;34m=\u001b[0m \u001b[0mx\u001b[0m\u001b[0;34m[\u001b[0m\u001b[0;34m:\u001b[0m\u001b[0;34m,\u001b[0m \u001b[0;34m-\u001b[0m\u001b[0;36m1\u001b[0m\u001b[0;34m,\u001b[0m \u001b[0;34m:\u001b[0m\u001b[0;34m]\u001b[0m                     \u001b[0;31m# shape [n_batch, n_hid]\u001b[0m\u001b[0;34m\u001b[0m\u001b[0;34m\u001b[0m\u001b[0m\n",
      "\u001b[0;32m~/.anaconda/envs/ptgpu/lib/python3.7/site-packages/torch/nn/modules/module.py\u001b[0m in \u001b[0;36m__call__\u001b[0;34m(self, *input, **kwargs)\u001b[0m\n\u001b[1;32m    487\u001b[0m             \u001b[0mresult\u001b[0m \u001b[0;34m=\u001b[0m \u001b[0mself\u001b[0m\u001b[0;34m.\u001b[0m\u001b[0m_slow_forward\u001b[0m\u001b[0;34m(\u001b[0m\u001b[0;34m*\u001b[0m\u001b[0minput\u001b[0m\u001b[0;34m,\u001b[0m \u001b[0;34m**\u001b[0m\u001b[0mkwargs\u001b[0m\u001b[0;34m)\u001b[0m\u001b[0;34m\u001b[0m\u001b[0;34m\u001b[0m\u001b[0m\n\u001b[1;32m    488\u001b[0m         \u001b[0;32melse\u001b[0m\u001b[0;34m:\u001b[0m\u001b[0;34m\u001b[0m\u001b[0;34m\u001b[0m\u001b[0m\n\u001b[0;32m--> 489\u001b[0;31m             \u001b[0mresult\u001b[0m \u001b[0;34m=\u001b[0m \u001b[0mself\u001b[0m\u001b[0;34m.\u001b[0m\u001b[0mforward\u001b[0m\u001b[0;34m(\u001b[0m\u001b[0;34m*\u001b[0m\u001b[0minput\u001b[0m\u001b[0;34m,\u001b[0m \u001b[0;34m**\u001b[0m\u001b[0mkwargs\u001b[0m\u001b[0;34m)\u001b[0m\u001b[0;34m\u001b[0m\u001b[0;34m\u001b[0m\u001b[0m\n\u001b[0m\u001b[1;32m    490\u001b[0m         \u001b[0;32mfor\u001b[0m \u001b[0mhook\u001b[0m \u001b[0;32min\u001b[0m \u001b[0mself\u001b[0m\u001b[0;34m.\u001b[0m\u001b[0m_forward_hooks\u001b[0m\u001b[0;34m.\u001b[0m\u001b[0mvalues\u001b[0m\u001b[0;34m(\u001b[0m\u001b[0;34m)\u001b[0m\u001b[0;34m:\u001b[0m\u001b[0;34m\u001b[0m\u001b[0;34m\u001b[0m\u001b[0m\n\u001b[1;32m    491\u001b[0m             \u001b[0mhook_result\u001b[0m \u001b[0;34m=\u001b[0m \u001b[0mhook\u001b[0m\u001b[0;34m(\u001b[0m\u001b[0mself\u001b[0m\u001b[0;34m,\u001b[0m \u001b[0minput\u001b[0m\u001b[0;34m,\u001b[0m \u001b[0mresult\u001b[0m\u001b[0;34m)\u001b[0m\u001b[0;34m\u001b[0m\u001b[0;34m\u001b[0m\u001b[0m\n",
      "\u001b[0;32m~/.anaconda/envs/ptgpu/lib/python3.7/site-packages/torch/nn/modules/sparse.py\u001b[0m in \u001b[0;36mforward\u001b[0;34m(self, input)\u001b[0m\n\u001b[1;32m    116\u001b[0m         return F.embedding(\n\u001b[1;32m    117\u001b[0m             \u001b[0minput\u001b[0m\u001b[0;34m,\u001b[0m \u001b[0mself\u001b[0m\u001b[0;34m.\u001b[0m\u001b[0mweight\u001b[0m\u001b[0;34m,\u001b[0m \u001b[0mself\u001b[0m\u001b[0;34m.\u001b[0m\u001b[0mpadding_idx\u001b[0m\u001b[0;34m,\u001b[0m \u001b[0mself\u001b[0m\u001b[0;34m.\u001b[0m\u001b[0mmax_norm\u001b[0m\u001b[0;34m,\u001b[0m\u001b[0;34m\u001b[0m\u001b[0;34m\u001b[0m\u001b[0m\n\u001b[0;32m--> 118\u001b[0;31m             self.norm_type, self.scale_grad_by_freq, self.sparse)\n\u001b[0m\u001b[1;32m    119\u001b[0m \u001b[0;34m\u001b[0m\u001b[0m\n\u001b[1;32m    120\u001b[0m     \u001b[0;32mdef\u001b[0m \u001b[0mextra_repr\u001b[0m\u001b[0;34m(\u001b[0m\u001b[0mself\u001b[0m\u001b[0;34m)\u001b[0m\u001b[0;34m:\u001b[0m\u001b[0;34m\u001b[0m\u001b[0;34m\u001b[0m\u001b[0m\n",
      "\u001b[0;32m~/.anaconda/envs/ptgpu/lib/python3.7/site-packages/torch/nn/functional.py\u001b[0m in \u001b[0;36membedding\u001b[0;34m(input, weight, padding_idx, max_norm, norm_type, scale_grad_by_freq, sparse)\u001b[0m\n\u001b[1;32m   1452\u001b[0m         \u001b[0;31m# remove once script supports set_grad_enabled\u001b[0m\u001b[0;34m\u001b[0m\u001b[0;34m\u001b[0m\u001b[0;34m\u001b[0m\u001b[0m\n\u001b[1;32m   1453\u001b[0m         \u001b[0m_no_grad_embedding_renorm_\u001b[0m\u001b[0;34m(\u001b[0m\u001b[0mweight\u001b[0m\u001b[0;34m,\u001b[0m \u001b[0minput\u001b[0m\u001b[0;34m,\u001b[0m \u001b[0mmax_norm\u001b[0m\u001b[0;34m,\u001b[0m \u001b[0mnorm_type\u001b[0m\u001b[0;34m)\u001b[0m\u001b[0;34m\u001b[0m\u001b[0;34m\u001b[0m\u001b[0m\n\u001b[0;32m-> 1454\u001b[0;31m     \u001b[0;32mreturn\u001b[0m \u001b[0mtorch\u001b[0m\u001b[0;34m.\u001b[0m\u001b[0membedding\u001b[0m\u001b[0;34m(\u001b[0m\u001b[0mweight\u001b[0m\u001b[0;34m,\u001b[0m \u001b[0minput\u001b[0m\u001b[0;34m,\u001b[0m \u001b[0mpadding_idx\u001b[0m\u001b[0;34m,\u001b[0m \u001b[0mscale_grad_by_freq\u001b[0m\u001b[0;34m,\u001b[0m \u001b[0msparse\u001b[0m\u001b[0;34m)\u001b[0m\u001b[0;34m\u001b[0m\u001b[0;34m\u001b[0m\u001b[0m\n\u001b[0m\u001b[1;32m   1455\u001b[0m \u001b[0;34m\u001b[0m\u001b[0m\n\u001b[1;32m   1456\u001b[0m \u001b[0;34m\u001b[0m\u001b[0m\n",
      "\u001b[0;31mRuntimeError\u001b[0m: CUDA out of memory. Tried to allocate 10.98 GiB (GPU 0; 11.93 GiB total capacity; 6.76 GiB already allocated; 3.80 GiB free; 294.47 MiB cached)"
     ]
    }
   ],
   "source": [
    "model(valid_x)"
   ]
  },
  {
   "cell_type": "code",
   "execution_count": 205,
   "metadata": {},
   "outputs": [
    {
     "data": {
      "text/plain": [
       "78609600"
      ]
     },
     "execution_count": 205,
     "metadata": {},
     "output_type": "execute_result"
    }
   ],
   "source": [
    "49131*200*8"
   ]
  },
  {
   "cell_type": "code",
   "execution_count": 185,
   "metadata": {},
   "outputs": [
    {
     "data": {
      "text/plain": [
       "torch.Size([512])"
      ]
     },
     "execution_count": 185,
     "metadata": {},
     "output_type": "execute_result"
    }
   ],
   "source": [
    "targets.shape"
   ]
  },
  {
   "cell_type": "code",
   "execution_count": null,
   "metadata": {},
   "outputs": [],
   "source": []
  }
 ],
 "metadata": {
  "kernelspec": {
   "display_name": "Python [conda env:ptgpu]",
   "language": "python",
   "name": "conda-env-ptgpu-py"
  },
  "language_info": {
   "codemirror_mode": {
    "name": "ipython",
    "version": 3
   },
   "file_extension": ".py",
   "mimetype": "text/x-python",
   "name": "python",
   "nbconvert_exporter": "python",
   "pygments_lexer": "ipython3",
   "version": "3.7.1"
  }
 },
 "nbformat": 4,
 "nbformat_minor": 2
}
