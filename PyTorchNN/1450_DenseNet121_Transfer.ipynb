{
 "cells": [
  {
   "cell_type": "code",
   "execution_count": 1,
   "metadata": {},
   "outputs": [],
   "source": [
    "import os\n",
    "import time\n",
    "import numpy as np\n",
    "import matplotlib.pyplot as plt\n",
    "import torch\n",
    "import torch.nn as nn\n",
    "import torch.nn.functional as F\n",
    "from torchvision import datasets, transforms, models\n",
    "from collections import OrderedDict"
   ]
  },
  {
   "cell_type": "code",
   "execution_count": 2,
   "metadata": {},
   "outputs": [],
   "source": [
    "device = torch.device(\"cuda:0\" if torch.cuda.is_available() else \"cpu\")"
   ]
  },
  {
   "cell_type": "code",
   "execution_count": 3,
   "metadata": {},
   "outputs": [],
   "source": [
    "dataset_location = '/home/marcin/Datasets/udacity-challange-flower-data/flower_data/'"
   ]
  },
  {
   "cell_type": "markdown",
   "metadata": {},
   "source": [
    "# Baseline with DataLoaders"
   ]
  },
  {
   "cell_type": "code",
   "execution_count": 4,
   "metadata": {},
   "outputs": [],
   "source": [
    "transforms_augmented = transforms.Compose([\n",
    "    transforms.RandomRotation(30),\n",
    "    transforms.RandomResizedCrop(224, scale=(0.08 , 1.0)),\n",
    "    transforms.RandomHorizontalFlip(),\n",
    "    transforms.ToTensor(),\n",
    "    transforms.Normalize([0.485, 0.456, 0.406], \n",
    "                         [0.229, 0.224, 0.225])\n",
    "])\n",
    "transforms_normal = transforms.Compose([\n",
    "    transforms.Resize(256),\n",
    "    transforms.CenterCrop(224),\n",
    "    transforms.ToTensor(),\n",
    "    transforms.Normalize([0.485, 0.456, 0.406], \n",
    "                         [0.229, 0.224, 0.225])\n",
    "])"
   ]
  },
  {
   "cell_type": "code",
   "execution_count": 5,
   "metadata": {},
   "outputs": [
    {
     "name": "stdout",
     "output_type": "stream",
     "text": [
      "Number of train images: 6552\n",
      "Number of validation images: 818\n"
     ]
    }
   ],
   "source": [
    "dataset_train_augmented = datasets.ImageFolder(os.path.join(dataset_location, 'train'), transforms_augmented)\n",
    "dataset_train_normal = datasets.ImageFolder(os.path.join(dataset_location, 'train'), transforms_normal)\n",
    "dataset_valid_normal = datasets.ImageFolder(os.path.join(dataset_location, 'valid'), transforms_normal)\n",
    "print('Number of train images:', len(dataset_train_normal))\n",
    "print('Number of validation images:', len(dataset_valid_normal))"
   ]
  },
  {
   "cell_type": "code",
   "execution_count": 6,
   "metadata": {},
   "outputs": [],
   "source": [
    "dataloader_train_augmented = torch.utils.data.DataLoader(dataset_train_augmented, batch_size=16, shuffle=True,\n",
    "                                                     num_workers=6, pin_memory=True)\n",
    "dataloader_train_normal = torch.utils.data.DataLoader(dataset_train_normal, batch_size=16, shuffle=True,\n",
    "                                                     num_workers=6, pin_memory=True)\n",
    "dataloader_valid_normal = torch.utils.data.DataLoader(dataset_valid_normal, batch_size=16, shuffle=True,\n",
    "                                                     num_workers=6, pin_memory=True)"
   ]
  },
  {
   "cell_type": "code",
   "execution_count": 7,
   "metadata": {},
   "outputs": [],
   "source": [
    "def accuracy(logits, labels): \n",
    "    predictions = torch.argmax(logits, dim=1)\n",
    "    return (predictions == labels).float().mean()  # tensor!!"
   ]
  },
  {
   "cell_type": "code",
   "execution_count": 8,
   "metadata": {},
   "outputs": [
    {
     "name": "stderr",
     "output_type": "stream",
     "text": [
      "/home/marcin/.anaconda/envs/ptgpu/lib/python3.7/site-packages/torchvision/models/densenet.py:212: UserWarning: nn.init.kaiming_normal is now deprecated in favor of nn.init.kaiming_normal_.\n",
      "  nn.init.kaiming_normal(m.weight.data)\n"
     ]
    }
   ],
   "source": [
    "# TODO: Build and train your network\n",
    "\n",
    "#DEFINE model\n",
    "model = models.densenet121(pretrained=True)\n",
    "\n",
    "# freeze feature paremeters\n",
    "for param in model.parameters():\n",
    "    param.requires_grad = False\n",
    "\n",
    "# replace classifier\n",
    "\n",
    "classifier = nn.Sequential(OrderedDict([\n",
    "    ('fc1', nn.Linear(1024, 512)),\n",
    "    ('relu', nn.ReLU()),\n",
    "    ('dropout', nn.Dropout(0.2)),\n",
    "    ('fc2', nn.Linear(512, 102)),\n",
    "    ('output', nn.LogSoftmax(dim=1))\n",
    "]))\n",
    "\n",
    "model.classifier = classifier\n",
    "model = model.to(device)\n",
    "\n",
    "criterion = nn.NLLLoss()\n",
    "optimizer = torch.optim.Adam(model.classifier.parameters(), lr=0.001)"
   ]
  },
  {
   "cell_type": "code",
   "execution_count": 9,
   "metadata": {},
   "outputs": [
    {
     "name": "stdout",
     "output_type": "stream",
     "text": [
      "loss & acc:  1.5594995021820068 0.5\n",
      "loss & acc:  1.2675361633300781 0.75\n",
      "loss & acc:  0.9656644463539124 0.875\n",
      "loss & acc:  0.8278192281723022 0.75\n",
      "loss & acc:  0.3187042474746704 0.875\n",
      "123.29793620109558\n"
     ]
    }
   ],
   "source": [
    "num_epochs = 5\n",
    "batch_size = 16\n",
    "\n",
    "since = time.time()\n",
    "\n",
    "hist = { 'tepoch':[], 'tloss':[], 'tacc':[],  # mini-batch loss/acc every iteration\n",
    "         'vepoch':[], 'vloss':[], 'vacc':[],\n",
    "         'train_loss':[], 'train_acc':[],     # train set loss/acc every epoch\n",
    "         'val_loss':[], 'val_acc':[] }        # valid set loss/acc every epoch\n",
    "\n",
    "for epoch in range(num_epochs):\n",
    "    \n",
    "    # train: one full pass over dataset\n",
    "    model.train()                                                  # enable dropout etc.\n",
    "    \n",
    "    for images, labels in dataloader_train_normal:\n",
    "        \n",
    "        # Pick mini-batch\n",
    "        x = images.to(device)\n",
    "        y = labels.to(device)\n",
    "        #x = x_train[indices[i:i+batch_size]]\n",
    "        #y = y_train[indices[i:i+batch_size]]\n",
    "        \n",
    "        # Train\n",
    "        optimizer.zero_grad()\n",
    "        outputs = model(x)                                         # outputs is un-normalized, i.e. no softmax\n",
    "        loss = criterion(outputs, y)\n",
    "        loss.backward()\n",
    "        optimizer.step()\n",
    "        \n",
    "        with torch.no_grad():\n",
    "            acc = accuracy(outputs, y)\n",
    "            hist['tepoch'].append( epoch )\n",
    "            hist['tacc'].append( acc.item() )\n",
    "            hist['tloss'].append( loss.item() )\n",
    "            \n",
    "    \n",
    "    model.eval()\n",
    "    \n",
    "    loss_sum = 0\n",
    "    acc_sum = 0\n",
    "    for images, labels in dataloader_valid_normal:\n",
    "        x = images.to(device)\n",
    "        y = labels.to(device)\n",
    "        \n",
    "        with torch.no_grad():\n",
    "            outputs = model(x)\n",
    "            loss = criterion(outputs, y)\n",
    "            acc = accuracy(outputs, y)\n",
    "            hist['vepoch'].append( epoch )\n",
    "            hist['vacc'].append( acc.item() )\n",
    "            hist['vloss'].append( loss.item() )\n",
    "            \n",
    "    \n",
    "    print('loss & acc: ', hist['tloss'][-1], hist['tacc'][-1])\n",
    "        \n",
    "            \n",
    "print(time.time() - since)"
   ]
  },
  {
   "cell_type": "code",
   "execution_count": 11,
   "metadata": {},
   "outputs": [],
   "source": [
    "def smooth(y, n):\n",
    "    box = np.ones(n)/n\n",
    "    return np.convolve(y, box, mode='same')\n",
    "\n",
    "def pretty_plot(ax, data, label, color, grid=False):\n",
    "    ax.scatter(range(len(data)), data, marker='.', s=2, color=color)\n",
    "    ax.plot(smooth(data, 20), label=label, color=color)\n",
    "    if grid: ax.grid()"
   ]
  },
  {
   "cell_type": "code",
   "execution_count": 12,
   "metadata": {},
   "outputs": [
    {
     "data": {
      "image/png": "[encoded data removed]",
      "text/plain": [
       "<Figure size 1152x432 with 2 Axes>"
      ]
     },
     "metadata": {
      "needs_background": "light"
     },
     "output_type": "display_data"
    }
   ],
   "source": [
    "fig, ax = plt.subplots(nrows=1, ncols=1, figsize=[16,6])\n",
    "pretty_plot(ax, hist['tloss'], 'tloss', 'blue', grid=True)\n",
    "pretty_plot(ax.twiny(), hist['vloss'], 'vloss', 'red')\n",
    "ax.set_title('Train Loss Every Iteration');"
   ]
  },
  {
   "cell_type": "markdown",
   "metadata": {},
   "source": [
    "# Oxford VGG Flowers - Udacity Challange"
   ]
  },
  {
   "cell_type": "markdown",
   "metadata": {},
   "source": [
    "Create transforms"
   ]
  },
  {
   "cell_type": "code",
   "execution_count": null,
   "metadata": {},
   "outputs": [],
   "source": [
    "transforms_normal = transforms.Compose([\n",
    "    transforms.Resize(256),\n",
    "    transforms.CenterCrop(224),\n",
    "    transforms.ToTensor(),\n",
    "    transforms.Normalize([0.485, 0.456, 0.406], \n",
    "                         [0.229, 0.224, 0.225])\n",
    "])"
   ]
  },
  {
   "cell_type": "code",
   "execution_count": null,
   "metadata": {},
   "outputs": [],
   "source": [
    "transforms_augmented = transforms.Compose([\n",
    "    transforms.RandomRotation(30),\n",
    "    transforms.RandomResizedCrop(224, scale=(0.08 , 1.0)),\n",
    "    transforms.RandomHorizontalFlip(),\n",
    "    transforms.ToTensor(),\n",
    "    transforms.Normalize([0.485, 0.456, 0.406], \n",
    "                         [0.229, 0.224, 0.225])\n",
    "])"
   ]
  },
  {
   "cell_type": "code",
   "execution_count": null,
   "metadata": {},
   "outputs": [],
   "source": [
    "dataset_train_normal = datasets.ImageFolder(os.path.join(dataset_location, 'train'), transforms_normal)\n",
    "dataset_valid_normal = datasets.ImageFolder(os.path.join(dataset_location, 'valid'), transforms_normal)\n",
    "print('Number of train images:', len(dataset_train_normal))\n",
    "print('Number of validation images:', len(dataset_valid_normal))"
   ]
  },
  {
   "cell_type": "code",
   "execution_count": null,
   "metadata": {},
   "outputs": [],
   "source": [
    "dataset_train_augmented = datasets.ImageFolder(os.path.join(dataset_location, 'train'), transforms_augmented)"
   ]
  },
  {
   "cell_type": "markdown",
   "metadata": {},
   "source": [
    "Create two dataloaders for now"
   ]
  },
  {
   "cell_type": "code",
   "execution_count": null,
   "metadata": {},
   "outputs": [],
   "source": [
    "dataloader_train_normal = torch.utils.data.DataLoader(dataset_train_normal, batch_size=16, shuffle=False,\n",
    "                                                     num_workers=6, pin_memory=True)\n",
    "dataloader_valid_normal = torch.utils.data.DataLoader(dataset_valid_normal, batch_size=16, shuffle=False,\n",
    "                                                     num_workers=6, pin_memory=True)"
   ]
  },
  {
   "cell_type": "markdown",
   "metadata": {},
   "source": [
    "# Precompute features"
   ]
  },
  {
   "cell_type": "code",
   "execution_count": 75,
   "metadata": {},
   "outputs": [],
   "source": [
    "class Passthrough(torch.nn.Module):\n",
    "    def forward(self, input):\n",
    "        return input"
   ]
  },
  {
   "cell_type": "code",
   "execution_count": 76,
   "metadata": {},
   "outputs": [
    {
     "name": "stderr",
     "output_type": "stream",
     "text": [
      "/home/marcin/.anaconda/envs/ptgpu/lib/python3.7/site-packages/torchvision/models/densenet.py:212: UserWarning: nn.init.kaiming_normal is now deprecated in favor of nn.init.kaiming_normal_.\n",
      "  nn.init.kaiming_normal(m.weight.data)\n"
     ]
    }
   ],
   "source": [
    "model_cnn = models.densenet121(pretrained=True)\n",
    "\n",
    "# disable all gradients\n",
    "for param in model_cnn.parameters():\n",
    "    param.requires_grad = False\n",
    "\n",
    "model_cnn.classifier = Passthrough()\n",
    "model_cnn.to(device);"
   ]
  },
  {
   "cell_type": "code",
   "execution_count": 81,
   "metadata": {},
   "outputs": [],
   "source": [
    "def extract_features(model_cnn, dataloader):\n",
    "    \"\"\"\n",
    "    Params:\n",
    "        model_cnn - big convnet with final dense layers removed\n",
    "        dataloader - we get data from here\n",
    "    \"\"\"\n",
    "    features_list = []\n",
    "    labels_list = []\n",
    "    \n",
    "    model_cnn.eval()\n",
    "    for images, labels in dataloader:\n",
    "        images = images.to(device)\n",
    "        outputs = model_cnn(images)\n",
    "        features_list.append(outputs.cpu().numpy())\n",
    "        labels_list.append(labels.numpy())\n",
    "\n",
    "    features_arr = np.concatenate(features_list)\n",
    "    labels_arr = np.concatenate(labels_list)\n",
    "\n",
    "    return features_arr, labels_arr"
   ]
  },
  {
   "cell_type": "code",
   "execution_count": 86,
   "metadata": {},
   "outputs": [],
   "source": [
    "train_features_normal, train_labels_normal = extract_features(model_cnn, dataloader_train_normal)"
   ]
  },
  {
   "cell_type": "code",
   "execution_count": 87,
   "metadata": {},
   "outputs": [
    {
     "name": "stdout",
     "output_type": "stream",
     "text": [
      "Shape of train features (inputs): (6552, 1024)\n",
      "Shape of train labels (targets):  (6552,)\n",
      "Type of train feat. and labels:   float32 int64\n",
      "Sample of labels: [75 11 11 29 49 12 73  4  6 73 72 78 74 74 74 77 94 25  0 31]\n"
     ]
    }
   ],
   "source": [
    "print('Shape of train features (inputs):', train_features_normal.shape)\n",
    "print('Shape of train labels (targets): ', train_labels_normal.shape)\n",
    "print('Type of train feat. and labels:  ', train_features_normal.dtype, train_labels_normal.dtype)\n",
    "print('Sample of labels:', train_labels_normal[:20])"
   ]
  },
  {
   "cell_type": "code",
   "execution_count": 82,
   "metadata": {},
   "outputs": [],
   "source": [
    "valid_features_normal, valid_labels_normal = extract_features(model_cnn, dataloader_valid_normal)"
   ]
  },
  {
   "cell_type": "code",
   "execution_count": 79,
   "metadata": {},
   "outputs": [
    {
     "name": "stdout",
     "output_type": "stream",
     "text": [
      "Shape of validation features (inputs): (818, 1024)\n",
      "Shape of validation labels (targets):  (818,)\n",
      "Type of valid. features and labels:    float32 int64\n",
      "Sample of labels: [39 59 43 90 90 21 40 75 56  5 72  1 43 50 49 67 35 54 77 82]\n"
     ]
    }
   ],
   "source": [
    "print('Shape of validation features (inputs):', valid_features_normal.shape)\n",
    "print('Shape of validation labels (targets): ', valid_labels_normal.shape)\n",
    "print('Type of valid. features and labels:   ', valid_features_normal.dtype, valid_labels_normal.dtype)\n",
    "print('Sample of labels:', valid_labels_normal[:20])"
   ]
  },
  {
   "cell_type": "markdown",
   "metadata": {},
   "source": [
    "**Save Checkpoint**"
   ]
  },
  {
   "cell_type": "code",
   "execution_count": null,
   "metadata": {},
   "outputs": [],
   "source": [
    "train_mean, train_std = train_features_normal.mean(), train_features_normal.std()"
   ]
  },
  {
   "cell_type": "code",
   "execution_count": null,
   "metadata": {},
   "outputs": [],
   "source": [
    "train_features_normal = (train_features_normal - train_mean) / train_std\n",
    "valid_features_normal = (valid_features_normal - train_mean) / train_std"
   ]
  },
  {
   "cell_type": "code",
   "execution_count": null,
   "metadata": {},
   "outputs": [],
   "source": [
    "save_path = os.path.join(dataset_location, 'extracted_features_densenet121.npz')\n",
    "save_path"
   ]
  },
  {
   "cell_type": "code",
   "execution_count": null,
   "metadata": {},
   "outputs": [],
   "source": [
    "np.savez(save_path,\n",
    "         train_features_normal=train_features_normal,\n",
    "         train_labels_normal=train_labels_normal,\n",
    "         valid_features_normal=valid_features_normal,\n",
    "         valid_labels_normal=valid_labels_normal)"
   ]
  },
  {
   "cell_type": "markdown",
   "metadata": {},
   "source": [
    "# Train Classifier"
   ]
  },
  {
   "cell_type": "markdown",
   "metadata": {},
   "source": [
    "**Load Checkpoint**"
   ]
  },
  {
   "cell_type": "code",
   "execution_count": null,
   "metadata": {},
   "outputs": [],
   "source": [
    "# load_path = os.path.join(dataset_location, 'extracted_features_densenet121.npz')\n",
    "# load_path"
   ]
  },
  {
   "cell_type": "code",
   "execution_count": null,
   "metadata": {},
   "outputs": [],
   "source": [
    "# npzfile = np.load(load_path)\n",
    "# train_features_normal = npzfile['train_features_normal']\n",
    "# train_labels_normal = npzfile['train_labels_normal']\n",
    "# valid_features_normal = npzfile['valid_features_normal']\n",
    "# valid_labels_normal = npzfile['valid_labels_normal']"
   ]
  },
  {
   "cell_type": "markdown",
   "metadata": {},
   "source": [
    "Load everything to GPU"
   ]
  },
  {
   "cell_type": "code",
   "execution_count": 90,
   "metadata": {},
   "outputs": [],
   "source": [
    "x_train = torch.tensor(train_features_normal).to(device)\n",
    "y_train = torch.tensor(train_labels_normal).to(device)\n",
    "x_valid = torch.tensor(valid_features_normal).to(device)\n",
    "y_valid = torch.tensor(valid_labels_normal).to(device)"
   ]
  },
  {
   "cell_type": "code",
   "execution_count": null,
   "metadata": {},
   "outputs": [],
   "source": []
  },
  {
   "cell_type": "code",
   "execution_count": null,
   "metadata": {},
   "outputs": [],
   "source": []
  },
  {
   "cell_type": "code",
   "execution_count": null,
   "metadata": {},
   "outputs": [],
   "source": []
  },
  {
   "cell_type": "code",
   "execution_count": 14,
   "metadata": {},
   "outputs": [],
   "source": []
  },
  {
   "cell_type": "code",
   "execution_count": null,
   "metadata": {},
   "outputs": [],
   "source": []
  },
  {
   "cell_type": "code",
   "execution_count": null,
   "metadata": {},
   "outputs": [],
   "source": []
  },
  {
   "cell_type": "code",
   "execution_count": null,
   "metadata": {},
   "outputs": [],
   "source": []
  },
  {
   "cell_type": "code",
   "execution_count": null,
   "metadata": {},
   "outputs": [],
   "source": []
  },
  {
   "cell_type": "code",
   "execution_count": 88,
   "metadata": {},
   "outputs": [],
   "source": [
    "def accuracy(logits, labels): \n",
    "    predictions = torch.argmax(logits, dim=1)\n",
    "    return (predictions == labels).float().mean()  # tensor!!"
   ]
  },
  {
   "cell_type": "code",
   "execution_count": 91,
   "metadata": {},
   "outputs": [],
   "source": [
    "model = nn.Sequential(OrderedDict([\n",
    "    ('fc1', nn.Linear(1024, 512)),    # 1024\n",
    "    ('relu', nn.ReLU()),\n",
    "    ('dropout', nn.Dropout(0.2)),\n",
    "    ('fc2', nn.Linear(512, 102)),     # 102\n",
    "    #('output', nn.LogSoftmax(dim=1))\n",
    "]))\n",
    "model.to(device)\n",
    "\n",
    "criterion = nn.CrossEntropyLoss() # nn.NLLLoss()\n",
    "optimizer = torch.optim.Adam(model.parameters()) #, lr=0.001)\n",
    "#scheduler = torch.optim.lr_scheduler.StepLR(optimizer, step_size=7, gamma=0.1)"
   ]
  },
  {
   "cell_type": "code",
   "execution_count": 92,
   "metadata": {},
   "outputs": [
    {
     "ename": "NameError",
     "evalue": "name 'x_train' is not defined",
     "output_type": "error",
     "traceback": [
      "\u001b[0;31m---------------------------------------------------------------------------\u001b[0m",
      "\u001b[0;31mNameError\u001b[0m                                 Traceback (most recent call last)",
      "\u001b[0;32m<ipython-input-92-c11966d1b152>\u001b[0m in \u001b[0;36m<module>\u001b[0;34m\u001b[0m\n\u001b[1;32m     16\u001b[0m     \u001b[0;31m# train: one full pass over dataset\u001b[0m\u001b[0;34m\u001b[0m\u001b[0;34m\u001b[0m\u001b[0;34m\u001b[0m\u001b[0m\n\u001b[1;32m     17\u001b[0m     \u001b[0mmodel\u001b[0m\u001b[0;34m.\u001b[0m\u001b[0mtrain\u001b[0m\u001b[0;34m(\u001b[0m\u001b[0;34m)\u001b[0m                                                  \u001b[0;31m# enable dropout etc.\u001b[0m\u001b[0;34m\u001b[0m\u001b[0;34m\u001b[0m\u001b[0m\n\u001b[0;32m---> 18\u001b[0;31m     \u001b[0mindices\u001b[0m \u001b[0;34m=\u001b[0m \u001b[0mtorch\u001b[0m\u001b[0;34m.\u001b[0m\u001b[0mrandperm\u001b[0m\u001b[0;34m(\u001b[0m\u001b[0mlen\u001b[0m\u001b[0;34m(\u001b[0m\u001b[0mx_train\u001b[0m\u001b[0;34m)\u001b[0m\u001b[0;34m,\u001b[0m \u001b[0mdevice\u001b[0m\u001b[0;34m=\u001b[0m\u001b[0mdevice\u001b[0m\u001b[0;34m)\u001b[0m          \u001b[0;31m# randmly shuffled indices\u001b[0m\u001b[0;34m\u001b[0m\u001b[0;34m\u001b[0m\u001b[0m\n\u001b[0m\u001b[1;32m     19\u001b[0m     \u001b[0;32mfor\u001b[0m \u001b[0mi\u001b[0m \u001b[0;32min\u001b[0m \u001b[0mrange\u001b[0m\u001b[0;34m(\u001b[0m\u001b[0;36m0\u001b[0m\u001b[0;34m,\u001b[0m \u001b[0mlen\u001b[0m\u001b[0;34m(\u001b[0m\u001b[0mx_train\u001b[0m\u001b[0;34m)\u001b[0m\u001b[0;34m,\u001b[0m \u001b[0mbatch_size\u001b[0m\u001b[0;34m)\u001b[0m\u001b[0;34m:\u001b[0m                   \u001b[0;31m# i = 0, batch_size, 2*batch_size, ...\u001b[0m\u001b[0;34m\u001b[0m\u001b[0;34m\u001b[0m\u001b[0m\n\u001b[1;32m     20\u001b[0m \u001b[0;34m\u001b[0m\u001b[0m\n",
      "\u001b[0;31mNameError\u001b[0m: name 'x_train' is not defined"
     ]
    }
   ],
   "source": [
    "num_epochs = 5\n",
    "batch_size = 16\n",
    "\n",
    "since = time.time()\n",
    "\n",
    "hist = { 'tloss':[], 'tacc':[],               # mini-batch loss/acc every iteration\n",
    "         'train_loss':[], 'train_acc':[],   # train set loss/acc every epoch\n",
    "         'val_loss':[], 'val_acc':[] }      # valid set loss/acc every epoch\n",
    "\n",
    "# x_train = train_features_normal\n",
    "# y_train = train_labels_normal\n",
    "\n",
    "for epoch in range(num_epochs):\n",
    "    #scheduler.step()\n",
    "    \n",
    "    # train: one full pass over dataset\n",
    "    model.train()                                                  # enable dropout etc.\n",
    "    indices = torch.randperm(len(x_train), device=device)          # randmly shuffled indices\n",
    "    for i in range(0, len(x_train), batch_size):                   # i = 0, batch_size, 2*batch_size, ...\n",
    "        \n",
    "        # Pick mini-batch\n",
    "        x = x_train[indices[i:i+batch_size]]\n",
    "        y = y_train[indices[i:i+batch_size]]\n",
    "        \n",
    "        # Zero gradients\n",
    "        optimizer.zero_grad()\n",
    "\n",
    "        # Train\n",
    "        outputs = model(x)                                         # outputs is un-normalized, i.e. no softmax\n",
    "        loss = criterion(outputs, y)\n",
    "    \n",
    "        loss.backward()\n",
    "        optimizer.step()\n",
    "        \n",
    "        \n",
    "        with torch.no_grad():\n",
    "            hist['acc'].append( accuracy(outputs, y).item() )\n",
    "            hist['loss'].append( loss.item() )\n",
    "    \n",
    "    print('loss & acc: ', hist['loss'][-1], hist['acc'][-1])\n",
    "        \n",
    "            \n",
    "print(time.time() - since)"
   ]
  },
  {
   "cell_type": "code",
   "execution_count": 66,
   "metadata": {},
   "outputs": [
    {
     "name": "stdout",
     "output_type": "stream",
     "text": [
      "Loss and accuracy on train set: 7.6674 0.05\n"
     ]
    }
   ],
   "source": [
    "model.eval()\n",
    "with torch.no_grad():\n",
    "    outputs = model(x_train)\n",
    "    loss = criterion(x_train, y_train).item()\n",
    "    acc = accuracy(outputs, y_train).item() \n",
    "print(f'Loss and accuracy on train set: {loss:.4f} {acc:.2f}')"
   ]
  },
  {
   "cell_type": "markdown",
   "metadata": {},
   "source": [
    "# Graphviz helper"
   ]
  },
  {
   "cell_type": "code",
   "execution_count": 4,
   "metadata": {},
   "outputs": [],
   "source": [
    "from graphviz import Digraph\n",
    "from torch.autograd import Variable\n",
    "\n",
    "# Copied from https://github.com/szagoruyko/pytorchviz\n",
    "def make_dot(var, params=None):\n",
    "    \"\"\" Produces Graphviz representation of PyTorch autograd graph.\n",
    "    Blue nodes are the Variables that require grad, orange are Tensors\n",
    "    saved for backward in torch.autograd.Function\n",
    "    Args:\n",
    "        var: output Variable\n",
    "        params: dict of (name, Variable) to add names to node that\n",
    "            require grad (TODO: make optional)\n",
    "    \"\"\"\n",
    "    if params is not None:\n",
    "        assert all(isinstance(p, Variable) for p in params.values())\n",
    "        param_map = {id(v): k for k, v in params.items()}\n",
    "\n",
    "    node_attr = dict(style='filled',\n",
    "                     shape='box',\n",
    "                     align='left',\n",
    "                     fontsize='12',\n",
    "                     ranksep='0.1',\n",
    "                     height='0.2')\n",
    "    dot = Digraph(node_attr=node_attr, graph_attr=dict(size=\"12,12\"))\n",
    "    seen = set()\n",
    "\n",
    "    def size_to_str(size):\n",
    "        return '(' + (', ').join(['%d' % v for v in size]) + ')'\n",
    "\n",
    "    output_nodes = (var.grad_fn,) if not isinstance(var, tuple) else tuple(v.grad_fn for v in var)\n",
    "\n",
    "    def add_nodes(var):\n",
    "        if var not in seen:\n",
    "            if torch.is_tensor(var):\n",
    "                # note: this used to show .saved_tensors in pytorch0.2, but stopped\n",
    "                # working as it was moved to ATen and Variable-Tensor merged\n",
    "                dot.node(str(id(var)), size_to_str(var.size()), fillcolor='orange')\n",
    "            elif hasattr(var, 'variable'):\n",
    "                u = var.variable\n",
    "                name = param_map[id(u)] if params is not None else ''\n",
    "                node_name = '%s\\n %s' % (name, size_to_str(u.size()))\n",
    "                dot.node(str(id(var)), node_name, fillcolor='lightblue')\n",
    "            elif var in output_nodes:\n",
    "                dot.node(str(id(var)), str(type(var).__name__), fillcolor='darkolivegreen1')\n",
    "            else:\n",
    "                dot.node(str(id(var)), str(type(var).__name__))\n",
    "            seen.add(var)\n",
    "            if hasattr(var, 'next_functions'):\n",
    "                for u in var.next_functions:\n",
    "                    if u[0] is not None:\n",
    "                        dot.edge(str(id(u[0])), str(id(var)))\n",
    "                        add_nodes(u[0])\n",
    "            if hasattr(var, 'saved_tensors'):\n",
    "                for t in var.saved_tensors:\n",
    "                    dot.edge(str(id(t)), str(id(var)))\n",
    "                    add_nodes(t)\n",
    "\n",
    "    # handle multiple outputs\n",
    "    if isinstance(var, tuple):\n",
    "        for v in var:\n",
    "            add_nodes(v.grad_fn)\n",
    "    else:\n",
    "        add_nodes(var.grad_fn)\n",
    "\n",
    "    resize_graph(dot)\n",
    "\n",
    "    return dot\n",
    "\n",
    "# Copied from https://github.com/szagoruyko/pytorchviz\n",
    "def resize_graph(dot, size_per_element=0.15, min_size=12):\n",
    "    \"\"\"Resize the graph according to how much content it contains.\n",
    "    Modify the graph in place.\n",
    "    \"\"\"\n",
    "    # Get the approximate number of nodes and edges\n",
    "    num_rows = len(dot.body)\n",
    "    content_size = num_rows * size_per_element\n",
    "    size = max(min_size, content_size)\n",
    "    size_str = str(size) + \",\" + str(size)\n",
    "    dot.graph_attr.update(size=size_str)"
   ]
  },
  {
   "cell_type": "code",
   "execution_count": null,
   "metadata": {},
   "outputs": [],
   "source": []
  }
 ],
 "metadata": {
  "kernelspec": {
   "display_name": "Python 3",
   "language": "python",
   "name": "python3"
  },
  "language_info": {
   "codemirror_mode": {
    "name": "ipython",
    "version": 3
   },
   "file_extension": ".py",
   "mimetype": "text/x-python",
   "name": "python",
   "nbconvert_exporter": "python",
   "pygments_lexer": "ipython3",
   "version": "3.7.1"
  }
 },
 "nbformat": 4,
 "nbformat_minor": 2
}
