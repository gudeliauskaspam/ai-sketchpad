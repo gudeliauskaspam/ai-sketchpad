{
 "cells": [
  {
   "cell_type": "markdown",
   "metadata": {},
   "source": [
    "# Introduction"
   ]
  },
  {
   "cell_type": "markdown",
   "metadata": {},
   "source": [
    "This notebook presents **LSTM** network with character-wise input trained on Shakespeare plays.\n",
    "\n",
    "Dataset file is included in this repo and consists of all works of Shakespeare concatenated together (4.6MB)."
   ]
  },
  {
   "cell_type": "markdown",
   "metadata": {},
   "source": [
    "# Imports"
   ]
  },
  {
   "cell_type": "code",
   "execution_count": 1,
   "metadata": {},
   "outputs": [],
   "source": [
    "import time\n",
    "import collections\n",
    "import numpy as np\n",
    "import matplotlib.pyplot as plt"
   ]
  },
  {
   "cell_type": "code",
   "execution_count": 2,
   "metadata": {},
   "outputs": [],
   "source": [
    "import torch\n",
    "import torch.nn as nn\n",
    "import torch.optim as optim\n",
    "import torch.nn.functional as F"
   ]
  },
  {
   "cell_type": "code",
   "execution_count": 3,
   "metadata": {},
   "outputs": [],
   "source": [
    "device = torch.device(\"cuda:0\" if torch.cuda.is_available() else \"cpu\")"
   ]
  },
  {
   "cell_type": "markdown",
   "metadata": {},
   "source": [
    "# Read Data"
   ]
  },
  {
   "cell_type": "markdown",
   "metadata": {},
   "source": [
    "Dataset location"
   ]
  },
  {
   "cell_type": "code",
   "execution_count": 4,
   "metadata": {},
   "outputs": [],
   "source": [
    "dataset_location = '../Datasets/shakespeare/shakespeare_input.txt'"
   ]
  },
  {
   "cell_type": "markdown",
   "metadata": {},
   "source": [
    "Open text file"
   ]
  },
  {
   "cell_type": "code",
   "execution_count": 5,
   "metadata": {},
   "outputs": [
    {
     "name": "stdout",
     "output_type": "stream",
     "text": [
      "First Citizen:\n",
      "Before we proceed any further, hear me speak.\n",
      "\n",
      "All:\n",
      "Speak, speak.\n",
      "\n",
      "First Citizen:\n",
      "You are all resolved rather to die than to famish?\n",
      "\n",
      "All:\n",
      "Resolved. resolved.\n"
     ]
    }
   ],
   "source": [
    "with open(dataset_location, 'r') as f:\n",
    "    text = f.read()\n",
    "print(text[:173])"
   ]
  },
  {
   "cell_type": "markdown",
   "metadata": {},
   "source": [
    "Discard bit at the end such that text is divisible by 1024. This allow for batch sizes [1, 2, 4, 8, 16, 32, ..., 1024]"
   ]
  },
  {
   "cell_type": "code",
   "execution_count": 6,
   "metadata": {},
   "outputs": [],
   "source": [
    "mod1024 = len(text) % 1024\n",
    "text = text[:-mod1024]"
   ]
  },
  {
   "cell_type": "markdown",
   "metadata": {},
   "source": [
    "Tokenize"
   ]
  },
  {
   "cell_type": "code",
   "execution_count": 7,
   "metadata": {},
   "outputs": [
    {
     "data": {
      "text/plain": [
       "[(' ', 696165), ('e', 386342), ('t', 272672), ('o', 268956), ('a', 230593)]"
      ]
     },
     "execution_count": 7,
     "metadata": {},
     "output_type": "execute_result"
    }
   ],
   "source": [
    "tokens = collections.Counter(text).most_common()\n",
    "tokens[0:5]"
   ]
  },
  {
   "cell_type": "code",
   "execution_count": 8,
   "metadata": {},
   "outputs": [
    {
     "name": "stdout",
     "output_type": "stream",
     "text": [
      "i2c: {0: ' ', 1: 'e', 2: 't', 3: 'o', 4: 'a', 5: 'h', 6: 's', 7: 'n', 8: 'r', 9: 'i', 10: '\\n', 11: 'l', 12: 'd', 13: 'u', 14: 'm', 15: 'y', 16: ',', 17: 'w', 18: 'f', 19: 'c', 20: 'g', 21: 'I', 22: ':', 23: 'b', 24: 'p', 25: 'A', 26: '.', 27: 'v', 28: 'T', 29: 'k', 30: \"'\", 31: 'S', 32: 'E', 33: 'O', 34: 'N', 35: 'R', 36: 'L', 37: ';', 38: 'C', 39: 'H', 40: 'W', 41: 'M', 42: 'U', 43: 'B', 44: 'D', 45: '?', 46: 'F', 47: '!', 48: '-', 49: 'G', 50: 'P', 51: 'Y', 52: 'K', 53: 'V', 54: 'j', 55: 'q', 56: 'x', 57: 'J', 58: 'z', 59: 'Q', 60: 'Z', 61: 'X', 62: '3', 63: '&', 64: '[', 65: ']', 66: '$'}\n",
      "c2i: {' ': 0, 'e': 1, 't': 2, 'o': 3, 'a': 4, 'h': 5, 's': 6, 'n': 7, 'r': 8, 'i': 9, '\\n': 10, 'l': 11, 'd': 12, 'u': 13, 'm': 14, 'y': 15, ',': 16, 'w': 17, 'f': 18, 'c': 19, 'g': 20, 'I': 21, ':': 22, 'b': 23, 'p': 24, 'A': 25, '.': 26, 'v': 27, 'T': 28, 'k': 29, \"'\": 30, 'S': 31, 'E': 32, 'O': 33, 'N': 34, 'R': 35, 'L': 36, ';': 37, 'C': 38, 'H': 39, 'W': 40, 'M': 41, 'U': 42, 'B': 43, 'D': 44, '?': 45, 'F': 46, '!': 47, '-': 48, 'G': 49, 'P': 50, 'Y': 51, 'K': 52, 'V': 53, 'j': 54, 'q': 55, 'x': 56, 'J': 57, 'z': 58, 'Q': 59, 'Z': 60, 'X': 61, '3': 62, '&': 63, '[': 64, ']': 65, '$': 66}\n"
     ]
    }
   ],
   "source": [
    "i2c = {i : c for i, (c, n) in enumerate(tokens)}\n",
    "c2i = {c : i for i, c in i2c.items()}\n",
    "print('i2c:', i2c)\n",
    "print('c2i:', c2i)"
   ]
  },
  {
   "cell_type": "markdown",
   "metadata": {},
   "source": [
    "Encode text as tokens, reshape to batches, convert to tensor"
   ]
  },
  {
   "cell_type": "code",
   "execution_count": 9,
   "metadata": {},
   "outputs": [
    {
     "name": "stdout",
     "output_type": "stream",
     "text": [
      "data:\n",
      "[[46  9  8 ...  3  2  0]\n",
      " [ 9  7  0 ... 30  6 16]\n",
      " [ 0 17  4 ...  1 19  3]\n",
      " ...\n",
      " [43  8  3 ...  0  9  2]\n",
      " [ 0  9  7 ...  5  1  8]\n",
      " [ 0  2  5 ...  0  4  8]]\n",
      "shape: (128, 35728)\n"
     ]
    }
   ],
   "source": [
    "batch_size = 128\n",
    "\n",
    "data = np.array([c2i[c] for c in text])\n",
    "data = data.reshape((batch_size, -1))\n",
    "print('data:')\n",
    "print(data)\n",
    "print('shape:', data.shape)"
   ]
  },
  {
   "cell_type": "code",
   "execution_count": 10,
   "metadata": {},
   "outputs": [
    {
     "name": "stdout",
     "output_type": "stream",
     "text": [
      "train_data: (128, 28582)\n",
      "valid_data: (128, 7146)\n"
     ]
    }
   ],
   "source": [
    "split_index = int(data.shape[1]*.8)  # 80% train, 10% valid\n",
    "train_data, valid_data = np.split(data, [split_index], axis=1)\n",
    "print('train_data:', train_data.shape)\n",
    "print('valid_data:', valid_data.shape)"
   ]
  },
  {
   "cell_type": "markdown",
   "metadata": {},
   "source": [
    "Move to GPU if possible"
   ]
  },
  {
   "cell_type": "code",
   "execution_count": 11,
   "metadata": {},
   "outputs": [
    {
     "name": "stdout",
     "output_type": "stream",
     "text": [
      "train_x: torch.Size([128, 28582])\n",
      "valid_x: torch.Size([128, 7146])\n"
     ]
    }
   ],
   "source": [
    "train_x = torch.tensor(train_data).to(device)\n",
    "valid_x = torch.tensor(valid_data).to(device)\n",
    "print('train_x:', train_x.shape)\n",
    "print('valid_x:', valid_x.shape)"
   ]
  },
  {
   "cell_type": "markdown",
   "metadata": {},
   "source": [
    "Model"
   ]
  },
  {
   "cell_type": "code",
   "execution_count": 12,
   "metadata": {},
   "outputs": [],
   "source": [
    "class CharRNN(nn.Module):\n",
    "    \n",
    "    def __init__(self, nb_layers, n_in, n_embed, n_hid, n_out, dropout):\n",
    "        super(CharRNN, self).__init__()\n",
    "        self.embed = nn.Embedding(num_embeddings=n_in, embedding_dim=n_embed)\n",
    "        self.lstm = nn.LSTM(input_size=n_embed, hidden_size=n_hid, num_layers=nb_layers,\n",
    "                           batch_first=True, dropout=dropout)\n",
    "        self.drop = nn.Dropout(p=dropout)\n",
    "        self.fc = nn.Linear(in_features=n_hid, out_features=n_out)\n",
    "    \n",
    "    def forward(self, x, hidden):\n",
    "        x = self.embed(x)                   # shape [n_batch, n_seq, n_embed]\n",
    "        x, hidden = self.lstm(x, hidden)    # shape [n_batch, n_seq, n_hid]\n",
    "        x = self.drop(x)\n",
    "        x = self.fc(x)                      # shape [n_batch, n_seq, n_out]\n",
    "        return x, hidden\n",
    "    \n",
    "    def sample(self, inputs, hidden, topk=5):\n",
    "        \"\"\"Sample one token, conditioned on inputs and hidden\n",
    "        \n",
    "        Params:\n",
    "            inputs - tensor with input tokens, shape [1, n_seq]\n",
    "            hidden - hidden state for LSTM, can be None\n",
    "            topk - int, how many top choices to consider when sampling\n",
    "        \n",
    "        Returns:\n",
    "            token for next predicted character, tensor of shape [1, 1] containing one int\n",
    "        \"\"\"\n",
    "        logits, hidden = self(inputs, hidden)\n",
    "\n",
    "        last_output = logits[0, -1]            # keep last seq. output       shape [n_out]\n",
    "        probs = F.softmax(last_output, dim=0)  # logits to probabilities     shape [n_out]\n",
    "\n",
    "        probs, indices = probs.topk(topk)\n",
    "        weights = probs / probs.sum()                             # normalize probs\n",
    "        tok = np.random.choice(a=indices.detach().cpu().numpy(),  # no torch impl. yet :(\n",
    "                               p=weights.detach().cpu().numpy())\n",
    "\n",
    "        res = torch.tensor([[tok]], device=inputs.device)    # feed to next sample() call\n",
    "        return res, hidden"
   ]
  },
  {
   "cell_type": "markdown",
   "metadata": {},
   "source": [
    "Hyperparameters"
   ]
  },
  {
   "cell_type": "code",
   "execution_count": 13,
   "metadata": {},
   "outputs": [],
   "source": [
    "nb_layers = 2\n",
    "n_in = len(i2c)\n",
    "n_seq = 256\n",
    "n_embed = 50\n",
    "n_hid = 64\n",
    "n_out = len(i2c)\n",
    "dropout = .5"
   ]
  },
  {
   "cell_type": "markdown",
   "metadata": {},
   "source": [
    "Create model"
   ]
  },
  {
   "cell_type": "code",
   "execution_count": 14,
   "metadata": {},
   "outputs": [],
   "source": [
    "model = CharRNN(nb_layers, n_in, n_embed, n_hid, n_out, dropout)\n",
    "model.to(device)\n",
    "optimizer = optim.Adam(model.parameters())\n",
    "criterion = nn.CrossEntropyLoss()"
   ]
  },
  {
   "cell_type": "markdown",
   "metadata": {},
   "source": [
    "Helper to generate new text"
   ]
  },
  {
   "cell_type": "code",
   "execution_count": 15,
   "metadata": {},
   "outputs": [],
   "source": [
    "def generate(prompt=' ', size=1000):\n",
    "    \n",
    "    model.eval()\n",
    "\n",
    "    inputs = [c2i[c] for c in prompt]               # tokenize\n",
    "    inputs = torch.tensor(inputs).to(device)\n",
    "    inputs = inputs.reshape(1, -1)                  # shape [n_batch=1, n_seq]\n",
    "\n",
    "    result = []\n",
    "\n",
    "    with torch.no_grad():\n",
    "        output, hidden = model.sample(inputs, None, topk=5)\n",
    "        result.append(output.item())\n",
    "\n",
    "        for i in range(size-1):\n",
    "            output, hidden = model.sample(output, hidden, topk=5)\n",
    "            result.append(output.item())\n",
    "            \n",
    "    return ''.join([i2c[i] for i in result])"
   ]
  },
  {
   "cell_type": "markdown",
   "metadata": {},
   "source": [
    "Helper function for training"
   ]
  },
  {
   "cell_type": "code",
   "execution_count": 16,
   "metadata": {
    "scrolled": true
   },
   "outputs": [],
   "source": [
    "def train(nb_epochs, trace, trace2):\n",
    "\n",
    "    epoch = len(trace['epoch'])\n",
    "    train_size = train_x.shape[1] - 1  # -1 because inputs/targets are shifted by one\n",
    "    valid_size = valid_x.shape[1] - 1\n",
    "\n",
    "    for _ in range(nb_epochs):\n",
    "\n",
    "        time_start = time.time()\n",
    "\n",
    "        #\n",
    "        #   Train Model\n",
    "        #\n",
    "        model.train()\n",
    "        tloss_sum = 0\n",
    "        hidden = None                                  # reset LSTM hidden state\n",
    "        for i in range(0, train_size, n_seq):\n",
    "\n",
    "            # Pick mini-batch (over seqence dimension)\n",
    "            inputs = train_x[:,i:i+n_seq]        # [n_batch, n_seq], less for last batch\n",
    "            targets = train_x[:,i+1:i+1+n_seq]   # [n_batch, n_seq], less for last batch\n",
    "            if inputs.shape[1] != targets.shape[1]:\n",
    "                inputs = inputs[:,:-1]           # fix shape for last batch in epoch\n",
    "\n",
    "            # Optimize\n",
    "            optimizer.zero_grad()\n",
    "            outputs, hidden = model(inputs, hidden)\n",
    "            hidden = tuple(h.detach() for h in hidden)\n",
    "            loss = criterion(outputs.view(-1, n_out), targets.flatten())\n",
    "            loss.backward()\n",
    "            optimizer.step()\n",
    "\n",
    "            # Record per-iteration loss\n",
    "            tloss_sum += loss.item() * inputs.shape[1]  # size of minibatch\n",
    "            trace2['loss'].append( loss.item() )\n",
    "\n",
    "        tloss_avg = tloss_sum / train_size\n",
    "\n",
    "        #\n",
    "        #   Evaluate Model\n",
    "        #\n",
    "        model.eval()\n",
    "        vloss_sum = 0\n",
    "        hidden = None\n",
    "        with torch.no_grad():        \n",
    "            for i in range(0, valid_size, n_seq):\n",
    "\n",
    "                # Pick mini-batch\n",
    "                inputs = valid_x[:,i:i+n_seq]\n",
    "                targets = valid_x[:,i+1:i+1+n_seq]\n",
    "                if inputs.shape[1] != targets.shape[1]:\n",
    "                    inputs = inputs[:,:-1]\n",
    "\n",
    "                # Optimize\n",
    "                outputs, hidden = model(inputs, hidden)\n",
    "                loss = criterion(outputs.view(-1, n_out), targets.flatten())\n",
    "\n",
    "                # Record per-iteration loss\n",
    "                vloss_sum += loss.item() * inputs.shape[1]\n",
    "\n",
    "        vloss_avg = vloss_sum / valid_size\n",
    "\n",
    "        #\n",
    "        #   Logging\n",
    "        #\n",
    "\n",
    "        time_delta = time.time() - time_start\n",
    "\n",
    "        trace['epoch'].append(epoch)\n",
    "        trace['tloss'].append(tloss_avg)\n",
    "        trace['vloss'].append(vloss_avg)\n",
    "        \n",
    "        #\n",
    "        #   Print loss\n",
    "        #\n",
    "        print(f'Epoch: {epoch:3}     '\n",
    "              f'T/V Loss: {tloss_avg:.4f} / {vloss_avg:.4f}     '\n",
    "              f'Time: {time_delta:.2f}s')\n",
    "\n",
    "        epoch += 1"
   ]
  },
  {
   "cell_type": "markdown",
   "metadata": {},
   "source": [
    "Test model before training"
   ]
  },
  {
   "cell_type": "code",
   "execution_count": 17,
   "metadata": {},
   "outputs": [
    {
     "name": "stdout",
     "output_type": "stream",
     "text": [
      "KING:\n",
      "DNDDocNNDN3N3NQQQccDDoNoNNNNoN;NQNNDDo;QDNoDooWD-DN33QDDNNDQoQDNDQNooW3QNQQWoNDDDQoDNoooWN-o---oDWNN-NQ3N3oNNoNoN;QN3QWoDQcDNQooNW3NN3NDNoNooQNQQ3QWo3N3DNNDoQQDWcoNNQDNNoDo;NN3No;DD33N3QQoQcQcDoDcQ3c;Qc;D33DDD3DoN3o;DDoooNDNDo;N-QQocooNQWQQQ3cQWo3QD3QcocDDD3oNQDQoQoWNQ3NQoWNQNQ3D3o;DQNND33NQDoQDQQcQDcoNDD3Q3N3;oNN3QQcDQooNooNNNQ3;DNDoQcNDQ3DQQ3QcDc;DDco;QND3NNN3oQN3QW3oNDDDND3QQ3ccD;coDoN3NQD3DN3o;oQoDNoD;oWNDQQcNDNQcQ3ooW3DQ3o;oQoQQQWoNDND3oD;QN3DQN3NDoNo;QNoNoDNDQDQ3oDQN3N3QNDoQcDDN3DQoN3NooNoN;Q-Q--oDNoWQQoNQQQQdcDcQ3;33;oQoDQQooDNNDDDo;NNQN3QDN33N3QNDNDN3QDNQQcQDcoNoQNW3oNDDN3QD3DNDDQ3NNQNDoDNDoDQoNNDN3N3oooN;NQ-NDo;ooDDNo;--oQooooNoWooooQNNWQoQWD3Q3oW3BQDQQQ3oNNNQoNDDQN3QoWoDDDNDDNQNQcoooW3;DQQWQcQoQDQWQooQWQWDoNNDNoQDDoNooW3oNDDD3QoNNNoQNoNDQoQoNQQQcWNo3DQQQ3cc;oNoQQDQ3ccD;Q33NNDoo;-oND-QoWN3NoD;NQNDQ33QoDDDoND3o;-QNDNoNDQQQQQdWccQoNQQ3coQQD3NNNQNDD3QQ3ooQW3oWoQNNoDDNDNQNo3QWNQQQWNNoQoNNDDNDND3oooQDNDoooWDaDDDao3NDDNo3;NNoNNNNDQQNQoQW3DDoDoQQDW3NQN3Q3;3;3DQQ33ooWoNDoNDooQQW3Do;-Q\n"
     ]
    }
   ],
   "source": [
    "prompt = 'KING:\\n'\n",
    "new_text = generate(prompt, size=1000)\n",
    "print(prompt, new_text, sep='')"
   ]
  },
  {
   "cell_type": "markdown",
   "metadata": {},
   "source": [
    "Actually train the model"
   ]
  },
  {
   "cell_type": "code",
   "execution_count": 18,
   "metadata": {},
   "outputs": [
    {
     "name": "stdout",
     "output_type": "stream",
     "text": [
      "Epoch:   0     T/V Loss: 3.3968 / 2.9009     Time: 6.48s\n",
      "Epoch:   1     T/V Loss: 2.7400 / 2.4593     Time: 5.88s\n",
      "Epoch:   2     T/V Loss: 2.5113 / 2.3201     Time: 5.31s\n",
      "Epoch:   3     T/V Loss: 2.4156 / 2.2397     Time: 5.83s\n",
      "Epoch:   4     T/V Loss: 2.3521 / 2.1786     Time: 5.57s\n",
      "Epoch:   5     T/V Loss: 2.3021 / 2.1284     Time: 5.30s\n",
      "Epoch:   6     T/V Loss: 2.2618 / 2.0863     Time: 5.64s\n",
      "Epoch:   7     T/V Loss: 2.2285 / 2.0522     Time: 5.98s\n",
      "Epoch:   8     T/V Loss: 2.2003 / 2.0229     Time: 5.90s\n",
      "Epoch:   9     T/V Loss: 2.1746 / 1.9946     Time: 5.97s\n"
     ]
    }
   ],
   "source": [
    "trace = {'epoch': [], 'tloss': [], 'vloss': []}    # per epoch\n",
    "trace2 = {'loss' : []}                             # per iteration\n",
    "train(nb_epochs=10, trace=trace, trace2=trace2)"
   ]
  },
  {
   "cell_type": "markdown",
   "metadata": {},
   "source": [
    "Train some more"
   ]
  },
  {
   "cell_type": "code",
   "execution_count": 19,
   "metadata": {},
   "outputs": [
    {
     "name": "stdout",
     "output_type": "stream",
     "text": [
      "Epoch:  10     T/V Loss: 2.1504 / 1.9666     Time: 6.12s\n",
      "Epoch:  11     T/V Loss: 2.1284 / 1.9454     Time: 6.75s\n",
      "Epoch:  12     T/V Loss: 2.1110 / 1.9271     Time: 5.48s\n",
      "Epoch:  13     T/V Loss: 2.0962 / 1.9119     Time: 5.53s\n",
      "Epoch:  14     T/V Loss: 2.0826 / 1.8960     Time: 5.62s\n",
      "Epoch:  15     T/V Loss: 2.0707 / 1.8826     Time: 5.45s\n",
      "Epoch:  16     T/V Loss: 2.0598 / 1.8713     Time: 5.99s\n",
      "Epoch:  17     T/V Loss: 2.0493 / 1.8596     Time: 6.31s\n",
      "Epoch:  18     T/V Loss: 2.0407 / 1.8500     Time: 6.18s\n",
      "Epoch:  19     T/V Loss: 2.0317 / 1.8403     Time: 6.10s\n"
     ]
    }
   ],
   "source": [
    "train(nb_epochs=10, trace=trace, trace2=trace2)"
   ]
  },
  {
   "cell_type": "markdown",
   "metadata": {},
   "source": [
    "Test model after training"
   ]
  },
  {
   "cell_type": "code",
   "execution_count": 20,
   "metadata": {},
   "outputs": [
    {
     "name": "stdout",
     "output_type": "stream",
     "text": [
      "KING:\n",
      "The shand horter. Where she me as moniest\n",
      "Wather. I there our theand this stell.\n",
      "\n",
      "BUSENS:\n",
      "I'll my son, the that the singlest son and his siled him that than hin that\n",
      "Thill so had serse the sous and me,\n",
      "In sertong, what as the letter to that.\n",
      "When and more as to say the wite thing thou made.\n",
      "\n",
      "COMOTIO:\n",
      "At were thee hor a masto worls the so to me\n",
      "What him my mad thimken of the save, at and\n",
      "Tand in and made thou strust hy, and this honeth.\n",
      "All and wall, here as will and mern with\n",
      "That, this stones in that that thy misiting.\n",
      "\n",
      "CAMENIO:\n",
      "Thy sorsirom the she thou.\n",
      "\n",
      "PILIUCE:\n",
      "Which a stoness as so so sone, to thit this\n",
      "thou sorsor and she hath then, that,\n",
      "And the share of morithire to the meen, the mond that\n",
      "In will thy mert, sead hone the wertertes,\n",
      "And the some and she wall hightist,\n",
      "The montute in his stirne as home to an hig of stiry\n",
      "And the well to sard as a mind of my word the thee\n",
      "to him have the mady thits have, say.\n",
      "\n",
      "SIR ANTANE:\n",
      "We had and we seint and mestath;\n",
      "Where shas and mes the tr\n"
     ]
    }
   ],
   "source": [
    "prompt = 'KING:\\n'\n",
    "new_text = generate(prompt, size=1000)\n",
    "print(prompt, new_text, sep='')"
   ]
  },
  {
   "cell_type": "markdown",
   "metadata": {},
   "source": [
    "# Train and Valid Loss"
   ]
  },
  {
   "cell_type": "markdown",
   "metadata": {},
   "source": [
    "Wait, wait, wait, is valid loss less than train loss?\n",
    "\n",
    "Lets plot per-iteration train loss"
   ]
  },
  {
   "cell_type": "code",
   "execution_count": 21,
   "metadata": {},
   "outputs": [
    {
     "data": {
      "image/png": "[encoded data removed]",
      "text/plain": [
       "<Figure size 432x288 with 1 Axes>"
      ]
     },
     "metadata": {
      "needs_background": "light"
     },
     "output_type": "display_data"
    }
   ],
   "source": [
    "plt.plot(trace2['loss']);"
   ]
  },
  {
   "cell_type": "markdown",
   "metadata": {},
   "source": [
    "Plot per-epoch train and valid losses"
   ]
  },
  {
   "cell_type": "code",
   "execution_count": 22,
   "metadata": {},
   "outputs": [
    {
     "data": {
      "image/png": "[encoded data removed]",
      "text/plain": [
       "<Figure size 432x288 with 1 Axes>"
      ]
     },
     "metadata": {
      "needs_background": "light"
     },
     "output_type": "display_data"
    }
   ],
   "source": [
    "plt.plot(trace['tloss'], label='tloss')\n",
    "plt.plot(trace['vloss'], label='vloss')\n",
    "plt.legend();"
   ]
  },
  {
   "cell_type": "markdown",
   "metadata": {},
   "source": [
    "**Why validation loss is less than train loss?**\n",
    "\n",
    "Mainly because dropout is enabled in train mode.\n",
    "\n",
    "To test this let's make helper function to evaluate model"
   ]
  },
  {
   "cell_type": "code",
   "execution_count": 23,
   "metadata": {},
   "outputs": [],
   "source": [
    "def evaluate(data_x):\n",
    "    \n",
    "    data_size = data_x.shape[1] - 1\n",
    "    \n",
    "    #\n",
    "    #   Evaluate Model\n",
    "    #\n",
    "    model.eval()\n",
    "    loss_sum = 0\n",
    "    hidden = None\n",
    "    with torch.no_grad():        \n",
    "        for i in range(0, data_size, n_seq):\n",
    "\n",
    "            # Pick mini-batch\n",
    "            inputs = data_x[:,i:i+n_seq]\n",
    "            targets = data_x[:,i+1:i+1+n_seq]\n",
    "            if inputs.shape[1] != targets.shape[1]:\n",
    "                inputs = inputs[:,:-1]\n",
    "\n",
    "            # Optimize\n",
    "            outputs, hidden = model(inputs, hidden)\n",
    "            loss = criterion(outputs.view(-1, n_out), targets.flatten())\n",
    "\n",
    "            # Record per-iteration loss\n",
    "            loss_sum += loss.item() * inputs.shape[1]\n",
    "\n",
    "    loss_avg = loss_sum / data_size\n",
    "    \n",
    "    return loss_avg"
   ]
  },
  {
   "cell_type": "markdown",
   "metadata": {},
   "source": [
    "Evaluate on both train and valid datasets"
   ]
  },
  {
   "cell_type": "code",
   "execution_count": 24,
   "metadata": {},
   "outputs": [
    {
     "name": "stdout",
     "output_type": "stream",
     "text": [
      "train loss: 1.838507782494912\n",
      "valid loss: 1.8403298074169707\n"
     ]
    }
   ],
   "source": [
    "train_loss = evaluate(train_x)\n",
    "valid_loss = evaluate(valid_x)\n",
    "print('train loss:', train_loss)\n",
    "print('valid loss:', valid_loss)"
   ]
  },
  {
   "cell_type": "markdown",
   "metadata": {},
   "source": [
    "Nope, all is good"
   ]
  }
 ],
 "metadata": {
  "kernelspec": {
   "display_name": "Python 3",
   "language": "python",
   "name": "python3"
  },
  "language_info": {
   "codemirror_mode": {
    "name": "ipython",
    "version": 3
   },
   "file_extension": ".py",
   "mimetype": "text/x-python",
   "name": "python",
   "nbconvert_exporter": "python",
   "pygments_lexer": "ipython3",
   "version": "3.7.1"
  }
 },
 "nbformat": 4,
 "nbformat_minor": 2
}
