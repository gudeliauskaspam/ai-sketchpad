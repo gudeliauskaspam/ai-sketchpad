{
 "cells": [
  {
   "cell_type": "markdown",
   "metadata": {},
   "source": [
    "# Introduction"
   ]
  },
  {
   "cell_type": "markdown",
   "metadata": {},
   "source": [
    "This notebook presents **YOLOv2** applied to the [Blood Cell Images](https://www.kaggle.com/paultimothymooney/blood-cells) dataset."
   ]
  },
  {
   "cell_type": "markdown",
   "metadata": {},
   "source": [
    "**Resources**\n",
    "\n",
    "* [BCCD Dataset](https://github.com/Shenggan/BCCD_Dataset) - alternative dataset source with links to original authors"
   ]
  },
  {
   "cell_type": "markdown",
   "metadata": {},
   "source": [
    "# Imports"
   ]
  },
  {
   "cell_type": "code",
   "execution_count": 1,
   "metadata": {},
   "outputs": [],
   "source": [
    "import os\n",
    "import numpy as np\n",
    "import matplotlib.pyplot as plt\n",
    "\n",
    "import xml.etree.ElementTree as ET"
   ]
  },
  {
   "cell_type": "markdown",
   "metadata": {},
   "source": [
    "Limit TensorFlow GPU memory usage"
   ]
  },
  {
   "cell_type": "code",
   "execution_count": 2,
   "metadata": {},
   "outputs": [],
   "source": [
    "import tensorflow as tf\n",
    "gpu_options = tf.GPUOptions(allow_growth=True)  # init TF ...\n",
    "config=tf.ConfigProto(gpu_options=gpu_options)  # w/o taking ...\n",
    "with tf.Session(config=config): pass            # all GPU memory"
   ]
  },
  {
   "cell_type": "markdown",
   "metadata": {},
   "source": [
    "# Configuration"
   ]
  },
  {
   "cell_type": "code",
   "execution_count": 3,
   "metadata": {},
   "outputs": [],
   "source": [
    "dataset_location = '/home/marcin/Datasets/blood-cells/dataset-master/'"
   ]
  },
  {
   "cell_type": "code",
   "execution_count": null,
   "metadata": {},
   "outputs": [],
   "source": []
  },
  {
   "cell_type": "code",
   "execution_count": 4,
   "metadata": {},
   "outputs": [],
   "source": [
    "images_location = os.path.join(dataset_location, 'JPEGImages')\n",
    "annotations_location = os.path.join(dataset_location, 'Annotations')"
   ]
  },
  {
   "cell_type": "code",
   "execution_count": 5,
   "metadata": {},
   "outputs": [
    {
     "data": {
      "text/plain": [
       "['BloodImage_00000.xml', 'BloodImage_00001.xml', 'BloodImage_00002.xml']"
      ]
     },
     "metadata": {},
     "output_type": "display_data"
    }
   ],
   "source": [
    "filename_list_xml = sorted(os.listdir(annotations_location))\n",
    "display(filename_list_xml[:3])"
   ]
  },
  {
   "cell_type": "code",
   "execution_count": 17,
   "metadata": {},
   "outputs": [],
   "source": [
    "class ImageWrapper:\n",
    "    def __init__(self, filepath, width, height, depth):\n",
    "        self.filepath = filepath\n",
    "        self.width = width\n",
    "        self.height = height\n",
    "        self.depth = depth\n",
    "        self.objects = []\n",
    "    def __str__(self):\n",
    "        return f'{self.filename}\\nw:{self.width} h:{self.height} d:{self.depth}'"
   ]
  },
  {
   "cell_type": "code",
   "execution_count": 18,
   "metadata": {},
   "outputs": [],
   "source": [
    "class ObjectWrapper:\n",
    "    def __init__(self, name, xmin ,ymin, xmax, ymax):\n",
    "        self.name = name\n",
    "        self.xmin = xmin\n",
    "        self.ymin = ymin\n",
    "        self.xmax = xmax\n",
    "        self.ymax = ymax\n",
    "    def __str__(self):\n",
    "        return f'{self.name} {self.xmin} {self.ymin} {self.xmax} {self.ymax}'"
   ]
  },
  {
   "cell_type": "code",
   "execution_count": 19,
   "metadata": {},
   "outputs": [],
   "source": [
    "annot_list = []\n",
    "\n",
    "for filename_xml in filename_list_xml:       # 'BloodImage_00000.xml'\n",
    "    filepath_xml = os.path.join(             # '/../../BloodImage_00000.xml'\n",
    "        annotations_location, filename_xml)  \n",
    "    tree = ET.parse(filepath_xml)            # xml.etree.ElementTree.ElementTree\n",
    "    \n",
    "    filename = tree.find('./filename').text  # 'BloodImage_00000'\n",
    "    w = tree.find('./size/width').text       # '640'\n",
    "    h = tree.find('./size/height').text      # '480'\n",
    "    d = tree.find('./size/depth').text       # '3'\n",
    "    \n",
    "    filepath_jpg = os.path.join(             # '/../../BloodImage_00000.jpg'\n",
    "        images_location, filename+'.jpg')\n",
    "    \n",
    "    assert os.path.isfile(annot.filepath)\n",
    "    \n",
    "    iw = ImageWrapper(filepath=filepath_jpg, width=int(w),\n",
    "                      height=int(h), depth=int(d))\n",
    "    \n",
    "    object_elemnts = tree.findall('./object')  # [xml.etree.ElementTree.ElementTree, ...]\n",
    "    for obj_el in object_elemnts:\n",
    "    \n",
    "        name = obj_el.find('./name').text         # 'RBC'\n",
    "        xmin = obj_el.find('./bndbox/xmin').text  # '233'\n",
    "        ymin = obj_el.find('./bndbox/ymin').text  # '368'\n",
    "        xmax = obj_el.find('./bndbox/xmax').text  # '338'\n",
    "        ymax = obj_el.find('./bndbox/ymax').text  # '452'\n",
    "        \n",
    "        ow = ObjectWrapper(name=name, xmin=int(xmin), ymin=int(ymin),\n",
    "                           xmax=int(xmax), ymax=int(ymax))\n",
    "        \n",
    "        iw.objects.append(ow)\n",
    "        \n",
    "    annot_list.append(iw)"
   ]
  },
  {
   "cell_type": "code",
   "execution_count": 15,
   "metadata": {},
   "outputs": [
    {
     "name": "stdout",
     "output_type": "stream",
     "text": [
      "/home/marcin/Datasets/blood-cells/dataset-master/JPEGImages/BloodImage_00000.jpg\n",
      "w:640 h:480 d:3\n",
      "   RBC 216 359 316 464\n",
      "   RBC 77 326 177 431\n",
      "   RBC 540 353 640 458\n",
      "   RBC 405 350 513 457\n",
      "   RBC 160 72 245 177\n",
      "   RBC 5 335 90 440\n",
      "   RBC 540 39 640 149\n",
      "   RBC 383 1 504 113\n",
      "   RBC 9 82 108 168\n",
      "   RBC 68 212 165 346\n",
      "   RBC 171 181 264 282\n"
     ]
    }
   ],
   "source": [
    "for annot in annot_list:\n",
    "    print(annot)\n",
    "    for obj in annot.objects:\n",
    "        print('  ', obj)\n",
    "    break"
   ]
  },
  {
   "cell_type": "code",
   "execution_count": 24,
   "metadata": {},
   "outputs": [
    {
     "name": "stdout",
     "output_type": "stream",
     "text": [
      "('RBC', 304, 262, 400, 387)\n"
     ]
    }
   ],
   "source": [
    "print(obj)"
   ]
  },
  {
   "cell_type": "code",
   "execution_count": null,
   "metadata": {},
   "outputs": [],
   "source": []
  },
  {
   "cell_type": "code",
   "execution_count": 83,
   "metadata": {},
   "outputs": [
    {
     "data": {
      "text/plain": [
       "<xml.etree.ElementTree.ElementTree at 0x7faf947bce80>"
      ]
     },
     "execution_count": 83,
     "metadata": {},
     "output_type": "execute_result"
    }
   ],
   "source": [
    "tree"
   ]
  },
  {
   "cell_type": "code",
   "execution_count": 60,
   "metadata": {},
   "outputs": [
    {
     "data": {
      "text/plain": [
       "[<Element 'name' at 0x7faf945c8d68>,\n",
       " <Element 'pose' at 0x7faf945c8e58>,\n",
       " <Element 'truncated' at 0x7faf945c8f98>,\n",
       " <Element 'difficult' at 0x7faf945c8f48>,\n",
       " <Element 'bndbox' at 0x7faf945c8ea8>]"
      ]
     },
     "execution_count": 60,
     "metadata": {},
     "output_type": "execute_result"
    }
   ],
   "source": [
    "list(obj)"
   ]
  },
  {
   "cell_type": "code",
   "execution_count": 81,
   "metadata": {},
   "outputs": [
    {
     "data": {
      "text/plain": [
       "'452'"
      ]
     },
     "execution_count": 81,
     "metadata": {},
     "output_type": "execute_result"
    }
   ],
   "source": []
  },
  {
   "cell_type": "code",
   "execution_count": 74,
   "metadata": {},
   "outputs": [
    {
     "ename": "TypeError",
     "evalue": "get() missing required argument 'key' (pos 1)",
     "output_type": "error",
     "traceback": [
      "\u001b[0;31m---------------------------------------------------------------------------\u001b[0m",
      "\u001b[0;31mTypeError\u001b[0m                                 Traceback (most recent call last)",
      "\u001b[0;32m<ipython-input-74-10a87a7217f6>\u001b[0m in \u001b[0;36m<module>\u001b[0;34m\u001b[0m\n\u001b[0;32m----> 1\u001b[0;31m \u001b[0maa\u001b[0m\u001b[0;34m.\u001b[0m\u001b[0mget\u001b[0m\u001b[0;34m(\u001b[0m\u001b[0;34m)\u001b[0m\u001b[0;34m\u001b[0m\u001b[0;34m\u001b[0m\u001b[0m\n\u001b[0m",
      "\u001b[0;31mTypeError\u001b[0m: get() missing required argument 'key' (pos 1)"
     ]
    }
   ],
   "source": [
    "aa.get()"
   ]
  },
  {
   "cell_type": "code",
   "execution_count": 25,
   "metadata": {},
   "outputs": [
    {
     "name": "stdout",
     "output_type": "stream",
     "text": [
      "annotation\n",
      "<class 'str'>\n",
      "folder\n",
      "<class 'str'>\n",
      "filename\n",
      "<class 'str'>\n",
      "path\n",
      "<class 'str'>\n",
      "source\n",
      "<class 'str'>\n",
      "database\n",
      "<class 'str'>\n",
      "size\n",
      "<class 'str'>\n",
      "width\n",
      "<class 'str'>\n",
      "height\n",
      "<class 'str'>\n",
      "depth\n",
      "<class 'str'>\n",
      "segmented\n",
      "<class 'str'>\n",
      "object\n",
      "<class 'str'>\n",
      "name\n",
      "<class 'str'>\n",
      "pose\n",
      "<class 'str'>\n",
      "truncated\n",
      "<class 'str'>\n",
      "difficult\n",
      "<class 'str'>\n",
      "bndbox\n",
      "<class 'str'>\n",
      "xmin\n",
      "<class 'str'>\n",
      "ymin\n",
      "<class 'str'>\n",
      "xmax\n",
      "<class 'str'>\n",
      "ymax\n",
      "<class 'str'>\n",
      "object\n",
      "<class 'str'>\n",
      "name\n",
      "<class 'str'>\n",
      "pose\n",
      "<class 'str'>\n",
      "truncated\n",
      "<class 'str'>\n",
      "difficult\n",
      "<class 'str'>\n",
      "bndbox\n",
      "<class 'str'>\n",
      "xmin\n",
      "<class 'str'>\n",
      "ymin\n",
      "<class 'str'>\n",
      "xmax\n",
      "<class 'str'>\n",
      "ymax\n",
      "<class 'str'>\n",
      "object\n",
      "<class 'str'>\n",
      "name\n",
      "<class 'str'>\n",
      "pose\n",
      "<class 'str'>\n",
      "truncated\n",
      "<class 'str'>\n",
      "difficult\n",
      "<class 'str'>\n",
      "bndbox\n",
      "<class 'str'>\n",
      "xmin\n",
      "<class 'str'>\n",
      "ymin\n",
      "<class 'str'>\n",
      "xmax\n",
      "<class 'str'>\n",
      "ymax\n",
      "<class 'str'>\n",
      "object\n",
      "<class 'str'>\n",
      "name\n",
      "<class 'str'>\n",
      "pose\n",
      "<class 'str'>\n",
      "truncated\n",
      "<class 'str'>\n",
      "difficult\n",
      "<class 'str'>\n",
      "bndbox\n",
      "<class 'str'>\n",
      "xmin\n",
      "<class 'str'>\n",
      "ymin\n",
      "<class 'str'>\n",
      "xmax\n",
      "<class 'str'>\n",
      "ymax\n",
      "<class 'str'>\n",
      "object\n",
      "<class 'str'>\n",
      "name\n",
      "<class 'str'>\n",
      "pose\n",
      "<class 'str'>\n",
      "truncated\n",
      "<class 'str'>\n",
      "difficult\n",
      "<class 'str'>\n",
      "bndbox\n",
      "<class 'str'>\n",
      "xmin\n",
      "<class 'str'>\n",
      "ymin\n",
      "<class 'str'>\n",
      "xmax\n",
      "<class 'str'>\n",
      "ymax\n",
      "<class 'str'>\n",
      "object\n",
      "<class 'str'>\n",
      "name\n",
      "<class 'str'>\n",
      "pose\n",
      "<class 'str'>\n",
      "truncated\n",
      "<class 'str'>\n",
      "difficult\n",
      "<class 'str'>\n",
      "bndbox\n",
      "<class 'str'>\n",
      "xmin\n",
      "<class 'str'>\n",
      "ymin\n",
      "<class 'str'>\n",
      "xmax\n",
      "<class 'str'>\n",
      "ymax\n",
      "<class 'str'>\n",
      "object\n",
      "<class 'str'>\n",
      "name\n",
      "<class 'str'>\n",
      "pose\n",
      "<class 'str'>\n",
      "truncated\n",
      "<class 'str'>\n",
      "difficult\n",
      "<class 'str'>\n",
      "bndbox\n",
      "<class 'str'>\n",
      "xmin\n",
      "<class 'str'>\n",
      "ymin\n",
      "<class 'str'>\n",
      "xmax\n",
      "<class 'str'>\n",
      "ymax\n",
      "<class 'str'>\n",
      "object\n",
      "<class 'str'>\n",
      "name\n",
      "<class 'str'>\n",
      "pose\n",
      "<class 'str'>\n",
      "truncated\n",
      "<class 'str'>\n",
      "difficult\n",
      "<class 'str'>\n",
      "bndbox\n",
      "<class 'str'>\n",
      "xmin\n",
      "<class 'str'>\n",
      "ymin\n",
      "<class 'str'>\n",
      "xmax\n",
      "<class 'str'>\n",
      "ymax\n",
      "<class 'str'>\n",
      "object\n",
      "<class 'str'>\n",
      "name\n",
      "<class 'str'>\n",
      "pose\n",
      "<class 'str'>\n",
      "truncated\n",
      "<class 'str'>\n",
      "difficult\n",
      "<class 'str'>\n",
      "bndbox\n",
      "<class 'str'>\n",
      "xmin\n",
      "<class 'str'>\n",
      "ymin\n",
      "<class 'str'>\n",
      "xmax\n",
      "<class 'str'>\n",
      "ymax\n",
      "<class 'str'>\n",
      "object\n",
      "<class 'str'>\n",
      "name\n",
      "<class 'str'>\n",
      "pose\n",
      "<class 'str'>\n",
      "truncated\n",
      "<class 'str'>\n",
      "difficult\n",
      "<class 'str'>\n",
      "bndbox\n",
      "<class 'str'>\n",
      "xmin\n",
      "<class 'str'>\n",
      "ymin\n",
      "<class 'str'>\n",
      "xmax\n",
      "<class 'str'>\n",
      "ymax\n",
      "<class 'str'>\n",
      "object\n",
      "<class 'str'>\n",
      "name\n",
      "<class 'str'>\n",
      "pose\n",
      "<class 'str'>\n",
      "truncated\n",
      "<class 'str'>\n",
      "difficult\n",
      "<class 'str'>\n",
      "bndbox\n",
      "<class 'str'>\n",
      "xmin\n",
      "<class 'str'>\n",
      "ymin\n",
      "<class 'str'>\n",
      "xmax\n",
      "<class 'str'>\n",
      "ymax\n",
      "<class 'str'>\n"
     ]
    }
   ],
   "source": [
    "\n",
    "    "
   ]
  },
  {
   "cell_type": "code",
   "execution_count": 29,
   "metadata": {},
   "outputs": [
    {
     "data": {
      "text/plain": [
       "True"
      ]
     },
     "execution_count": 29,
     "metadata": {},
     "output_type": "execute_result"
    }
   ],
   "source": [
    "isinstance(elem.tag, str)"
   ]
  },
  {
   "cell_type": "code",
   "execution_count": 46,
   "metadata": {},
   "outputs": [],
   "source": []
  },
  {
   "cell_type": "code",
   "execution_count": 47,
   "metadata": {},
   "outputs": [],
   "source": []
  },
  {
   "cell_type": "code",
   "execution_count": 48,
   "metadata": {},
   "outputs": [],
   "source": []
  },
  {
   "cell_type": "code",
   "execution_count": 49,
   "metadata": {},
   "outputs": [],
   "source": []
  },
  {
   "cell_type": "code",
   "execution_count": null,
   "metadata": {},
   "outputs": [],
   "source": []
  },
  {
   "cell_type": "code",
   "execution_count": 42,
   "metadata": {},
   "outputs": [
    {
     "data": {
      "text/plain": [
       "<Element 'ymax' at 0x7faf94706908>"
      ]
     },
     "execution_count": 42,
     "metadata": {},
     "output_type": "execute_result"
    }
   ],
   "source": [
    "elem"
   ]
  },
  {
   "cell_type": "code",
   "execution_count": 9,
   "metadata": {},
   "outputs": [
    {
     "data": {
      "text/plain": [
       "['BloodImage_00000.xml', 'BloodImage_00001.xml', 'BloodImage_00002.xml']"
      ]
     },
     "metadata": {},
     "output_type": "display_data"
    }
   ],
   "source": []
  },
  {
   "cell_type": "code",
   "execution_count": null,
   "metadata": {},
   "outputs": [],
   "source": []
  },
  {
   "cell_type": "code",
   "execution_count": null,
   "metadata": {},
   "outputs": [],
   "source": [
    "for ann in sorted(os.listdir(ann_dir)):"
   ]
  }
 ],
 "metadata": {
  "kernelspec": {
   "display_name": "Python [conda env:tfgpu113]",
   "language": "python",
   "name": "conda-env-tfgpu113-py"
  },
  "language_info": {
   "codemirror_mode": {
    "name": "ipython",
    "version": 3
   },
   "file_extension": ".py",
   "mimetype": "text/x-python",
   "name": "python",
   "nbconvert_exporter": "python",
   "pygments_lexer": "ipython3",
   "version": "3.7.3"
  },
  "toc": {
   "base_numbering": 1,
   "nav_menu": {},
   "number_sections": false,
   "sideBar": true,
   "skip_h1_title": false,
   "title_cell": "Table of Contents",
   "title_sidebar": "Contents",
   "toc_cell": false,
   "toc_position": {},
   "toc_section_display": true,
   "toc_window_display": false
  }
 },
 "nbformat": 4,
 "nbformat_minor": 2
}
