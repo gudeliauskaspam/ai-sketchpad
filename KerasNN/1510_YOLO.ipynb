{
 "cells": [
  {
   "cell_type": "markdown",
   "metadata": {},
   "source": [
    "# Introduction"
   ]
  },
  {
   "cell_type": "markdown",
   "metadata": {},
   "source": [
    "This notebook presents **YOLOv2** applied to the [Blood Cell Images](https://www.kaggle.com/paultimothymooney/blood-cells) dataset."
   ]
  },
  {
   "cell_type": "markdown",
   "metadata": {},
   "source": [
    "**Resources**\n",
    "\n",
    "* [BCCD Dataset](https://github.com/Shenggan/BCCD_Dataset) - alternative dataset source with links to original authors"
   ]
  },
  {
   "cell_type": "markdown",
   "metadata": {},
   "source": [
    "# Imports"
   ]
  },
  {
   "cell_type": "code",
   "execution_count": 1,
   "metadata": {},
   "outputs": [],
   "source": [
    "import os\n",
    "import numpy as np\n",
    "import matplotlib.pyplot as plt\n",
    "\n",
    "import xml.etree.ElementTree as ET"
   ]
  },
  {
   "cell_type": "markdown",
   "metadata": {},
   "source": [
    "Limit TensorFlow GPU memory usage"
   ]
  },
  {
   "cell_type": "code",
   "execution_count": 2,
   "metadata": {},
   "outputs": [],
   "source": [
    "import tensorflow as tf\n",
    "gpu_options = tf.GPUOptions(allow_growth=True)  # init TF ...\n",
    "config=tf.ConfigProto(gpu_options=gpu_options)  # w/o taking ...\n",
    "with tf.Session(config=config): pass            # all GPU memory"
   ]
  },
  {
   "cell_type": "markdown",
   "metadata": {},
   "source": [
    "# Configuration"
   ]
  },
  {
   "cell_type": "code",
   "execution_count": 3,
   "metadata": {},
   "outputs": [],
   "source": [
    "dataset_location = '/home/marcin/Datasets/blood-cells/dataset-master/'"
   ]
  },
  {
   "cell_type": "code",
   "execution_count": null,
   "metadata": {},
   "outputs": [],
   "source": []
  },
  {
   "cell_type": "code",
   "execution_count": 4,
   "metadata": {},
   "outputs": [],
   "source": [
    "images_location = os.path.join(dataset_location, 'JPEGImages')\n",
    "annotations_location = os.path.join(dataset_location, 'Annotations')"
   ]
  },
  {
   "cell_type": "code",
   "execution_count": 5,
   "metadata": {},
   "outputs": [
    {
     "data": {
      "text/plain": [
       "['BloodImage_00000.xml', 'BloodImage_00001.xml', 'BloodImage_00002.xml']"
      ]
     },
     "metadata": {},
     "output_type": "display_data"
    }
   ],
   "source": [
    "filename_list_xml = sorted(os.listdir(annotations_location))\n",
    "display(filename_list_xml[:3])"
   ]
  },
  {
   "cell_type": "code",
   "execution_count": 17,
   "metadata": {},
   "outputs": [],
   "source": [
    "class ImageWrapper:\n",
    "    def __init__(self, filepath, width, height, depth):\n",
    "        self.filepath = filepath\n",
    "        self.width = width\n",
    "        self.height = height\n",
    "        self.depth = depth\n",
    "        self.objects = []\n",
    "    def __str__(self):\n",
    "        return f'{self.filename}\\nw:{self.width} h:{self.height} d:{self.depth}'"
   ]
  },
  {
   "cell_type": "code",
   "execution_count": 18,
   "metadata": {},
   "outputs": [],
   "source": [
    "class ObjectWrapper:\n",
    "    def __init__(self, name, xmin ,ymin, xmax, ymax):\n",
    "        self.name = name\n",
    "        self.xmin = xmin\n",
    "        self.ymin = ymin\n",
    "        self.xmax = xmax\n",
    "        self.ymax = ymax\n",
    "    def __str__(self):\n",
    "        return f'{self.name} {self.xmin} {self.ymin} {self.xmax} {self.ymax}'"
   ]
  },
  {
   "cell_type": "code",
   "execution_count": 19,
   "metadata": {},
   "outputs": [],
   "source": [
    "annot_list = []\n",
    "\n",
    "for filename_xml in filename_list_xml:       # 'BloodImage_00000.xml'\n",
    "    filepath_xml = os.path.join(             # '/../../BloodImage_00000.xml'\n",
    "        annotations_location, filename_xml)  \n",
    "    tree = ET.parse(filepath_xml)            # xml.etree.ElementTree.ElementTree\n",
    "    \n",
    "    filename = tree.find('./filename').text  # 'BloodImage_00000'\n",
    "    w = tree.find('./size/width').text       # '640'\n",
    "    h = tree.find('./size/height').text      # '480'\n",
    "    d = tree.find('./size/depth').text       # '3'\n",
    "    \n",
    "    filepath_jpg = os.path.join(             # '/../../BloodImage_00000.jpg'\n",
    "        images_location, filename+'.jpg')\n",
    "    \n",
    "    assert os.path.isfile(annot.filepath)\n",
    "    \n",
    "    iw = ImageWrapper(filepath=filepath_jpg, width=int(w),\n",
    "                      height=int(h), depth=int(d))\n",
    "    \n",
    "    object_elemnts = tree.findall('./object')  # [xml.etree.ElementTree.ElementTree, ...]\n",
    "    for obj_el in object_elemnts:\n",
    "    \n",
    "        name = obj_el.find('./name').text         # 'RBC'\n",
    "        xmin = obj_el.find('./bndbox/xmin').text  # '233'\n",
    "        ymin = obj_el.find('./bndbox/ymin').text  # '368'\n",
    "        xmax = obj_el.find('./bndbox/xmax').text  # '338'\n",
    "        ymax = obj_el.find('./bndbox/ymax').text  # '452'\n",
    "        \n",
    "        ow = ObjectWrapper(name=name, xmin=int(xmin), ymin=int(ymin),\n",
    "                           xmax=int(xmax), ymax=int(ymax))\n",
    "        \n",
    "        iw.objects.append(ow)\n",
    "        \n",
    "    annot_list.append(iw)"
   ]
  },
  {
   "cell_type": "code",
   "execution_count": 15,
   "metadata": {},
   "outputs": [
    {
     "name": "stdout",
     "output_type": "stream",
     "text": [
      "/home/marcin/Datasets/blood-cells/dataset-master/JPEGImages/BloodImage_00000.jpg\n",
      "w:640 h:480 d:3\n",
      "   RBC 216 359 316 464\n",
      "   RBC 77 326 177 431\n",
      "   RBC 540 353 640 458\n",
      "   RBC 405 350 513 457\n",
      "   RBC 160 72 245 177\n",
      "   RBC 5 335 90 440\n",
      "   RBC 540 39 640 149\n",
      "   RBC 383 1 504 113\n",
      "   RBC 9 82 108 168\n",
      "   RBC 68 212 165 346\n",
      "   RBC 171 181 264 282\n"
     ]
    }
   ],
   "source": [
    "for annot in annot_list:\n",
    "    print(annot)\n",
    "    for obj in annot.objects:\n",
    "        print('  ', obj)\n",
    "    break"
   ]
  },
  {
   "cell_type": "code",
   "execution_count": null,
   "metadata": {},
   "outputs": [],
   "source": []
  },
  {
   "cell_type": "code",
   "execution_count": null,
   "metadata": {},
   "outputs": [],
   "source": [
    "\n",
    "'''THIS IS NOT FULLY PORTED YET, JUST COPIED FROM CatKeypoints'''\n",
    "\n",
    "class BloodSequence(tf.keras.utils.Sequence):\n",
    "    def __init__(self, files_list, target_size, batch_size,\n",
    "                 preprocess_images_function=None,\n",
    "                 preprocess_keypts_function=None,\n",
    "                 shuffle=False):\n",
    "        assert isinstance(files_list, (list, tuple, np.ndarray))\n",
    "        assert isinstance(target_size, int) and target_size > 0\n",
    "        assert isinstance(batch_size, int) and batch_size > 0\n",
    "        assert preprocess_images_function is None or callable(preprocess_images_function)\n",
    "        assert preprocess_keypts_function is None or callable(preprocess_keypts_function)\n",
    "        assert isinstance(shuffle, bool)\n",
    "        \n",
    "        self.files_list = np.array(files_list)  # for advanced indexing\n",
    "        self.target_size = target_size\n",
    "        self.batch_size = batch_size\n",
    "        self.preprocess_images_function = preprocess_images_function\n",
    "        self.preprocess_keypts_function = preprocess_keypts_function\n",
    "        self.shuffle = shuffle\n",
    "        self.on_epoch_end()\n",
    "    \n",
    "    \n",
    "    def __len__(self):\n",
    "        return int(np.ceil(len(self.files_list) / self.batch_size))\n",
    "    \n",
    "    \n",
    "    def __getitem__(self, idx):\n",
    "        batch_i = self.indices[idx*self.batch_size : (idx+1)*self.batch_size]\n",
    "        batch_fl = self.files_list[batch_i]\n",
    "        \n",
    "        images_list, keypoints_list = [], []\n",
    "        for file_path in batch_fl:\n",
    "            _, _, image_new, keypoints_new = load_image_keypoints(\n",
    "                file_path, file_path+'.cat', target_size=self.target_size)\n",
    "            image_arr = np.array(image_new)\n",
    "            images_list.append(image_arr)\n",
    "            keypoints_list.append(keypoints_new)\n",
    "        \n",
    "        images_arr = np.array(images_list)\n",
    "        keypoints_arr = np.array(keypoints_list)\n",
    "        \n",
    "        if self.preprocess_images_function is not None:\n",
    "            images_arr = self.preprocess_images_function(images_arr)\n",
    "        if self.preprocess_keypts_function is not None:\n",
    "            keypoints_arr = self.preprocess_keypts_function(keypoints_arr)\n",
    "        \n",
    "        return images_arr, keypoints_arr\n",
    "\n",
    "    \n",
    "    def on_epoch_end(self):\n",
    "        self.indices = np.arange(len(self.files_list))\n",
    "        if self.shuffle:\n",
    "            np.random.shuffle(self.indices)"
   ]
  },
  {
   "cell_type": "code",
   "execution_count": null,
   "metadata": {},
   "outputs": [],
   "source": []
  },
  {
   "cell_type": "code",
   "execution_count": null,
   "metadata": {},
   "outputs": [],
   "source": []
  },
  {
   "cell_type": "code",
   "execution_count": null,
   "metadata": {},
   "outputs": [],
   "source": []
  },
  {
   "cell_type": "code",
   "execution_count": null,
   "metadata": {},
   "outputs": [],
   "source": []
  },
  {
   "cell_type": "code",
   "execution_count": null,
   "metadata": {},
   "outputs": [],
   "source": []
  },
  {
   "cell_type": "code",
   "execution_count": null,
   "metadata": {},
   "outputs": [],
   "source": []
  },
  {
   "cell_type": "code",
   "execution_count": null,
   "metadata": {},
   "outputs": [],
   "source": []
  },
  {
   "cell_type": "code",
   "execution_count": null,
   "metadata": {},
   "outputs": [],
   "source": []
  }
 ],
 "metadata": {
  "kernelspec": {
   "display_name": "Python [conda env:tfgpu113]",
   "language": "python",
   "name": "conda-env-tfgpu113-py"
  },
  "language_info": {
   "codemirror_mode": {
    "name": "ipython",
    "version": 3
   },
   "file_extension": ".py",
   "mimetype": "text/x-python",
   "name": "python",
   "nbconvert_exporter": "python",
   "pygments_lexer": "ipython3",
   "version": "3.7.3"
  },
  "toc": {
   "base_numbering": 1,
   "nav_menu": {},
   "number_sections": false,
   "sideBar": true,
   "skip_h1_title": false,
   "title_cell": "Table of Contents",
   "title_sidebar": "Contents",
   "toc_cell": false,
   "toc_position": {},
   "toc_section_display": true,
   "toc_window_display": false
  }
 },
 "nbformat": 4,
 "nbformat_minor": 2
}
