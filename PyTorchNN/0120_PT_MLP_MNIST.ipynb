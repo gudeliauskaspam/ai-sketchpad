{
 "cells": [
  {
   "cell_type": "markdown",
   "metadata": {},
   "source": [
    "# Introduction"
   ]
  },
  {
   "cell_type": "markdown",
   "metadata": {},
   "source": [
    "This notebook presetns **Multi-Layer Perceptron** solution to MNIST dataset."
   ]
  },
  {
   "cell_type": "markdown",
   "metadata": {},
   "source": [
    "**Contents**\n",
    "\n",
    "* [MNIST Dataset](#MNIST-Dataset) - load data\n",
    "* [Keras Model](#Keras-Model) - create and train model"
   ]
  },
  {
   "cell_type": "markdown",
   "metadata": {},
   "source": [
    "# Imports"
   ]
  },
  {
   "cell_type": "code",
   "execution_count": 1,
   "metadata": {},
   "outputs": [],
   "source": [
    "import numpy as np\n",
    "import matplotlib.pyplot as plt\n",
    "import torch\n",
    "import torch.nn as nn\n",
    "from torchvision import datasets"
   ]
  },
  {
   "cell_type": "markdown",
   "metadata": {},
   "source": [
    "Pick GPU if available"
   ]
  },
  {
   "cell_type": "code",
   "execution_count": 2,
   "metadata": {},
   "outputs": [],
   "source": [
    "device = torch.device(\"cuda:0\" if torch.cuda.is_available() else \"cpu\")"
   ]
  },
  {
   "cell_type": "markdown",
   "metadata": {},
   "source": [
    "# MNIST Dataset"
   ]
  },
  {
   "cell_type": "markdown",
   "metadata": {},
   "source": [
    "PyTorch will download dataset to this location:"
   ]
  },
  {
   "cell_type": "code",
   "execution_count": 3,
   "metadata": {},
   "outputs": [],
   "source": [
    "dataset_location = '~/.pytorch/MNIST_data/'"
   ]
  },
  {
   "cell_type": "markdown",
   "metadata": {},
   "source": [
    "Download data"
   ]
  },
  {
   "cell_type": "code",
   "execution_count": 4,
   "metadata": {},
   "outputs": [],
   "source": [
    "trainset = datasets.MNIST(dataset_location, download=True, train=True)\n",
    "testset = datasets.MNIST(dataset_location, download=True, train=False)"
   ]
  },
  {
   "cell_type": "markdown",
   "metadata": {},
   "source": [
    "MNIST dataset is tiny, so we will load whole thing to GPU memory. In my tests `DataLoader` took approx 5s per epoch, while this approach takes 0.17s"
   ]
  },
  {
   "cell_type": "code",
   "execution_count": 5,
   "metadata": {},
   "outputs": [],
   "source": [
    "x_train_raw = trainset.train_data.float()\n",
    "y_train_raw = trainset.train_labels\n",
    "x_test_raw = testset.test_data.float()\n",
    "y_test_raw = testset.test_labels"
   ]
  },
  {
   "cell_type": "markdown",
   "metadata": {},
   "source": [
    "Raw data shapes"
   ]
  },
  {
   "cell_type": "code",
   "execution_count": 6,
   "metadata": {},
   "outputs": [
    {
     "name": "stdout",
     "output_type": "stream",
     "text": [
      "torch.Size([60000, 28, 28])\n",
      "torch.Size([60000])\n"
     ]
    }
   ],
   "source": [
    "print(x_train_raw.shape)\n",
    "print(y_train_raw.shape)"
   ]
  },
  {
   "cell_type": "markdown",
   "metadata": {},
   "source": [
    "Show example images"
   ]
  },
  {
   "cell_type": "code",
   "execution_count": 7,
   "metadata": {},
   "outputs": [
    {
     "data": {
      "image/png": "[encoded data removed]",
      "text/plain": [
       "<Figure size 1152x648 with 6 Axes>"
      ]
     },
     "metadata": {
      "needs_background": "light"
     },
     "output_type": "display_data"
    }
   ],
   "source": [
    "fig, axes = plt.subplots(nrows=1, ncols=6, figsize=[16, 9])\n",
    "for i in range(len(axes)):\n",
    "    axes[i].set_title('Label: '+str(y_train_raw[i]))\n",
    "    axes[i].imshow(x_train_raw[i])"
   ]
  },
  {
   "cell_type": "markdown",
   "metadata": {},
   "source": [
    "Example labels"
   ]
  },
  {
   "cell_type": "code",
   "execution_count": 8,
   "metadata": {},
   "outputs": [
    {
     "name": "stdout",
     "output_type": "stream",
     "text": [
      "y_train:\n",
      "shape torch.Size([60000])\n",
      "data\n",
      "tensor([5, 0, 4, 1, 9, 2, 1, 3, 1, 4, 3, 5, 3, 6, 1, 7, 2, 8, 6, 9])\n"
     ]
    }
   ],
   "source": [
    "y_train = y_train_raw  # no conversions\n",
    "y_test = y_test_raw\n",
    "print('y_train:')\n",
    "print('shape', y_train.shape)\n",
    "print('data')\n",
    "print(y_train[:20])"
   ]
  },
  {
   "cell_type": "markdown",
   "metadata": {},
   "source": [
    "Normalize and flatten images"
   ]
  },
  {
   "cell_type": "code",
   "execution_count": 9,
   "metadata": {},
   "outputs": [
    {
     "name": "stdout",
     "output_type": "stream",
     "text": [
      "x_train:\n",
      "shape torch.Size([60000, 784])\n",
      "data\n",
      "tensor([-0.4240, -0.4240, -0.4240, -0.4240, -0.4240, -0.4240, -0.4240, -0.4240,\n",
      "        -0.4240, -0.4240, -0.4240, -0.4240, -0.4240, -0.4240, -0.4240, -0.4240,\n",
      "        -0.4240, -0.4240, -0.4240,  1.3452,  2.7962,  1.9943, -0.3985, -0.4240,\n",
      "        -0.4240, -0.4240, -0.4240, -0.4240, -0.4240, -0.4240, -0.4240, -0.4240,\n",
      "        -0.4240, -0.4240, -0.4240, -0.4240, -0.4240, -0.4240, -0.4240, -0.4240,\n",
      "        -0.4240, -0.4240, -0.4240, -0.4240, -0.4240, -0.4240, -0.4240, -0.2840,\n",
      "         1.9943,  2.7962,  0.4670, -0.4240, -0.4240, -0.4240, -0.4240, -0.4240,\n",
      "        -0.4240, -0.4240, -0.4240, -0.4240, -0.4240, -0.4240, -0.4240, -0.4240,\n",
      "        -0.4240, -0.4240, -0.4240, -0.4240, -0.4240, -0.4240, -0.4240, -0.4240,\n",
      "        -0.4240, -0.4240, -0.4240, -0.4240,  0.0215,  2.6435,  2.4398,  1.6125,\n",
      "         0.9506, -0.4112, -0.4240, -0.4240, -0.4240, -0.4240, -0.4240, -0.4240,\n",
      "        -0.4240, -0.4240, -0.4240, -0.4240, -0.4240, -0.4240, -0.4240, -0.4240,\n",
      "        -0.4240, -0.4240, -0.4240, -0.4240])\n"
     ]
    }
   ],
   "source": [
    "x_train = (x_train_raw - x_train_raw.mean()) / x_train_raw.std()\n",
    "x_test = (x_test_raw - x_train_raw.mean()) / x_train_raw.std()    # reuse mean/std from train set\n",
    "x_train = x_train.view([len(x_train), -1])\n",
    "x_test = x_test.view([len(x_test), -1])\n",
    "print('x_train:')\n",
    "print('shape', x_train.shape)\n",
    "print('data')\n",
    "print(x_train[0, 300:400])"
   ]
  },
  {
   "cell_type": "markdown",
   "metadata": {},
   "source": [
    "Move dataset to GPU"
   ]
  },
  {
   "cell_type": "code",
   "execution_count": 10,
   "metadata": {},
   "outputs": [],
   "source": [
    "x_train, y_train = x_train.to(device), y_train.to(device)\n",
    "x_test, y_test = x_test.to(device), y_test.to(device)"
   ]
  },
  {
   "cell_type": "markdown",
   "metadata": {},
   "source": [
    "# PyTorch Model"
   ]
  },
  {
   "cell_type": "markdown",
   "metadata": {},
   "source": [
    "Helper to calculate accuracy, opeartes on tensors"
   ]
  },
  {
   "cell_type": "code",
   "execution_count": 11,
   "metadata": {},
   "outputs": [],
   "source": [
    "def accuracy(logits, labels): \n",
    "    predictions = torch.argmax(logits, dim=1)\n",
    "    return (predictions == labels).float().mean()  # tensor!!"
   ]
  },
  {
   "cell_type": "markdown",
   "metadata": {},
   "source": [
    "Simple multi-layer perceptron"
   ]
  },
  {
   "cell_type": "code",
   "execution_count": 12,
   "metadata": {},
   "outputs": [
    {
     "name": "stdout",
     "output_type": "stream",
     "text": [
      "Sequential(\n",
      "  (0): Linear(in_features=784, out_features=512, bias=True)\n",
      "  (1): ELU(alpha=1.0)\n",
      "  (2): Dropout(p=0.2)\n",
      "  (3): Linear(in_features=512, out_features=512, bias=True)\n",
      "  (4): ELU(alpha=1.0)\n",
      "  (5): Dropout(p=0.2)\n",
      "  (6): Linear(in_features=512, out_features=10, bias=True)\n",
      ")\n"
     ]
    }
   ],
   "source": [
    "model = nn.Sequential(\n",
    "    nn.Linear(in_features=784, out_features=512),\n",
    "    nn.ELU(),\n",
    "    nn.Dropout(0.2),\n",
    "    nn.Linear(in_features=512, out_features=512),\n",
    "    nn.ELU(),\n",
    "    nn.Dropout(0.2),\n",
    "    nn.Linear(in_features=512, out_features=10),  # return logits\n",
    ")\n",
    "model.to(device)\n",
    "criterion = nn.CrossEntropyLoss()                 # softmax included in here\n",
    "optimizer = torch.optim.Adam(model.parameters())\n",
    "print(model)"
   ]
  },
  {
   "cell_type": "markdown",
   "metadata": {},
   "source": [
    "Train model"
   ]
  },
  {
   "cell_type": "code",
   "execution_count": 13,
   "metadata": {},
   "outputs": [],
   "source": [
    "batch_size = 1000\n",
    "hist = { 'loss':[], 'acc':[] }\n",
    "\n",
    "model.train()                                                      # set model for training (dropout etc)\n",
    "\n",
    "for epoch in range(5):\n",
    "    indices = torch.randperm(len(x_train), device=device)          # randmly shuffled indices [0..59999]\n",
    "    for i in range(0, len(x_train), batch_size):                   # i = 0, 1000, 2000, 3000, ...\n",
    "        \n",
    "        # Pick mini-batch\n",
    "        x = x_train[indices[i:i+batch_size]]\n",
    "        y = y_train[indices[i:i+batch_size]]\n",
    "\n",
    "        # Zero gradients\n",
    "        optimizer.zero_grad()\n",
    "\n",
    "        # Train\n",
    "        outputs = model(x)                                         # outputs is un-normalized, i.e. no softmax\n",
    "        loss = criterion(outputs, y)\n",
    "        loss.backward()\n",
    "        optimizer.step()\n",
    "\n",
    "        with torch.no_grad():\n",
    "            acc = accuracy(outputs, y)\n",
    "            hist['loss'].append( loss.item() )\n",
    "            hist['acc'].append( acc.item() )"
   ]
  },
  {
   "cell_type": "markdown",
   "metadata": {},
   "source": [
    "Final result"
   ]
  },
  {
   "cell_type": "code",
   "execution_count": 14,
   "metadata": {},
   "outputs": [
    {
     "name": "stdout",
     "output_type": "stream",
     "text": [
      "Accuracy on train set: 0.98\n"
     ]
    }
   ],
   "source": [
    "model.eval()                                                       # set model for evaluatiotn, disable dropout etc\n",
    "with torch.no_grad():\n",
    "    outputs = model(x_train)\n",
    "    acc = accuracy(outputs, y_train).item() \n",
    "print(f'Accuracy on train set: {acc:.2f}')"
   ]
  },
  {
   "cell_type": "code",
   "execution_count": 15,
   "metadata": {},
   "outputs": [
    {
     "name": "stdout",
     "output_type": "stream",
     "text": [
      "Accuracy on test set: 0.97\n"
     ]
    }
   ],
   "source": [
    "model.eval()  \n",
    "with torch.no_grad():\n",
    "    outputs = model(x_test)\n",
    "    acc = accuracy(outputs, y_test).item() \n",
    "print(f'Accuracy on test set: {acc:.2f}')"
   ]
  },
  {
   "cell_type": "markdown",
   "metadata": {},
   "source": [
    "Plot loss and accuracy over training period"
   ]
  },
  {
   "cell_type": "code",
   "execution_count": 16,
   "metadata": {},
   "outputs": [
    {
     "data": {
      "image/png": "[encoded data removed]",
      "text/plain": [
       "<Figure size 432x288 with 1 Axes>"
      ]
     },
     "metadata": {
      "needs_background": "light"
     },
     "output_type": "display_data"
    }
   ],
   "source": [
    "plt.plot(hist['loss'], label='loss')\n",
    "plt.plot(hist['acc'], label='acc', color='red')\n",
    "plt.legend();"
   ]
  }
 ],
 "metadata": {
  "kernelspec": {
   "display_name": "Python 3",
   "language": "python",
   "name": "python3"
  },
  "language_info": {
   "codemirror_mode": {
    "name": "ipython",
    "version": 3
   },
   "file_extension": ".py",
   "mimetype": "text/x-python",
   "name": "python",
   "nbconvert_exporter": "python",
   "pygments_lexer": "ipython3",
   "version": "3.7.1"
  }
 },
 "nbformat": 4,
 "nbformat_minor": 2
}
