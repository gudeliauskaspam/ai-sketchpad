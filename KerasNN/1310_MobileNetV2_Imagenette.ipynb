{
 "cells": [
  {
   "cell_type": "markdown",
   "metadata": {},
   "source": [
    "# Introduction"
   ]
  },
  {
   "cell_type": "markdown",
   "metadata": {},
   "source": [
    "This notebook presents training of **MobileNet V2** from scratch on [Imagenette](https://github.com/fastai/imagenette) dataset from fast.ai."
   ]
  },
  {
   "cell_type": "markdown",
   "metadata": {},
   "source": [
    "# Imports"
   ]
  },
  {
   "cell_type": "code",
   "execution_count": 1,
   "metadata": {},
   "outputs": [],
   "source": [
    "import os\n",
    "import numpy as np\n",
    "import matplotlib.pyplot as plt"
   ]
  },
  {
   "cell_type": "markdown",
   "metadata": {},
   "source": [
    "Limit TensorFlow GPU memory usage"
   ]
  },
  {
   "cell_type": "code",
   "execution_count": 2,
   "metadata": {},
   "outputs": [],
   "source": [
    "import tensorflow as tf\n",
    "gpu_options = tf.GPUOptions(allow_growth=True)  # init TF ...\n",
    "config=tf.ConfigProto(gpu_options=gpu_options)  # w/o taking ...\n",
    "with tf.Session(config=config): pass            # all GPU memory"
   ]
  },
  {
   "cell_type": "code",
   "execution_count": 3,
   "metadata": {},
   "outputs": [],
   "source": [
    "from tensorflow.keras.preprocessing.image import ImageDataGenerator"
   ]
  },
  {
   "cell_type": "markdown",
   "metadata": {},
   "source": [
    "# Configuration"
   ]
  },
  {
   "cell_type": "code",
   "execution_count": 4,
   "metadata": {},
   "outputs": [],
   "source": [
    "# dataset_location = '/home/marcin/Datasets/imagenette-160/'\n",
    "# assert os.path.isdir(os.path.join(dataset_location, 'train'))\n",
    "# assert os.path.isdir(os.path.join(dataset_location, 'val'))"
   ]
  },
  {
   "cell_type": "code",
   "execution_count": 5,
   "metadata": {},
   "outputs": [],
   "source": [
    "dataset_location = '/home/marcin/Datasets/dogs-vs-cats-small'\n",
    "assert os.path.isdir(os.path.join(dataset_location, 'train'))\n",
    "assert os.path.isdir(os.path.join(dataset_location, 'validation'))"
   ]
  },
  {
   "cell_type": "code",
   "execution_count": null,
   "metadata": {},
   "outputs": [],
   "source": []
  },
  {
   "cell_type": "code",
   "execution_count": 7,
   "metadata": {},
   "outputs": [],
   "source": [
    "# from keras.preprocessing.image import ImageDataGenerator\n",
    "# from keras.models import Sequential\n",
    "# from keras.layers import Conv2D, MaxPooling2D\n",
    "# from keras.layers import Activation, Dropout, Flatten, Dense"
   ]
  },
  {
   "cell_type": "code",
   "execution_count": null,
   "metadata": {},
   "outputs": [],
   "source": []
  },
  {
   "cell_type": "code",
   "execution_count": 8,
   "metadata": {},
   "outputs": [],
   "source": [
    "img_width, img_height = 150, 150\n",
    "input_shape = (img_width, img_height, 3)"
   ]
  },
  {
   "cell_type": "code",
   "execution_count": 9,
   "metadata": {},
   "outputs": [
    {
     "name": "stdout",
     "output_type": "stream",
     "text": [
      "WARNING:tensorflow:From /home/marcin/.anaconda/envs/tfgpu113/lib/python3.7/site-packages/tensorflow/python/ops/resource_variable_ops.py:435: colocate_with (from tensorflow.python.framework.ops) is deprecated and will be removed in a future version.\n",
      "Instructions for updating:\n",
      "Colocations handled automatically by placer.\n",
      "WARNING:tensorflow:From /home/marcin/.anaconda/envs/tfgpu113/lib/python3.7/site-packages/tensorflow/python/keras/layers/core.py:143: calling dropout (from tensorflow.python.ops.nn_ops) with keep_prob is deprecated and will be removed in a future version.\n",
      "Instructions for updating:\n",
      "Please use `rate` instead of `keep_prob`. Rate should be set to `rate = 1 - keep_prob`.\n"
     ]
    }
   ],
   "source": [
    "from tensorflow.keras.layers import Conv2D, MaxPool2D, Activation, Dropout, Flatten, Dense\n",
    "\n",
    "model = tf.keras.models.Sequential()\n",
    "model.add(Conv2D(32, (3, 3), input_shape=input_shape))\n",
    "model.add(Activation('relu'))\n",
    "model.add(MaxPool2D(pool_size=(2, 2)))\n",
    "\n",
    "model.add(Conv2D(32, (3, 3)))\n",
    "model.add(Activation('relu'))\n",
    "model.add(MaxPool2D(pool_size=(2, 2)))\n",
    "\n",
    "model.add(Conv2D(64, (3, 3)))\n",
    "model.add(Activation('relu'))\n",
    "model.add(MaxPool2D(pool_size=(2, 2)))\n",
    "\n",
    "model.add(Flatten())\n",
    "model.add(Dense(64))\n",
    "model.add(Activation('relu'))\n",
    "model.add(Dropout(0.5))\n",
    "model.add(Dense(1))\n",
    "model.add(Activation('sigmoid'))\n",
    "\n",
    "model.compile(loss='binary_crossentropy',\n",
    "              optimizer='rmsprop',\n",
    "metrics=['accuracy'])"
   ]
  },
  {
   "cell_type": "code",
   "execution_count": 10,
   "metadata": {},
   "outputs": [],
   "source": [
    "batch_size = 16"
   ]
  },
  {
   "cell_type": "code",
   "execution_count": 11,
   "metadata": {},
   "outputs": [
    {
     "name": "stdout",
     "output_type": "stream",
     "text": [
      "Found 2000 images belonging to 2 classes.\n",
      "Found 800 images belonging to 2 classes.\n"
     ]
    }
   ],
   "source": [
    "# this is the augmentation configuration we will use for training\n",
    "train_datagen = ImageDataGenerator(\n",
    "    rescale=1. / 255,\n",
    "    shear_range=0.2,\n",
    "    zoom_range=0.2,\n",
    "    horizontal_flip=True)\n",
    "\n",
    "# this is the augmentation configuration we will use for testing:\n",
    "# only rescaling\n",
    "test_datagen = ImageDataGenerator(rescale=1. / 255)\n",
    "\n",
    "train_generator = train_datagen.flow_from_directory(\n",
    "    directory=os.path.join(dataset_location, 'train'),\n",
    "    target_size=(img_width, img_height),\n",
    "    batch_size=batch_size,\n",
    "    class_mode='binary')\n",
    "\n",
    "validation_generator = test_datagen.flow_from_directory(\n",
    "    directory=os.path.join(dataset_location, 'validation'),\n",
    "    target_size=(img_width, img_height),\n",
    "    batch_size=batch_size,\n",
    "    class_mode='binary')\n"
   ]
  },
  {
   "cell_type": "code",
   "execution_count": 12,
   "metadata": {},
   "outputs": [],
   "source": [
    "nb_train_samples = 2000\n",
    "nb_validation_samples = 800\n",
    "epochs = 50"
   ]
  },
  {
   "cell_type": "code",
   "execution_count": 13,
   "metadata": {},
   "outputs": [
    {
     "name": "stdout",
     "output_type": "stream",
     "text": [
      "WARNING:tensorflow:From /home/marcin/.anaconda/envs/tfgpu113/lib/python3.7/site-packages/tensorflow/python/ops/math_ops.py:3066: to_int32 (from tensorflow.python.ops.math_ops) is deprecated and will be removed in a future version.\n",
      "Instructions for updating:\n",
      "Use tf.cast instead.\n",
      "Epoch 1/50\n",
      "50/50 [==============================] - 2s 40ms/step - loss: 0.6733 - acc: 0.5987\n",
      "125/125 [==============================] - 14s 116ms/step - loss: 0.7007 - acc: 0.5455 - val_loss: 0.6733 - val_acc: 0.5987\n",
      "Epoch 2/50\n",
      "50/50 [==============================] - 2s 39ms/step - loss: 0.6437 - acc: 0.6762\n",
      "125/125 [==============================] - 13s 108ms/step - loss: 0.6692 - acc: 0.5980 - val_loss: 0.6437 - val_acc: 0.6762\n",
      "Epoch 3/50\n",
      "50/50 [==============================] - 2s 40ms/step - loss: 0.6227 - acc: 0.6800\n",
      "125/125 [==============================] - 13s 107ms/step - loss: 0.6325 - acc: 0.6565 - val_loss: 0.6227 - val_acc: 0.6800\n",
      "Epoch 4/50\n",
      "50/50 [==============================] - 2s 39ms/step - loss: 0.6140 - acc: 0.6812\n",
      "125/125 [==============================] - 13s 107ms/step - loss: 0.6229 - acc: 0.6685 - val_loss: 0.6140 - val_acc: 0.6812\n",
      "Epoch 5/50\n",
      "50/50 [==============================] - 2s 40ms/step - loss: 0.5717 - acc: 0.6812\n",
      "125/125 [==============================] - 14s 108ms/step - loss: 0.5975 - acc: 0.6920 - val_loss: 0.5717 - val_acc: 0.6812\n",
      "Epoch 6/50\n",
      "50/50 [==============================] - 2s 39ms/step - loss: 0.5673 - acc: 0.7100\n",
      "125/125 [==============================] - 13s 107ms/step - loss: 0.5773 - acc: 0.7115 - val_loss: 0.5673 - val_acc: 0.7100\n",
      "Epoch 7/50\n",
      "50/50 [==============================] - 2s 40ms/step - loss: 1.0236 - acc: 0.6250\n",
      "125/125 [==============================] - 13s 107ms/step - loss: 0.5636 - acc: 0.7080 - val_loss: 1.0236 - val_acc: 0.6250\n",
      "Epoch 8/50\n",
      "50/50 [==============================] - 2s 39ms/step - loss: 0.5868 - acc: 0.6825\n",
      "125/125 [==============================] - 13s 107ms/step - loss: 0.5553 - acc: 0.7315 - val_loss: 0.5868 - val_acc: 0.6825\n",
      "Epoch 9/50\n",
      "50/50 [==============================] - 2s 39ms/step - loss: 0.5336 - acc: 0.7362\n",
      "125/125 [==============================] - 13s 107ms/step - loss: 0.5445 - acc: 0.7375 - val_loss: 0.5336 - val_acc: 0.7362\n",
      "Epoch 10/50\n",
      "50/50 [==============================] - 2s 39ms/step - loss: 0.5781 - acc: 0.7325\n",
      "125/125 [==============================] - 13s 107ms/step - loss: 0.5156 - acc: 0.7550 - val_loss: 0.5781 - val_acc: 0.7325\n",
      "Epoch 11/50\n",
      "50/50 [==============================] - 2s 39ms/step - loss: 0.5343 - acc: 0.7337\n",
      "125/125 [==============================] - 13s 107ms/step - loss: 0.5050 - acc: 0.7610 - val_loss: 0.5343 - val_acc: 0.7337\n",
      "Epoch 12/50\n",
      "50/50 [==============================] - 2s 39ms/step - loss: 0.5536 - acc: 0.7300\n",
      "125/125 [==============================] - 13s 107ms/step - loss: 0.5008 - acc: 0.7670 - val_loss: 0.5536 - val_acc: 0.7300\n",
      "Epoch 13/50\n",
      "50/50 [==============================] - 2s 40ms/step - loss: 0.5959 - acc: 0.7337\n",
      "125/125 [==============================] - 13s 107ms/step - loss: 0.4987 - acc: 0.7610 - val_loss: 0.5959 - val_acc: 0.7337\n",
      "Epoch 14/50\n",
      "50/50 [==============================] - 2s 39ms/step - loss: 0.5006 - acc: 0.7675\n",
      "125/125 [==============================] - 13s 107ms/step - loss: 0.4975 - acc: 0.7690 - val_loss: 0.5006 - val_acc: 0.7675\n",
      "Epoch 15/50\n",
      "50/50 [==============================] - 2s 39ms/step - loss: 0.5529 - acc: 0.7487\n",
      "125/125 [==============================] - 13s 107ms/step - loss: 0.4832 - acc: 0.7735 - val_loss: 0.5529 - val_acc: 0.7487\n",
      "Epoch 16/50\n",
      "50/50 [==============================] - 2s 39ms/step - loss: 0.4864 - acc: 0.7650\n",
      "125/125 [==============================] - 13s 108ms/step - loss: 0.4846 - acc: 0.7800 - val_loss: 0.4864 - val_acc: 0.7650\n",
      "Epoch 17/50\n",
      "50/50 [==============================] - 2s 39ms/step - loss: 0.6117 - acc: 0.7362\n",
      "125/125 [==============================] - 13s 106ms/step - loss: 0.4748 - acc: 0.7785 - val_loss: 0.6117 - val_acc: 0.7362\n",
      "Epoch 18/50\n",
      "50/50 [==============================] - 2s 39ms/step - loss: 0.5042 - acc: 0.7788\n",
      "125/125 [==============================] - 13s 106ms/step - loss: 0.4610 - acc: 0.7870 - val_loss: 0.5042 - val_acc: 0.7788\n",
      "Epoch 19/50\n",
      "50/50 [==============================] - 2s 38ms/step - loss: 0.5287 - acc: 0.7650\n",
      "125/125 [==============================] - 13s 106ms/step - loss: 0.4397 - acc: 0.8075 - val_loss: 0.5287 - val_acc: 0.7650\n",
      "Epoch 20/50\n",
      "50/50 [==============================] - 2s 39ms/step - loss: 0.8207 - acc: 0.7212\n",
      "125/125 [==============================] - 13s 107ms/step - loss: 0.4441 - acc: 0.8025 - val_loss: 0.8207 - val_acc: 0.7212\n",
      "Epoch 21/50\n",
      "50/50 [==============================] - 2s 39ms/step - loss: 0.5706 - acc: 0.7638\n",
      "125/125 [==============================] - 13s 106ms/step - loss: 0.4554 - acc: 0.8035 - val_loss: 0.5706 - val_acc: 0.7638\n",
      "Epoch 22/50\n",
      "50/50 [==============================] - 2s 39ms/step - loss: 0.5413 - acc: 0.7812\n",
      "125/125 [==============================] - 13s 106ms/step - loss: 0.4511 - acc: 0.7975 - val_loss: 0.5413 - val_acc: 0.7812\n",
      "Epoch 23/50\n",
      "50/50 [==============================] - 2s 39ms/step - loss: 0.5161 - acc: 0.7538\n",
      "125/125 [==============================] - 13s 106ms/step - loss: 0.4504 - acc: 0.8000 - val_loss: 0.5161 - val_acc: 0.7538\n",
      "Epoch 24/50\n",
      "50/50 [==============================] - 2s 39ms/step - loss: 0.4683 - acc: 0.7800\n",
      "125/125 [==============================] - 13s 107ms/step - loss: 0.4390 - acc: 0.8015 - val_loss: 0.4683 - val_acc: 0.7800\n",
      "Epoch 25/50\n",
      "50/50 [==============================] - 2s 39ms/step - loss: 0.4962 - acc: 0.7738\n",
      "125/125 [==============================] - 13s 106ms/step - loss: 0.4242 - acc: 0.8205 - val_loss: 0.4962 - val_acc: 0.7738\n",
      "Epoch 26/50\n",
      "50/50 [==============================] - 2s 39ms/step - loss: 0.4891 - acc: 0.7862\n",
      "125/125 [==============================] - 13s 107ms/step - loss: 0.4455 - acc: 0.8080 - val_loss: 0.4891 - val_acc: 0.7862\n",
      "Epoch 27/50\n",
      "50/50 [==============================] - 2s 39ms/step - loss: 0.6281 - acc: 0.7200\n",
      "125/125 [==============================] - 13s 106ms/step - loss: 0.4010 - acc: 0.8165 - val_loss: 0.6281 - val_acc: 0.7200\n",
      "Epoch 28/50\n",
      "50/50 [==============================] - 2s 39ms/step - loss: 0.5204 - acc: 0.7750\n",
      "125/125 [==============================] - 13s 105ms/step - loss: 0.4176 - acc: 0.8200 - val_loss: 0.5204 - val_acc: 0.7750\n",
      "Epoch 29/50\n",
      "50/50 [==============================] - 2s 39ms/step - loss: 0.4830 - acc: 0.7775\n",
      "125/125 [==============================] - 13s 106ms/step - loss: 0.4252 - acc: 0.8130 - val_loss: 0.4830 - val_acc: 0.7775\n",
      "Epoch 30/50\n",
      "50/50 [==============================] - 2s 39ms/step - loss: 0.5236 - acc: 0.8112\n",
      "125/125 [==============================] - 13s 106ms/step - loss: 0.4083 - acc: 0.8255 - val_loss: 0.5236 - val_acc: 0.8112\n",
      "Epoch 31/50\n",
      "50/50 [==============================] - 2s 39ms/step - loss: 0.5877 - acc: 0.7862\n",
      "125/125 [==============================] - 13s 107ms/step - loss: 0.3919 - acc: 0.8335 - val_loss: 0.5877 - val_acc: 0.7862\n",
      "Epoch 32/50\n",
      "50/50 [==============================] - 2s 39ms/step - loss: 0.4770 - acc: 0.7950\n",
      "125/125 [==============================] - 13s 106ms/step - loss: 0.4287 - acc: 0.8275 - val_loss: 0.4770 - val_acc: 0.7950\n",
      "Epoch 33/50\n",
      "50/50 [==============================] - 2s 39ms/step - loss: 0.5387 - acc: 0.8075\n",
      "125/125 [==============================] - 13s 106ms/step - loss: 0.3995 - acc: 0.8255 - val_loss: 0.5387 - val_acc: 0.8075\n",
      "Epoch 34/50\n",
      "50/50 [==============================] - 2s 39ms/step - loss: 0.5042 - acc: 0.8075\n",
      "125/125 [==============================] - 13s 107ms/step - loss: 0.3941 - acc: 0.8335 - val_loss: 0.5042 - val_acc: 0.8075\n",
      "Epoch 35/50\n",
      "50/50 [==============================] - 2s 39ms/step - loss: 0.4673 - acc: 0.8037\n",
      "125/125 [==============================] - 13s 107ms/step - loss: 0.3785 - acc: 0.8340 - val_loss: 0.4673 - val_acc: 0.8037\n",
      "Epoch 36/50\n",
      "50/50 [==============================] - 2s 39ms/step - loss: 0.5118 - acc: 0.8000\n",
      "125/125 [==============================] - 13s 106ms/step - loss: 0.4043 - acc: 0.8305 - val_loss: 0.5118 - val_acc: 0.8000\n",
      "Epoch 37/50\n"
     ]
    },
    {
     "name": "stdout",
     "output_type": "stream",
     "text": [
      "50/50 [==============================] - 2s 40ms/step - loss: 0.4943 - acc: 0.8188\n",
      "125/125 [==============================] - 13s 108ms/step - loss: 0.3944 - acc: 0.8330 - val_loss: 0.4943 - val_acc: 0.8188\n",
      "Epoch 38/50\n",
      "50/50 [==============================] - 2s 39ms/step - loss: 0.6020 - acc: 0.7925\n",
      "125/125 [==============================] - 13s 107ms/step - loss: 0.3789 - acc: 0.8440 - val_loss: 0.6020 - val_acc: 0.7925\n",
      "Epoch 39/50\n",
      "50/50 [==============================] - 2s 39ms/step - loss: 0.5518 - acc: 0.7812\n",
      "125/125 [==============================] - 13s 106ms/step - loss: 0.3730 - acc: 0.8355 - val_loss: 0.5518 - val_acc: 0.7812\n",
      "Epoch 40/50\n",
      "50/50 [==============================] - 2s 39ms/step - loss: 0.5075 - acc: 0.7763\n",
      "125/125 [==============================] - 13s 107ms/step - loss: 0.3840 - acc: 0.8500 - val_loss: 0.5075 - val_acc: 0.7763\n",
      "Epoch 41/50\n",
      "50/50 [==============================] - 2s 39ms/step - loss: 0.4575 - acc: 0.7900\n",
      "125/125 [==============================] - 13s 107ms/step - loss: 0.3774 - acc: 0.8335 - val_loss: 0.4575 - val_acc: 0.7900\n",
      "Epoch 42/50\n",
      "50/50 [==============================] - 2s 39ms/step - loss: 0.5286 - acc: 0.7912\n",
      "125/125 [==============================] - 13s 106ms/step - loss: 0.3985 - acc: 0.8240 - val_loss: 0.5286 - val_acc: 0.7912\n",
      "Epoch 43/50\n",
      "50/50 [==============================] - 2s 39ms/step - loss: 0.5744 - acc: 0.8037\n",
      "125/125 [==============================] - 13s 107ms/step - loss: 0.3825 - acc: 0.8370 - val_loss: 0.5744 - val_acc: 0.8037\n",
      "Epoch 44/50\n",
      "50/50 [==============================] - 2s 39ms/step - loss: 0.4862 - acc: 0.7825\n",
      "125/125 [==============================] - 13s 107ms/step - loss: 0.3931 - acc: 0.8280 - val_loss: 0.4862 - val_acc: 0.7825\n",
      "Epoch 45/50\n",
      "50/50 [==============================] - 2s 39ms/step - loss: 0.4788 - acc: 0.8075\n",
      "125/125 [==============================] - 13s 106ms/step - loss: 0.3943 - acc: 0.8305 - val_loss: 0.4788 - val_acc: 0.8075\n",
      "Epoch 46/50\n",
      "50/50 [==============================] - 2s 39ms/step - loss: 0.5118 - acc: 0.7962\n",
      "125/125 [==============================] - 13s 106ms/step - loss: 0.3838 - acc: 0.8415 - val_loss: 0.5118 - val_acc: 0.7962\n",
      "Epoch 47/50\n",
      "50/50 [==============================] - 2s 40ms/step - loss: 0.7870 - acc: 0.7650\n",
      "125/125 [==============================] - 13s 106ms/step - loss: 0.3794 - acc: 0.8430 - val_loss: 0.7870 - val_acc: 0.7650\n",
      "Epoch 48/50\n",
      "50/50 [==============================] - 2s 39ms/step - loss: 0.5214 - acc: 0.8025\n",
      "125/125 [==============================] - 13s 107ms/step - loss: 0.4103 - acc: 0.8285 - val_loss: 0.5214 - val_acc: 0.8025\n",
      "Epoch 49/50\n",
      "50/50 [==============================] - 2s 39ms/step - loss: 0.7390 - acc: 0.7850\n",
      "125/125 [==============================] - 14s 109ms/step - loss: 0.4006 - acc: 0.8340 - val_loss: 0.7390 - val_acc: 0.7850\n",
      "Epoch 50/50\n",
      "50/50 [==============================] - 2s 39ms/step - loss: 0.7010 - acc: 0.7638\n",
      "125/125 [==============================] - 13s 106ms/step - loss: 0.3718 - acc: 0.8460 - val_loss: 0.7010 - val_acc: 0.7638\n"
     ]
    }
   ],
   "source": [
    "hist = model.fit_generator(\n",
    "    train_generator,\n",
    "    steps_per_epoch=nb_train_samples // batch_size,\n",
    "    epochs=epochs,\n",
    "    validation_data=validation_generator,\n",
    "validation_steps=nb_validation_samples // batch_size)"
   ]
  },
  {
   "cell_type": "code",
   "execution_count": 14,
   "metadata": {},
   "outputs": [
    {
     "data": {
      "image/png": "[encoded data removed]",
      "text/plain": [
       "<Figure size 864x288 with 2 Axes>"
      ]
     },
     "metadata": {
      "needs_background": "light"
     },
     "output_type": "display_data"
    }
   ],
   "source": [
    "_, (ax1, ax2) = plt.subplots(nrows=1, ncols=2, figsize=(12,4))\n",
    "ax1.plot(hist.history['loss'])\n",
    "ax1.plot(hist.history['val_loss'])\n",
    "ax2.plot(hist.history['acc'])\n",
    "ax2.plot(hist.history['val_acc'])\n",
    "plt.show()"
   ]
  },
  {
   "cell_type": "code",
   "execution_count": 40,
   "metadata": {},
   "outputs": [
    {
     "data": {
      "image/png": "[encoded data removed]",
      "text/plain": [
       "<Figure size 864x288 with 2 Axes>"
      ]
     },
     "metadata": {
      "needs_background": "light"
     },
     "output_type": "display_data"
    }
   ],
   "source": [
    "_, (ax1, ax2) = plt.subplots(nrows=1, ncols=2, figsize=(12,4))\n",
    "ax1.plot(hist.history['loss'])\n",
    "ax1.plot(hist.history['val_loss'])\n",
    "ax2.plot(hist.history['acc'])\n",
    "ax2.plot(hist.history['val_acc'])\n",
    "plt.show()"
   ]
  },
  {
   "cell_type": "code",
   "execution_count": null,
   "metadata": {},
   "outputs": [],
   "source": []
  },
  {
   "cell_type": "code",
   "execution_count": null,
   "metadata": {},
   "outputs": [],
   "source": []
  },
  {
   "cell_type": "markdown",
   "metadata": {},
   "source": [
    "# Other CODE"
   ]
  },
  {
   "cell_type": "code",
   "execution_count": null,
   "metadata": {},
   "outputs": [],
   "source": []
  },
  {
   "cell_type": "code",
   "execution_count": null,
   "metadata": {},
   "outputs": [],
   "source": []
  },
  {
   "cell_type": "code",
   "execution_count": 13,
   "metadata": {},
   "outputs": [
    {
     "name": "stdout",
     "output_type": "stream",
     "text": [
      "Found 12894 images belonging to 10 classes.\n",
      "Found 500 images belonging to 10 classes.\n"
     ]
    }
   ],
   "source": [
    "train_datagen = ImageDataGenerator(rescale=1./255)\n",
    "valid_dataget = ImageDataGenerator(rescale=1./255)\n",
    "\n",
    "train_generator = train_datagen.flow_from_directory(\n",
    "    directory=os.path.join(dataset_location, 'train'),\n",
    "    target_size=(64, 64),\n",
    "    batch_size=32,\n",
    ")\n",
    "\n",
    "valid_generator = train_datagen.flow_from_directory(\n",
    "    directory=os.path.join(dataset_location, 'val'),\n",
    "    target_size=(64, 64),\n",
    "    batch_size=32,\n",
    ")\n"
   ]
  },
  {
   "cell_type": "code",
   "execution_count": null,
   "metadata": {},
   "outputs": [],
   "source": []
  },
  {
   "cell_type": "code",
   "execution_count": null,
   "metadata": {},
   "outputs": [],
   "source": []
  },
  {
   "cell_type": "code",
   "execution_count": 8,
   "metadata": {},
   "outputs": [],
   "source": [
    "aa, bb = train_generator.next()"
   ]
  },
  {
   "cell_type": "code",
   "execution_count": 9,
   "metadata": {},
   "outputs": [
    {
     "data": {
      "text/plain": [
       "<matplotlib.image.AxesImage at 0x7f147c3af710>"
      ]
     },
     "execution_count": 9,
     "metadata": {},
     "output_type": "execute_result"
    },
    {
     "data": {
      "image/png": "[encoded data removed]",
      "text/plain": [
       "<Figure size 432x288 with 1 Axes>"
      ]
     },
     "metadata": {
      "needs_background": "light"
     },
     "output_type": "display_data"
    }
   ],
   "source": [
    "plt.imshow(aa[0])"
   ]
  },
  {
   "cell_type": "code",
   "execution_count": null,
   "metadata": {},
   "outputs": [],
   "source": []
  },
  {
   "cell_type": "code",
   "execution_count": 9,
   "metadata": {},
   "outputs": [],
   "source": [
    "# X_inputs = tf.keras.layers.Input(shape=(64, 64, 3))\n",
    "\n",
    "# mobilenetv2 = tf.keras.applications.resnet50.ResNet50(\n",
    "#     input_shape=(64, 64, 3), include_top=False,\n",
    "#     weights=None, input_tensor=X_inputs, pooling='avg'\n",
    "# )\n",
    "\n",
    "# X = tf.keras.layers.Dense(10, activation='softmax')(mobilenetv2.layers[-1].output)\n",
    "\n",
    "# model = tf.keras.models.Model(inputs=X_inputs, outputs=X)\n",
    "# model.compile(optimizer=tf.keras.optimizers.Adam(),\n",
    "#               loss='categorical_crossentropy',\n",
    "#               metrics=['accuracy'])"
   ]
  },
  {
   "cell_type": "code",
   "execution_count": 20,
   "metadata": {},
   "outputs": [],
   "source": [
    "X_inputs = tf.keras.layers.Input(shape=(64, 64, 3))\n",
    "\n",
    "mobilenetv2 = tf.keras.applications.mobilenet_v2.MobileNetV2(\n",
    "    input_shape=(64, 64, 3), alpha=.3, include_top=False,\n",
    "    weights=None, input_tensor=X_inputs, pooling='avg'\n",
    ")\n",
    "\n",
    "X = tf.keras.layers.Dense(10, activation='softmax')(mobilenetv2.layers[-1].output)\n",
    "\n",
    "model = tf.keras.models.Model(inputs=X_inputs, outputs=X)\n",
    "model.compile(optimizer=tf.keras.optimizers.Adam(),\n",
    "              loss='categorical_crossentropy',\n",
    "              metrics=['accuracy'])"
   ]
  },
  {
   "cell_type": "code",
   "execution_count": 11,
   "metadata": {},
   "outputs": [
    {
     "name": "stdout",
     "output_type": "stream",
     "text": [
      "__________________________________________________________________________________________________\n",
      "Layer (type)                    Output Shape         Param #     Connected to                     \n",
      "==================================================================================================\n",
      "input_2 (InputLayer)            (None, 64, 64, 3)    0                                            \n",
      "__________________________________________________________________________________________________\n",
      "Conv1_pad (ZeroPadding2D)       (None, 65, 65, 3)    0           input_2[0][0]                    \n",
      "__________________________________________________________________________________________________\n",
      "Conv1 (Conv2D)                  (None, 32, 32, 16)   432         Conv1_pad[0][0]                  \n",
      "__________________________________________________________________________________________________\n",
      "bn_Conv1 (BatchNormalizationV1) (None, 32, 32, 16)   64          Conv1[0][0]                      \n",
      "__________________________________________________________________________________________________\n",
      "Conv1_relu (ReLU)               (None, 32, 32, 16)   0           bn_Conv1[0][0]                   \n",
      "__________________________________________________________________________________________________\n",
      "expanded_conv_depthwise (Depthw (None, 32, 32, 16)   144         Conv1_relu[0][0]                 \n",
      "__________________________________________________________________________________________________\n",
      "expanded_conv_depthwise_BN (Bat (None, 32, 32, 16)   64          expanded_conv_depthwise[0][0]    \n",
      "__________________________________________________________________________________________________\n",
      "expanded_conv_depthwise_relu (R (None, 32, 32, 16)   0           expanded_conv_depthwise_BN[0][0] \n",
      "__________________________________________________________________________________________________\n",
      "expanded_conv_project (Conv2D)  (None, 32, 32, 8)    128         expanded_conv_depthwise_relu[0][0\n",
      "__________________________________________________________________________________________________\n",
      "expanded_conv_project_BN (Batch (None, 32, 32, 8)    32          expanded_conv_project[0][0]      \n",
      "__________________________________________________________________________________________________\n",
      "block_1_expand (Conv2D)         (None, 32, 32, 48)   384         expanded_conv_project_BN[0][0]   \n",
      "__________________________________________________________________________________________________\n",
      "block_1_expand_BN (BatchNormali (None, 32, 32, 48)   192         block_1_expand[0][0]             \n",
      "__________________________________________________________________________________________________\n",
      "block_1_expand_relu (ReLU)      (None, 32, 32, 48)   0           block_1_expand_BN[0][0]          \n",
      "__________________________________________________________________________________________________\n",
      "block_1_pad (ZeroPadding2D)     (None, 33, 33, 48)   0           block_1_expand_relu[0][0]        \n",
      "__________________________________________________________________________________________________\n",
      "block_1_depthwise (DepthwiseCon (None, 16, 16, 48)   432         block_1_pad[0][0]                \n",
      "__________________________________________________________________________________________________\n",
      "block_1_depthwise_BN (BatchNorm (None, 16, 16, 48)   192         block_1_depthwise[0][0]          \n",
      "__________________________________________________________________________________________________\n",
      "block_1_depthwise_relu (ReLU)   (None, 16, 16, 48)   0           block_1_depthwise_BN[0][0]       \n",
      "__________________________________________________________________________________________________\n",
      "block_1_project (Conv2D)        (None, 16, 16, 8)    384         block_1_depthwise_relu[0][0]     \n",
      "__________________________________________________________________________________________________\n",
      "block_1_project_BN (BatchNormal (None, 16, 16, 8)    32          block_1_project[0][0]            \n",
      "__________________________________________________________________________________________________\n",
      "block_2_expand (Conv2D)         (None, 16, 16, 48)   384         block_1_project_BN[0][0]         \n",
      "__________________________________________________________________________________________________\n",
      "block_2_expand_BN (BatchNormali (None, 16, 16, 48)   192         block_2_expand[0][0]             \n",
      "__________________________________________________________________________________________________\n",
      "block_2_expand_relu (ReLU)      (None, 16, 16, 48)   0           block_2_expand_BN[0][0]          \n",
      "__________________________________________________________________________________________________\n",
      "block_2_depthwise (DepthwiseCon (None, 16, 16, 48)   432         block_2_expand_relu[0][0]        \n",
      "__________________________________________________________________________________________________\n",
      "block_2_depthwise_BN (BatchNorm (None, 16, 16, 48)   192         block_2_depthwise[0][0]          \n",
      "__________________________________________________________________________________________________\n",
      "block_2_depthwise_relu (ReLU)   (None, 16, 16, 48)   0           block_2_depthwise_BN[0][0]       \n",
      "__________________________________________________________________________________________________\n",
      "block_2_project (Conv2D)        (None, 16, 16, 8)    384         block_2_depthwise_relu[0][0]     \n",
      "__________________________________________________________________________________________________\n",
      "block_2_project_BN (BatchNormal (None, 16, 16, 8)    32          block_2_project[0][0]            \n",
      "__________________________________________________________________________________________________\n",
      "block_2_add (Add)               (None, 16, 16, 8)    0           block_1_project_BN[0][0]         \n",
      "                                                                 block_2_project_BN[0][0]         \n",
      "__________________________________________________________________________________________________\n",
      "block_3_expand (Conv2D)         (None, 16, 16, 48)   384         block_2_add[0][0]                \n",
      "__________________________________________________________________________________________________\n",
      "block_3_expand_BN (BatchNormali (None, 16, 16, 48)   192         block_3_expand[0][0]             \n",
      "__________________________________________________________________________________________________\n",
      "block_3_expand_relu (ReLU)      (None, 16, 16, 48)   0           block_3_expand_BN[0][0]          \n",
      "__________________________________________________________________________________________________\n",
      "block_3_pad (ZeroPadding2D)     (None, 17, 17, 48)   0           block_3_expand_relu[0][0]        \n",
      "__________________________________________________________________________________________________\n",
      "block_3_depthwise (DepthwiseCon (None, 8, 8, 48)     432         block_3_pad[0][0]                \n",
      "__________________________________________________________________________________________________\n",
      "block_3_depthwise_BN (BatchNorm (None, 8, 8, 48)     192         block_3_depthwise[0][0]          \n",
      "__________________________________________________________________________________________________\n",
      "block_3_depthwise_relu (ReLU)   (None, 8, 8, 48)     0           block_3_depthwise_BN[0][0]       \n",
      "__________________________________________________________________________________________________\n",
      "block_3_project (Conv2D)        (None, 8, 8, 16)     768         block_3_depthwise_relu[0][0]     \n",
      "__________________________________________________________________________________________________\n",
      "block_3_project_BN (BatchNormal (None, 8, 8, 16)     64          block_3_project[0][0]            \n",
      "__________________________________________________________________________________________________\n",
      "block_4_expand (Conv2D)         (None, 8, 8, 96)     1536        block_3_project_BN[0][0]         \n",
      "__________________________________________________________________________________________________\n",
      "block_4_expand_BN (BatchNormali (None, 8, 8, 96)     384         block_4_expand[0][0]             \n",
      "__________________________________________________________________________________________________\n",
      "block_4_expand_relu (ReLU)      (None, 8, 8, 96)     0           block_4_expand_BN[0][0]          \n",
      "__________________________________________________________________________________________________\n",
      "block_4_depthwise (DepthwiseCon (None, 8, 8, 96)     864         block_4_expand_relu[0][0]        \n",
      "__________________________________________________________________________________________________\n",
      "block_4_depthwise_BN (BatchNorm (None, 8, 8, 96)     384         block_4_depthwise[0][0]          \n",
      "__________________________________________________________________________________________________\n",
      "block_4_depthwise_relu (ReLU)   (None, 8, 8, 96)     0           block_4_depthwise_BN[0][0]       \n",
      "__________________________________________________________________________________________________\n",
      "block_4_project (Conv2D)        (None, 8, 8, 16)     1536        block_4_depthwise_relu[0][0]     \n",
      "__________________________________________________________________________________________________\n",
      "block_4_project_BN (BatchNormal (None, 8, 8, 16)     64          block_4_project[0][0]            \n",
      "__________________________________________________________________________________________________\n",
      "block_4_add (Add)               (None, 8, 8, 16)     0           block_3_project_BN[0][0]         \n",
      "                                                                 block_4_project_BN[0][0]         \n",
      "__________________________________________________________________________________________________\n",
      "block_5_expand (Conv2D)         (None, 8, 8, 96)     1536        block_4_add[0][0]                \n",
      "__________________________________________________________________________________________________\n",
      "block_5_expand_BN (BatchNormali (None, 8, 8, 96)     384         block_5_expand[0][0]             \n",
      "__________________________________________________________________________________________________\n",
      "block_5_expand_relu (ReLU)      (None, 8, 8, 96)     0           block_5_expand_BN[0][0]          \n",
      "__________________________________________________________________________________________________\n",
      "block_5_depthwise (DepthwiseCon (None, 8, 8, 96)     864         block_5_expand_relu[0][0]        \n",
      "__________________________________________________________________________________________________\n",
      "block_5_depthwise_BN (BatchNorm (None, 8, 8, 96)     384         block_5_depthwise[0][0]          \n",
      "__________________________________________________________________________________________________\n",
      "block_5_depthwise_relu (ReLU)   (None, 8, 8, 96)     0           block_5_depthwise_BN[0][0]       \n",
      "__________________________________________________________________________________________________\n",
      "block_5_project (Conv2D)        (None, 8, 8, 16)     1536        block_5_depthwise_relu[0][0]     \n",
      "__________________________________________________________________________________________________\n",
      "block_5_project_BN (BatchNormal (None, 8, 8, 16)     64          block_5_project[0][0]            \n",
      "__________________________________________________________________________________________________\n",
      "block_5_add (Add)               (None, 8, 8, 16)     0           block_4_add[0][0]                \n",
      "                                                                 block_5_project_BN[0][0]         \n",
      "__________________________________________________________________________________________________\n",
      "block_6_expand (Conv2D)         (None, 8, 8, 96)     1536        block_5_add[0][0]                \n",
      "__________________________________________________________________________________________________\n",
      "block_6_expand_BN (BatchNormali (None, 8, 8, 96)     384         block_6_expand[0][0]             \n",
      "__________________________________________________________________________________________________\n",
      "block_6_expand_relu (ReLU)      (None, 8, 8, 96)     0           block_6_expand_BN[0][0]          \n",
      "__________________________________________________________________________________________________\n",
      "block_6_pad (ZeroPadding2D)     (None, 9, 9, 96)     0           block_6_expand_relu[0][0]        \n",
      "__________________________________________________________________________________________________\n",
      "block_6_depthwise (DepthwiseCon (None, 4, 4, 96)     864         block_6_pad[0][0]                \n",
      "__________________________________________________________________________________________________\n",
      "block_6_depthwise_BN (BatchNorm (None, 4, 4, 96)     384         block_6_depthwise[0][0]          \n",
      "__________________________________________________________________________________________________\n",
      "block_6_depthwise_relu (ReLU)   (None, 4, 4, 96)     0           block_6_depthwise_BN[0][0]       \n",
      "__________________________________________________________________________________________________\n",
      "block_6_project (Conv2D)        (None, 4, 4, 24)     2304        block_6_depthwise_relu[0][0]     \n",
      "__________________________________________________________________________________________________\n",
      "block_6_project_BN (BatchNormal (None, 4, 4, 24)     96          block_6_project[0][0]            \n",
      "__________________________________________________________________________________________________\n",
      "block_7_expand (Conv2D)         (None, 4, 4, 144)    3456        block_6_project_BN[0][0]         \n",
      "__________________________________________________________________________________________________\n",
      "block_7_expand_BN (BatchNormali (None, 4, 4, 144)    576         block_7_expand[0][0]             \n",
      "__________________________________________________________________________________________________\n",
      "block_7_expand_relu (ReLU)      (None, 4, 4, 144)    0           block_7_expand_BN[0][0]          \n",
      "__________________________________________________________________________________________________\n",
      "block_7_depthwise (DepthwiseCon (None, 4, 4, 144)    1296        block_7_expand_relu[0][0]        \n",
      "__________________________________________________________________________________________________\n",
      "block_7_depthwise_BN (BatchNorm (None, 4, 4, 144)    576         block_7_depthwise[0][0]          \n",
      "__________________________________________________________________________________________________\n",
      "block_7_depthwise_relu (ReLU)   (None, 4, 4, 144)    0           block_7_depthwise_BN[0][0]       \n",
      "__________________________________________________________________________________________________\n",
      "block_7_project (Conv2D)        (None, 4, 4, 24)     3456        block_7_depthwise_relu[0][0]     \n",
      "__________________________________________________________________________________________________\n",
      "block_7_project_BN (BatchNormal (None, 4, 4, 24)     96          block_7_project[0][0]            \n",
      "__________________________________________________________________________________________________\n",
      "block_7_add (Add)               (None, 4, 4, 24)     0           block_6_project_BN[0][0]         \n",
      "                                                                 block_7_project_BN[0][0]         \n",
      "__________________________________________________________________________________________________\n",
      "block_8_expand (Conv2D)         (None, 4, 4, 144)    3456        block_7_add[0][0]                \n",
      "__________________________________________________________________________________________________\n",
      "block_8_expand_BN (BatchNormali (None, 4, 4, 144)    576         block_8_expand[0][0]             \n",
      "__________________________________________________________________________________________________\n",
      "block_8_expand_relu (ReLU)      (None, 4, 4, 144)    0           block_8_expand_BN[0][0]          \n",
      "__________________________________________________________________________________________________\n",
      "block_8_depthwise (DepthwiseCon (None, 4, 4, 144)    1296        block_8_expand_relu[0][0]        \n",
      "__________________________________________________________________________________________________\n",
      "block_8_depthwise_BN (BatchNorm (None, 4, 4, 144)    576         block_8_depthwise[0][0]          \n",
      "__________________________________________________________________________________________________\n",
      "block_8_depthwise_relu (ReLU)   (None, 4, 4, 144)    0           block_8_depthwise_BN[0][0]       \n",
      "__________________________________________________________________________________________________\n",
      "block_8_project (Conv2D)        (None, 4, 4, 24)     3456        block_8_depthwise_relu[0][0]     \n",
      "__________________________________________________________________________________________________\n",
      "block_8_project_BN (BatchNormal (None, 4, 4, 24)     96          block_8_project[0][0]            \n",
      "__________________________________________________________________________________________________\n",
      "block_8_add (Add)               (None, 4, 4, 24)     0           block_7_add[0][0]                \n",
      "                                                                 block_8_project_BN[0][0]         \n",
      "__________________________________________________________________________________________________\n",
      "block_9_expand (Conv2D)         (None, 4, 4, 144)    3456        block_8_add[0][0]                \n",
      "__________________________________________________________________________________________________\n",
      "block_9_expand_BN (BatchNormali (None, 4, 4, 144)    576         block_9_expand[0][0]             \n",
      "__________________________________________________________________________________________________\n",
      "block_9_expand_relu (ReLU)      (None, 4, 4, 144)    0           block_9_expand_BN[0][0]          \n",
      "__________________________________________________________________________________________________\n",
      "block_9_depthwise (DepthwiseCon (None, 4, 4, 144)    1296        block_9_expand_relu[0][0]        \n",
      "__________________________________________________________________________________________________\n",
      "block_9_depthwise_BN (BatchNorm (None, 4, 4, 144)    576         block_9_depthwise[0][0]          \n",
      "__________________________________________________________________________________________________\n",
      "block_9_depthwise_relu (ReLU)   (None, 4, 4, 144)    0           block_9_depthwise_BN[0][0]       \n",
      "__________________________________________________________________________________________________\n",
      "block_9_project (Conv2D)        (None, 4, 4, 24)     3456        block_9_depthwise_relu[0][0]     \n",
      "__________________________________________________________________________________________________\n",
      "block_9_project_BN (BatchNormal (None, 4, 4, 24)     96          block_9_project[0][0]            \n",
      "__________________________________________________________________________________________________\n",
      "block_9_add (Add)               (None, 4, 4, 24)     0           block_8_add[0][0]                \n",
      "                                                                 block_9_project_BN[0][0]         \n",
      "__________________________________________________________________________________________________\n",
      "block_10_expand (Conv2D)        (None, 4, 4, 144)    3456        block_9_add[0][0]                \n",
      "__________________________________________________________________________________________________\n",
      "block_10_expand_BN (BatchNormal (None, 4, 4, 144)    576         block_10_expand[0][0]            \n",
      "__________________________________________________________________________________________________\n",
      "block_10_expand_relu (ReLU)     (None, 4, 4, 144)    0           block_10_expand_BN[0][0]         \n",
      "__________________________________________________________________________________________________\n",
      "block_10_depthwise (DepthwiseCo (None, 4, 4, 144)    1296        block_10_expand_relu[0][0]       \n",
      "__________________________________________________________________________________________________\n",
      "block_10_depthwise_BN (BatchNor (None, 4, 4, 144)    576         block_10_depthwise[0][0]         \n",
      "__________________________________________________________________________________________________\n",
      "block_10_depthwise_relu (ReLU)  (None, 4, 4, 144)    0           block_10_depthwise_BN[0][0]      \n",
      "__________________________________________________________________________________________________\n",
      "block_10_project (Conv2D)       (None, 4, 4, 32)     4608        block_10_depthwise_relu[0][0]    \n",
      "__________________________________________________________________________________________________\n",
      "block_10_project_BN (BatchNorma (None, 4, 4, 32)     128         block_10_project[0][0]           \n",
      "__________________________________________________________________________________________________\n",
      "block_11_expand (Conv2D)        (None, 4, 4, 192)    6144        block_10_project_BN[0][0]        \n",
      "__________________________________________________________________________________________________\n",
      "block_11_expand_BN (BatchNormal (None, 4, 4, 192)    768         block_11_expand[0][0]            \n",
      "__________________________________________________________________________________________________\n",
      "block_11_expand_relu (ReLU)     (None, 4, 4, 192)    0           block_11_expand_BN[0][0]         \n",
      "__________________________________________________________________________________________________\n",
      "block_11_depthwise (DepthwiseCo (None, 4, 4, 192)    1728        block_11_expand_relu[0][0]       \n",
      "__________________________________________________________________________________________________\n",
      "block_11_depthwise_BN (BatchNor (None, 4, 4, 192)    768         block_11_depthwise[0][0]         \n",
      "__________________________________________________________________________________________________\n",
      "block_11_depthwise_relu (ReLU)  (None, 4, 4, 192)    0           block_11_depthwise_BN[0][0]      \n",
      "__________________________________________________________________________________________________\n",
      "block_11_project (Conv2D)       (None, 4, 4, 32)     6144        block_11_depthwise_relu[0][0]    \n",
      "__________________________________________________________________________________________________\n",
      "block_11_project_BN (BatchNorma (None, 4, 4, 32)     128         block_11_project[0][0]           \n",
      "__________________________________________________________________________________________________\n",
      "block_11_add (Add)              (None, 4, 4, 32)     0           block_10_project_BN[0][0]        \n",
      "                                                                 block_11_project_BN[0][0]        \n",
      "__________________________________________________________________________________________________\n",
      "block_12_expand (Conv2D)        (None, 4, 4, 192)    6144        block_11_add[0][0]               \n",
      "__________________________________________________________________________________________________\n",
      "block_12_expand_BN (BatchNormal (None, 4, 4, 192)    768         block_12_expand[0][0]            \n",
      "__________________________________________________________________________________________________\n",
      "block_12_expand_relu (ReLU)     (None, 4, 4, 192)    0           block_12_expand_BN[0][0]         \n",
      "__________________________________________________________________________________________________\n",
      "block_12_depthwise (DepthwiseCo (None, 4, 4, 192)    1728        block_12_expand_relu[0][0]       \n",
      "__________________________________________________________________________________________________\n",
      "block_12_depthwise_BN (BatchNor (None, 4, 4, 192)    768         block_12_depthwise[0][0]         \n",
      "__________________________________________________________________________________________________\n",
      "block_12_depthwise_relu (ReLU)  (None, 4, 4, 192)    0           block_12_depthwise_BN[0][0]      \n",
      "__________________________________________________________________________________________________\n",
      "block_12_project (Conv2D)       (None, 4, 4, 32)     6144        block_12_depthwise_relu[0][0]    \n",
      "__________________________________________________________________________________________________\n",
      "block_12_project_BN (BatchNorma (None, 4, 4, 32)     128         block_12_project[0][0]           \n",
      "__________________________________________________________________________________________________\n",
      "block_12_add (Add)              (None, 4, 4, 32)     0           block_11_add[0][0]               \n",
      "                                                                 block_12_project_BN[0][0]        \n",
      "__________________________________________________________________________________________________\n",
      "block_13_expand (Conv2D)        (None, 4, 4, 192)    6144        block_12_add[0][0]               \n",
      "__________________________________________________________________________________________________\n",
      "block_13_expand_BN (BatchNormal (None, 4, 4, 192)    768         block_13_expand[0][0]            \n",
      "__________________________________________________________________________________________________\n",
      "block_13_expand_relu (ReLU)     (None, 4, 4, 192)    0           block_13_expand_BN[0][0]         \n",
      "__________________________________________________________________________________________________\n",
      "block_13_pad (ZeroPadding2D)    (None, 5, 5, 192)    0           block_13_expand_relu[0][0]       \n",
      "__________________________________________________________________________________________________\n",
      "block_13_depthwise (DepthwiseCo (None, 2, 2, 192)    1728        block_13_pad[0][0]               \n",
      "__________________________________________________________________________________________________\n",
      "block_13_depthwise_BN (BatchNor (None, 2, 2, 192)    768         block_13_depthwise[0][0]         \n",
      "__________________________________________________________________________________________________\n",
      "block_13_depthwise_relu (ReLU)  (None, 2, 2, 192)    0           block_13_depthwise_BN[0][0]      \n",
      "__________________________________________________________________________________________________\n",
      "block_13_project (Conv2D)       (None, 2, 2, 48)     9216        block_13_depthwise_relu[0][0]    \n",
      "__________________________________________________________________________________________________\n",
      "block_13_project_BN (BatchNorma (None, 2, 2, 48)     192         block_13_project[0][0]           \n",
      "__________________________________________________________________________________________________\n",
      "block_14_expand (Conv2D)        (None, 2, 2, 288)    13824       block_13_project_BN[0][0]        \n",
      "__________________________________________________________________________________________________\n",
      "block_14_expand_BN (BatchNormal (None, 2, 2, 288)    1152        block_14_expand[0][0]            \n",
      "__________________________________________________________________________________________________\n",
      "block_14_expand_relu (ReLU)     (None, 2, 2, 288)    0           block_14_expand_BN[0][0]         \n",
      "__________________________________________________________________________________________________\n",
      "block_14_depthwise (DepthwiseCo (None, 2, 2, 288)    2592        block_14_expand_relu[0][0]       \n",
      "__________________________________________________________________________________________________\n",
      "block_14_depthwise_BN (BatchNor (None, 2, 2, 288)    1152        block_14_depthwise[0][0]         \n",
      "__________________________________________________________________________________________________\n",
      "block_14_depthwise_relu (ReLU)  (None, 2, 2, 288)    0           block_14_depthwise_BN[0][0]      \n",
      "__________________________________________________________________________________________________\n",
      "block_14_project (Conv2D)       (None, 2, 2, 48)     13824       block_14_depthwise_relu[0][0]    \n",
      "__________________________________________________________________________________________________\n",
      "block_14_project_BN (BatchNorma (None, 2, 2, 48)     192         block_14_project[0][0]           \n",
      "__________________________________________________________________________________________________\n",
      "block_14_add (Add)              (None, 2, 2, 48)     0           block_13_project_BN[0][0]        \n",
      "                                                                 block_14_project_BN[0][0]        \n",
      "__________________________________________________________________________________________________\n",
      "block_15_expand (Conv2D)        (None, 2, 2, 288)    13824       block_14_add[0][0]               \n",
      "__________________________________________________________________________________________________\n",
      "block_15_expand_BN (BatchNormal (None, 2, 2, 288)    1152        block_15_expand[0][0]            \n",
      "__________________________________________________________________________________________________\n",
      "block_15_expand_relu (ReLU)     (None, 2, 2, 288)    0           block_15_expand_BN[0][0]         \n",
      "__________________________________________________________________________________________________\n",
      "block_15_depthwise (DepthwiseCo (None, 2, 2, 288)    2592        block_15_expand_relu[0][0]       \n",
      "__________________________________________________________________________________________________\n",
      "block_15_depthwise_BN (BatchNor (None, 2, 2, 288)    1152        block_15_depthwise[0][0]         \n",
      "__________________________________________________________________________________________________\n",
      "block_15_depthwise_relu (ReLU)  (None, 2, 2, 288)    0           block_15_depthwise_BN[0][0]      \n",
      "__________________________________________________________________________________________________\n",
      "block_15_project (Conv2D)       (None, 2, 2, 48)     13824       block_15_depthwise_relu[0][0]    \n",
      "__________________________________________________________________________________________________\n",
      "block_15_project_BN (BatchNorma (None, 2, 2, 48)     192         block_15_project[0][0]           \n",
      "__________________________________________________________________________________________________\n",
      "block_15_add (Add)              (None, 2, 2, 48)     0           block_14_add[0][0]               \n",
      "                                                                 block_15_project_BN[0][0]        \n",
      "__________________________________________________________________________________________________\n",
      "block_16_expand (Conv2D)        (None, 2, 2, 288)    13824       block_15_add[0][0]               \n",
      "__________________________________________________________________________________________________\n",
      "block_16_expand_BN (BatchNormal (None, 2, 2, 288)    1152        block_16_expand[0][0]            \n",
      "__________________________________________________________________________________________________\n",
      "block_16_expand_relu (ReLU)     (None, 2, 2, 288)    0           block_16_expand_BN[0][0]         \n",
      "__________________________________________________________________________________________________\n",
      "block_16_depthwise (DepthwiseCo (None, 2, 2, 288)    2592        block_16_expand_relu[0][0]       \n",
      "__________________________________________________________________________________________________\n",
      "block_16_depthwise_BN (BatchNor (None, 2, 2, 288)    1152        block_16_depthwise[0][0]         \n",
      "__________________________________________________________________________________________________\n",
      "block_16_depthwise_relu (ReLU)  (None, 2, 2, 288)    0           block_16_depthwise_BN[0][0]      \n",
      "__________________________________________________________________________________________________\n",
      "block_16_project (Conv2D)       (None, 2, 2, 96)     27648       block_16_depthwise_relu[0][0]    \n",
      "__________________________________________________________________________________________________\n",
      "block_16_project_BN (BatchNorma (None, 2, 2, 96)     384         block_16_project[0][0]           \n",
      "__________________________________________________________________________________________________\n",
      "Conv_1 (Conv2D)                 (None, 2, 2, 1280)   122880      block_16_project_BN[0][0]        \n",
      "__________________________________________________________________________________________________\n",
      "Conv_1_bn (BatchNormalizationV1 (None, 2, 2, 1280)   5120        Conv_1[0][0]                     \n",
      "__________________________________________________________________________________________________\n",
      "out_relu (ReLU)                 (None, 2, 2, 1280)   0           Conv_1_bn[0][0]                  \n",
      "__________________________________________________________________________________________________\n",
      "global_average_pooling2d_1 (Glo (None, 1280)         0           out_relu[0][0]                   \n",
      "__________________________________________________________________________________________________\n",
      "dense_1 (Dense)                 (None, 10)           12810       global_average_pooling2d_1[0][0] \n",
      "==================================================================================================\n",
      "Total params: 363,450\n",
      "Trainable params: 350,026\n",
      "Non-trainable params: 13,424\n",
      "__________________________________________________________________________________________________\n"
     ]
    }
   ],
   "source": [
    "model.summary()"
   ]
  },
  {
   "cell_type": "code",
   "execution_count": null,
   "metadata": {},
   "outputs": [],
   "source": [
    "\n",
    "\n",
    "# from tensorflow.keras.layers import Input, InputLayer, Conv2D, MaxPooling2D, Activation, Flatten, Dense, Dropout\n",
    "\n",
    "\n",
    "\n",
    "# X_input = Input(shape=[32, 32, 3])\n",
    "\n",
    "# X = Conv2D(filters=16, kernel_size=3, padding='same', activation='elu')(X_input)\n",
    "# X = MaxPooling2D(pool_size=[2,2], strides=[2, 2], padding='same')(X)\n",
    "\n",
    "# X = Conv2D(filters=32, kernel_size=3, padding='same', activation='elu')(X)\n",
    "# X = MaxPooling2D(pool_size=[2,2], strides=[2, 2], padding='same')(X)\n",
    "\n",
    "# X = Conv2D(filters=64, kernel_size=3, padding='same', activation='elu')(X)\n",
    "# X = MaxPooling2D(pool_size=[2,2], strides=[2, 2], padding='same')(X)\n",
    "\n",
    "# X = Flatten()(X)\n",
    "# X = Dropout(0.2)(X)\n",
    "\n",
    "# X = Dense(512, activation='elu')(X)\n",
    "# X = Dropout(0.2)(X)\n",
    "\n",
    "# X = Dense(10, activation='softmax')(X)\n",
    "\n",
    "# model = tf.keras.Model(inputs=X_input, outputs=X)\n",
    "\n",
    "\n",
    "\n",
    "# model.compile(optimizer='adam', loss='categorical_crossentropy', metrics=['accuracy'])\n",
    "# model.summary()\n",
    "\n"
   ]
  },
  {
   "cell_type": "code",
   "execution_count": null,
   "metadata": {},
   "outputs": [],
   "source": []
  },
  {
   "cell_type": "code",
   "execution_count": null,
   "metadata": {},
   "outputs": [],
   "source": []
  },
  {
   "cell_type": "code",
   "execution_count": null,
   "metadata": {},
   "outputs": [],
   "source": []
  },
  {
   "cell_type": "code",
   "execution_count": 21,
   "metadata": {
    "scrolled": false
   },
   "outputs": [
    {
     "name": "stdout",
     "output_type": "stream",
     "text": [
      "Epoch 1/5\n",
      "403/403 [==============================] - 30s 73ms/step - loss: 2.2108 - acc: 0.2113\n",
      "Epoch 2/5\n",
      "403/403 [==============================] - 25s 61ms/step - loss: 1.9146 - acc: 0.3291\n",
      "Epoch 3/5\n",
      "403/403 [==============================] - 25s 61ms/step - loss: 1.7642 - acc: 0.3971\n",
      "Epoch 4/5\n",
      "403/403 [==============================] - 25s 61ms/step - loss: 1.6655 - acc: 0.4354\n",
      "Epoch 5/5\n",
      "403/403 [==============================] - 24s 61ms/step - loss: 1.5882 - acc: 0.4711\n"
     ]
    }
   ],
   "source": [
    "# THIS SHOULD BE FIT GENERATOR !!!!!\n",
    "#hist = model.fit(train_generator, epochs=5) #, validation_data=valid_generator)"
   ]
  },
  {
   "cell_type": "code",
   "execution_count": 22,
   "metadata": {},
   "outputs": [
    {
     "data": {
      "text/plain": [
       "dict_keys(['loss', 'acc'])"
      ]
     },
     "execution_count": 22,
     "metadata": {},
     "output_type": "execute_result"
    }
   ],
   "source": [
    "hist.history.keys()"
   ]
  },
  {
   "cell_type": "code",
   "execution_count": 19,
   "metadata": {},
   "outputs": [
    {
     "data": {
      "text/plain": [
       "[0.1, 0.1, 0.1, 0.1, 0.1]"
      ]
     },
     "execution_count": 19,
     "metadata": {},
     "output_type": "execute_result"
    }
   ],
   "source": [
    "hist.history['val_acc']"
   ]
  },
  {
   "cell_type": "code",
   "execution_count": null,
   "metadata": {},
   "outputs": [],
   "source": []
  }
 ],
 "metadata": {
  "kernelspec": {
   "display_name": "Python [conda env:tfgpu113]",
   "language": "python",
   "name": "conda-env-tfgpu113-py"
  },
  "language_info": {
   "codemirror_mode": {
    "name": "ipython",
    "version": 3
   },
   "file_extension": ".py",
   "mimetype": "text/x-python",
   "name": "python",
   "nbconvert_exporter": "python",
   "pygments_lexer": "ipython3",
   "version": "3.7.3"
  }
 },
 "nbformat": 4,
 "nbformat_minor": 2
}
