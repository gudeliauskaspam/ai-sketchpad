{
 "cells": [
  {
   "cell_type": "markdown",
   "metadata": {},
   "source": [
    "# Introduction"
   ]
  },
  {
   "cell_type": "code",
   "execution_count": null,
   "metadata": {},
   "outputs": [],
   "source": []
  },
  {
   "cell_type": "markdown",
   "metadata": {},
   "source": [
    "# Imports"
   ]
  },
  {
   "cell_type": "code",
   "execution_count": 22,
   "metadata": {},
   "outputs": [],
   "source": [
    "import numpy as np\n",
    "import matplotlib.pyplot as plt\n",
    "import torch\n",
    "import torch.nn as nn\n",
    "from torchvision import datasets, transforms"
   ]
  },
  {
   "cell_type": "code",
   "execution_count": 23,
   "metadata": {},
   "outputs": [],
   "source": [
    "device = torch.device(\"cuda:0\" if torch.cuda.is_available() else \"cpu\")"
   ]
  },
  {
   "cell_type": "code",
   "execution_count": null,
   "metadata": {},
   "outputs": [],
   "source": []
  },
  {
   "cell_type": "code",
   "execution_count": 24,
   "metadata": {},
   "outputs": [],
   "source": [
    "dataset_location = '~/.pytorch/MNIST_data/'"
   ]
  },
  {
   "cell_type": "code",
   "execution_count": 25,
   "metadata": {},
   "outputs": [],
   "source": [
    "transform = transforms.Compose([\n",
    "    transforms.ToTensor(),                  # this will convert to 0..1 range tensor in NCHW format\n",
    "    transforms.Normalize((0.5,), (0.5,))    # this will convert to -1..1 range\n",
    "])"
   ]
  },
  {
   "cell_type": "code",
   "execution_count": 26,
   "metadata": {},
   "outputs": [],
   "source": [
    "trainset = datasets.MNIST(dataset_location, download=True, train=True, transform=transform)\n",
    "testset = datasets.MNIST(dataset_location, download=True, train=False, transform=transform)"
   ]
  },
  {
   "cell_type": "code",
   "execution_count": 27,
   "metadata": {},
   "outputs": [],
   "source": [
    "trainloader = torch.utils.data.DataLoader(trainset, batch_size=1000, shuffle=True, pin_memory=True, num_workers=2)\n",
    "testloader = torch.utils.data.DataLoader(testset, batch_size=1000, shuffle=True, pin_memory=True, num_workers=2)"
   ]
  },
  {
   "cell_type": "markdown",
   "metadata": {},
   "source": [
    "For testing, we will load single batch from dataset"
   ]
  },
  {
   "cell_type": "code",
   "execution_count": 28,
   "metadata": {},
   "outputs": [],
   "source": [
    "images, labels = iter(trainloader).next()"
   ]
  },
  {
   "cell_type": "code",
   "execution_count": 29,
   "metadata": {},
   "outputs": [
    {
     "data": {
      "image/png": "[encoded data removed]",
      "text/plain": [
       "<Figure size 1152x648 with 6 Axes>"
      ]
     },
     "metadata": {
      "needs_background": "light"
     },
     "output_type": "display_data"
    }
   ],
   "source": [
    "fig, axes = plt.subplots(nrows=1, ncols=6, figsize=[16, 9])\n",
    "for i in range(len(axes)):\n",
    "    axes[i].set_title('Label: '+str(labels[i].item()))\n",
    "    axes[i].imshow(images[i, 0])"
   ]
  },
  {
   "cell_type": "code",
   "execution_count": 30,
   "metadata": {},
   "outputs": [
    {
     "name": "stdout",
     "output_type": "stream",
     "text": [
      "images:\n",
      "shape torch.Size([1000, 1, 28, 28])\n",
      "tensor([[-0.5765,  0.9765,  0.9765,  0.9765,  0.9765,  0.7333,  0.4510, -0.0980],\n",
      "        [ 0.1922,  0.9765,  0.9765,  0.7333,  0.0039, -0.7255, -1.0000, -1.0000],\n",
      "        [ 0.8118,  0.9765,  0.1137, -0.7412, -1.0000, -1.0000, -1.0000, -1.0000],\n",
      "        [ 0.9765,  0.7725, -0.7333, -1.0000, -1.0000, -0.8980, -0.7882,  0.1451],\n",
      "        [ 0.9765,  0.6784, -0.9608, -0.9922, -0.8902,  0.5451,  0.9765,  0.9765],\n",
      "        [ 0.9765,  0.9765,  0.3804,  0.0902,  0.9765,  0.9843,  0.9765,  0.9765],\n",
      "        [ 0.9843,  0.9843,  0.9843,  0.9843,  0.9843,  1.0000,  0.9843,  0.9843],\n",
      "        [ 0.9765,  0.9765,  0.9765,  0.9765,  0.9765,  0.9843,  0.6235,  0.1373]])\n"
     ]
    }
   ],
   "source": [
    "print('images:')\n",
    "print('shape', images.shape)\n",
    "print(images[0, 0, 10:18, 10:18])"
   ]
  },
  {
   "cell_type": "code",
   "execution_count": 31,
   "metadata": {},
   "outputs": [
    {
     "name": "stdout",
     "output_type": "stream",
     "text": [
      "labels:\n",
      "shape torch.Size([1000])\n",
      "tensor([8, 7, 9, 3, 3, 5, 5, 3, 4, 8])\n"
     ]
    }
   ],
   "source": [
    "print('labels:')\n",
    "print('shape', labels.shape)\n",
    "print(labels[0:10])"
   ]
  },
  {
   "cell_type": "markdown",
   "metadata": {},
   "source": [
    "# PyTorch Model"
   ]
  },
  {
   "cell_type": "code",
   "execution_count": 32,
   "metadata": {},
   "outputs": [],
   "source": [
    "def accuracy(pred, tar): \n",
    "    return (pred == tar).float().mean()  # tensor!!"
   ]
  },
  {
   "cell_type": "code",
   "execution_count": 33,
   "metadata": {},
   "outputs": [],
   "source": [
    "class Flatten(nn.Module):\n",
    "    def forward(self, x):\n",
    "        return x.view(x.size()[0], -1)"
   ]
  },
  {
   "cell_type": "code",
   "execution_count": 34,
   "metadata": {},
   "outputs": [
    {
     "name": "stdout",
     "output_type": "stream",
     "text": [
      "Sequential(\n",
      "  (0): Flatten()\n",
      "  (1): Linear(in_features=784, out_features=512, bias=True)\n",
      "  (2): ELU(alpha=1.0)\n",
      "  (3): Dropout(p=0.2)\n",
      "  (4): Linear(in_features=512, out_features=512, bias=True)\n",
      "  (5): ELU(alpha=1.0)\n",
      "  (6): Dropout(p=0.2)\n",
      "  (7): Linear(in_features=512, out_features=10, bias=True)\n",
      ")\n"
     ]
    }
   ],
   "source": [
    "model = nn.Sequential(\n",
    "    Flatten(),\n",
    "    nn.Linear(in_features=784, out_features=512),\n",
    "    nn.ELU(),\n",
    "    nn.Dropout(0.2),\n",
    "    nn.Linear(in_features=512, out_features=512),\n",
    "    nn.ELU(),\n",
    "    nn.Dropout(0.2),\n",
    "    nn.Linear(in_features=512, out_features=10),  # no softmax\n",
    ")\n",
    "model.to(device)\n",
    "criterion = nn.CrossEntropyLoss()                 # softmax included in here\n",
    "optimizer = torch.optim.Adam(model.parameters())\n",
    "print(model)"
   ]
  },
  {
   "cell_type": "markdown",
   "metadata": {},
   "source": [
    "Train model"
   ]
  },
  {
   "cell_type": "code",
   "execution_count": 35,
   "metadata": {},
   "outputs": [],
   "source": [
    "import time"
   ]
  },
  {
   "cell_type": "code",
   "execution_count": 39,
   "metadata": {},
   "outputs": [],
   "source": [
    "def train():\n",
    "\n",
    "    hist = { 'loss':[], 'acc':[] }\n",
    "\n",
    "    ts = time.time()\n",
    "\n",
    "    for epoch in range(5):  # loop over the dataset multiple times\n",
    "\n",
    "        for x, y in trainloader:\n",
    "            x, y = x.to(device), y.to(device)\n",
    "\n",
    "            # zero the parameter gradients\n",
    "            optimizer.zero_grad()\n",
    "\n",
    "            # forward + backward + optimize\n",
    "            outputs = model(x)\n",
    "            loss = criterion(outputs, y)\n",
    "            loss.backward()\n",
    "            optimizer.step()\n",
    "\n",
    "            with torch.no_grad():\n",
    "                _, predictions = torch.max(outputs, 1)\n",
    "                hist['acc'].append( accuracy(predictions, y).item() )\n",
    "                hist['loss'].append( loss.item() )\n",
    "\n",
    "    print(time.time() - ts)\n",
    "    \n",
    "    return hist"
   ]
  },
  {
   "cell_type": "code",
   "execution_count": 42,
   "metadata": {},
   "outputs": [
    {
     "name": "stdout",
     "output_type": "stream",
     "text": [
      "The line_profiler extension is already loaded. To reload it, use:\n",
      "  %reload_ext line_profiler\n"
     ]
    }
   ],
   "source": [
    "%load_ext line_profiler"
   ]
  },
  {
   "cell_type": "code",
   "execution_count": 43,
   "metadata": {},
   "outputs": [
    {
     "name": "stdout",
     "output_type": "stream",
     "text": [
      "32.05396628379822\n"
     ]
    }
   ],
   "source": [
    "%lprun -f train train()"
   ]
  },
  {
   "cell_type": "code",
   "execution_count": null,
   "metadata": {},
   "outputs": [],
   "source": [
    "datasets"
   ]
  },
  {
   "cell_type": "code",
   "execution_count": 17,
   "metadata": {},
   "outputs": [
    {
     "data": {
      "image/png": "[encoded data removed]",
      "text/plain": [
       "<Figure size 432x288 with 1 Axes>"
      ]
     },
     "metadata": {
      "needs_background": "light"
     },
     "output_type": "display_data"
    }
   ],
   "source": [
    "plt.plot(hist['loss'], label='loss')\n",
    "plt.plot(hist['acc'], label='acc', color='red')\n",
    "plt.legend();"
   ]
  },
  {
   "cell_type": "code",
   "execution_count": null,
   "metadata": {},
   "outputs": [],
   "source": []
  }
 ],
 "metadata": {
  "kernelspec": {
   "display_name": "Python 3",
   "language": "python",
   "name": "python3"
  },
  "language_info": {
   "codemirror_mode": {
    "name": "ipython",
    "version": 3
   },
   "file_extension": ".py",
   "mimetype": "text/x-python",
   "name": "python",
   "nbconvert_exporter": "python",
   "pygments_lexer": "ipython3",
   "version": "3.7.1"
  }
 },
 "nbformat": 4,
 "nbformat_minor": 2
}
