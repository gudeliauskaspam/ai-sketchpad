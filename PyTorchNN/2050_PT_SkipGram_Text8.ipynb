{
 "cells": [
  {
   "cell_type": "markdown",
   "metadata": {},
   "source": [
    "# Introduction"
   ]
  },
  {
   "cell_type": "markdown",
   "metadata": {},
   "source": [
    "This notebook presents a method to train embedding layer using __Word2Vec Skip-Gram__ method on __Wikipedia text8__ dataset.\n",
    "\n",
    "We are going to work with [text8](http://mattmahoney.net/dc/textdata) dataset. It is 100MB of cleaned English Wikipedia text. $\\text{10MB} = 10^8$ hence text8\n",
    "\n",
    "__Dataset:__\n",
    "* [Large Text Compression Benchmark - About the test data](http://mattmahoney.net/dc/textdata) - download file named [text8.zip](http://mattmahoney.net/dc/text8.zip) and unzip it.\n",
    "\n",
    "__References:__\n",
    "* [Word2Vec Tutorial - The Skip-Gram Model](http://mccormickml.com/2016/04/19/word2vec-tutorial-the-skip-gram-model/) - plain English tutorial on Skip-Grams\n",
    "* [Efficient Estimation of Word Representations in Vector Space](https://arxiv.org/abs/1301.3781) - first skip-gram paper\n",
    "* [Distributed Representations of Words and Phrases and their Compositionality](https://arxiv.org/abs/1310.4546) - follow up paper with improvements"
   ]
  },
  {
   "cell_type": "markdown",
   "metadata": {},
   "source": [
    "# Imports"
   ]
  },
  {
   "cell_type": "code",
   "execution_count": 1,
   "metadata": {},
   "outputs": [],
   "source": [
    "import time\n",
    "import math\n",
    "import collections\n",
    "import numpy as np\n",
    "import matplotlib.pyplot as plt"
   ]
  },
  {
   "cell_type": "code",
   "execution_count": 2,
   "metadata": {},
   "outputs": [],
   "source": [
    "import torch\n",
    "import torch.nn as nn\n",
    "import torch.optim as optim\n",
    "import torch.nn.functional as F"
   ]
  },
  {
   "cell_type": "code",
   "execution_count": 3,
   "metadata": {},
   "outputs": [],
   "source": [
    "device = torch.device(\"cuda:0\" if torch.cuda.is_available() else \"cpu\")"
   ]
  },
  {
   "cell_type": "markdown",
   "metadata": {},
   "source": [
    "# Read Data"
   ]
  },
  {
   "cell_type": "markdown",
   "metadata": {},
   "source": [
    "Dataset location"
   ]
  },
  {
   "cell_type": "code",
   "execution_count": 4,
   "metadata": {},
   "outputs": [],
   "source": [
    "dataset_location = '/home/marcin/Datasets/wiki-text8/text8'"
   ]
  },
  {
   "cell_type": "code",
   "execution_count": 5,
   "metadata": {},
   "outputs": [
    {
     "name": "stdout",
     "output_type": "stream",
     "text": [
      " anarchism originated as a term of abuse first used against early working class radicals including the diggers of the english revolution and the sans culottes of the french revolution whilst the term is still used in a pejorative way to describe any act that used violent means to destroy the organization of society it has also been taken up as a positive label by self defined anarchists the word anarchism is derived from the greek without archons ruler chief king anarchism as a political philoso\n"
     ]
    }
   ],
   "source": [
    "with open(dataset_location, 'r') as f:\n",
    "    text = f.read()\n",
    "print(text[:500])"
   ]
  },
  {
   "cell_type": "markdown",
   "metadata": {},
   "source": [
    "Dataset is cleaned, it contains only lowercase letters and spaces"
   ]
  },
  {
   "cell_type": "code",
   "execution_count": 6,
   "metadata": {},
   "outputs": [
    {
     "name": "stdout",
     "output_type": "stream",
     "text": [
      "[' ', 'a', 'b', 'c', 'd', 'e', 'f', 'g', 'h', 'i', 'j', 'k', 'l', 'm', 'n', 'o', 'p', 'q', 'r', 's', 't', 'u', 'v', 'w', 'x', 'y', 'z']\n"
     ]
    }
   ],
   "source": [
    "print(sorted(set(text)))"
   ]
  },
  {
   "cell_type": "code",
   "execution_count": 7,
   "metadata": {},
   "outputs": [
    {
     "name": "stdout",
     "output_type": "stream",
     "text": [
      "['anarchism', 'originated', 'as', 'a', 'term', 'of', 'abuse', 'first', 'used', 'against', 'early', 'working', 'class', 'radicals', 'including', 'the', 'diggers', 'of', 'the', 'english']\n"
     ]
    }
   ],
   "source": [
    "words_raw = text.split()\n",
    "print(words_raw[:20])"
   ]
  },
  {
   "cell_type": "code",
   "execution_count": 8,
   "metadata": {},
   "outputs": [
    {
     "name": "stdout",
     "output_type": "stream",
     "text": [
      "Total words: 17005207\n",
      "Unique words: 253854\n"
     ]
    }
   ],
   "source": [
    "print('Total words:', len(words_raw))\n",
    "print('Unique words:', len(set(words_raw)))"
   ]
  },
  {
   "cell_type": "markdown",
   "metadata": {},
   "source": [
    "# Preprocess the Data"
   ]
  },
  {
   "cell_type": "markdown",
   "metadata": {},
   "source": [
    "First we will look at word-count distribution"
   ]
  },
  {
   "cell_type": "code",
   "execution_count": 9,
   "metadata": {},
   "outputs": [
    {
     "name": "stdout",
     "output_type": "stream",
     "text": [
      "WORD : COUNT\n",
      "anarchism : 303\n",
      "originated : 572\n",
      "as : 131815\n",
      "a : 325873\n",
      "term : 7219\n",
      "of : 593677\n",
      "abuse : 563\n",
      "first : 28810\n",
      "used : 22737\n",
      "against : 8432\n"
     ]
    }
   ],
   "source": [
    "words_counter = collections.Counter(words_raw)\n",
    "print('WORD : COUNT')\n",
    "for w in list(words_counter)[:10]:\n",
    "    print(w, ':', words_counter[w])"
   ]
  },
  {
   "cell_type": "markdown",
   "metadata": {},
   "source": [
    "Lets plot word-counts on linear and logarithmic scales"
   ]
  },
  {
   "cell_type": "code",
   "execution_count": 10,
   "metadata": {},
   "outputs": [
    {
     "data": {
      "image/png": "[encoded data removed]",
      "text/plain": [
       "<Figure size 1152x432 with 2 Axes>"
      ]
     },
     "metadata": {
      "needs_background": "light"
     },
     "output_type": "display_data"
    }
   ],
   "source": [
    "sorted_all = np.array(sorted(list(words_counter.values()), reverse=True))\n",
    "fig, [ax1, ax2] = plt.subplots(1, 2, figsize=[16,6])\n",
    "ax1.plot(sorted_all); ax1.set_title('Word Counts (linear scale)')\n",
    "ax2.plot(sorted_all); ax2.set_title('Word Counts (log scale)')\n",
    "ax2.set_yscale('log')"
   ]
  },
  {
   "cell_type": "markdown",
   "metadata": {},
   "source": [
    "This is extremely sharp distribution. Some words appear over 1 million times, while over 100k words appear only once."
   ]
  },
  {
   "cell_type": "markdown",
   "metadata": {},
   "source": [
    "**Common Words**"
   ]
  },
  {
   "cell_type": "markdown",
   "metadata": {},
   "source": [
    "Lets have a look at the most common words."
   ]
  },
  {
   "cell_type": "code",
   "execution_count": 11,
   "metadata": {},
   "outputs": [
    {
     "data": {
      "text/plain": [
       "[('the', 1061396),\n",
       " ('of', 593677),\n",
       " ('and', 416629),\n",
       " ('one', 411764),\n",
       " ('in', 372201),\n",
       " ('a', 325873),\n",
       " ('to', 316376),\n",
       " ('zero', 264975),\n",
       " ('nine', 250430),\n",
       " ('two', 192644)]"
      ]
     },
     "execution_count": 11,
     "metadata": {},
     "output_type": "execute_result"
    }
   ],
   "source": [
    "words_counter.most_common()[:10]"
   ]
  },
  {
   "cell_type": "markdown",
   "metadata": {},
   "source": [
    "We will deal with this later on using _subsampling_ as described by Mikolov."
   ]
  },
  {
   "cell_type": "markdown",
   "metadata": {},
   "source": [
    "**Rare Words**"
   ]
  },
  {
   "cell_type": "markdown",
   "metadata": {},
   "source": [
    "Lets look at some of of the uncommon words"
   ]
  },
  {
   "cell_type": "code",
   "execution_count": 12,
   "metadata": {},
   "outputs": [
    {
     "data": {
      "text/plain": [
       "[('kajn', 1),\n",
       " ('gorbacheva', 1),\n",
       " ('mikhailgorbachev', 1),\n",
       " ('englander', 1),\n",
       " ('workmans', 1),\n",
       " ('erniest', 1),\n",
       " ('metzada', 1),\n",
       " ('metzuda', 1),\n",
       " ('fretensis', 1),\n",
       " ('exortation', 1)]"
      ]
     },
     "execution_count": 12,
     "metadata": {},
     "output_type": "execute_result"
    }
   ],
   "source": [
    "words_counter.most_common()[-10:]"
   ]
  },
  {
   "cell_type": "markdown",
   "metadata": {},
   "source": [
    "Words like 'metzanda' or 'metzunda' are so rare (first ever time I see these) we are not concerned about them when building our NLP system. We will subsequently drop all words that 5 or less times."
   ]
  },
  {
   "cell_type": "markdown",
   "metadata": {},
   "source": [
    "**Create dictionaries**"
   ]
  },
  {
   "cell_type": "markdown",
   "metadata": {},
   "source": [
    "Tokenize words, but keep only ones that occur six or more times"
   ]
  },
  {
   "cell_type": "code",
   "execution_count": 15,
   "metadata": {},
   "outputs": [
    {
     "name": "stdout",
     "output_type": "stream",
     "text": [
      "Number of words after filter: 63641\n"
     ]
    }
   ],
   "source": [
    "i2w = {i : w for i, (w, c) in enumerate(words_counter.most_common()) if c > 5}\n",
    "w2i = {w : i for i, w in i2w.items()}\n",
    "print('Number of words after filter:', len(i2w))"
   ]
  },
  {
   "cell_type": "markdown",
   "metadata": {},
   "source": [
    "Confirm both dictionaries check"
   ]
  },
  {
   "cell_type": "code",
   "execution_count": 16,
   "metadata": {},
   "outputs": [
    {
     "name": "stdout",
     "output_type": "stream",
     "text": [
      "0 : the : 0\n",
      "1 : of : 1\n",
      "2 : and : 2\n",
      "3 : one : 3\n",
      "4 : in : 4\n",
      "5 : a : 5\n",
      "6 : to : 6\n",
      "7 : zero : 7\n",
      "8 : nine : 8\n",
      "9 : two : 9\n"
     ]
    }
   ],
   "source": [
    "for i in range(10):\n",
    "    word = i2w[i]\n",
    "    print(i, ':', word, ':', w2i[word])"
   ]
  },
  {
   "cell_type": "markdown",
   "metadata": {},
   "source": [
    "**Tokenize**"
   ]
  },
  {
   "cell_type": "code",
   "execution_count": 17,
   "metadata": {},
   "outputs": [
    {
     "name": "stdout",
     "output_type": "stream",
     "text": [
      "Number of words after removing uncommon: 16680599\n"
     ]
    }
   ],
   "source": [
    "words_tok = [w2i[w] for w in words_raw if w in w2i]\n",
    "print('Number of words after removing uncommon:', len(words_tok))"
   ]
  },
  {
   "cell_type": "markdown",
   "metadata": {},
   "source": [
    "This is our text, with uncommon words removed and converted to tokens:"
   ]
  },
  {
   "cell_type": "code",
   "execution_count": 18,
   "metadata": {},
   "outputs": [
    {
     "name": "stdout",
     "output_type": "stream",
     "text": [
      "[5233, 3080, 11, 5, 194, 1, 3133, 45, 58, 155, 127, 741, 476, 10571, 133, 0, 27349, 1, 0, 102, 854, 2, 0, 15067, 58112, 1, 0, 150, 854, 3580, 0, 194, 10, 190, 58, 4, 5, 10712, 214, 6, 1324, 104, 454, 19, 58, 2731, 362, 6, 3672, 0, 708, 1, 371, 26, 40, 36, 53, 539, 97, 11, 5, 1423, 2757, 18, 567, 686, 7088, 0, 247, 5233, 10, 1052, 27, 0, 320, 248, 44611, 2877, 792, 186, 5233, 11, 5, 200, 602, 10, 0, 1134, 19, 2621, 25, 8983, 2, 279, 31, 4147, 141, 59, 25, 6437]\n"
     ]
    }
   ],
   "source": [
    "print(words_tok[:100])"
   ]
  },
  {
   "cell_type": "markdown",
   "metadata": {},
   "source": [
    "**Subsampling**"
   ]
  },
  {
   "cell_type": "markdown",
   "metadata": {},
   "source": [
    "Equation from the paper, where $P(w_i)$ is probability to _drop_ certain word, $f(w_i)$ is a frequency and $t$ is a parameter"
   ]
  },
  {
   "cell_type": "markdown",
   "metadata": {},
   "source": [
    "$$ P(w_i) = 1 - \\sqrt{\\frac{t}{f(w_i)}} $$"
   ]
  },
  {
   "cell_type": "markdown",
   "metadata": {},
   "source": [
    "Calculate probabilities"
   ]
  },
  {
   "cell_type": "code",
   "execution_count": 19,
   "metadata": {},
   "outputs": [],
   "source": [
    "threshold = 1e-5\n",
    "\n",
    "tokens_counter = collections.Counter(words_tok)    # token : num_occurances\n",
    "\n",
    "prob_drop = {}\n",
    "for tok, count in tokens_counter.items():\n",
    "    word_freq = count / len(words_tok)\n",
    "    prob_drop[tok] = 1 - math.sqrt(threshold / word_freq)"
   ]
  },
  {
   "cell_type": "markdown",
   "metadata": {},
   "source": [
    "Print probabilities for some words, note that for frequent words like 'the' drop probability is quite high while for uncommon words it is actually negative (meaning don't ever drop)"
   ]
  },
  {
   "cell_type": "code",
   "execution_count": 20,
   "metadata": {},
   "outputs": [
    {
     "name": "stdout",
     "output_type": "stream",
     "text": [
      "word        occurances     p_drop\n",
      "the            1061396      0.99\n",
      "at               54576      0.94\n",
      "dog                958      0.58\n",
      "cat                692      0.51\n",
      "extravagant         51     -0.81\n",
      "sustaining          49     -0.85\n"
     ]
    }
   ],
   "source": [
    "print('word        occurances     p_drop')\n",
    "for word in ['the', 'at', 'dog', 'cat', 'extravagant', 'sustaining']:\n",
    "    token = w2i[word]\n",
    "    print(f'{word:11}    '\n",
    "          f'{tokens_counter[token]:7}     '\n",
    "          f'{prob_drop[token]: .2f}')"
   ]
  },
  {
   "cell_type": "markdown",
   "metadata": {},
   "source": [
    "Drop words according to probability (we could do this on per-batch basis)"
   ]
  },
  {
   "cell_type": "code",
   "execution_count": 21,
   "metadata": {},
   "outputs": [],
   "source": [
    "words_fin = [tok for tok in words_tok if np.random.rand() > prob_drop[tok] ]"
   ]
  },
  {
   "cell_type": "markdown",
   "metadata": {},
   "source": [
    "**Generate Training Dataset**"
   ]
  },
  {
   "cell_type": "markdown",
   "metadata": {},
   "source": [
    "<img src=\"assets/skipgram_batches.png\" />"
   ]
  },
  {
   "cell_type": "markdown",
   "metadata": {},
   "source": [
    "For each word sample the surrounding _context_ of $R$ words on each side. To reflect the fact that more distant words are less relevant we pick $R$ as a random integer in range $[1:\\text{max_window}]$ This could also be done on per-batch basis"
   ]
  },
  {
   "cell_type": "code",
   "execution_count": 22,
   "metadata": {},
   "outputs": [],
   "source": [
    "max_window = 5\n",
    "\n",
    "data_x, data_y = [], []\n",
    "\n",
    "for i, tok in enumerate(words_fin):\n",
    "    R = np.random.randint(1, max_window+1)\n",
    "    start = max(i - R, 0)\n",
    "    stop = i + R\n",
    "    targets = words_fin[start:i] + words_fin[i+1:stop+1]\n",
    "    \n",
    "    data_x.extend([tok] * len(targets))\n",
    "    data_y.extend(targets)    "
   ]
  },
  {
   "cell_type": "markdown",
   "metadata": {},
   "source": [
    "Show sample data"
   ]
  },
  {
   "cell_type": "code",
   "execution_count": 23,
   "metadata": {},
   "outputs": [
    {
     "name": "stdout",
     "output_type": "stream",
     "text": [
      "Original: [5233, 3080, 741, 10571, 133, 27349, 2, 15067, 58112, 854]\n",
      "Inputs:  [5233, 5233, 5233, 5233, 3080, 3080, 3080, 741, 741, 10571]\n",
      "Targets: [3080, 741, 10571, 133, 5233, 741, 10571, 3080, 10571, 5233]\n"
     ]
    }
   ],
   "source": [
    "print('Original:', words_fin[:10])\n",
    "print('Inputs: ', data_x[:10])\n",
    "print('Targets:', data_y[:10])"
   ]
  },
  {
   "cell_type": "markdown",
   "metadata": {},
   "source": [
    "Convert to tensors"
   ]
  },
  {
   "cell_type": "code",
   "execution_count": 24,
   "metadata": {},
   "outputs": [],
   "source": [
    "train_x = torch.tensor(data_x).to(device)\n",
    "train_y = torch.tensor(data_y).to(device)"
   ]
  },
  {
   "cell_type": "markdown",
   "metadata": {},
   "source": [
    "# Skip-Gram Model"
   ]
  },
  {
   "cell_type": "code",
   "execution_count": 31,
   "metadata": {},
   "outputs": [],
   "source": [
    "class SkipGram(nn.Module):\n",
    "    def __init__(self, n_vocab, n_embed):\n",
    "        super(SkipGram, self).__init__()\n",
    "        self.embed = nn.Embedding(num_embeddings=n_vocab, embedding_dim=n_embed)\n",
    "        self.fc = nn.Linear(n_embed, n_vocab)\n",
    "        \n",
    "    def forward(self, x):\n",
    "        x = self.embed(x)\n",
    "        return self.fc(x)"
   ]
  },
  {
   "cell_type": "code",
   "execution_count": 32,
   "metadata": {},
   "outputs": [],
   "source": [
    "n_vocab = len(w2i)  # size of vocabulary\n",
    "n_embed = 300       # size of embedding dimension"
   ]
  },
  {
   "cell_type": "code",
   "execution_count": 33,
   "metadata": {},
   "outputs": [],
   "source": [
    "model = SkipGram(n_vocab, n_embed)\n",
    "model.to(device)\n",
    "criterion = nn.CrossEntropyLoss()\n",
    "optimizer = optim.Adam(model.parameters(), lr=0.003)"
   ]
  },
  {
   "cell_type": "code",
   "execution_count": 34,
   "metadata": {},
   "outputs": [],
   "source": [
    "def get_most_similar(model, test_words, topk):\n",
    "    result = {}\n",
    "    with torch.no_grad():\n",
    "        for word in test_words:\n",
    "            tok = w2i[word]\n",
    "            x = torch.tensor([tok]).to(device)\n",
    "            x_embed = model.embed(x)\n",
    "            cos_sim = F.cosine_similarity(x_embed, model.embed.weight)\n",
    "            _, indices = cos_sim.topk(topk+1)  # +1 because self is always most similar\n",
    "            similar_words = [i2w[tok.item()] for tok in indices]\n",
    "            result[word] = similar_words[1:]\n",
    "        \n",
    "    return result"
   ]
  },
  {
   "cell_type": "code",
   "execution_count": 35,
   "metadata": {
    "scrolled": false
   },
   "outputs": [
    {
     "name": "stdout",
     "output_type": "stream",
     "text": [
      "Epoch:   0 (0%)     Loss: 11.2223     Time: 0.13s\n",
      "king  : breakbeat devotions sv defends inserting\n",
      "rock  : sociologist hypnotists fita contained octahedral\n",
      "dog   : unclassified byng meridian midrashim laos\n",
      "jump  : twice mickiewicz torturing intermarriage utmost\n",
      "five  : stott bestiaries pirenne reinforcement iquique\n",
      "http  : magnetospheric fluctuates mekhilta aggressors ductile\n",
      "----------\n",
      "Epoch:   0 (1%)     Loss: 10.9685     Time: 12.20s\n",
      "king  : breakbeat devotions sv defends inserting\n",
      "rock  : sociologist hypnotists fita contained octahedral\n",
      "dog   : unclassified byng laos meridian dubnium\n",
      "jump  : twice mickiewicz torturing utmost intermarriage\n",
      "five  : stott bestiaries pirenne faction reinforcement\n",
      "http  : fluctuates magnetospheric aggressors mekhilta ductile\n",
      "----------\n",
      "Epoch:   0 (2%)     Loss: 11.0106     Time: 12.13s\n",
      "king  : breakbeat inserting sv defends crumpled\n",
      "rock  : sociologist hypnotists contained fita octahedral\n",
      "dog   : unclassified byng laos meridian dubnium\n",
      "jump  : twice mickiewicz utmost torturing intermarriage\n",
      "five  : stott bestiaries pirenne faction reinforcement\n",
      "http  : fluctuates magnetospheric mekhilta aggressors barbarossa\n",
      "----------\n",
      "Epoch:   0 (3%)     Loss: 10.4936     Time: 12.20s\n",
      "king  : breakbeat devotions sv defends inserting\n",
      "rock  : sociologist hypnotists fita contained octahedral\n",
      "dog   : unclassified byng laos dubnium meridian\n",
      "jump  : twice mickiewicz utmost torturing intermarriage\n",
      "five  : stott bestiaries faction pirenne reinforcement\n",
      "http  : fluctuates magnetospheric barbarossa aggressors mekhilta\n",
      "----------\n",
      "Epoch:   0 (4%)     Loss: 10.7373     Time: 13.03s\n",
      "king  : breakbeat sv devotions inserting defends\n",
      "rock  : hypnotists sociologist fita octahedral contained\n",
      "dog   : unclassified byng laos meridian dubnium\n",
      "jump  : twice mickiewicz utmost torturing intermarriage\n",
      "five  : stott bestiaries faction pirenne reinforcement\n",
      "http  : fluctuates magnetospheric barbarossa aggressors mekhilta\n",
      "----------\n",
      "Epoch:   0 (6%)     Loss: 10.8086     Time: 13.15s\n",
      "king  : breakbeat devotions cushions defends sv\n",
      "rock  : hypnotists sociologist fita contained octahedral\n",
      "dog   : unclassified byng meridian dubnium padre\n",
      "jump  : twice mickiewicz utmost torturing intermarriage\n",
      "five  : stott bestiaries faction affluent preservation\n",
      "http  : fluctuates magnetospheric barbarossa ductile mekhilta\n",
      "----------\n",
      "Epoch:   0 (7%)     Loss: 10.5008     Time: 13.05s\n",
      "king  : breakbeat devotions obituary sv navarro\n",
      "rock  : hypnotists sociologist fita contained octahedral\n",
      "dog   : unclassified byng meridian padre dubnium\n",
      "jump  : twice mickiewicz utmost intermarriage torturing\n",
      "five  : stott faction bestiaries affluent preservation\n",
      "http  : fluctuates magnetospheric mekhilta ductile barbarossa\n",
      "----------\n",
      "Epoch:   0 (8%)     Loss: 10.4753     Time: 12.98s\n",
      "king  : breakbeat devotions sv obituary cushions\n",
      "rock  : sociologist hypnotists fita contained octahedral\n",
      "dog   : unclassified byng meridian padre dubnium\n",
      "jump  : twice mickiewicz utmost intermarriage torturing\n",
      "five  : stott faction bestiaries affluent preservation\n",
      "http  : fluctuates magnetospheric ductile mekhilta barbarossa\n",
      "----------\n",
      "Epoch:   0 (9%)     Loss: 10.5241     Time: 13.03s\n",
      "king  : breakbeat devotions cushions obituary sv\n",
      "rock  : sociologist hypnotists fita octahedral contained\n",
      "dog   : unclassified byng meridian laos dubnium\n",
      "jump  : twice mickiewicz utmost intermarriage torturing\n",
      "five  : stott faction bestiaries frontline affluent\n",
      "http  : fluctuates magnetospheric ductile mekhilta barbarossa\n",
      "----------\n",
      "Epoch:   0 (10%)     Loss: 10.7246     Time: 13.02s\n",
      "king  : breakbeat devotions obituary cushions sv\n",
      "rock  : hypnotists fita sociologist octahedral contained\n",
      "dog   : unclassified byng meridian laos dubnium\n",
      "jump  : twice mickiewicz utmost intermarriage torturing\n",
      "five  : stott faction bestiaries affluent frontline\n",
      "http  : fluctuates magnetospheric ductile barbarossa mekhilta\n",
      "----------\n",
      "Epoch:   0 (11%)     Loss: 10.3479     Time: 13.04s\n",
      "king  : breakbeat obituary navarro devotions sv\n",
      "rock  : sociologist hypnotists fita octahedral contained\n",
      "dog   : unclassified byng meridian laos dubnium\n",
      "jump  : twice mickiewicz utmost intermarriage torturing\n",
      "five  : stott faction bestiaries hike affluent\n",
      "http  : fluctuates magnetospheric ductile barbarossa mekhilta\n",
      "----------\n",
      "Epoch:   0 (12%)     Loss: 10.5709     Time: 13.03s\n",
      "king  : breakbeat obituary navarro sv devotions\n",
      "rock  : sociologist hypnotists fita octahedral contained\n",
      "dog   : unclassified byng midrashim dubnium laos\n",
      "jump  : twice mickiewicz utmost torturing intermarriage\n",
      "five  : stott faction bestiaries hike frontline\n",
      "http  : fluctuates magnetospheric ductile barbarossa aggressors\n",
      "----------\n",
      "Epoch:   0 (13%)     Loss: 10.6129     Time: 13.04s\n",
      "king  : breakbeat obituary devotions cushions navarro\n",
      "rock  : sociologist fita hypnotists octahedral contained\n",
      "dog   : unclassified byng midrashim dubnium meridian\n",
      "jump  : twice utmost mickiewicz intermarriage torturing\n",
      "five  : stott faction bestiaries hike frontline\n",
      "http  : fluctuates magnetospheric ductile barbarossa aggressors\n",
      "----------\n",
      "Epoch:   0 (14%)     Loss: 10.1539     Time: 13.04s\n",
      "king  : breakbeat cushions obituary navarro devotions\n",
      "rock  : sociologist fita octahedral hypnotists contained\n",
      "dog   : unclassified byng meridian midrashim dubnium\n",
      "jump  : twice mickiewicz utmost intermarriage torturing\n",
      "five  : stott faction hike preservation bestiaries\n",
      "http  : fluctuates magnetospheric ductile barbarossa aggressors\n",
      "----------\n",
      "Epoch:   0 (15%)     Loss: 10.2195     Time: 13.08s\n",
      "king  : breakbeat cushions navarro obituary devotions\n",
      "rock  : sociologist octahedral fita hypnotists contained\n",
      "dog   : unclassified byng meridian midrashim dubnium\n",
      "jump  : twice mickiewicz utmost intermarriage torturing\n",
      "five  : stott faction hike bestiaries affluent\n",
      "http  : fluctuates magnetospheric ductile barbarossa aggressors\n",
      "----------\n",
      "Epoch:   0 (17%)     Loss: 11.3025     Time: 13.05s\n",
      "king  : breakbeat cushions obituary navarro devotions\n",
      "rock  : octahedral sociologist fita hypnotists contained\n",
      "dog   : unclassified byng meridian dubnium midrashim\n",
      "jump  : twice mickiewicz utmost intermarriage torturing\n",
      "five  : stott faction hike bestiaries affluent\n",
      "http  : fluctuates magnetospheric ductile barbarossa aggressors\n",
      "----------\n",
      "Epoch:   0 (18%)     Loss: 10.6344     Time: 13.03s\n",
      "king  : breakbeat cushions obituary devotions defends\n",
      "rock  : octahedral sociologist fita hypnotists contained\n",
      "dog   : unclassified byng meridian midrashim laos\n",
      "jump  : twice mickiewicz utmost intermarriage torturing\n",
      "five  : stott faction hike iquique affluent\n",
      "http  : fluctuates magnetospheric ductile barbarossa aggressors\n",
      "----------\n",
      "Epoch:   0 (19%)     Loss: 10.4506     Time: 13.03s\n",
      "king  : breakbeat cushions obituary navarro devotions\n",
      "rock  : octahedral sociologist fita hypnotists contained\n",
      "dog   : unclassified byng meridian midrashim dubnium\n",
      "jump  : twice mickiewicz utmost intermarriage torturing\n",
      "five  : stott faction hike frontline iquique\n",
      "http  : fluctuates magnetospheric barbarossa ductile aggressors\n",
      "----------\n",
      "Epoch:   0 (20%)     Loss: 10.7135     Time: 13.10s\n",
      "king  : breakbeat cushions devotions navarro obituary\n",
      "rock  : octahedral fita sociologist hypnotists contained\n",
      "dog   : unclassified byng meridian midrashim dubnium\n",
      "jump  : twice mickiewicz utmost torturing intermarriage\n",
      "five  : stott faction iquique hike affluent\n",
      "http  : fluctuates magnetospheric ductile barbarossa aggressors\n",
      "----------\n",
      "Epoch:   0 (21%)     Loss: 10.5298     Time: 12.99s\n",
      "king  : breakbeat cushions navarro defends devotions\n",
      "rock  : octahedral fita sociologist hypnotists contained\n",
      "dog   : unclassified byng meridian midrashim dubnium\n",
      "jump  : twice mickiewicz utmost torturing intermarriage\n",
      "five  : stott faction hike iquique affluent\n",
      "http  : fluctuates magnetospheric ductile barbarossa aggressors\n",
      "----------\n",
      "Epoch:   0 (22%)     Loss: 10.3797     Time: 13.04s\n",
      "king  : breakbeat cushions navarro defends devotions\n",
      "rock  : octahedral fita sociologist hypnotists contained\n",
      "dog   : unclassified byng meridian midrashim dubnium\n",
      "jump  : twice utmost mickiewicz torturing intermarriage\n",
      "five  : stott faction bestiaries affluent hike\n",
      "http  : fluctuates magnetospheric ductile slayton barbarossa\n",
      "----------\n"
     ]
    },
    {
     "name": "stdout",
     "output_type": "stream",
     "text": [
      "Epoch:   0 (23%)     Loss: 10.3056     Time: 13.06s\n",
      "king  : cushions breakbeat navarro defends devotions\n",
      "rock  : octahedral fita sociologist hypnotists contained\n",
      "dog   : byng unclassified meridian midrashim dubnium\n",
      "jump  : twice utmost mickiewicz torturing intermarriage\n",
      "five  : stott faction bestiaries hike affluent\n",
      "http  : fluctuates magnetospheric ductile barbarossa slayton\n",
      "----------\n",
      "Epoch:   0 (24%)     Loss: 9.9083     Time: 13.04s\n",
      "king  : cushions breakbeat navarro devotions obituary\n",
      "rock  : octahedral fita sociologist hypnotists contained\n",
      "dog   : byng unclassified meridian midrashim dubnium\n",
      "jump  : twice utmost mickiewicz torturing intermarriage\n",
      "five  : stott faction hike bestiaries affluent\n",
      "http  : fluctuates magnetospheric ductile by barbarossa\n",
      "----------\n",
      "Epoch:   0 (25%)     Loss: 10.3970     Time: 13.00s\n",
      "king  : cushions breakbeat navarro defends devotions\n",
      "rock  : octahedral sociologist fita hypnotists contained\n",
      "dog   : byng unclassified meridian midrashim dubnium\n",
      "jump  : twice utmost mickiewicz torturing intermarriage\n",
      "five  : stott faction iquique aelia frontline\n",
      "http  : fluctuates magnetospheric by aggressors mekhilta\n",
      "----------\n",
      "Epoch:   0 (27%)     Loss: 10.8339     Time: 12.99s\n",
      "king  : cushions breakbeat navarro devotions defends\n",
      "rock  : octahedral sociologist fita hypnotists contained\n",
      "dog   : byng unclassified meridian midrashim dubnium\n",
      "jump  : twice utmost mickiewicz torturing intermarriage\n",
      "five  : stott faction iquique aelia chilean\n",
      "http  : fluctuates magnetospheric by barbarossa slayton\n",
      "----------\n",
      "Epoch:   0 (28%)     Loss: 10.7849     Time: 12.99s\n",
      "king  : cushions breakbeat navarro devotions defends\n",
      "rock  : octahedral fita sociologist hypnotists contained\n",
      "dog   : byng unclassified meridian midrashim dubnium\n",
      "jump  : twice utmost mickiewicz torturing intermarriage\n",
      "five  : stott faction iquique hike aelia\n",
      "http  : fluctuates magnetospheric by barbarossa slayton\n",
      "----------\n",
      "Epoch:   0 (29%)     Loss: 10.6845     Time: 13.06s\n",
      "king  : cushions breakbeat navarro devotions obituary\n",
      "rock  : octahedral fita sociologist hypnotists contained\n",
      "dog   : byng unclassified meridian midrashim dubnium\n",
      "jump  : twice utmost mickiewicz torturing intermarriage\n",
      "five  : stott faction hike iquique frontline\n",
      "http  : fluctuates magnetospheric by slayton aggressors\n",
      "----------\n",
      "Epoch:   0 (30%)     Loss: 10.7814     Time: 13.01s\n",
      "king  : cushions breakbeat navarro devotions defends\n",
      "rock  : octahedral fita sociologist hypnotists contained\n",
      "dog   : byng unclassified meridian midrashim dubnium\n",
      "jump  : twice utmost mickiewicz torturing intermarriage\n",
      "five  : stott faction iquique aelia affluent\n",
      "http  : fluctuates magnetospheric by slayton barbarossa\n",
      "----------\n",
      "Epoch:   0 (31%)     Loss: 10.6334     Time: 13.02s\n",
      "king  : cushions breakbeat navarro devotions obituary\n",
      "rock  : octahedral fita sociologist contained hypnotists\n",
      "dog   : byng unclassified meridian dubnium midrashim\n",
      "jump  : twice utmost mickiewicz torturing boasts\n",
      "five  : stott faction iquique hike gallen\n",
      "http  : fluctuates magnetospheric barbarossa aggressors slayton\n",
      "----------\n",
      "Epoch:   0 (32%)     Loss: 10.0962     Time: 13.03s\n",
      "king  : cushions breakbeat navarro devotions obituary\n",
      "rock  : octahedral fita sociologist contained hypnotists\n",
      "dog   : byng unclassified meridian dubnium midrashim\n",
      "jump  : twice utmost mickiewicz torturing boasts\n",
      "five  : stott faction gallen hike iquique\n",
      "http  : fluctuates magnetospheric barbarossa aggressors slayton\n",
      "----------\n",
      "Epoch:   0 (33%)     Loss: 10.1201     Time: 12.99s\n",
      "king  : cushions breakbeat navarro obituary devotions\n",
      "rock  : octahedral fita sociologist contained hypnotists\n",
      "dog   : byng unclassified meridian dubnium cows\n",
      "jump  : twice utmost mickiewicz torturing boasts\n",
      "five  : stott faction frontline affluent iquique\n",
      "http  : fluctuates magnetospheric barbarossa by aggressors\n",
      "----------\n",
      "Epoch:   0 (34%)     Loss: 10.5759     Time: 13.06s\n",
      "king  : cushions breakbeat navarro obituary devotions\n",
      "rock  : octahedral fita sociologist contained hypnotists\n",
      "dog   : byng unclassified meridian dubnium cows\n",
      "jump  : twice utmost mickiewicz torturing bacterium\n",
      "five  : stott faction iquique frontline affluent\n",
      "http  : fluctuates magnetospheric barbarossa aggressors slayton\n",
      "----------\n",
      "Epoch:   0 (35%)     Loss: 10.6580     Time: 13.07s\n",
      "king  : cushions breakbeat navarro obituary devotions\n",
      "rock  : octahedral fita sociologist contained hypnotists\n",
      "dog   : byng unclassified meridian dubnium cows\n",
      "jump  : twice utmost mickiewicz torturing bacterium\n",
      "five  : stott faction iquique affluent aelia\n",
      "http  : fluctuates magnetospheric aggressors uprooted slayton\n",
      "----------\n",
      "Epoch:   0 (37%)     Loss: 9.4880     Time: 13.01s\n",
      "king  : cushions breakbeat navarro obituary devotions\n",
      "rock  : octahedral fita sociologist contained hypnotists\n",
      "dog   : byng unclassified meridian dubnium cows\n",
      "jump  : twice utmost mickiewicz torturing intermarriage\n",
      "five  : stott faction iquique aelia affluent\n",
      "http  : magnetospheric fluctuates aggressors uprooted slayton\n",
      "----------\n",
      "Epoch:   0 (38%)     Loss: 10.9283     Time: 12.98s\n",
      "king  : cushions breakbeat navarro obituary maddox\n",
      "rock  : octahedral fita sociologist contained hypnotists\n",
      "dog   : byng unclassified cows meridian outraged\n",
      "jump  : twice mickiewicz utmost torturing intermarriage\n",
      "five  : stott faction two iquique affluent\n",
      "http  : fluctuates magnetospheric by uprooted aggressors\n",
      "----------\n",
      "Epoch:   0 (39%)     Loss: 10.3218     Time: 12.99s\n",
      "king  : cushions breakbeat navarro maddox obituary\n",
      "rock  : octahedral fita sociologist contained hypnotists\n",
      "dog   : byng unclassified cows outraged meridian\n",
      "jump  : twice mickiewicz utmost torturing intermarriage\n",
      "five  : stott faction chilean two affluent\n",
      "http  : fluctuates magnetospheric by uprooted aggressors\n",
      "----------\n",
      "Epoch:   0 (40%)     Loss: 10.0964     Time: 13.01s\n",
      "king  : cushions breakbeat navarro maddox obituary\n",
      "rock  : octahedral fita sociologist contained hypnotists\n",
      "dog   : byng unclassified cows dubnium outraged\n",
      "jump  : twice mickiewicz utmost torturing intermarriage\n",
      "five  : stott two faction chilean iquique\n",
      "http  : fluctuates magnetospheric by uprooted aggressors\n",
      "----------\n",
      "Epoch:   0 (41%)     Loss: 10.6877     Time: 12.87s\n",
      "king  : cushions breakbeat obituary navarro maddox\n",
      "rock  : octahedral fita sociologist contained hypnotists\n",
      "dog   : byng unclassified outraged yogi dubnium\n",
      "jump  : twice mickiewicz utmost torturing intermarriage\n",
      "five  : stott two faction chilean iquique\n",
      "http  : fluctuates by magnetospheric uprooted aggressors\n",
      "----------\n",
      "Epoch:   0 (42%)     Loss: 10.2543     Time: 12.96s\n",
      "king  : cushions breakbeat obituary navarro sv\n",
      "rock  : octahedral fita sociologist contained negev\n",
      "dog   : byng unclassified outraged cows yogi\n",
      "jump  : twice mickiewicz utmost torturing intermarriage\n",
      "five  : stott two gallen chilean faction\n",
      "http  : fluctuates by uprooted magnetospheric slayton\n",
      "----------\n",
      "Epoch:   0 (43%)     Loss: 10.4638     Time: 13.06s\n",
      "king  : cushions breakbeat obituary navarro maddox\n",
      "rock  : octahedral fita sociologist contained hypnotists\n",
      "dog   : byng unclassified outraged cows yogi\n",
      "jump  : twice mickiewicz utmost torturing intermarriage\n",
      "five  : stott two gallen chilean iquique\n",
      "http  : fluctuates by uprooted magnetospheric slayton\n",
      "----------\n",
      "Epoch:   0 (44%)     Loss: 10.7690     Time: 12.94s\n",
      "king  : cushions navarro breakbeat obituary maddox\n",
      "rock  : octahedral fita sociologist contained hypnotists\n",
      "dog   : byng unclassified outraged cows yogi\n",
      "jump  : twice mickiewicz utmost intermarriage torturing\n",
      "five  : stott two gallen chilean affluent\n",
      "http  : fluctuates by uprooted slayton magnetospheric\n",
      "----------\n",
      "Epoch:   0 (45%)     Loss: 10.5092     Time: 12.96s\n",
      "king  : cushions obituary navarro breakbeat devotions\n",
      "rock  : octahedral fita sociologist contained hypnotists\n",
      "dog   : byng unclassified outraged cows yogi\n",
      "jump  : twice utmost mickiewicz intermarriage torturing\n",
      "five  : stott two gallen chilean affluent\n",
      "http  : fluctuates by uprooted slayton magnetospheric\n",
      "----------\n",
      "Epoch:   0 (46%)     Loss: 10.6718     Time: 12.99s\n",
      "king  : obituary cushions navarro breakbeat maddox\n",
      "rock  : octahedral fita sociologist hypnotists contained\n",
      "dog   : unclassified byng outraged cows yogi\n",
      "jump  : twice utmost mickiewicz intermarriage torturing\n",
      "five  : stott two gallen affluent chilean\n",
      "http  : uprooted fluctuates by magnetospheric slayton\n",
      "----------\n"
     ]
    },
    {
     "name": "stdout",
     "output_type": "stream",
     "text": [
      "Epoch:   0 (48%)     Loss: 10.7360     Time: 12.98s\n",
      "king  : obituary cushions navarro breakbeat devotions\n",
      "rock  : octahedral fita sociologist sam hypnotists\n",
      "dog   : unclassified byng outraged cows yogi\n",
      "jump  : twice utmost mickiewicz intermarriage torturing\n",
      "five  : stott two gallen affluent chilean\n",
      "http  : by fluctuates slayton uprooted magnetospheric\n",
      "----------\n",
      "Epoch:   0 (49%)     Loss: 10.6004     Time: 13.01s\n",
      "king  : obituary ruler cushions breakbeat navarro\n",
      "rock  : octahedral sociologist fita sam hypnotists\n",
      "dog   : unclassified byng outraged cows yogi\n",
      "jump  : twice utmost mickiewicz intermarriage torturing\n",
      "five  : stott two gallen affluent hungarians\n",
      "http  : html uprooted slayton by fluctuates\n",
      "----------\n",
      "Epoch:   0 (50%)     Loss: 11.1435     Time: 12.94s\n",
      "king  : obituary cushions breakbeat ruler navarro\n",
      "rock  : octahedral sociologist fita sam skeleton\n",
      "dog   : unclassified byng outraged yogi cows\n",
      "jump  : twice utmost mickiewicz intermarriage torturing\n",
      "five  : stott two seven gallen sofa\n",
      "http  : html by slayton uprooted fluctuates\n",
      "----------\n",
      "Epoch:   0 (51%)     Loss: 10.2044     Time: 12.97s\n",
      "king  : obituary breakbeat maddox navarro cushions\n",
      "rock  : octahedral sociologist fita sam skeleton\n",
      "dog   : byng unclassified outraged yogi jehu\n",
      "jump  : twice utmost mickiewicz intermarriage torturing\n",
      "five  : stott two seven gallen blackstone\n",
      "http  : html by slayton fluctuates uprooted\n",
      "----------\n",
      "Epoch:   0 (52%)     Loss: 10.6340     Time: 12.98s\n",
      "king  : obituary breakbeat maddox navarro cushions\n",
      "rock  : octahedral sociologist fita sam hypnotists\n",
      "dog   : byng unclassified outraged yogi jehu\n",
      "jump  : twice mickiewicz utmost intermarriage torturing\n",
      "five  : stott seven two gallen politician\n",
      "http  : html slayton by uprooted fluctuates\n",
      "----------\n",
      "Epoch:   0 (53%)     Loss: 10.7180     Time: 12.99s\n",
      "king  : obituary breakbeat cushions maddox devotions\n",
      "rock  : octahedral sociologist fita sam hypnotists\n",
      "dog   : byng unclassified outraged jehu yogi\n",
      "jump  : twice mickiewicz utmost boasts intermarriage\n",
      "five  : stott two seven politician blackstone\n",
      "http  : html slayton uprooted medvedev fluctuates\n",
      "----------\n",
      "Epoch:   0 (54%)     Loss: 10.1787     Time: 12.98s\n",
      "king  : obituary breakbeat devotions maddox navarro\n",
      "rock  : octahedral sociologist fita sam skeleton\n",
      "dog   : byng unclassified outraged jehu cows\n",
      "jump  : twice mickiewicz boasts utmost intermarriage\n",
      "five  : seven two stott gallen blackstone\n",
      "http  : html uprooted slayton medvedev fluctuates\n",
      "----------\n",
      "Epoch:   0 (55%)     Loss: 10.5638     Time: 13.06s\n",
      "king  : obituary breakbeat devotions maddox navarro\n",
      "rock  : octahedral sociologist fita sam negev\n",
      "dog   : byng unclassified outraged cows jehu\n",
      "jump  : twice mickiewicz boasts utmost esas\n",
      "five  : two seven stott gallen blackstone\n",
      "http  : html uprooted slayton medvedev fluctuates\n",
      "----------\n",
      "Epoch:   0 (56%)     Loss: 9.9627     Time: 12.95s\n",
      "king  : obituary breakbeat maddox devotions navarro\n",
      "rock  : octahedral sociologist fita negev skeleton\n",
      "dog   : unclassified byng outraged cows jehu\n",
      "jump  : twice mickiewicz boasts utmost intermarriage\n",
      "five  : two stott seven gallen blackstone\n",
      "http  : html uprooted slayton medvedev barbarossa\n",
      "----------\n",
      "Epoch:   0 (58%)     Loss: 10.7108     Time: 13.00s\n",
      "king  : obituary breakbeat devotions maddox navarro\n",
      "rock  : octahedral sociologist fita negev isra\n",
      "dog   : unclassified byng outraged cows jehu\n",
      "jump  : twice mickiewicz boasts utmost intermarriage\n",
      "five  : two stott seven gallen blackstone\n",
      "http  : html uprooted slayton medvedev barbarossa\n",
      "----------\n",
      "Epoch:   0 (59%)     Loss: 10.1034     Time: 12.96s\n",
      "king  : obituary devotions breakbeat navarro maddox\n",
      "rock  : octahedral sociologist foxhound hypnotists negev\n",
      "dog   : byng unclassified outraged cows yogi\n",
      "jump  : twice mickiewicz boasts utmost esas\n",
      "five  : two stott seven gallen blackstone\n",
      "http  : html google uprooted medvedev slayton\n",
      "----------\n",
      "Epoch:   0 (60%)     Loss: 10.0191     Time: 12.97s\n",
      "king  : devotions breakbeat obituary navarro maddox\n",
      "rock  : octahedral sociologist hypnotists negev foxhound\n",
      "dog   : byng unclassified outraged cows yogi\n",
      "jump  : twice mickiewicz utmost boasts intermarriage\n",
      "five  : two stott gallen seven blackstone\n",
      "http  : html uprooted google medvedev slayton\n",
      "----------\n",
      "Epoch:   0 (61%)     Loss: 10.5854     Time: 12.99s\n",
      "king  : obituary navarro maddox breakbeat devotions\n",
      "rock  : octahedral sociologist hypnotists negev foxhound\n",
      "dog   : byng unclassified outraged cows yogi\n",
      "jump  : twice mickiewicz utmost boasts intermarriage\n",
      "five  : two stott seven gallen blackstone\n",
      "http  : html uprooted medvedev google org\n",
      "----------\n",
      "Epoch:   0 (62%)     Loss: 10.0884     Time: 12.95s\n",
      "king  : obituary navarro maddox ruler breakbeat\n",
      "rock  : octahedral sociologist hypnotists negev foxhound\n",
      "dog   : byng unclassified cows outraged yogi\n",
      "jump  : twice mickiewicz utmost boasts intermarriage\n",
      "five  : two stott seven gallen blackstone\n",
      "http  : html uprooted medvedev google slayton\n",
      "----------\n",
      "Epoch:   0 (63%)     Loss: 10.5402     Time: 12.99s\n",
      "king  : obituary navarro ruler maddox breakbeat\n",
      "rock  : octahedral sociologist hypnotists negev foxhound\n",
      "dog   : byng unclassified outraged cows yogi\n",
      "jump  : twice utmost mickiewicz boasts intermarriage\n",
      "five  : two stott seven gallen three\n",
      "http  : html google medvedev uprooted slayton\n",
      "----------\n",
      "Epoch:   0 (64%)     Loss: 9.9091     Time: 13.01s\n",
      "king  : obituary navarro ruler maddox breakbeat\n",
      "rock  : octahedral sociologist hypnotists negev foxhound\n",
      "dog   : byng unclassified cows outraged yogi\n",
      "jump  : twice utmost mickiewicz boasts intermarriage\n",
      "five  : two stott seven three gallen\n",
      "http  : html medvedev google uprooted slayton\n",
      "----------\n",
      "Epoch:   0 (65%)     Loss: 9.9044     Time: 12.95s\n",
      "king  : obituary ruler emperor navarro heir\n",
      "rock  : octahedral sociologist negev hypnotists foxhound\n",
      "dog   : byng unclassified cows outraged yogi\n",
      "jump  : twice boasts utmost mickiewicz thorium\n",
      "five  : two seven stott three six\n",
      "http  : html medvedev org google uprooted\n",
      "----------\n",
      "Epoch:   0 (66%)     Loss: 10.2254     Time: 12.91s\n",
      "king  : obituary ruler emperor navarro devotions\n",
      "rock  : octahedral sociologist negev foxhound fita\n",
      "dog   : byng unclassified cows outraged yogi\n",
      "jump  : twice boasts utmost mickiewicz thorium\n",
      "five  : two seven stott three six\n",
      "http  : html medvedev google org uprooted\n",
      "----------\n",
      "Epoch:   0 (68%)     Loss: 10.3730     Time: 12.99s\n",
      "king  : obituary ruler devotions heir navarro\n",
      "rock  : octahedral sociologist negev foxhound fita\n",
      "dog   : byng unclassified cows outraged yogi\n",
      "jump  : twice boasts utmost mickiewicz thorium\n",
      "five  : two seven stott zero six\n",
      "http  : html medvedev org google uprooted\n",
      "----------\n",
      "Epoch:   0 (69%)     Loss: 10.3639     Time: 12.99s\n",
      "king  : obituary devotions ruler ingenious heir\n",
      "rock  : octahedral sociologist negev foxhound funk\n",
      "dog   : byng unclassified cows jehu outraged\n",
      "jump  : twice boasts mickiewicz utmost thorium\n",
      "five  : two seven stott zero six\n",
      "http  : html medvedev org google uprooted\n",
      "----------\n",
      "Epoch:   0 (70%)     Loss: 9.9222     Time: 12.99s\n",
      "king  : obituary devotions heir ingenious maddox\n",
      "rock  : octahedral sociologist negev foxhound funk\n",
      "dog   : byng unclassified cows outraged jehu\n",
      "jump  : twice boasts mickiewicz utmost thorium\n",
      "five  : two seven zero stott three\n",
      "http  : html medvedev org google uprooted\n",
      "----------\n",
      "Epoch:   0 (71%)     Loss: 9.3872     Time: 13.00s\n",
      "king  : obituary devotions heir maddox ingenious\n",
      "rock  : octahedral sociologist foxhound funk negev\n",
      "dog   : byng unclassified cows outraged jehu\n",
      "jump  : twice boasts mickiewicz utmost thorium\n",
      "five  : two zero seven six three\n",
      "http  : html medvedev org google uprooted\n",
      "----------\n",
      "Epoch:   0 (72%)     Loss: 9.8873     Time: 12.94s\n",
      "king  : obituary maddox heir devotions navarro\n",
      "rock  : octahedral sociologist negev funk foxhound\n",
      "dog   : byng cows unclassified outraged padre\n",
      "jump  : twice boasts utmost mickiewicz thorium\n",
      "five  : two zero seven six three\n",
      "http  : html medvedev org google uprooted\n",
      "----------\n",
      "Epoch:   0 (73%)     Loss: 10.5275     Time: 12.95s\n",
      "king  : obituary maddox devotions heir ingenious\n",
      "rock  : octahedral sociologist funk foxhound contained\n",
      "dog   : cows byng unclassified outraged padre\n",
      "jump  : twice boasts mickiewicz utmost surfboard\n",
      "five  : two zero seven three six\n",
      "http  : html org medvedev google se\n",
      "----------\n"
     ]
    },
    {
     "name": "stdout",
     "output_type": "stream",
     "text": [
      "Epoch:   0 (74%)     Loss: 10.5691     Time: 13.02s\n",
      "king  : obituary maddox devotions heir ingenious\n",
      "rock  : octahedral sociologist foxhound skeleton thyme\n",
      "dog   : cows byng unclassified yogi padre\n",
      "jump  : twice boasts utmost mickiewicz surfboard\n",
      "five  : two zero seven three six\n",
      "http  : html org medvedev google se\n",
      "----------\n",
      "Epoch:   0 (75%)     Loss: 9.7746     Time: 12.98s\n",
      "king  : obituary maddox heir devotions tot\n",
      "rock  : octahedral sociologist funk skeleton foxhound\n",
      "dog   : cows byng unclassified yogi padre\n",
      "jump  : twice boasts mickiewicz utmost surfboard\n",
      "five  : two seven zero nine six\n",
      "http  : html org medvedev google se\n",
      "----------\n",
      "Epoch:   0 (76%)     Loss: 10.3947     Time: 12.98s\n",
      "king  : maddox obituary devotions heir tot\n",
      "rock  : octahedral sociologist funk skeleton negev\n",
      "dog   : unclassified cows byng yogi jehu\n",
      "jump  : twice boasts utmost mickiewicz surfboard\n",
      "five  : two zero seven six nine\n",
      "http  : html org se medvedev google\n",
      "----------\n",
      "Epoch:   0 (77%)     Loss: 10.2181     Time: 13.03s\n",
      "king  : maddox obituary heir tot devotions\n",
      "rock  : octahedral sociologist funk skeleton negev\n",
      "dog   : unclassified cows byng outraged yogi\n",
      "jump  : twice utmost boasts mickiewicz surfboard\n",
      "five  : two seven zero six three\n",
      "http  : html org se medvedev google\n",
      "----------\n",
      "Epoch:   0 (79%)     Loss: 10.1526     Time: 12.99s\n",
      "king  : maddox obituary heir tot devotions\n",
      "rock  : octahedral sociologist skeleton funk negev\n",
      "dog   : cows unclassified byng gingerbread outraged\n",
      "jump  : twice utmost boasts mickiewicz surfboard\n",
      "five  : two seven zero six three\n",
      "http  : html org se google medvedev\n",
      "----------\n",
      "Epoch:   0 (80%)     Loss: 10.2632     Time: 13.05s\n",
      "king  : maddox obituary heir devotions aleksandar\n",
      "rock  : octahedral sociologist funk skeleton sam\n",
      "dog   : cows unclassified byng outraged gingerbread\n",
      "jump  : twice surfboard utmost boasts mickiewicz\n",
      "five  : two seven zero six three\n",
      "http  : html org se google medvedev\n",
      "----------\n",
      "Epoch:   0 (81%)     Loss: 10.6909     Time: 13.00s\n",
      "king  : maddox obituary ingenious aleksandar stupor\n",
      "rock  : octahedral sociologist funk skeleton musicians\n",
      "dog   : cows unclassified byng outraged gingerbread\n",
      "jump  : twice surfboard boasts utmost mickiewicz\n",
      "five  : two zero seven three six\n",
      "http  : html org google se medvedev\n",
      "----------\n",
      "Epoch:   0 (82%)     Loss: 10.4086     Time: 13.02s\n",
      "king  : maddox obituary stupor ingenious aleksandar\n",
      "rock  : octahedral funk sociologist skeleton musicians\n",
      "dog   : cows unclassified byng outraged gingerbread\n",
      "jump  : twice boasts utmost surfboard mickiewicz\n",
      "five  : two seven zero three six\n",
      "http  : html org google se com\n",
      "----------\n",
      "Epoch:   0 (83%)     Loss: 10.4131     Time: 12.94s\n",
      "king  : maddox obituary stupor ingenious aleksandar\n",
      "rock  : octahedral sociologist funk skeleton music\n",
      "dog   : unclassified cows byng gingerbread yogi\n",
      "jump  : twice surfboard boasts utmost mickiewicz\n",
      "five  : two zero seven three six\n",
      "http  : html org google se com\n",
      "----------\n",
      "Epoch:   0 (84%)     Loss: 9.8197     Time: 12.95s\n",
      "king  : maddox obituary stupor aleksandar ingenious\n",
      "rock  : octahedral funk skeleton sociologist musicians\n",
      "dog   : cows unclassified byng yogi outraged\n",
      "jump  : twice surfboard boasts utmost mickiewicz\n",
      "five  : two zero seven three fixative\n",
      "http  : html org google se medvedev\n",
      "----------\n",
      "Epoch:   0 (85%)     Loss: 10.5381     Time: 12.97s\n",
      "king  : maddox obituary stupor aleksandar ingenious\n",
      "rock  : octahedral funk sociologist skeleton musicians\n",
      "dog   : unclassified cows byng outraged yogi\n",
      "jump  : twice surfboard boasts utmost mickiewicz\n",
      "five  : two zero nine seven six\n",
      "http  : html org google se medvedev\n",
      "----------\n",
      "Epoch:   0 (86%)     Loss: 10.3994     Time: 12.98s\n",
      "king  : obituary maddox ingenious stupor aleksandar\n",
      "rock  : octahedral funk skeleton sociologist negev\n",
      "dog   : unclassified byng cows outraged yogi\n",
      "jump  : twice surfboard boasts utmost mickiewicz\n",
      "five  : two zero seven six nine\n",
      "http  : html org google se com\n",
      "----------\n",
      "Epoch:   0 (87%)     Loss: 10.1399     Time: 12.96s\n",
      "king  : obituary maddox stupor ingenious aleksandar\n",
      "rock  : octahedral funk sociologist skeleton thyme\n",
      "dog   : unclassified cows byng outraged yogi\n",
      "jump  : twice surfboard boasts mickiewicz utmost\n",
      "five  : two zero seven six one\n",
      "http  : html org google se com\n",
      "----------\n",
      "Epoch:   0 (89%)     Loss: 10.6667     Time: 12.98s\n",
      "king  : obituary maddox ingenious aleksandar stupor\n",
      "rock  : octahedral sociologist funk skeleton musicians\n",
      "dog   : unclassified byng cows outraged yogi\n",
      "jump  : twice surfboard boasts mickiewicz utmost\n",
      "five  : two seven zero six nine\n",
      "http  : html org google com se\n",
      "----------\n",
      "Epoch:   0 (90%)     Loss: 10.2227     Time: 12.95s\n",
      "king  : obituary maddox ingenious stupor aleksandar\n",
      "rock  : octahedral funk sociologist skeleton musicians\n",
      "dog   : cows byng unclassified outraged yogi\n",
      "jump  : twice surfboard boasts mickiewicz utmost\n",
      "five  : two zero seven six nine\n",
      "http  : html org google se com\n",
      "----------\n",
      "Epoch:   0 (91%)     Loss: 10.3509     Time: 12.93s\n",
      "king  : obituary maddox stupor aleksandar hereditary\n",
      "rock  : octahedral sociologist skeleton funk inspirational\n",
      "dog   : cows byng unclassified outraged yogi\n",
      "jump  : twice surfboard mickiewicz utmost boasts\n",
      "five  : two zero seven six one\n",
      "http  : html org google se webcam\n",
      "----------\n",
      "Epoch:   0 (92%)     Loss: 9.9819     Time: 12.98s\n",
      "king  : obituary maddox stupor ruler hereditary\n",
      "rock  : octahedral sociologist skeleton funk inspirational\n",
      "dog   : cows byng unclassified outraged yogi\n",
      "jump  : twice surfboard boasts mickiewicz hydrological\n",
      "five  : two seven zero six one\n",
      "http  : html org google com se\n",
      "----------\n",
      "Epoch:   0 (93%)     Loss: 9.2164     Time: 12.95s\n",
      "king  : obituary maddox ruler stupor hereditary\n",
      "rock  : octahedral skeleton sociologist funk mixing\n",
      "dog   : cows byng unclassified outraged yogi\n",
      "jump  : twice surfboard boasts utmost mickiewicz\n",
      "five  : two seven zero six nine\n",
      "http  : html org google se webcam\n",
      "----------\n",
      "Epoch:   0 (94%)     Loss: 10.1278     Time: 12.95s\n",
      "king  : obituary maddox ruler aleksandar stupor\n",
      "rock  : octahedral skeleton sociologist funk thyme\n",
      "dog   : cows byng unclassified outraged yogi\n",
      "jump  : twice surfboard boasts utmost mickiewicz\n",
      "five  : seven two zero six nine\n",
      "http  : html org google com se\n",
      "----------\n",
      "Epoch:   0 (95%)     Loss: 9.9521     Time: 12.98s\n",
      "king  : obituary maddox ruler aleksandar heir\n",
      "rock  : octahedral skeleton sociologist funk thyme\n",
      "dog   : cows byng unclassified outraged gingerbread\n",
      "jump  : twice surfboard utmost boasts mickiewicz\n",
      "five  : seven two zero nine six\n",
      "http  : html org google com se\n",
      "----------\n",
      "Epoch:   0 (96%)     Loss: 10.0453     Time: 12.97s\n",
      "king  : obituary maddox aleksandar stupor molloy\n",
      "rock  : octahedral skeleton sociologist funk mixing\n",
      "dog   : cows byng unclassified outraged yogi\n",
      "jump  : twice surfboard boasts utmost hydrological\n",
      "five  : seven two zero six nine\n",
      "http  : html org google se com\n",
      "----------\n",
      "Epoch:   0 (97%)     Loss: 10.2882     Time: 12.95s\n",
      "king  : obituary maddox aleksandar stupor molloy\n",
      "rock  : octahedral skeleton sociologist thyme funk\n",
      "dog   : cows byng unclassified outraged yogi\n",
      "jump  : twice surfboard boasts utmost hydrological\n",
      "five  : seven two zero six one\n",
      "http  : html org google se webcam\n",
      "----------\n",
      "Epoch:   0 (99%)     Loss: 10.2121     Time: 12.96s\n",
      "king  : obituary maddox aleksandar heir stupor\n",
      "rock  : octahedral skeleton sociologist thyme funk\n",
      "dog   : cows byng unclassified outraged gingerbread\n",
      "jump  : twice surfboard boasts hydrological utmost\n",
      "five  : two seven zero one six\n",
      "http  : html org google com se\n",
      "----------\n",
      "Epoch:   0 (100%)     Loss: 10.7685     Time: 12.90s\n",
      "king  : obituary heir aleksandar maddox stupor\n",
      "rock  : octahedral mixing skeleton funk sociologist\n",
      "dog   : cows unclassified byng gingerbread yogi\n",
      "jump  : twice surfboard boasts utmost hydrological\n",
      "five  : two seven zero six one\n",
      "http  : html org google com htm\n",
      "----------\n"
     ]
    }
   ],
   "source": [
    "n_batch = 3072\n",
    "nb_epochs = 1\n",
    "\n",
    "trace = {'loss': []}  # per iteration\n",
    "\n",
    "iteration = 0\n",
    "for epoch in range(1):\n",
    "\n",
    "    time_start = time.time()\n",
    "\n",
    "    #\n",
    "    #   Train Model\n",
    "    #\n",
    "    model.train()\n",
    "    for i in range(0, len(train_x), n_batch):\n",
    "\n",
    "        # Pick mini-batch (over seqence dimension)\n",
    "        inputs = train_x[i:i+n_batch]    # [n_batch]\n",
    "        targets = train_y[i:i+n_batch]   # [n_batch]\n",
    "        \n",
    "        # Optimize\n",
    "        optimizer.zero_grad()\n",
    "        outputs = model(inputs)  # logits\n",
    "        loss = criterion(outputs, targets)\n",
    "        loss.backward()\n",
    "        optimizer.step()\n",
    "\n",
    "        # Record\n",
    "        trace['loss'].append( loss.item() )\n",
    "                \n",
    "        if i % (100*n_batch) == 0:\n",
    "            percent_complete = i * 100 / len(train_x)\n",
    "            time_delta = time.time() - time_start\n",
    "            print(f'Epoch: {epoch:3} ({percent_complete:.0f}%)     '\n",
    "                f'Loss: {loss:.4f}     Time: {time_delta:.2f}s')\n",
    "            \n",
    "            test_words = ['king', 'rock', 'dog', 'jump', 'five', 'http']\n",
    "            res_dict = get_most_similar(model, test_words, topk=5)\n",
    "            for word, similar in res_dict.items():\n",
    "                print(f'{word:<6}:', ' '.join(similar))\n",
    "            print('----------')\n",
    "            \n",
    "            time_start = time.time()\n",
    "            \n"
   ]
  },
  {
   "cell_type": "markdown",
   "metadata": {},
   "source": [
    "After one epoch it picks up numbers and web domains. It needs couple more epochs at lest."
   ]
  }
 ],
 "metadata": {
  "kernelspec": {
   "display_name": "Python 3",
   "language": "python",
   "name": "python3"
  },
  "language_info": {
   "codemirror_mode": {
    "name": "ipython",
    "version": 3
   },
   "file_extension": ".py",
   "mimetype": "text/x-python",
   "name": "python",
   "nbconvert_exporter": "python",
   "pygments_lexer": "ipython3",
   "version": "3.7.1"
  }
 },
 "nbformat": 4,
 "nbformat_minor": 2
}
