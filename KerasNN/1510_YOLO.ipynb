{
 "cells": [
  {
   "cell_type": "markdown",
   "metadata": {},
   "source": [
    "# Introduction"
   ]
  },
  {
   "cell_type": "markdown",
   "metadata": {},
   "source": [
    "This notebook presents **YOLOv2** applied to the [Blood Cell Images](https://www.kaggle.com/paultimothymooney/blood-cells) dataset."
   ]
  },
  {
   "cell_type": "markdown",
   "metadata": {},
   "source": [
    "**Resources**\n",
    "\n",
    "* [BCCD Dataset](https://github.com/Shenggan/BCCD_Dataset) - alternative dataset source with links to original authors"
   ]
  },
  {
   "cell_type": "markdown",
   "metadata": {},
   "source": [
    "# Imports"
   ]
  },
  {
   "cell_type": "code",
   "execution_count": 1,
   "metadata": {},
   "outputs": [],
   "source": [
    "import os\n",
    "import sys\n",
    "import numpy as np\n",
    "import matplotlib.pyplot as plt\n",
    "\n",
    "import PIL\n",
    "import PIL.Image\n",
    "import PIL.ImageDraw\n",
    "import xml.etree.ElementTree as ET"
   ]
  },
  {
   "cell_type": "markdown",
   "metadata": {},
   "source": [
    "Limit TensorFlow GPU memory usage"
   ]
  },
  {
   "cell_type": "code",
   "execution_count": 2,
   "metadata": {},
   "outputs": [],
   "source": [
    "import tensorflow as tf\n",
    "gpu_options = tf.GPUOptions(allow_growth=True)  # init TF ...\n",
    "config=tf.ConfigProto(gpu_options=gpu_options)  # w/o taking ...\n",
    "with tf.Session(config=config): pass            # all GPU memory"
   ]
  },
  {
   "cell_type": "markdown",
   "metadata": {},
   "source": [
    "Library versions"
   ]
  },
  {
   "cell_type": "code",
   "execution_count": 3,
   "metadata": {},
   "outputs": [
    {
     "name": "stdout",
     "output_type": "stream",
     "text": [
      "python:     3.7.4\n",
      "numpy:      1.16.5\n",
      "pillow:     6.2.0\n",
      "tensorflow: 1.14.0\n"
     ]
    }
   ],
   "source": [
    "print('python:    ', sys.version.split()[0])\n",
    "print('numpy:     ', np.__version__)\n",
    "print('pillow:    ', PIL.__version__)\n",
    "print('tensorflow:', tf.__version__)"
   ]
  },
  {
   "cell_type": "markdown",
   "metadata": {},
   "source": [
    "# Configuration"
   ]
  },
  {
   "cell_type": "code",
   "execution_count": 4,
   "metadata": {},
   "outputs": [],
   "source": [
    "dataset_location = '/home/marcin/Datasets/blood-cells/dataset-master/'"
   ]
  },
  {
   "cell_type": "code",
   "execution_count": 5,
   "metadata": {},
   "outputs": [],
   "source": [
    "anchors = ((0.57273, 0.677385),  # anchor-box nb 1, width & height, unit: cell_size\n",
    "           (1.87446, 2.06253),   # anchor-box nb 2,\n",
    "           (3.33843, 5.47434),   # ...\n",
    "           (7.88282, 3.52778),\n",
    "           (9.77052, 9.16828))"
   ]
  },
  {
   "cell_type": "code",
   "execution_count": 6,
   "metadata": {},
   "outputs": [],
   "source": [
    "classes = ['RBC']\n",
    "class_weights = [1.0]\n",
    "lambda_coord = 1.0\n",
    "lambda_noobj = 1.0\n",
    "lambda_obj = 5.0\n",
    "lambda_class = 1.0"
   ]
  },
  {
   "cell_type": "code",
   "execution_count": 7,
   "metadata": {},
   "outputs": [],
   "source": [
    "images_location = os.path.join(dataset_location, 'JPEGImages')\n",
    "annotations_location = os.path.join(dataset_location, 'Annotations')"
   ]
  },
  {
   "cell_type": "code",
   "execution_count": 8,
   "metadata": {},
   "outputs": [
    {
     "data": {
      "text/plain": [
       "['BloodImage_00000.xml', 'BloodImage_00001.xml', 'BloodImage_00002.xml']"
      ]
     },
     "metadata": {},
     "output_type": "display_data"
    }
   ],
   "source": [
    "filename_list_xml = sorted(os.listdir(annotations_location))\n",
    "display(filename_list_xml[:3])"
   ]
  },
  {
   "cell_type": "code",
   "execution_count": 9,
   "metadata": {},
   "outputs": [],
   "source": [
    "class ImageWrapper:\n",
    "    def __init__(self, filepath, width, height, depth):\n",
    "        self.filepath = filepath\n",
    "        self.width = width\n",
    "        self.height = height\n",
    "        self.depth = depth\n",
    "        self.objects = []\n",
    "    def __str__(self):\n",
    "        return f'{self.filepath}\\nw:{self.width} h:{self.height} d:{self.depth}'"
   ]
  },
  {
   "cell_type": "code",
   "execution_count": 10,
   "metadata": {},
   "outputs": [],
   "source": [
    "class BBoxWrapper:\n",
    "    def __init__(self, name, xmin ,ymin, xmax, ymax):\n",
    "        self.name = name\n",
    "        self.xmin = xmin\n",
    "        self.ymin = ymin\n",
    "        self.xmax = xmax\n",
    "        self.ymax = ymax\n",
    "    def __str__(self):\n",
    "        return f'{self.name} {self.xmin} {self.ymin} {self.xmax} {self.ymax}'"
   ]
  },
  {
   "cell_type": "code",
   "execution_count": 11,
   "metadata": {},
   "outputs": [],
   "source": [
    "image_wrapper_list = []\n",
    "\n",
    "for filename_xml in filename_list_xml:       # 'BloodImage_00000.xml'\n",
    "    filepath_xml = os.path.join(             # '/../../BloodImage_00000.xml'\n",
    "        annotations_location, filename_xml)  \n",
    "    tree = ET.parse(filepath_xml)            # xml.etree.ElementTree.ElementTree\n",
    "    \n",
    "    filename = tree.find('./filename').text  # 'BloodImage_00000'\n",
    "    w = tree.find('./size/width').text       # '640'\n",
    "    h = tree.find('./size/height').text      # '480'\n",
    "    d = tree.find('./size/depth').text       # '3'\n",
    "    \n",
    "    filepath_jpg = os.path.join(             # '/../../BloodImage_00000.jpg'\n",
    "        images_location, filename+'.jpg')\n",
    "    \n",
    "    assert os.path.isfile(filepath_jpg)\n",
    "    \n",
    "    iw = ImageWrapper(filepath=filepath_jpg, width=int(w),\n",
    "                      height=int(h), depth=int(d))\n",
    "    \n",
    "    object_elemnts = tree.findall('./object')  # [xml.etree.ElementTree.ElementTree, ...]\n",
    "    for obj_el in object_elemnts:\n",
    "    \n",
    "        name = obj_el.find('./name').text         # 'RBC'\n",
    "        xmin = obj_el.find('./bndbox/xmin').text  # '233'\n",
    "        ymin = obj_el.find('./bndbox/ymin').text  # '368'\n",
    "        xmax = obj_el.find('./bndbox/xmax').text  # '338'\n",
    "        ymax = obj_el.find('./bndbox/ymax').text  # '452'\n",
    "        \n",
    "        bbw = BBoxWrapper(name=name, xmin=int(xmin), ymin=int(ymin),\n",
    "                           xmax=int(xmax), ymax=int(ymax))\n",
    "        \n",
    "        iw.objects.append(bbw)\n",
    "        \n",
    "    image_wrapper_list.append(iw)"
   ]
  },
  {
   "cell_type": "code",
   "execution_count": 12,
   "metadata": {},
   "outputs": [
    {
     "name": "stdout",
     "output_type": "stream",
     "text": [
      "/home/marcin/Datasets/blood-cells/dataset-master/JPEGImages/BloodImage_00000.jpg\n",
      "w:640 h:480 d:3\n",
      "   RBC 216 359 316 464\n",
      "   RBC 77 326 177 431\n",
      "   RBC 540 353 640 458\n",
      "   RBC 405 350 513 457\n",
      "   RBC 160 72 245 177\n",
      "   RBC 5 335 90 440\n",
      "   RBC 540 39 640 149\n",
      "   RBC 383 1 504 113\n",
      "   RBC 9 82 108 168\n",
      "   RBC 68 212 165 346\n",
      "   RBC 171 181 264 282\n"
     ]
    }
   ],
   "source": [
    "for img_wrapper in image_wrapper_list:\n",
    "    print(img_wrapper)\n",
    "    for bbox_wrapper in img_wrapper.objects:\n",
    "        print('  ', bbox_wrapper)\n",
    "    break"
   ]
  },
  {
   "cell_type": "markdown",
   "metadata": {},
   "source": [
    "**Data Loader**"
   ]
  },
  {
   "cell_type": "code",
   "execution_count": 13,
   "metadata": {},
   "outputs": [],
   "source": [
    "class BloodSequence(tf.keras.utils.Sequence):\n",
    "    def __init__(self, image_wrapper_list, target_size, number_cells,\n",
    "                 anchors, class_names, batch_size,\n",
    "                 preprocess_images_function=None,\n",
    "                 #preprocess_keypts_function=None,\n",
    "                 shuffle=False):\n",
    "        assert isinstance(image_wrapper_list, (list, tuple, np.ndarray))\n",
    "        assert isinstance(target_size, int) and target_size > 0\n",
    "        assert isinstance(number_cells, int) and number_cells > 0\n",
    "        assert isinstance(anchors, (tuple, list))\n",
    "        assert isinstance(anchors[0], (tuple, list)) and len(anchors[0]) == 2  # 2 = w,h\n",
    "        assert isinstance(class_names, (tuple, list))\n",
    "        assert isinstance(class_names[0], str)\n",
    "        assert isinstance(batch_size, int) and batch_size > 0\n",
    "        assert preprocess_images_function is None or callable(preprocess_images_function)\n",
    "        #assert preprocess_keypts_function is None or callable(preprocess_keypts_function)\n",
    "        assert isinstance(shuffle, bool)\n",
    "        \n",
    "        if target_size / number_cells != 32:\n",
    "            raise ValueError(\n",
    "                'target_size and number_cells must be such that cell width is 32')\n",
    "        self.cell_width = 32\n",
    "        self.cell_height = 32\n",
    "    \n",
    "        self.image_wrapper_list = np.array(image_wrapper_list)  # for advanced indexing\n",
    "        self.target_size = target_size        # int, e.g. 416\n",
    "        self.number_cells = number_cells      # int, e.g. 13\n",
    "        self.anchors = anchors                # [[anchor_1_w, anchor_1_h], ...]\n",
    "        self.class_names = class_names        # ['RBC', ...]\n",
    "        self.batch_size = batch_size\n",
    "        self.preprocess_images_function = preprocess_images_function\n",
    "        #self.preprocess_keypts_function = preprocess_keypts_function\n",
    "        self.shuffle = shuffle\n",
    "        self.on_epoch_end()\n",
    "    \n",
    "    \n",
    "    def __len__(self):\n",
    "        return int(np.ceil(len(self.image_wrapper_list) / self.batch_size))\n",
    "    \n",
    "    \n",
    "    def __getitem__(self, idx):\n",
    "        \"\"\"\n",
    "        Images format:\n",
    "         - type: np.ndarray, dtype float\n",
    "         - shape: (batch_size, target_size, target_size, 3)\n",
    "        Targets format:\n",
    "         - type: np.ndarray, dtype float\n",
    "         - shape: (batch_size, nb_cells, nb_cells, nb_anchors, 5 + nb_classes)\n",
    "         - where last dim is arranged as follows:\n",
    "             [bbox_center_x, bbox_center_y, bbox_width, bbox_height, confidence, classes]\n",
    "           + bbox_ params are expressed in cell_width/height as a unit\n",
    "           + confidence is \"objectness\" from the paper\n",
    "           + classes is a one-hot encoded object class\n",
    "           + e.g. [1.5, 2.5, 2, 3, 1, 0, 0, 1]\n",
    "                                      ^--^--^-- class\n",
    "                                   ^----------- object present (if zero ignore other vals)    \n",
    "                                ^------ bbox is 3x cells wide (32*3=96 pixels)\n",
    "                             ^----- bbox is 2x cells tall\n",
    "                          ^---- bbox center is in the 3rd row of cell grid\n",
    "                    ^--- bbox center is in 2nd column of cell grid\n",
    "         \n",
    "         \n",
    "        Returns:\n",
    "            (images, targets): two np.ndarray with training mini-batch\n",
    "        \"\"\"\n",
    "        \n",
    "        # TOOD: change xywh unit to cell + 0..1\n",
    "        \n",
    "        batch_i = self.indices[idx*self.batch_size : (idx+1)*self.batch_size]\n",
    "        batch_iw = self.image_wrapper_list[batch_i]    # [ImageWrapper, ...]\n",
    "        \n",
    "        images_shape = (\n",
    "            len(batch_iw),      # batch size\n",
    "            self.target_size,   # width, e.g 416\n",
    "            self.target_size,   # height, e.g. 416\n",
    "            3,                  # nb channels, RGB\n",
    "        )\n",
    "        \n",
    "        targets_shape = (\n",
    "            len(batch_iw),                  # batch size\n",
    "            self.number_cells,              # nb cells x, 13\n",
    "            self.number_cells,              # nb cells y, 13\n",
    "            len(self.anchors),              # nb anchors\n",
    "            4 + 1 + len(self.class_names))  # x,y,w,h, conf, clases\n",
    "        \n",
    "        images_arr = np.zeros(shape=images_shape, dtype=np.uint8)\n",
    "        targets_arr = np.zeros(shape=targets_shape, dtype=float)\n",
    "        \n",
    "        \n",
    "        for i, img_wrapper in enumerate(batch_iw):\n",
    "\n",
    "            #\n",
    "            #   Load Image\n",
    "            #\n",
    "            image = PIL.Image.open(img_wrapper.filepath)\n",
    "            image_w, image_h = image.size\n",
    "            image_new = image.resize((self.target_size, self.target_size),\n",
    "                                     resample=PIL.Image.LANCZOS)\n",
    "            images_arr[i] = np.array(image_new)\n",
    "            \n",
    "            #\n",
    "            #   Load Objects\n",
    "            #\n",
    "            for obj_wrapper in img_wrapper.objects:\n",
    "                \n",
    "                if obj_wrapper.name not in self.class_names:\n",
    "                    continue\n",
    "                \n",
    "                xmin, ymin = obj_wrapper.xmin, obj_wrapper.ymin  # unit: input img pixels\n",
    "                xmax, ymax = obj_wrapper.xmax, obj_wrapper.ymax\n",
    "                \n",
    "                center_x_px = (xmin + xmax) / 2    # bounding box center\n",
    "                center_y_px = (ymin + ymax) / 2    # unit: input img pixels, [0..image_h]\n",
    "                size_w_px = (xmax-xmin)            # bounding box width & height\n",
    "                size_h_px = (ymax-ymin)            # unit: input img pixels, [0..image_h]\n",
    "                \n",
    "                center_x_01 = (center_x_px / image_w)  # range: [0..1]\n",
    "                center_y_01 = (center_y_px / image_h)\n",
    "                size_w_01 = size_w_px / image_w\n",
    "                size_h_01 = size_h_px / image_h\n",
    "                \n",
    "                center_x_cells = center_x_01 * self.number_cells  # range: [0..nb_cells]\n",
    "                center_y_cells = center_y_01 * self.number_cells\n",
    "                size_w_cells = size_w_01 * self.number_cells\n",
    "                size_h_cells = size_h_01 * self.number_cells\n",
    "                \n",
    "                grid_x_loc = int(np.floor(center_x_cells))\n",
    "                grid_y_loc = int(np.floor(center_y_cells))\n",
    "                \n",
    "                # find highest IoU anchor\n",
    "                best_anchor_loc, best_iou = 0, 0\n",
    "                for anchor_loc, anchor_wh in enumerate(self.anchors):\n",
    "                    (anchor_w_cells, anchor_h_cells) = anchor_wh\n",
    "                    \n",
    "                    intersect_w = min(size_w_cells, anchor_w_cells)\n",
    "                    intersect_h = min(size_h_cells, anchor_h_cells)\n",
    "                    intersect_area = intersect_w * intersect_h\n",
    "                    union_w = max(size_w_cells, anchor_w_cells)\n",
    "                    union_h = max(size_h_cells, anchor_h_cells)\n",
    "                    union_area = union_w * union_h\n",
    "                    \n",
    "                    IoU = intersect_area / union_area\n",
    "                    if IoU > best_iou:\n",
    "                        best_iou = IoU\n",
    "                        best_anchor_loc = anchor_loc\n",
    "                        \n",
    "                class_idx = self.class_names.index(obj_wrapper.name)\n",
    "                target = np.zeros(shape=(4 + 1 + len(self.class_names)), dtype=float)\n",
    "                target[0] = center_x_cells\n",
    "                target[1] = center_y_cells\n",
    "                target[2] = size_w_cells\n",
    "                target[3] = size_h_cells\n",
    "                target[4] = 1.0\n",
    "                target[5 + class_idx] = 1.0\n",
    "                \n",
    "                targets_arr[i, grid_y_loc, grid_x_loc, best_anchor_loc] = target\n",
    "                \n",
    "        if self.preprocess_images_function is not None:\n",
    "            images_arr = self.preprocess_images_function(images_arr)\n",
    "        \n",
    "        return images_arr, targets_arr\n",
    "    \n",
    "    def on_epoch_end(self):\n",
    "        self.indices = np.arange(len(self.image_wrapper_list))\n",
    "        if self.shuffle:\n",
    "            np.random.shuffle(self.indices)"
   ]
  },
  {
   "cell_type": "code",
   "execution_count": 14,
   "metadata": {},
   "outputs": [],
   "source": [
    "def preproc_images(images_arr):\n",
    "    assert isinstance(images_arr, np.ndarray)\n",
    "    assert images_arr.dtype == np.uint8\n",
    "    return images_arr / 255"
   ]
  },
  {
   "cell_type": "code",
   "execution_count": 15,
   "metadata": {},
   "outputs": [],
   "source": [
    "batches = BloodSequence(image_wrapper_list, target_size=416, number_cells=13, \n",
    "                        anchors=anchors, class_names=classes, batch_size=16, shuffle=False,\n",
    "                       preprocess_images_function=preproc_images)"
   ]
  },
  {
   "cell_type": "code",
   "execution_count": 16,
   "metadata": {},
   "outputs": [],
   "source": [
    "x_batch, y_batch = batches[0]"
   ]
  },
  {
   "cell_type": "code",
   "execution_count": 17,
   "metadata": {},
   "outputs": [
    {
     "name": "stdout",
     "output_type": "stream",
     "text": [
      "x_batch.shape: (16, 416, 416, 3)\n",
      "x_batch.dtype: float64\n",
      "y_batch.shape: (16, 13, 13, 5, 6)\n",
      "y_batch.dtype: float64\n"
     ]
    }
   ],
   "source": [
    "print('x_batch.shape:', x_batch.shape)\n",
    "print('x_batch.dtype:', x_batch.dtype)\n",
    "print('y_batch.shape:', y_batch.shape)\n",
    "print('y_batch.dtype:', y_batch.dtype)"
   ]
  },
  {
   "cell_type": "code",
   "execution_count": 18,
   "metadata": {},
   "outputs": [],
   "source": [
    "def decode_bboxes_y_true(image_np, y_true_np):\n",
    "    \"\"\"\n",
    "    Returns:\n",
    "        [(x1, y1, x2, y2), ...] - where x1, y1, x2, y2 are coordinates of \n",
    "                                  top-left and bottom-right corners of bounding box\n",
    "                                  in pixels in image, this can be passed to PIL.Draw\n",
    "    \"\"\"\n",
    "\n",
    "    assert isinstance(image_np, np.ndarray)\n",
    "    assert image_np.shape == (416, 416, 3)\n",
    "    assert isinstance(y_true_np, np.ndarray)\n",
    "    assert y_true_np.shape == (13, 13, 5, 6)\n",
    "\n",
    "    img_h, img_w, _ = image_np.shape\n",
    "\n",
    "    grid_w, grid_h, nb_anchors, _ = y_true_np.shape\n",
    "\n",
    "    cell_w = img_w / grid_w  # 32\n",
    "    cell_h = img_h / grid_h  # 32\n",
    "\n",
    "    boundig_boxes = []\n",
    "\n",
    "\n",
    "    for gx in range(grid_w):\n",
    "        for gy in range(grid_h):\n",
    "            for ai in range(nb_anchors):\n",
    "                anchor = y_true_np[gx][gy][ai]\n",
    "\n",
    "                if anchor.max() != 0:\n",
    "                    bbox_center_x = cell_w * anchor[0]\n",
    "                    bbox_center_y = cell_h * anchor[1]\n",
    "                    bbox_width = cell_w * anchor[2]\n",
    "                    bbox_height = cell_h * anchor[3]\n",
    "\n",
    "                    x1 = bbox_center_x-bbox_width/2\n",
    "                    y1 = bbox_center_y-bbox_height/2\n",
    "                    x2 = bbox_center_x+bbox_width/2\n",
    "                    y2 = bbox_center_y+bbox_height/2\n",
    "\n",
    "                    boundig_boxes.append((x1, y1, x2, y2))\n",
    "                    \n",
    "    return boundig_boxes"
   ]
  },
  {
   "cell_type": "code",
   "execution_count": 19,
   "metadata": {},
   "outputs": [],
   "source": [
    "def plot_bboxes(image_np, boundig_boxes, color=(255,0,0), width=1):\n",
    "    pil_img = PIL.Image.fromarray((image_np*255).astype(np.uint8))\n",
    "    draw = PIL.ImageDraw.Draw(pil_img)\n",
    "    \n",
    "    for bbox in boundig_boxes:\n",
    "        draw.rectangle(bbox, outline=color, width=width)\n",
    "    \n",
    "    return pil_img"
   ]
  },
  {
   "cell_type": "code",
   "execution_count": 20,
   "metadata": {},
   "outputs": [
    {
     "data": {
      "image/png": "[encoded data removed]",
      "text/plain": [
       "<PIL.Image.Image image mode=RGB size=416x416 at 0x7F6B0C064650>"
      ]
     },
     "metadata": {},
     "output_type": "display_data"
    }
   ],
   "source": [
    "boundig_boxes = decode_bboxes_y_true(x_batch[0], y_batch[0])\n",
    "pil_img = plot_bboxes(x_batch[0], boundig_boxes, width=3)\n",
    "display(pil_img)"
   ]
  },
  {
   "cell_type": "code",
   "execution_count": 21,
   "metadata": {},
   "outputs": [
    {
     "name": "stdout",
     "output_type": "stream",
     "text": [
      "Train/Valid split: 274 / 69\n"
     ]
    }
   ],
   "source": [
    "split = int(0.8*len(image_wrapper_list))\n",
    "print('Train/Valid split:', split, '/', len(image_wrapper_list)-split)"
   ]
  },
  {
   "cell_type": "code",
   "execution_count": 22,
   "metadata": {},
   "outputs": [],
   "source": [
    "train_generator = BloodSequence(image_wrapper_list[:split],\n",
    "                                target_size=416, number_cells=13, \n",
    "                                anchors=anchors, class_names=classes,\n",
    "                                batch_size=16, shuffle=False,\n",
    "                                preprocess_images_function=preproc_images)\n",
    "valid_generator = BloodSequence(image_wrapper_list[split:],\n",
    "                                target_size=416, number_cells=13, \n",
    "                                anchors=anchors, class_names=classes,\n",
    "                                batch_size=16, shuffle=False,\n",
    "                                preprocess_images_function=preproc_images)"
   ]
  },
  {
   "cell_type": "markdown",
   "metadata": {},
   "source": [
    "# Test Model"
   ]
  },
  {
   "cell_type": "code",
   "execution_count": 23,
   "metadata": {},
   "outputs": [],
   "source": [
    "from tensorflow.keras.layers import Input, Lambda, Reshape, concatenate\n",
    "from tensorflow.keras.layers import Conv2D, BatchNormalization, LeakyReLU, MaxPooling2D\n",
    "from tensorflow.keras.models import Model"
   ]
  },
  {
   "cell_type": "code",
   "execution_count": 24,
   "metadata": {},
   "outputs": [],
   "source": [
    "class SpaceToDepth(tf.keras.layers.Layer):\n",
    "    def __init__(self, block_size, **kwargs):\n",
    "        super(SpaceToDepth, self).__init__(**kwargs)\n",
    "        self.block_size = block_size\n",
    "    \n",
    "    def call(self, x):\n",
    "        return tf.space_to_depth(x, self.block_size)"
   ]
  },
  {
   "cell_type": "code",
   "execution_count": 25,
   "metadata": {},
   "outputs": [],
   "source": [
    "def conv_block(X, filters, kernel_size, suffix, max_pool=False):\n",
    "    X = Conv2D(filters, kernel_size, strides=(1,1), padding='same',\n",
    "               use_bias=False, name='conv'+suffix)(X)\n",
    "    X = BatchNormalization(name='norm'+suffix)(X)\n",
    "    X = LeakyReLU(alpha=0.1)(X)\n",
    "    if max_pool:\n",
    "        X = MaxPooling2D(pool_size=(2, 2))(X)\n",
    "    return X"
   ]
  },
  {
   "cell_type": "code",
   "execution_count": 26,
   "metadata": {},
   "outputs": [],
   "source": [
    "def create_yolov2(input_size, grid_size, number_anchors, number_classes):\n",
    "\n",
    "    assert isinstance(input_size, (tuple, list)) and len(input_size) == 2\n",
    "    assert isinstance(input_size[0], int) and input_size[0] > 0\n",
    "    assert isinstance(input_size[1], int) and input_size[1] > 0\n",
    "    assert isinstance(grid_size, (tuple, list)) and len(grid_size) == 2\n",
    "    assert isinstance(grid_size[0], int) and grid_size[0] > 0\n",
    "    assert isinstance(grid_size[1], int) and grid_size[1] > 0\n",
    "\n",
    "    input_height, input_width = input_size\n",
    "    grid_height, grid_width = grid_size\n",
    "\n",
    "    IN = Input(shape=(input_height, input_width, 3))\n",
    "\n",
    "    X = conv_block(IN, filters=32, kernel_size=(3,3), suffix='_1', max_pool=True)\n",
    "    X = conv_block(X, filters=64, kernel_size=(3,3), suffix='_2', max_pool=True)\n",
    "    X = conv_block(X, filters=128, kernel_size=(3,3), suffix='_3')\n",
    "    X = conv_block(X, filters=64, kernel_size=(1,1), suffix='_4')\n",
    "    X = conv_block(X, filters=128, kernel_size=(3,3), suffix='_5', max_pool=True)\n",
    "    X = conv_block(X, filters=256, kernel_size=(3,3), suffix='_6')\n",
    "    X = conv_block(X, filters=128, kernel_size=(1,1), suffix='_7')\n",
    "    X = conv_block(X, filters=256, kernel_size=(3,3), suffix='_8', max_pool=True)\n",
    "    X = conv_block(X, filters=512, kernel_size=(3,3), suffix='_9')\n",
    "    X = conv_block(X, filters=256, kernel_size=(1,1), suffix='_10')\n",
    "    X = conv_block(X, filters=512, kernel_size=(3,3), suffix='_11')\n",
    "    X = conv_block(X, filters=256, kernel_size=(1,1), suffix='_12')\n",
    "    X = conv_block(X, filters=512, kernel_size=(3,3), suffix='_13')\n",
    "\n",
    "    SK = X  # skip connection\n",
    "\n",
    "    X = MaxPooling2D(pool_size=(2, 2))(X)\n",
    "    X = conv_block(X, filters=1024, kernel_size=(3,3), suffix='_14')\n",
    "    X = conv_block(X, filters=512, kernel_size=(1,1), suffix='_15')\n",
    "    X = conv_block(X, filters=1024, kernel_size=(3,3), suffix='_16')\n",
    "    X = conv_block(X, filters=512, kernel_size=(1,1), suffix='_17')\n",
    "    X = conv_block(X, filters=1024, kernel_size=(3,3), suffix='_18')\n",
    "    X = conv_block(X, filters=1024, kernel_size=(3,3), suffix='_19')\n",
    "    X = conv_block(X, filters=1024, kernel_size=(3,3), suffix='_20')\n",
    "\n",
    "    SK = conv_block(SK, filters=64, kernel_size=(1,1), suffix='_21')\n",
    "    SK = SpaceToDepth(block_size=2)(SK)\n",
    "    X = concatenate([SK, X])\n",
    "\n",
    "    X = conv_block(X, filters=1024, kernel_size=(3,3), suffix='_22')\n",
    "\n",
    "    X = Conv2D(filters=number_anchors * (4+1+number_classes),\n",
    "               kernel_size=(1,1), strides=(1,1), padding='same', name='conv_23')(X)\n",
    "    \n",
    "    OUT = Reshape((grid_height, grid_width, number_anchors, 4+1+number_classes))(X)\n",
    "\n",
    "    model = Model(IN, OUT)\n",
    "    return model"
   ]
  },
  {
   "cell_type": "code",
   "execution_count": 27,
   "metadata": {},
   "outputs": [
    {
     "name": "stdout",
     "output_type": "stream",
     "text": [
      "WARNING:tensorflow:From /home/marcin/.anaconda3/envs/tf/lib/python3.7/site-packages/tensorflow/python/ops/init_ops.py:1251: calling VarianceScaling.__init__ (from tensorflow.python.ops.init_ops) with dtype is deprecated and will be removed in a future version.\n",
      "Instructions for updating:\n",
      "Call initializer instance with the dtype argument instead of passing it to the constructor\n",
      "WARNING:tensorflow:From /home/marcin/.anaconda3/envs/tf/lib/python3.7/site-packages/tensorflow/python/autograph/converters/directives.py:117: The name tf.space_to_depth is deprecated. Please use tf.compat.v1.space_to_depth instead.\n",
      "\n",
      "WARNING:tensorflow:Entity <bound method SpaceToDepth.call of <__main__.SpaceToDepth object at 0x7f6aa030af90>> could not be transformed and will be executed as-is. Please report this to the AutgoGraph team. When filing the bug, set the verbosity to 10 (on Linux, `export AUTOGRAPH_VERBOSITY=10`) and attach the full output. Cause: converting <bound method SpaceToDepth.call of <__main__.SpaceToDepth object at 0x7f6aa030af90>>: AssertionError: Bad argument number for Name: 3, expecting 4\n",
      "WARNING: Entity <bound method SpaceToDepth.call of <__main__.SpaceToDepth object at 0x7f6aa030af90>> could not be transformed and will be executed as-is. Please report this to the AutgoGraph team. When filing the bug, set the verbosity to 10 (on Linux, `export AUTOGRAPH_VERBOSITY=10`) and attach the full output. Cause: converting <bound method SpaceToDepth.call of <__main__.SpaceToDepth object at 0x7f6aa030af90>>: AssertionError: Bad argument number for Name: 3, expecting 4\n"
     ]
    }
   ],
   "source": [
    "model = create_yolov2(input_size = (416, 416),  # (height, width)\n",
    "                      grid_size = (13, 13),     # (height, width)\n",
    "                      number_anchors = len(anchors),\n",
    "                      number_classes = len(classes))"
   ]
  },
  {
   "cell_type": "code",
   "execution_count": 28,
   "metadata": {
    "scrolled": true
   },
   "outputs": [],
   "source": [
    "# model.summary()"
   ]
  },
  {
   "cell_type": "markdown",
   "metadata": {},
   "source": [
    "# Load YOLOv2 Weights"
   ]
  },
  {
   "cell_type": "code",
   "execution_count": 29,
   "metadata": {},
   "outputs": [],
   "source": [
    "def load_yolov2_weights(model, filepath, last_layer='leave'):\n",
    "    pointer = 4\n",
    "    weights = np.fromfile(filepath, dtype='float32')\n",
    "\n",
    "    for i in range(1, 23):\n",
    "\n",
    "        #\n",
    "        #   Norm layers 1..22\n",
    "        #\n",
    "        norm_layer = model.get_layer('norm_' + str(i))\n",
    "\n",
    "        size = np.prod(norm_layer.get_weights()[0].shape)\n",
    "\n",
    "        beta = weights[pointer:pointer+size]; pointer += size;\n",
    "        gamma = weights[pointer:pointer+size]; pointer += size;\n",
    "        mean = weights[pointer:pointer+size]; pointer += size;\n",
    "        var = weights[pointer:pointer+size]; pointer += size;\n",
    "\n",
    "        norm_layer.set_weights([gamma, beta, mean, var])\n",
    "\n",
    "        #\n",
    "        #   Conv layers 1..22\n",
    "        #\n",
    "        conv_layer = model.get_layer('conv_' + str(i))\n",
    "\n",
    "        size = np.prod(conv_layer.get_weights()[0].shape)\n",
    "        kernel = weights[pointer:pointer+size]; pointer += size;\n",
    "        kernel = kernel.reshape(list(reversed(conv_layer.get_weights()[0].shape)))\n",
    "        kernel = kernel.transpose([2,3,1,0])\n",
    "        conv_layer.set_weights([kernel])\n",
    "\n",
    "    #\n",
    "    #   Conv layer 23\n",
    "    #\n",
    "    if last_layer == 'leave':\n",
    "        pass\n",
    "    \n",
    "    elif last_layer == 'load':\n",
    "        conv_layer = model.get_layer('conv_23')\n",
    "\n",
    "        size = np.prod(conv_layer.get_weights()[1].shape)\n",
    "        bias   = weights[pointer:pointer+size]; pointer += size;\n",
    "\n",
    "        size = np.prod(conv_layer.get_weights()[0].shape)\n",
    "        kernel = weights[pointer:pointer+size]; pointer += size;\n",
    "        kernel = kernel.reshape(list(reversed(conv_layer.get_weights()[0].shape)))\n",
    "        kernel = kernel.transpose([2,3,1,0])\n",
    "\n",
    "        conv_layer.set_weights([kernel, bias])\n",
    "        \n",
    "    elif last_layer == 'rand':\n",
    "        conv_layer = model.get_layer('conv_23') # the last convolutional layer\n",
    "        weights = conv_layer.get_weights()\n",
    "        \n",
    "        output_shape = model.layers[-1].output_shape\n",
    "        _, grid_w, grid_h, _, _ = output_shape\n",
    "        \n",
    "        new_kernel = np.random.normal(size=weights[0].shape) / (grid_w*grid_h)\n",
    "        new_bias   = np.random.normal(size=weights[1].shape) / (grid_w*grid_h)\n",
    "\n",
    "        conv_layer.set_weights([new_kernel, new_bias])\n",
    "    \n",
    "    else:\n",
    "        raise ValueError(\"Parameter last_layer must be 'leave', 'load' or 'rand'.\")"
   ]
  },
  {
   "cell_type": "code",
   "execution_count": 30,
   "metadata": {},
   "outputs": [],
   "source": [
    "np.random.seed(0)"
   ]
  },
  {
   "cell_type": "code",
   "execution_count": 31,
   "metadata": {},
   "outputs": [],
   "source": [
    "load_yolov2_weights(model, 'yolov2.weights', last_layer='rand')"
   ]
  },
  {
   "cell_type": "code",
   "execution_count": 32,
   "metadata": {},
   "outputs": [],
   "source": [
    "netout = model.predict(x_batch)"
   ]
  },
  {
   "cell_type": "code",
   "execution_count": 33,
   "metadata": {},
   "outputs": [
    {
     "data": {
      "text/plain": [
       "array([[ 0.05, -0.05, -0.09,  0.26,  0.03,  0.2 ],\n",
       "       [-0.21, -0.11,  0.13,  0.04,  0.08, -0.  ],\n",
       "       [-0.13, -0.03, -0.11, -0.23,  0.08, -0.05],\n",
       "       [ 0.08,  0.05,  0.05, -0.03, -0.11, -0.21],\n",
       "       [-0.05, -0.04, -0.03, -0.1 ,  0.15, -0.08]], dtype=float32)"
      ]
     },
     "execution_count": 33,
     "metadata": {},
     "output_type": "execute_result"
    }
   ],
   "source": [
    "np.round(netout[0][1][8], 2)"
   ]
  },
  {
   "cell_type": "code",
   "execution_count": 34,
   "metadata": {},
   "outputs": [],
   "source": [
    "# np.save('netout.npz', netout)"
   ]
  },
  {
   "cell_type": "code",
   "execution_count": 35,
   "metadata": {},
   "outputs": [],
   "source": [
    "netout_ref = np.load('netout.npz.npy')"
   ]
  },
  {
   "cell_type": "code",
   "execution_count": 36,
   "metadata": {},
   "outputs": [
    {
     "data": {
      "text/plain": [
       "True"
      ]
     },
     "execution_count": 36,
     "metadata": {},
     "output_type": "execute_result"
    }
   ],
   "source": [
    "np.all(netout == netout_ref)"
   ]
  },
  {
   "cell_type": "code",
   "execution_count": 37,
   "metadata": {},
   "outputs": [
    {
     "data": {
      "text/plain": [
       "0.0"
      ]
     },
     "execution_count": 37,
     "metadata": {},
     "output_type": "execute_result"
    }
   ],
   "source": [
    "np.abs(netout - netout_ref).max()"
   ]
  },
  {
   "cell_type": "markdown",
   "metadata": {},
   "source": [
    "# Loss Function"
   ]
  },
  {
   "cell_type": "markdown",
   "metadata": {},
   "source": [
    "This function was mostly copied form [keras-yolo2](https://github.com/experiencor/keras-yolo2). All credit goes to original authors.\n",
    "\n",
    "I have made **two modifications** to original YOLOv2 loss.\n",
    "\n",
    "1. I removed one term from the loss function, which was responsible for penalising low IoU false positives. I found that it made almost no difference on model performance (at least at this dataset), while being unreasonably complex to compute. The full version of YOLOv2 the loss function is available at the end of this notebook.\n",
    "2. I removed the warm-up section. Again, I found it was introducing complexity, while actually making results worse.\n",
    "\n",
    "The **full YOLOv2** loss function is available in the appending at the bottom of this notebook.\n",
    "\n",
    "My changes:\n",
    "* simplify by removing low IoU penalty\n",
    "* simplify by removing warmup code\n",
    "* remove statistics (recall) and debug prints\n",
    "* rewrite and extend comments\n",
    "* explicitly declare global variables"
   ]
  },
  {
   "cell_type": "code",
   "execution_count": 38,
   "metadata": {},
   "outputs": [],
   "source": [
    "def yolov2_loss_full(y_true, y_pred):\n",
    "    global anchors, lambda_coord, lambda_noobj, lambda_obj, lambda_class, class_weights\n",
    "    \n",
    "    #\n",
    "    #   Prepare empty masks\n",
    "    #\n",
    "    nb_batch = tf.shape(y_true)[0]\n",
    "    nb_grid_w = tf.shape(y_true)[1]\n",
    "    nb_grid_h = tf.shape(y_true)[2]\n",
    "    nb_anchor = tf.shape(y_true)[3]\n",
    "    nb_class = tf.shape(y_true)[4] - 5    # substract x,y,w,h,conf fields\n",
    "    \n",
    "    coord_mask = tf.zeros(shape=(nb_batch, nb_grid_w, nb_grid_h, nb_anchor))\n",
    "    conf_mask  = tf.zeros(shape=(nb_batch, nb_grid_w, nb_grid_h, nb_anchor))\n",
    "    class_mask = tf.zeros(shape=(nb_batch, nb_grid_w, nb_grid_h, nb_anchor))\n",
    "    \n",
    "    #\n",
    "    #   Decode Predictions\n",
    "    #\n",
    "    \n",
    "    # create grid_coord so we can offset predictions by grid cell index\n",
    "    grid_tiles = tf.tile(tf.range(nb_grid_w), [nb_grid_h])\n",
    "    grid_resh = tf.reshape(grid_tiles, (1, nb_grid_h, nb_grid_w, 1, 1))\n",
    "    grid_x = tf.to_float(grid_resh)\n",
    "    grid_y = tf.transpose(grid_x, (0,2,1,3,4))\n",
    "    grid_concat = tf.concat([grid_x,grid_y], -1)\n",
    "    grid_coord = tf.tile(grid_concat, [nb_batch, 1, 1, nb_anchor, 1])\n",
    "    \n",
    "    # transform logits to 0..1, then add cell offsets\n",
    "    # shape [b, gw, gh, a, 2], range [0..gx, 0..gy], dtype float\n",
    "    pred_box_xy = tf.sigmoid(y_pred[..., :2]) + grid_coord\n",
    "       \n",
    "    # transform logits to bounding box width and height\n",
    "    # shape [b, gw, gh, a, 2], range [0..], dtype float\n",
    "    # value of [1, 1] means bbox is same as anchor, [.5,.5] means half anchor\n",
    "    pred_box_wh = tf.exp(y_pred[..., 2:4]) * np.reshape(anchors, [1,1,1,len(anchors),2])\n",
    "    \n",
    "    # logits to confidence\n",
    "    pred_box_conf = tf.sigmoid(y_pred[..., 4])\n",
    "    \n",
    "    # for class probabilites keep logits as (passed to cross-entropy later)\n",
    "    pred_box_class = y_pred[..., 5:]\n",
    "    \n",
    "    #\n",
    "    #   Decode targets\n",
    "    #\n",
    "    \n",
    "    # target xywh are alredy correctly formatted\n",
    "    # shape [b, gw, gh, a, 2], range [0..gx, 0..gy], dtype float\n",
    "    # value [1.5, 2.5] means bbox center is aligned with center of cell [1, 2]\n",
    "    true_box_xy = y_true[..., 0:2]\n",
    "    true_box_wh = y_true[..., 2:4]\n",
    "    \n",
    "    # this whole section basically computes IoU(true_bbox, pred_bbox)\n",
    "    true_wh_half = true_box_wh / 2.\n",
    "    true_mins    = true_box_xy - true_wh_half\n",
    "    true_maxes   = true_box_xy + true_wh_half\n",
    "    pred_wh_half = pred_box_wh / 2.\n",
    "    pred_mins    = pred_box_xy - pred_wh_half\n",
    "    pred_maxes   = pred_box_xy + pred_wh_half       \n",
    "    intersect_mins  = tf.maximum(pred_mins,  true_mins)\n",
    "    intersect_maxes = tf.minimum(pred_maxes, true_maxes)\n",
    "    intersect_wh    = tf.maximum(intersect_maxes - intersect_mins, 0.)\n",
    "    intersect_areas = intersect_wh[..., 0] * intersect_wh[..., 1]\n",
    "    true_areas = true_box_wh[..., 0] * true_box_wh[..., 1]\n",
    "    pred_areas = pred_box_wh[..., 0] * pred_box_wh[..., 1]\n",
    "    union_areas = pred_areas + true_areas - intersect_areas\n",
    "    iou_scores  = tf.truediv(intersect_areas, union_areas)\n",
    "    \n",
    "    # target confidence is defined as: class_prob * IoU(true_bbox, pred_bbox)\n",
    "    # note that in this dataset class_prob is always 0 or 1\n",
    "    true_box_conf = iou_scores * y_true[..., 4]\n",
    "    \n",
    "    # convert class vector from one-hot to integer [0..]\n",
    "    true_box_class = tf.argmax(y_true[..., 5:], -1)\n",
    "    \n",
    "    #\n",
    "    #   Penalty for low IoU predictions (optionsl)\n",
    "    #\n",
    "    \n",
    "    # confidence mask: penelize predictors + penalize boxes with low IOU\n",
    "    shape = tf.shape(y_true)\n",
    "    y_true_reduce = y_true[...,0:4]\n",
    "    y_true_reshape = tf.reshape(y_true_reduce, shape=(shape[0], -1, 4))\n",
    "    y_true_max = tf.reduce_max(y_true_reshape, axis=-1)\n",
    "    y_true_argsorg = tf.argsort(y_true_max, axis=-1)\n",
    "    y_true_range = tf.tile(tf.expand_dims(tf.range(shape[0]), 1), [1, 845])\n",
    "    y_true_stack = tf.stack([y_true_range, y_true_argsorg], axis=-1)\n",
    "    y_true_2 = tf.gather_nd(y_true_reshape, y_true_stack)\n",
    "    y_true_3 = y_true_2[:,-50:,:]  # 50 is box buffer size\n",
    "    y_true_3d = tf.expand_dims(y_true_3, axis=1)\n",
    "    y_true_3dd = tf.expand_dims(y_true_3d, axis=1)\n",
    "    y_true_3ddd = tf.expand_dims(y_true_3dd, axis=1)\n",
    "    true_xy = y_true_3ddd[..., 0:2]\n",
    "    true_wh = y_true_3ddd[..., 2:4]\n",
    "    \n",
    "    # this whole section basically computes IoU(true_bbox, pred_bbox)\n",
    "    true_wh_half = true_wh / 2.\n",
    "    true_mins    = true_xy - true_wh_half\n",
    "    true_maxes   = true_xy + true_wh_half\n",
    "    pred_xy = tf.expand_dims(pred_box_xy, 4)\n",
    "    pred_wh = tf.expand_dims(pred_box_wh, 4)\n",
    "    pred_wh_half = pred_wh / 2.\n",
    "    pred_mins    = pred_xy - pred_wh_half\n",
    "    pred_maxes   = pred_xy + pred_wh_half    \n",
    "    intersect_mins  = tf.maximum(pred_mins,  true_mins)\n",
    "    intersect_maxes = tf.minimum(pred_maxes, true_maxes)\n",
    "    intersect_wh    = tf.maximum(intersect_maxes - intersect_mins, 0.)\n",
    "    intersect_areas = intersect_wh[..., 0] * intersect_wh[..., 1]\n",
    "    true_areas = true_wh[..., 0] * true_wh[..., 1]\n",
    "    pred_areas = pred_wh[..., 0] * pred_wh[..., 1]\n",
    "    union_areas = pred_areas + true_areas - intersect_areas\n",
    "    iou_scores  = tf.truediv(intersect_areas, union_areas)\n",
    "    best_ious = tf.reduce_max(iou_scores, axis=4)\n",
    "    \n",
    "    #\n",
    "    #   Compute 0/1 masks\n",
    "    #\n",
    "    \n",
    "    # coordinate mask: the position of the ground truth boxes (the predictors)\n",
    "    coord_mask = tf.expand_dims(y_true[..., 4], axis=-1) * lambda_coord\n",
    "    \n",
    "    # confidence mask: the confidence of the ground truth boxes\n",
    "    conf_mask = conf_mask + tf.to_float(best_ious < 0.6) * (1 - y_true[..., 4]) * lambda_noobj\n",
    "    #conf_mask = conf_mask + (1 - y_true[..., 4]) * lambda_noobj\n",
    "    conf_mask = conf_mask + y_true[..., 4] * lambda_obj\n",
    "    \n",
    "    # class mask: the class of the ground truth boxes\n",
    "    class_mask = y_true[..., 4] * tf.gather(class_weights, true_box_class) * lambda_class       \n",
    "    \n",
    "\n",
    "    #\n",
    "    #   Warmup (optional)\n",
    "    #\n",
    "#     no_boxes_mask = tf.to_float(coord_mask < lambda_coord/2.)\n",
    "#     seen = tf.assign_add(seen, 1.)\n",
    "#     num_warmup = 100\n",
    "#     true_box_xy, true_box_wh, coord_mask = tf.cond(tf.less(seen, num_warmup),\n",
    "#         lambda: [true_box_xy + (0.5 + cell_grid) * no_boxes_mask, \n",
    "#                  true_box_wh + tf.ones_like(true_box_wh)*np.reshape(anchors,[1,1,1,len(anchors),2])*no_boxes_mask, \n",
    "#                  tf.ones_like(coord_mask)],\n",
    "#         lambda: [true_box_xy, \n",
    "#                  true_box_wh,\n",
    "#                  coord_mask])\n",
    "    \n",
    "    #\n",
    "    #   Combine the loss\n",
    "    #\n",
    "    nb_coord_box = tf.reduce_sum(tf.to_float(coord_mask > 0.0))\n",
    "    nb_conf_box  = tf.reduce_sum(tf.to_float(conf_mask  > 0.0))\n",
    "    nb_class_box = tf.reduce_sum(tf.to_float(class_mask > 0.0))\n",
    "    \n",
    "    loss_xy    = tf.reduce_sum(tf.square(true_box_xy-pred_box_xy)     * coord_mask) / (nb_coord_box + 1e-6) / 2.\n",
    "    loss_wh    = tf.reduce_sum(tf.square(true_box_wh-pred_box_wh)     * coord_mask) / (nb_coord_box + 1e-6) / 2.\n",
    "    loss_conf  = tf.reduce_sum(tf.square(true_box_conf-pred_box_conf) * conf_mask)  / (nb_conf_box  + 1e-6) / 2.\n",
    "    loss_class = tf.nn.sparse_softmax_cross_entropy_with_logits(labels=true_box_class, logits=pred_box_class)\n",
    "    loss_class = tf.reduce_sum(loss_class * class_mask) / (nb_class_box + 1e-6)\n",
    "    \n",
    "    loss = loss_xy + loss_wh + loss_conf + loss_class\n",
    "    \n",
    "    \n",
    "    #\n",
    "    #   Recall and debug (optional)\n",
    "    #  \n",
    "#     nb_true_box = tf.reduce_sum(y_true[..., 4])\n",
    "#     nb_pred_box = tf.reduce_sum(tf.to_float(true_box_conf > 0.5) * tf.to_float(pred_box_conf > 0.3))\n",
    "#     batch_recall = nb_pred_box/(nb_true_box + 1e-6)  # mini-batch recall\n",
    "\n",
    "#     loss = tf.Print(loss, [tf.zeros((1))], message='Dummy Line \\t', summarize=1000)\n",
    "#     loss = tf.Print(loss, [loss_xy], message='Loss XY \\t', summarize=1000)\n",
    "#     loss = tf.Print(loss, [loss_wh], message='Loss WH \\t', summarize=1000)\n",
    "#     loss = tf.Print(loss, [loss_conf], message='Loss Conf \\t', summarize=1000)\n",
    "#     loss = tf.Print(loss, [loss_class], message='Loss Class \\t', summarize=1000)\n",
    "#     loss = tf.Print(loss, [loss], message='Total Loss \\t', summarize=1000)\n",
    "#     loss = tf.Print(loss, [batch_recall], message='Current Recall \\t', summarize=1000)\n",
    "    \n",
    "    return loss"
   ]
  },
  {
   "cell_type": "code",
   "execution_count": null,
   "metadata": {},
   "outputs": [],
   "source": []
  },
  {
   "cell_type": "code",
   "execution_count": 39,
   "metadata": {},
   "outputs": [],
   "source": [
    "batches = BloodSequence(image_wrapper_list, target_size=416, number_cells=13, \n",
    "                        anchors=anchors, class_names=classes, batch_size=16, shuffle=False,\n",
    "                       preprocess_images_function=preproc_images)"
   ]
  },
  {
   "cell_type": "code",
   "execution_count": 40,
   "metadata": {},
   "outputs": [],
   "source": [
    "x_batch, y_batch = batches[0]"
   ]
  },
  {
   "cell_type": "code",
   "execution_count": 41,
   "metadata": {},
   "outputs": [],
   "source": [
    "y_hat = model.predict(x_batch)"
   ]
  },
  {
   "cell_type": "code",
   "execution_count": 42,
   "metadata": {},
   "outputs": [
    {
     "name": "stdout",
     "output_type": "stream",
     "text": [
      "WARNING:tensorflow:From <ipython-input-38-cdad9047611a>:24: to_float (from tensorflow.python.ops.math_ops) is deprecated and will be removed in a future version.\n",
      "Instructions for updating:\n",
      "Use `tf.cast` instead.\n"
     ]
    }
   ],
   "source": [
    "y_true_ph = tf.placeholder(tf.float32, shape=(None, 13, 13, 5, 6))\n",
    "y_pred_ph = tf.placeholder(tf.float32, shape=(None, 13, 13, 5, 6))\n",
    "loss = yolov2_loss_full(y_true_ph, y_pred_ph)"
   ]
  },
  {
   "cell_type": "code",
   "execution_count": 43,
   "metadata": {},
   "outputs": [],
   "source": [
    "with tf.Session() as sess:\n",
    "    sess.run(tf.global_variables_initializer())\n",
    "    res = sess.run(loss, {y_true_ph: y_batch, y_pred_ph: y_hat})"
   ]
  },
  {
   "cell_type": "code",
   "execution_count": 44,
   "metadata": {},
   "outputs": [
    {
     "data": {
      "text/plain": [
       "0.679627"
      ]
     },
     "execution_count": 44,
     "metadata": {},
     "output_type": "execute_result"
    }
   ],
   "source": [
    "res"
   ]
  },
  {
   "cell_type": "markdown",
   "metadata": {},
   "source": [
    "```\n",
    "Simple:  0.6796268\n",
    "Full:    0.6796271\n",
    "```"
   ]
  },
  {
   "cell_type": "code",
   "execution_count": 45,
   "metadata": {},
   "outputs": [],
   "source": [
    "optimizer = tf.keras.optimizers.Adam(lr=1e-4, beta_1=0.9, beta_2=0.999, epsilon=1e-08, decay=0.0)\n",
    "model.compile(loss=yolov2_loss_full, optimizer=optimizer)"
   ]
  },
  {
   "cell_type": "code",
   "execution_count": 46,
   "metadata": {},
   "outputs": [
    {
     "name": "stdout",
     "output_type": "stream",
     "text": [
      "WARNING:tensorflow:`period` argument is deprecated. Please use `save_freq` to specify the frequency in number of samples seen.\n"
     ]
    }
   ],
   "source": [
    "earlystop_cb = tf.keras.callbacks.EarlyStopping(\n",
    "    monitor='val_loss', min_delta=0.001, patience=3, mode='min', verbose=1)\n",
    "checkpoint_cb = tf.keras.callbacks.ModelCheckpoint(\n",
    "    'model.h5', monitor='val_loss', verbose=1, save_best_only=True, mode='min', period=1)"
   ]
  },
  {
   "cell_type": "code",
   "execution_count": 47,
   "metadata": {
    "scrolled": false
   },
   "outputs": [
    {
     "name": "stdout",
     "output_type": "stream",
     "text": [
      "Epoch 1/100\n",
      "WARNING:tensorflow:From /home/marcin/.anaconda3/envs/tf/lib/python3.7/site-packages/tensorflow/python/ops/math_grad.py:1250: add_dispatch_support.<locals>.wrapper (from tensorflow.python.ops.array_ops) is deprecated and will be removed in a future version.\n",
      "Instructions for updating:\n",
      "Use tf.where in 2.0, which has the same broadcast rule as np.where\n",
      "17/18 [===========================>..] - ETA: 0s - loss: 0.3375\n",
      "Epoch 00001: val_loss improved from inf to 0.26446, saving model to model.h5\n",
      "18/18 [==============================] - 19s 1s/step - loss: 0.3325 - val_loss: 0.2645\n",
      "Epoch 2/100\n",
      "17/18 [===========================>..] - ETA: 0s - loss: 0.1989\n",
      "Epoch 00002: val_loss improved from 0.26446 to 0.21141, saving model to model.h5\n",
      "18/18 [==============================] - 8s 431ms/step - loss: 0.1964 - val_loss: 0.2114\n",
      "Epoch 3/100\n",
      "17/18 [===========================>..] - ETA: 0s - loss: 0.1269\n",
      "Epoch 00003: val_loss improved from 0.21141 to 0.19352, saving model to model.h5\n",
      "18/18 [==============================] - 7s 416ms/step - loss: 0.1260 - val_loss: 0.1935\n",
      "Epoch 4/100\n",
      "17/18 [===========================>..] - ETA: 0s - loss: 0.0762\n",
      "Epoch 00004: val_loss improved from 0.19352 to 0.14761, saving model to model.h5\n",
      "18/18 [==============================] - 8s 429ms/step - loss: 0.0755 - val_loss: 0.1476\n",
      "Epoch 5/100\n",
      "17/18 [===========================>..] - ETA: 0s - loss: 0.0577\n",
      "Epoch 00005: val_loss improved from 0.14761 to 0.11377, saving model to model.h5\n",
      "18/18 [==============================] - 7s 409ms/step - loss: 0.0568 - val_loss: 0.1138\n",
      "Epoch 6/100\n",
      "17/18 [===========================>..] - ETA: 0s - loss: 0.0481\n",
      "Epoch 00006: val_loss improved from 0.11377 to 0.10773, saving model to model.h5\n",
      "18/18 [==============================] - 7s 409ms/step - loss: 0.0476 - val_loss: 0.1077\n",
      "Epoch 7/100\n",
      "17/18 [===========================>..] - ETA: 0s - loss: 0.0426\n",
      "Epoch 00007: val_loss improved from 0.10773 to 0.10346, saving model to model.h5\n",
      "18/18 [==============================] - 7s 413ms/step - loss: 0.0429 - val_loss: 0.1035\n",
      "Epoch 8/100\n",
      "17/18 [===========================>..] - ETA: 0s - loss: 0.0394\n",
      "Epoch 00008: val_loss improved from 0.10346 to 0.09823, saving model to model.h5\n",
      "18/18 [==============================] - 7s 402ms/step - loss: 0.0393 - val_loss: 0.0982\n",
      "Epoch 9/100\n",
      "17/18 [===========================>..] - ETA: 0s - loss: 0.0322\n",
      "Epoch 00009: val_loss improved from 0.09823 to 0.09248, saving model to model.h5\n",
      "18/18 [==============================] - 7s 391ms/step - loss: 0.0327 - val_loss: 0.0925\n",
      "Epoch 10/100\n",
      "17/18 [===========================>..] - ETA: 0s - loss: 0.0276\n",
      "Epoch 00010: val_loss improved from 0.09248 to 0.09229, saving model to model.h5\n",
      "18/18 [==============================] - 7s 391ms/step - loss: 0.0274 - val_loss: 0.0923\n",
      "Epoch 11/100\n",
      "17/18 [===========================>..] - ETA: 0s - loss: 0.0225\n",
      "Epoch 00011: val_loss improved from 0.09229 to 0.08311, saving model to model.h5\n",
      "18/18 [==============================] - 7s 395ms/step - loss: 0.0226 - val_loss: 0.0831\n",
      "Epoch 12/100\n",
      "17/18 [===========================>..] - ETA: 0s - loss: 0.0195\n",
      "Epoch 00012: val_loss improved from 0.08311 to 0.08144, saving model to model.h5\n",
      "18/18 [==============================] - 7s 388ms/step - loss: 0.0195 - val_loss: 0.0814\n",
      "Epoch 13/100\n",
      "17/18 [===========================>..] - ETA: 0s - loss: 0.0173\n",
      "Epoch 00013: val_loss improved from 0.08144 to 0.08058, saving model to model.h5\n",
      "18/18 [==============================] - 7s 394ms/step - loss: 0.0171 - val_loss: 0.0806\n",
      "Epoch 14/100\n",
      "17/18 [===========================>..] - ETA: 0s - loss: 0.0148\n",
      "Epoch 00014: val_loss improved from 0.08058 to 0.07931, saving model to model.h5\n",
      "18/18 [==============================] - 7s 382ms/step - loss: 0.0147 - val_loss: 0.0793\n",
      "Epoch 15/100\n",
      "17/18 [===========================>..] - ETA: 0s - loss: 0.0135\n",
      "Epoch 00015: val_loss did not improve from 0.07931\n",
      "18/18 [==============================] - 5s 269ms/step - loss: 0.0133 - val_loss: 0.0801\n",
      "Epoch 16/100\n",
      "17/18 [===========================>..] - ETA: 0s - loss: 0.0118\n",
      "Epoch 00016: val_loss improved from 0.07931 to 0.07739, saving model to model.h5\n",
      "18/18 [==============================] - 7s 390ms/step - loss: 0.0119 - val_loss: 0.0774\n",
      "Epoch 17/100\n",
      "17/18 [===========================>..] - ETA: 0s - loss: 0.0114\n",
      "Epoch 00017: val_loss did not improve from 0.07739\n",
      "18/18 [==============================] - 5s 280ms/step - loss: 0.0115 - val_loss: 0.0799\n",
      "Epoch 18/100\n",
      "17/18 [===========================>..] - ETA: 0s - loss: 0.0121\n",
      "Epoch 00018: val_loss did not improve from 0.07739\n",
      "18/18 [==============================] - 5s 272ms/step - loss: 0.0119 - val_loss: 0.0812\n",
      "Epoch 19/100\n",
      "17/18 [===========================>..] - ETA: 0s - loss: 0.0135\n",
      "Epoch 00019: val_loss did not improve from 0.07739\n",
      "18/18 [==============================] - 5s 275ms/step - loss: 0.0134 - val_loss: 0.0780\n",
      "Epoch 20/100\n",
      "17/18 [===========================>..] - ETA: 0s - loss: 0.0146\n",
      "Epoch 00020: val_loss improved from 0.07739 to 0.07585, saving model to model.h5\n",
      "18/18 [==============================] - 7s 394ms/step - loss: 0.0146 - val_loss: 0.0759\n",
      "Epoch 21/100\n",
      "17/18 [===========================>..] - ETA: 0s - loss: 0.0149\n",
      "Epoch 00021: val_loss did not improve from 0.07585\n",
      "18/18 [==============================] - 5s 278ms/step - loss: 0.0146 - val_loss: 0.0802\n",
      "Epoch 22/100\n",
      "17/18 [===========================>..] - ETA: 0s - loss: 0.0127\n",
      "Epoch 00022: val_loss did not improve from 0.07585\n",
      "18/18 [==============================] - 5s 276ms/step - loss: 0.0126 - val_loss: 0.0764\n",
      "Epoch 23/100\n",
      "17/18 [===========================>..] - ETA: 0s - loss: 0.0109\n",
      "Epoch 00023: val_loss did not improve from 0.07585\n",
      "18/18 [==============================] - 5s 272ms/step - loss: 0.0108 - val_loss: 0.0769\n",
      "Epoch 24/100\n",
      "17/18 [===========================>..] - ETA: 0s - loss: 0.0093\n",
      "Epoch 00024: val_loss did not improve from 0.07585\n",
      "18/18 [==============================] - 5s 275ms/step - loss: 0.0092 - val_loss: 0.0782\n",
      "Epoch 25/100\n",
      "17/18 [===========================>..] - ETA: 0s - loss: 0.0096\n",
      "Epoch 00025: val_loss improved from 0.07585 to 0.07557, saving model to model.h5\n",
      "18/18 [==============================] - 7s 410ms/step - loss: 0.0095 - val_loss: 0.0756\n",
      "Epoch 26/100\n",
      "17/18 [===========================>..] - ETA: 0s - loss: 0.0073\n",
      "Epoch 00026: val_loss did not improve from 0.07557\n",
      "18/18 [==============================] - 5s 278ms/step - loss: 0.0073 - val_loss: 0.0781\n",
      "Epoch 27/100\n",
      "17/18 [===========================>..] - ETA: 0s - loss: 0.0068\n",
      "Epoch 00027: val_loss did not improve from 0.07557\n",
      "18/18 [==============================] - 5s 272ms/step - loss: 0.0069 - val_loss: 0.0761\n",
      "Epoch 28/100\n",
      "17/18 [===========================>..] - ETA: 0s - loss: 0.0073\n",
      "Epoch 00028: val_loss did not improve from 0.07557\n",
      "18/18 [==============================] - 5s 276ms/step - loss: 0.0072 - val_loss: 0.0765\n",
      "Epoch 29/100\n",
      "17/18 [===========================>..] - ETA: 0s - loss: 0.0064\n",
      "Epoch 00029: val_loss did not improve from 0.07557\n",
      "18/18 [==============================] - 5s 274ms/step - loss: 0.0064 - val_loss: 0.0762\n",
      "Epoch 30/100\n",
      "17/18 [===========================>..] - ETA: 0s - loss: 0.0058\n",
      "Epoch 00030: val_loss did not improve from 0.07557\n",
      "18/18 [==============================] - 5s 282ms/step - loss: 0.0057 - val_loss: 0.0757\n",
      "Epoch 31/100\n",
      "17/18 [===========================>..] - ETA: 0s - loss: 0.0065\n",
      "Epoch 00031: val_loss improved from 0.07557 to 0.07532, saving model to model.h5\n",
      "18/18 [==============================] - 8s 438ms/step - loss: 0.0063 - val_loss: 0.0753\n",
      "Epoch 32/100\n",
      "17/18 [===========================>..] - ETA: 0s - loss: 0.0052\n",
      "Epoch 00032: val_loss did not improve from 0.07532\n",
      "18/18 [==============================] - 5s 283ms/step - loss: 0.0052 - val_loss: 0.0763\n",
      "Epoch 33/100\n",
      "17/18 [===========================>..] - ETA: 0s - loss: 0.0052\n",
      "Epoch 00033: val_loss did not improve from 0.07532\n",
      "18/18 [==============================] - 5s 274ms/step - loss: 0.0052 - val_loss: 0.0766\n",
      "Epoch 34/100\n",
      "17/18 [===========================>..] - ETA: 0s - loss: 0.0044\n",
      "Epoch 00034: val_loss did not improve from 0.07532\n",
      "18/18 [==============================] - 5s 277ms/step - loss: 0.0044 - val_loss: 0.0769\n"
     ]
    },
    {
     "name": "stdout",
     "output_type": "stream",
     "text": [
      "Epoch 35/100\n",
      "17/18 [===========================>..] - ETA: 0s - loss: 0.0038\n",
      "Epoch 00035: val_loss did not improve from 0.07532\n",
      "18/18 [==============================] - 5s 273ms/step - loss: 0.0038 - val_loss: 0.0759\n",
      "Epoch 36/100\n",
      "17/18 [===========================>..] - ETA: 0s - loss: 0.0033\n",
      "Epoch 00036: val_loss did not improve from 0.07532\n",
      "18/18 [==============================] - 5s 276ms/step - loss: 0.0033 - val_loss: 0.0765\n",
      "Epoch 37/100\n",
      "17/18 [===========================>..] - ETA: 0s - loss: 0.0031\n",
      "Epoch 00037: val_loss did not improve from 0.07532\n",
      "18/18 [==============================] - 5s 279ms/step - loss: 0.0031 - val_loss: 0.0772\n",
      "Epoch 38/100\n",
      "17/18 [===========================>..] - ETA: 0s - loss: 0.0032\n",
      "Epoch 00038: val_loss did not improve from 0.07532\n",
      "18/18 [==============================] - 5s 278ms/step - loss: 0.0032 - val_loss: 0.0763\n",
      "Epoch 39/100\n",
      "17/18 [===========================>..] - ETA: 0s - loss: 0.0041\n",
      "Epoch 00039: val_loss did not improve from 0.07532\n",
      "18/18 [==============================] - 5s 280ms/step - loss: 0.0040 - val_loss: 0.0766\n",
      "Epoch 40/100\n",
      "17/18 [===========================>..] - ETA: 0s - loss: 0.0038\n",
      "Epoch 00040: val_loss did not improve from 0.07532\n",
      "18/18 [==============================] - 5s 276ms/step - loss: 0.0038 - val_loss: 0.0771\n",
      "Epoch 41/100\n",
      "17/18 [===========================>..] - ETA: 0s - loss: 0.0040\n",
      "Epoch 00041: val_loss did not improve from 0.07532\n",
      "18/18 [==============================] - 5s 275ms/step - loss: 0.0040 - val_loss: 0.0777\n",
      "Epoch 42/100\n",
      "17/18 [===========================>..] - ETA: 0s - loss: 0.0033\n",
      "Epoch 00042: val_loss did not improve from 0.07532\n",
      "18/18 [==============================] - 5s 273ms/step - loss: 0.0033 - val_loss: 0.0766\n",
      "Epoch 43/100\n",
      "17/18 [===========================>..] - ETA: 0s - loss: 0.0034\n",
      "Epoch 00043: val_loss did not improve from 0.07532\n",
      "18/18 [==============================] - 5s 275ms/step - loss: 0.0034 - val_loss: 0.0757\n",
      "Epoch 44/100\n",
      "17/18 [===========================>..] - ETA: 0s - loss: 0.0030\n",
      "Epoch 00044: val_loss did not improve from 0.07532\n",
      "18/18 [==============================] - 5s 275ms/step - loss: 0.0030 - val_loss: 0.0754\n",
      "Epoch 45/100\n",
      "17/18 [===========================>..] - ETA: 0s - loss: 0.0026\n",
      "Epoch 00045: val_loss did not improve from 0.07532\n",
      "18/18 [==============================] - 5s 276ms/step - loss: 0.0026 - val_loss: 0.0784\n",
      "Epoch 46/100\n",
      "17/18 [===========================>..] - ETA: 0s - loss: 0.0028\n",
      "Epoch 00046: val_loss did not improve from 0.07532\n",
      "18/18 [==============================] - 5s 276ms/step - loss: 0.0028 - val_loss: 0.0764\n",
      "Epoch 47/100\n",
      "17/18 [===========================>..] - ETA: 0s - loss: 0.0025\n",
      "Epoch 00047: val_loss did not improve from 0.07532\n",
      "18/18 [==============================] - 5s 275ms/step - loss: 0.0025 - val_loss: 0.0770\n",
      "Epoch 48/100\n",
      "17/18 [===========================>..] - ETA: 0s - loss: 0.0032\n",
      "Epoch 00048: val_loss did not improve from 0.07532\n",
      "18/18 [==============================] - 5s 275ms/step - loss: 0.0035 - val_loss: 0.0759\n",
      "Epoch 49/100\n",
      "17/18 [===========================>..] - ETA: 0s - loss: 0.0037\n",
      "Epoch 00049: val_loss did not improve from 0.07532\n",
      "18/18 [==============================] - 5s 275ms/step - loss: 0.0037 - val_loss: 0.0768\n",
      "Epoch 50/100\n",
      "17/18 [===========================>..] - ETA: 0s - loss: 0.0037\n",
      "Epoch 00050: val_loss did not improve from 0.07532\n",
      "18/18 [==============================] - 5s 277ms/step - loss: 0.0037 - val_loss: 0.0761\n",
      "Epoch 51/100\n",
      "17/18 [===========================>..] - ETA: 0s - loss: 0.0032\n",
      "Epoch 00051: val_loss did not improve from 0.07532\n",
      "18/18 [==============================] - 5s 274ms/step - loss: 0.0032 - val_loss: 0.0760\n",
      "Epoch 52/100\n",
      "17/18 [===========================>..] - ETA: 0s - loss: 0.0030\n",
      "Epoch 00052: val_loss did not improve from 0.07532\n",
      "18/18 [==============================] - 5s 276ms/step - loss: 0.0031 - val_loss: 0.0755\n",
      "Epoch 53/100\n",
      "17/18 [===========================>..] - ETA: 0s - loss: 0.0038\n",
      "Epoch 00053: val_loss improved from 0.07532 to 0.07422, saving model to model.h5\n",
      "18/18 [==============================] - 8s 436ms/step - loss: 0.0038 - val_loss: 0.0742\n",
      "Epoch 54/100\n",
      "17/18 [===========================>..] - ETA: 0s - loss: 0.0041\n",
      "Epoch 00054: val_loss did not improve from 0.07422\n",
      "18/18 [==============================] - 5s 276ms/step - loss: 0.0042 - val_loss: 0.0746\n",
      "Epoch 55/100\n",
      "17/18 [===========================>..] - ETA: 0s - loss: 0.0049\n",
      "Epoch 00055: val_loss did not improve from 0.07422\n",
      "18/18 [==============================] - 5s 289ms/step - loss: 0.0051 - val_loss: 0.0787\n",
      "Epoch 56/100\n",
      "17/18 [===========================>..] - ETA: 0s - loss: 0.0053\n",
      "Epoch 00056: val_loss did not improve from 0.07422\n",
      "18/18 [==============================] - 5s 277ms/step - loss: 0.0053 - val_loss: 0.0756\n",
      "Epoch 57/100\n",
      "17/18 [===========================>..] - ETA: 0s - loss: 0.0093\n",
      "Epoch 00057: val_loss did not improve from 0.07422\n",
      "18/18 [==============================] - 5s 276ms/step - loss: 0.0090 - val_loss: 0.0752\n",
      "Epoch 58/100\n",
      "17/18 [===========================>..] - ETA: 0s - loss: 0.0065\n",
      "Epoch 00058: val_loss improved from 0.07422 to 0.07356, saving model to model.h5\n",
      "18/18 [==============================] - 8s 437ms/step - loss: 0.0063 - val_loss: 0.0736\n",
      "Epoch 59/100\n",
      "17/18 [===========================>..] - ETA: 0s - loss: 0.0036\n",
      "Epoch 00059: val_loss did not improve from 0.07356\n",
      "18/18 [==============================] - 5s 278ms/step - loss: 0.0036 - val_loss: 0.0745\n",
      "Epoch 60/100\n",
      "17/18 [===========================>..] - ETA: 0s - loss: 0.0024\n",
      "Epoch 00060: val_loss did not improve from 0.07356\n",
      "18/18 [==============================] - 5s 274ms/step - loss: 0.0023 - val_loss: 0.0739\n",
      "Epoch 61/100\n",
      "17/18 [===========================>..] - ETA: 0s - loss: 0.0023\n",
      "Epoch 00061: val_loss did not improve from 0.07356\n",
      "18/18 [==============================] - 5s 275ms/step - loss: 0.0023 - val_loss: 0.0736\n",
      "Epoch 62/100\n",
      "17/18 [===========================>..] - ETA: 0s - loss: 0.0023\n",
      "Epoch 00062: val_loss did not improve from 0.07356\n",
      "18/18 [==============================] - 5s 278ms/step - loss: 0.0023 - val_loss: 0.0737\n",
      "Epoch 63/100\n",
      "17/18 [===========================>..] - ETA: 0s - loss: 0.0018\n",
      "Epoch 00063: val_loss improved from 0.07356 to 0.07287, saving model to model.h5\n",
      "18/18 [==============================] - 8s 438ms/step - loss: 0.0018 - val_loss: 0.0729\n",
      "Epoch 64/100\n",
      "17/18 [===========================>..] - ETA: 0s - loss: 0.0015\n",
      "Epoch 00064: val_loss did not improve from 0.07287\n",
      "18/18 [==============================] - 5s 277ms/step - loss: 0.0015 - val_loss: 0.0741\n",
      "Epoch 65/100\n",
      "17/18 [===========================>..] - ETA: 0s - loss: 0.0014\n",
      "Epoch 00065: val_loss did not improve from 0.07287\n",
      "18/18 [==============================] - 5s 276ms/step - loss: 0.0015 - val_loss: 0.0740\n",
      "Epoch 66/100\n",
      "17/18 [===========================>..] - ETA: 0s - loss: 0.0014\n",
      "Epoch 00066: val_loss did not improve from 0.07287\n",
      "18/18 [==============================] - 5s 275ms/step - loss: 0.0014 - val_loss: 0.0731\n",
      "Epoch 67/100\n",
      "17/18 [===========================>..] - ETA: 0s - loss: 0.0014\n",
      "Epoch 00067: val_loss did not improve from 0.07287\n",
      "18/18 [==============================] - 5s 275ms/step - loss: 0.0013 - val_loss: 0.0734\n",
      "Epoch 68/100\n",
      "17/18 [===========================>..] - ETA: 0s - loss: 0.0014\n",
      "Epoch 00068: val_loss improved from 0.07287 to 0.07276, saving model to model.h5\n",
      "18/18 [==============================] - 8s 453ms/step - loss: 0.0014 - val_loss: 0.0728\n",
      "Epoch 69/100\n",
      "17/18 [===========================>..] - ETA: 0s - loss: 0.0017\n",
      "Epoch 00069: val_loss did not improve from 0.07276\n",
      "18/18 [==============================] - 5s 277ms/step - loss: 0.0017 - val_loss: 0.0754\n",
      "Epoch 70/100\n",
      "17/18 [===========================>..] - ETA: 0s - loss: 0.0021\n",
      "Epoch 00070: val_loss did not improve from 0.07276\n",
      "18/18 [==============================] - 5s 286ms/step - loss: 0.0022 - val_loss: 0.0733\n",
      "Epoch 71/100\n",
      "17/18 [===========================>..] - ETA: 0s - loss: 0.0016\n",
      "Epoch 00071: val_loss did not improve from 0.07276\n",
      "18/18 [==============================] - 5s 274ms/step - loss: 0.0016 - val_loss: 0.0742\n",
      "Epoch 72/100\n"
     ]
    },
    {
     "name": "stdout",
     "output_type": "stream",
     "text": [
      "17/18 [===========================>..] - ETA: 0s - loss: 0.0020\n",
      "Epoch 00072: val_loss did not improve from 0.07276\n",
      "18/18 [==============================] - 5s 260ms/step - loss: 0.0019 - val_loss: 0.0740\n",
      "Epoch 73/100\n",
      "17/18 [===========================>..] - ETA: 0s - loss: 0.0015\n",
      "Epoch 00073: val_loss did not improve from 0.07276\n",
      "18/18 [==============================] - 5s 258ms/step - loss: 0.0015 - val_loss: 0.0768\n",
      "Epoch 74/100\n",
      "17/18 [===========================>..] - ETA: 0s - loss: 0.0031\n",
      "Epoch 00074: val_loss did not improve from 0.07276\n",
      "18/18 [==============================] - 5s 267ms/step - loss: 0.0030 - val_loss: 0.0738\n",
      "Epoch 75/100\n",
      "17/18 [===========================>..] - ETA: 0s - loss: 0.0025\n",
      "Epoch 00075: val_loss did not improve from 0.07276\n",
      "18/18 [==============================] - 5s 263ms/step - loss: 0.0025 - val_loss: 0.0743\n",
      "Epoch 76/100\n",
      "17/18 [===========================>..] - ETA: 0s - loss: 0.0024\n",
      "Epoch 00076: val_loss did not improve from 0.07276\n",
      "18/18 [==============================] - 5s 274ms/step - loss: 0.0024 - val_loss: 0.0733\n",
      "Epoch 77/100\n",
      "17/18 [===========================>..] - ETA: 0s - loss: 0.0014\n",
      "Epoch 00077: val_loss did not improve from 0.07276\n",
      "18/18 [==============================] - 5s 274ms/step - loss: 0.0015 - val_loss: 0.0739\n",
      "Epoch 78/100\n",
      "17/18 [===========================>..] - ETA: 0s - loss: 0.0011\n",
      "Epoch 00078: val_loss did not improve from 0.07276\n",
      "18/18 [==============================] - 5s 268ms/step - loss: 0.0011 - val_loss: 0.0738\n",
      "Epoch 79/100\n",
      "17/18 [===========================>..] - ETA: 0s - loss: 0.0012\n",
      "Epoch 00079: val_loss did not improve from 0.07276\n",
      "18/18 [==============================] - 5s 262ms/step - loss: 0.0012 - val_loss: 0.0729\n",
      "Epoch 80/100\n",
      "17/18 [===========================>..] - ETA: 0s - loss: 0.0012\n",
      "Epoch 00080: val_loss did not improve from 0.07276\n",
      "18/18 [==============================] - 5s 257ms/step - loss: 0.0012 - val_loss: 0.0738\n",
      "Epoch 81/100\n",
      "17/18 [===========================>..] - ETA: 0s - loss: 9.4996e-04\n",
      "Epoch 00081: val_loss did not improve from 0.07276\n",
      "18/18 [==============================] - 5s 257ms/step - loss: 9.7469e-04 - val_loss: 0.0731\n",
      "Epoch 82/100\n",
      "17/18 [===========================>..] - ETA: 0s - loss: 8.8872e-04\n",
      "Epoch 00082: val_loss did not improve from 0.07276\n",
      "18/18 [==============================] - 5s 258ms/step - loss: 8.8749e-04 - val_loss: 0.0734\n",
      "Epoch 83/100\n",
      "17/18 [===========================>..] - ETA: 0s - loss: 6.4926e-04\n",
      "Epoch 00083: val_loss did not improve from 0.07276\n",
      "18/18 [==============================] - 5s 257ms/step - loss: 6.5989e-04 - val_loss: 0.0729\n",
      "Epoch 84/100\n",
      "17/18 [===========================>..] - ETA: 0s - loss: 6.6111e-04\n",
      "Epoch 00084: val_loss did not improve from 0.07276\n",
      "18/18 [==============================] - 5s 259ms/step - loss: 6.5895e-04 - val_loss: 0.0732\n",
      "Epoch 85/100\n",
      "17/18 [===========================>..] - ETA: 0s - loss: 9.3461e-04\n",
      "Epoch 00085: val_loss did not improve from 0.07276\n",
      "18/18 [==============================] - 5s 263ms/step - loss: 9.0766e-04 - val_loss: 0.0732\n",
      "Epoch 86/100\n",
      "17/18 [===========================>..] - ETA: 0s - loss: 0.0012\n",
      "Epoch 00086: val_loss did not improve from 0.07276\n",
      "18/18 [==============================] - 5s 263ms/step - loss: 0.0014 - val_loss: 0.0746\n",
      "Epoch 87/100\n",
      "17/18 [===========================>..] - ETA: 0s - loss: 0.0012\n",
      "Epoch 00087: val_loss did not improve from 0.07276\n",
      "18/18 [==============================] - 5s 278ms/step - loss: 0.0012 - val_loss: 0.0768\n",
      "Epoch 88/100\n",
      "17/18 [===========================>..] - ETA: 0s - loss: 0.0017\n",
      "Epoch 00088: val_loss did not improve from 0.07276\n",
      "18/18 [==============================] - 5s 276ms/step - loss: 0.0016 - val_loss: 0.0733\n",
      "Epoch 89/100\n",
      "17/18 [===========================>..] - ETA: 0s - loss: 0.0019\n",
      "Epoch 00089: val_loss did not improve from 0.07276\n",
      "18/18 [==============================] - 5s 274ms/step - loss: 0.0018 - val_loss: 0.0745\n",
      "Epoch 90/100\n",
      "17/18 [===========================>..] - ETA: 0s - loss: 0.0027\n",
      "Epoch 00090: val_loss did not improve from 0.07276\n",
      "18/18 [==============================] - 5s 277ms/step - loss: 0.0029 - val_loss: 0.0828\n",
      "Epoch 91/100\n",
      "17/18 [===========================>..] - ETA: 0s - loss: 0.0051\n",
      "Epoch 00091: val_loss did not improve from 0.07276\n",
      "18/18 [==============================] - 5s 274ms/step - loss: 0.0050 - val_loss: 0.0746\n",
      "Epoch 92/100\n",
      "17/18 [===========================>..] - ETA: 0s - loss: 0.0047\n",
      "Epoch 00092: val_loss did not improve from 0.07276\n",
      "18/18 [==============================] - 5s 275ms/step - loss: 0.0046 - val_loss: 0.0744\n",
      "Epoch 93/100\n",
      "17/18 [===========================>..] - ETA: 0s - loss: 0.0037\n",
      "Epoch 00093: val_loss improved from 0.07276 to 0.07228, saving model to model.h5\n",
      "18/18 [==============================] - 8s 462ms/step - loss: 0.0036 - val_loss: 0.0723\n",
      "Epoch 94/100\n",
      "17/18 [===========================>..] - ETA: 0s - loss: 0.0046\n",
      "Epoch 00094: val_loss did not improve from 0.07228\n",
      "18/18 [==============================] - 5s 276ms/step - loss: 0.0046 - val_loss: 0.0743\n",
      "Epoch 95/100\n",
      "17/18 [===========================>..] - ETA: 0s - loss: 0.0066\n",
      "Epoch 00095: val_loss improved from 0.07228 to 0.07175, saving model to model.h5\n",
      "18/18 [==============================] - 8s 438ms/step - loss: 0.0064 - val_loss: 0.0718\n",
      "Epoch 96/100\n",
      "17/18 [===========================>..] - ETA: 0s - loss: 0.0055\n",
      "Epoch 00096: val_loss did not improve from 0.07175\n",
      "18/18 [==============================] - 5s 277ms/step - loss: 0.0052 - val_loss: 0.0740\n",
      "Epoch 97/100\n",
      "17/18 [===========================>..] - ETA: 0s - loss: 0.0037\n",
      "Epoch 00097: val_loss did not improve from 0.07175\n",
      "18/18 [==============================] - 5s 276ms/step - loss: 0.0036 - val_loss: 0.0722\n",
      "Epoch 98/100\n",
      "17/18 [===========================>..] - ETA: 0s - loss: 0.0029\n",
      "Epoch 00098: val_loss did not improve from 0.07175\n",
      "18/18 [==============================] - 5s 283ms/step - loss: 0.0028 - val_loss: 0.0726\n",
      "Epoch 99/100\n",
      "17/18 [===========================>..] - ETA: 0s - loss: 0.0019\n",
      "Epoch 00099: val_loss did not improve from 0.07175\n",
      "18/18 [==============================] - 5s 278ms/step - loss: 0.0019 - val_loss: 0.0723\n",
      "Epoch 100/100\n",
      "17/18 [===========================>..] - ETA: 0s - loss: 0.0015\n",
      "Epoch 00100: val_loss did not improve from 0.07175\n",
      "18/18 [==============================] - 5s 277ms/step - loss: 0.0015 - val_loss: 0.0730\n"
     ]
    }
   ],
   "source": [
    "hist = model.fit_generator(generator=train_generator, \n",
    "                           steps_per_epoch=len(train_generator), \n",
    "                           epochs=100, \n",
    "                           verbose=1,\n",
    "                           validation_data=valid_generator,\n",
    "                           validation_steps=len(valid_generator),\n",
    "                           callbacks=[checkpoint_cb],\n",
    "                           max_queue_size=3)"
   ]
  },
  {
   "cell_type": "code",
   "execution_count": 48,
   "metadata": {},
   "outputs": [],
   "source": [
    "import pickle"
   ]
  },
  {
   "cell_type": "code",
   "execution_count": 49,
   "metadata": {},
   "outputs": [],
   "source": [
    "with open('/home/marcin/Repos/keras-yolo2/hist_original.pkl', 'rb') as f:\n",
    "    hist_original = pickle.load(f)\n",
    "with open('/home/marcin/Repos/keras-yolo2/hist_original_2.pkl', 'rb') as f:\n",
    "    hist_original_2 = pickle.load(f)\n",
    "with open('/home/marcin/Repos/keras-yolo2/hist_original_3.pkl', 'rb') as f:\n",
    "    hist_original_3 = pickle.load(f)\n",
    "\n",
    "with open('/home/marcin/Repos/keras-yolo2/hist_no_warmup.pkl', 'rb') as f:\n",
    "    hist_no_warmup = pickle.load(f)\n",
    "\n",
    "with open('/home/marcin/Repos/keras-yolo2/hist_no_jitter.pkl', 'rb') as f:\n",
    "    hist_no_jitter = pickle.load(f)\n",
    "\n",
    "with open('/home/marcin/Repos/keras-yolo2/hist_no_warmup_no_jiter.pkl', 'rb') as f:\n",
    "    hist_no_warmup_no_jiter = pickle.load(f)\n",
    "with open('/home/marcin/Repos/keras-yolo2/hist_no_warmup_no_jiter_2.pkl', 'rb') as f:\n",
    "    hist_no_warmup_no_jiter_2 = pickle.load(f)\n",
    "\n",
    "with open('/home/marcin/Repos/keras-yolo2/hist_no_warmup_no_jiter_simple_loss.pkl', 'rb') as f:\n",
    "    hist_no_warmup_no_jiter_simple_loss = pickle.load(f)"
   ]
  },
  {
   "cell_type": "code",
   "execution_count": 50,
   "metadata": {},
   "outputs": [
    {
     "data": {
      "text/plain": [
       "(0, 0.2)"
      ]
     },
     "execution_count": 50,
     "metadata": {},
     "output_type": "execute_result"
    },
    {
     "data": {
      "image/png": "[encoded data removed]",
      "text/plain": [
       "<Figure size 432x288 with 1 Axes>"
      ]
     },
     "metadata": {
      "needs_background": "light"
     },
     "output_type": "display_data"
    }
   ],
   "source": [
    "# plt.plot(hist_original['loss'], c='blue')\n",
    "# plt.plot(hist_original['val_loss'], c='blue')\n",
    "# plt.plot(hist_original_2['loss'], c='lightblue')\n",
    "# plt.plot(hist_original_2['val_loss'], c='lightblue')\n",
    "# plt.plot(hist_original_3['loss'], c='lightblue')\n",
    "# plt.plot(hist_original_3['val_loss'], c='lightblue')\n",
    "# plt.plot(hist_no_warmup['loss'], c='red')\n",
    "# plt.plot(hist_no_warmup['val_loss'], c='pink')\n",
    "plt.plot(hist_no_jitter['loss'], c='blue')\n",
    "plt.plot(hist_no_jitter['val_loss'], c='lightblue')\n",
    "plt.plot(hist_no_warmup_no_jiter['loss'], c='green')\n",
    "plt.plot(hist_no_warmup_no_jiter['val_loss'], c='lightgreen')\n",
    "plt.plot(hist_no_warmup_no_jiter_2['loss'], c='green')\n",
    "plt.plot(hist_no_warmup_no_jiter_2['val_loss'], c='lightgreen')\n",
    "plt.plot(hist_no_warmup_no_jiter_simple_loss['loss'], c='red')\n",
    "plt.plot(hist_no_warmup_no_jiter_simple_loss['val_loss'], c='pink')\n",
    "plt.plot(hist.history['loss'], c='black')\n",
    "plt.plot(hist.history['val_loss'], c='darkgray')\n",
    "\n",
    "plt.ylim((0, .2))"
   ]
  },
  {
   "cell_type": "code",
   "execution_count": null,
   "metadata": {},
   "outputs": [],
   "source": []
  },
  {
   "cell_type": "code",
   "execution_count": null,
   "metadata": {},
   "outputs": [],
   "source": []
  },
  {
   "cell_type": "code",
   "execution_count": 51,
   "metadata": {},
   "outputs": [],
   "source": [
    "def sigmoid(x):\n",
    "    return 1 / (1+np.exp(-x))"
   ]
  },
  {
   "cell_type": "code",
   "execution_count": 52,
   "metadata": {},
   "outputs": [],
   "source": [
    "def softmax(x):\n",
    "    max_ = np.max(x, axis=-1, keepdims=True)\n",
    "    ex = np.exp(x - max_)\n",
    "    ex_sum = np.sum(ex, axis=-1, keepdims=True)\n",
    "    return ex / ex_sum"
   ]
  },
  {
   "cell_type": "code",
   "execution_count": 56,
   "metadata": {},
   "outputs": [],
   "source": [
    "def iou(bboxA, bboxB):\n",
    "    # intersect rectangle\n",
    "    xmin = max(bboxA.xmin, bboxB.xmin)\n",
    "    ymin = max(bboxA.ymin, bboxB.ymin)\n",
    "    xmax = min(bboxA.xmax, bboxB.xmax)\n",
    "    ymax = min(bboxA.ymax, bboxB.ymax)\n",
    "    \n",
    "    areaI = max(0, xmax-xmin+1) * max(0, ymax-ymin+1)\n",
    "    areaA = (bboxA.xmax-bboxA.xmin+1) * (bboxA.ymax-bboxA.ymin+1)\n",
    "    areaB = (bboxB.xmax-bboxB.xmin+1) * (bboxB.ymax-bboxB.ymin+1)\n",
    "    \n",
    "    return areaI / (areaA + areaB - areaI)"
   ]
  },
  {
   "cell_type": "code",
   "execution_count": null,
   "metadata": {},
   "outputs": [],
   "source": []
  },
  {
   "cell_type": "code",
   "execution_count": null,
   "metadata": {},
   "outputs": [],
   "source": []
  },
  {
   "cell_type": "code",
   "execution_count": null,
   "metadata": {},
   "outputs": [],
   "source": []
  },
  {
   "cell_type": "code",
   "execution_count": null,
   "metadata": {},
   "outputs": [],
   "source": []
  },
  {
   "cell_type": "code",
   "execution_count": null,
   "metadata": {},
   "outputs": [],
   "source": []
  }
 ],
 "metadata": {
  "kernelspec": {
   "display_name": "Python [conda env:tf]",
   "language": "python",
   "name": "conda-env-tf-py"
  },
  "language_info": {
   "codemirror_mode": {
    "name": "ipython",
    "version": 3
   },
   "file_extension": ".py",
   "mimetype": "text/x-python",
   "name": "python",
   "nbconvert_exporter": "python",
   "pygments_lexer": "ipython3",
   "version": "3.7.4"
  },
  "toc": {
   "base_numbering": 1,
   "nav_menu": {},
   "number_sections": false,
   "sideBar": true,
   "skip_h1_title": false,
   "title_cell": "Table of Contents",
   "title_sidebar": "Contents",
   "toc_cell": false,
   "toc_position": {},
   "toc_section_display": true,
   "toc_window_display": false
  }
 },
 "nbformat": 4,
 "nbformat_minor": 2
}
