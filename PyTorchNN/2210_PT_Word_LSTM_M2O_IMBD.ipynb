{
 "cells": [
  {
   "cell_type": "markdown",
   "metadata": {},
   "source": [
    "# Introduction"
   ]
  },
  {
   "cell_type": "markdown",
   "metadata": {},
   "source": [
    "This notebook presents **bag-of-words** sentiment anlysis on [IMDB](http://ai.stanford.edu/~amaas/data/sentiment/) movie reviews dataset."
   ]
  },
  {
   "cell_type": "markdown",
   "metadata": {},
   "source": [
    "**Contents**\n",
    "\n",
    "* [IMDB Dataset](#IMDB-Dataset) - load and preprocess\n",
    "* [Preprocess Data](#Preprocess-Data) - cleanup and reduce noise\n",
    "* [PyTorch Model](#Keras-Model) - build and train model"
   ]
  },
  {
   "cell_type": "markdown",
   "metadata": {},
   "source": [
    "# Imports"
   ]
  },
  {
   "cell_type": "code",
   "execution_count": 1,
   "metadata": {},
   "outputs": [],
   "source": [
    "import os\n",
    "import re\n",
    "import time\n",
    "import collections\n",
    "import numpy as np\n",
    "import matplotlib.pyplot as plt\n",
    "import torch\n",
    "import torch.nn as nn"
   ]
  },
  {
   "cell_type": "markdown",
   "metadata": {},
   "source": [
    "Pick GPU if available"
   ]
  },
  {
   "cell_type": "code",
   "execution_count": 2,
   "metadata": {},
   "outputs": [],
   "source": [
    "device = torch.device(\"cuda:0\" if torch.cuda.is_available() else \"cpu\")"
   ]
  },
  {
   "cell_type": "markdown",
   "metadata": {},
   "source": [
    "# IMDB Dataset"
   ]
  },
  {
   "cell_type": "markdown",
   "metadata": {},
   "source": [
    "Download the dataset from [here](http://ai.stanford.edu/~amaas/data/sentiment/aclImdb_v1.tar.gz) and extract. Point path below to extracted location."
   ]
  },
  {
   "cell_type": "code",
   "execution_count": 3,
   "metadata": {},
   "outputs": [],
   "source": [
    "dataset_location = '/home/marcin/Datasets/imdb'"
   ]
  },
  {
   "cell_type": "markdown",
   "metadata": {},
   "source": [
    "Helper to load the dataset"
   ]
  },
  {
   "cell_type": "code",
   "execution_count": 4,
   "metadata": {},
   "outputs": [],
   "source": [
    "def load_imdb_dataset(dataset_loc):\n",
    "    def read_reviews(path, label, reviews, labels):\n",
    "        files_list = sorted(os.listdir(path))\n",
    "        for filename in sorted(os.listdir(path)):\n",
    "            with open(os.path.join(path, filename)) as f:\n",
    "                reviews.append(f.read())\n",
    "                labels.append(label)\n",
    "        return reviews, labels\n",
    "    \n",
    "    path_train_pos = os.path.join(dataset_location, 'aclImdb_v1/aclImdb/train/pos')\n",
    "    path_train_neg = os.path.join(dataset_location, 'aclImdb_v1/aclImdb/train/neg')\n",
    "    path_test_pos = os.path.join(dataset_location, 'aclImdb_v1/aclImdb/test/pos')\n",
    "    path_test_neg = os.path.join(dataset_location, 'aclImdb_v1/aclImdb/test/neg')\n",
    "    \n",
    "    train_revs, train_labels = [], []\n",
    "    train_revs, train_labels = read_reviews(path_train_pos, 1, train_revs, train_labels)\n",
    "    train_revs, train_labels = read_reviews(path_train_neg, 0, train_revs, train_labels)\n",
    "    \n",
    "    test_revs, test_labels = [], []\n",
    "    test_revs, test_labels = read_reviews(path_test_pos, 1, test_revs, test_labels)\n",
    "    test_revs, test_labels = read_reviews(path_test_neg, 0, test_revs, test_labels)\n",
    "    \n",
    "    return (train_revs, train_labels), (test_revs, test_labels)"
   ]
  },
  {
   "cell_type": "markdown",
   "metadata": {},
   "source": [
    "Load dataset"
   ]
  },
  {
   "cell_type": "code",
   "execution_count": 5,
   "metadata": {},
   "outputs": [],
   "source": [
    "train_data, test_data = load_imdb_dataset(dataset_location)\n",
    "train_reviews_raw, train_labels_raw = train_data\n",
    "test_reviews_raw, test_labels_raw = test_data   "
   ]
  },
  {
   "cell_type": "markdown",
   "metadata": {},
   "source": [
    "**Look at the Data**"
   ]
  },
  {
   "cell_type": "markdown",
   "metadata": {},
   "source": [
    "Lets see a sample review"
   ]
  },
  {
   "cell_type": "code",
   "execution_count": 6,
   "metadata": {},
   "outputs": [
    {
     "name": "stdout",
     "output_type": "stream",
     "text": [
      "Bromwell High is a cartoon comedy. It ran at the same time as some other programs about school life, such as \"Teachers\". My 35 years in the teaching profession lead me to believe that Bromwell High's satire is much closer to reality than is \"Teachers\". The scramble to survive financially, the insightful students who can see right through their pathetic teachers' pomp, the pettiness of the whole situation, all remind me of the schools I knew and their students. When I saw the episode in which a student repeatedly tried to burn down the school, I immediately recalled ......... at .......... High. A classic line: INSPECTOR: I'm here to sack one of your teachers. STUDENT: Welcome to Bromwell High. I expect that many adults of my age think that Bromwell High is far fetched. What a pity that it isn't!\n"
     ]
    }
   ],
   "source": [
    "print(train_reviews_raw[0])"
   ]
  },
  {
   "cell_type": "markdown",
   "metadata": {},
   "source": [
    "Count words in the dataset"
   ]
  },
  {
   "cell_type": "code",
   "execution_count": 7,
   "metadata": {},
   "outputs": [],
   "source": [
    "def count_words(list_of_examples):\n",
    "    if isinstance(list_of_examples[0], str):\n",
    "        split = True  # got list of strings, need to split words\n",
    "    if isinstance(list_of_examples[0], list):\n",
    "        split = False  # list of lists, already split by words\n",
    "    \n",
    "    words_counter = collections.Counter()\n",
    "    for example in list_of_examples:\n",
    "        if split:\n",
    "            words_counter.update(example.split())\n",
    "        else:\n",
    "            words_counter.update(example)\n",
    "            \n",
    "    total_words = sum(list(words_counter.values()))\n",
    "    unique_words = len(words_counter)\n",
    "    \n",
    "    return total_words, unique_words, words_counter"
   ]
  },
  {
   "cell_type": "code",
   "execution_count": 8,
   "metadata": {},
   "outputs": [
    {
     "name": "stdout",
     "output_type": "stream",
     "text": [
      "Total words:  5844680\n",
      "Unique words:  280617\n"
     ]
    }
   ],
   "source": [
    "total_words, unique_words, words_counter = count_words(train_reviews_raw)\n",
    "print('Total words: ', total_words)\n",
    "print('Unique words: ', unique_words)"
   ]
  },
  {
   "cell_type": "markdown",
   "metadata": {},
   "source": [
    "We have 5.8M words (as separated by spaces) and 280k unique words"
   ]
  },
  {
   "cell_type": "markdown",
   "metadata": {},
   "source": [
    "And lets have a look at word count distributions\n"
   ]
  },
  {
   "cell_type": "code",
   "execution_count": 9,
   "metadata": {},
   "outputs": [],
   "source": [
    "def plot_counts(words_counter, title):\n",
    "    sorted_all = np.array(sorted(list(words_counter.values()), reverse=True))\n",
    "    fig, [ax1, ax2] = plt.subplots(1, 2, figsize=[16,6])\n",
    "    ax1.plot(sorted_all); ax1.set_title(title + ' Counts (linear scale)')\n",
    "    ax2.plot(sorted_all); ax2.set_title(title + ' Counts (log scale)')\n",
    "    ax2.set_yscale('log')"
   ]
  },
  {
   "cell_type": "code",
   "execution_count": 10,
   "metadata": {},
   "outputs": [
    {
     "data": {
      "image/png": "[encoded data removed]",
      "text/plain": [
       "<Figure size 1152x432 with 2 Axes>"
      ]
     },
     "metadata": {
      "needs_background": "light"
     },
     "output_type": "display_data"
    }
   ],
   "source": [
    "plot_counts(words_counter, title='Word')"
   ]
  },
  {
   "cell_type": "markdown",
   "metadata": {},
   "source": [
    "Some words appear 300k times (left plot), while there is over 150k \"words\" that appear only once (right plot)"
   ]
  },
  {
   "cell_type": "markdown",
   "metadata": {},
   "source": [
    "# Preprocess Data"
   ]
  },
  {
   "cell_type": "markdown",
   "metadata": {},
   "source": [
    "We are going to perform following pre-processing steps:\n",
    "\n",
    "* text cleanup - convert to lowercase and remove any non __a-z__ characters\n",
    "* remove stopwords - remove words like 'the', 'a', 'an' and so on\n",
    "* reduce vocabulary - keep 1000 most common words (same as tf.keras.datasets.imbd)\n",
    "* tokenize - convert words to ints"
   ]
  },
  {
   "cell_type": "markdown",
   "metadata": {},
   "source": [
    "**Text Cleanup**"
   ]
  },
  {
   "cell_type": "markdown",
   "metadata": {},
   "source": [
    "We are going to perform following pre-processing steps:\n",
    "\n",
    "* convert to lowercase\n",
    "* keep only a-z characters, convert everything else to space\n",
    "  * (we could spell digits, i.e. convert 20 to 'two zero' but we won't bother here)\n",
    "* split whatever is left thus removing any consequent spaces\n",
    "  \n",
    "This will leave us with dataset build of 26 letters.\n",
    "\n",
    "Note that words like \"didn't\" will be converted to \"didn t\", but that's ok. Words \"did\" and \"didn\" will still be encoded as different characters. Word \"t\" can be dropped when removing stopwords."
   ]
  },
  {
   "cell_type": "markdown",
   "metadata": {},
   "source": [
    "<div class=\"alert alert-info\">\n",
    "\n",
    "NOTE: Sometimes keeping apostrophe in regex helps\n",
    "\n",
    "</div>"
   ]
  },
  {
   "cell_type": "code",
   "execution_count": 12,
   "metadata": {},
   "outputs": [],
   "source": [
    "def text_cleanup(list_of_texts):\n",
    "    \"\"\"Perform text cleanup, reduce to a-z and space.\"\"\"\n",
    "    def cleanup(text):\n",
    "        res = text.lower()\n",
    "        res = regex.sub(' ', res)\n",
    "        return res.split()\n",
    "    \n",
    "    result_cleaned = []\n",
    "    regex = re.compile('[^a-z ]+')    # removes everything that is not a-z\n",
    "    for text in list_of_texts:\n",
    "        result_cleaned.append(cleanup(text))\n",
    "    return result_cleaned                     # doubly nested list of words"
   ]
  },
  {
   "cell_type": "code",
   "execution_count": 13,
   "metadata": {},
   "outputs": [
    {
     "name": "stdout",
     "output_type": "stream",
     "text": [
      "['bromwell', 'high', 'is', 'a', 'cartoon', 'comedy', 'it', 'ran', 'at', 'the', 'same', 'time', 'as', 'some', 'other', 'programs', 'about', 'school', 'life', 'such', 'as', 'teachers', 'my', 'years', 'in', 'the', 'teaching', 'profession', 'lead', 'me', 'to', 'believe', 'that', 'bromwell', 'high', 's', 'satire', 'is', 'much', 'closer', 'to', 'reality', 'than', 'is', 'teachers', 'the', 'scramble', 'to', 'survive', 'financially', 'the', 'insightful', 'students', 'who', 'can', 'see', 'right', 'through', 'their', 'pathetic', 'teachers', 'pomp', 'the', 'pettiness', 'of', 'the', 'whole', 'situation', 'all', 'remind', 'me', 'of', 'the', 'schools', 'i', 'knew', 'and', 'their', 'students', 'when', 'i', 'saw', 'the', 'episode', 'in', 'which', 'a', 'student', 'repeatedly', 'tried', 'to', 'burn', 'down', 'the', 'school', 'i', 'immediately', 'recalled', 'at', 'high', 'a', 'classic', 'line', 'inspector', 'i', 'm', 'here', 'to', 'sack', 'one', 'of', 'your', 'teachers', 'student', 'welcome', 'to', 'bromwell', 'high', 'i', 'expect', 'that', 'many', 'adults', 'of', 'my', 'age', 'think', 'that', 'bromwell', 'high', 'is', 'far', 'fetched', 'what', 'a', 'pity', 'that', 'it', 'isn', 't']\n"
     ]
    }
   ],
   "source": [
    "train_reviews = text_cleanup(train_reviews_raw)\n",
    "test_reviews = text_cleanup(test_reviews_raw)\n",
    "print(train_reviews[0])"
   ]
  },
  {
   "cell_type": "markdown",
   "metadata": {},
   "source": [
    "Lets see how it looks like now"
   ]
  },
  {
   "cell_type": "code",
   "execution_count": 14,
   "metadata": {},
   "outputs": [
    {
     "name": "stdout",
     "output_type": "stream",
     "text": [
      "Total words:  6023662\n",
      "Unique words:  73272\n"
     ]
    }
   ],
   "source": [
    "total_words, unique_words, words_counter = count_words(train_reviews)\n",
    "print('Total words: ', total_words)\n",
    "print('Unique words: ', unique_words)"
   ]
  },
  {
   "cell_type": "markdown",
   "metadata": {},
   "source": [
    "**Remove Stopwords**"
   ]
  },
  {
   "cell_type": "markdown",
   "metadata": {},
   "source": [
    "<div class=\"alert alert-info\">\n",
    "\n",
    "NOTE: This step doesn't provide much improvement on this task\n",
    "\n",
    "</div>"
   ]
  },
  {
   "cell_type": "markdown",
   "metadata": {},
   "source": [
    "Check most common words, they don't contribute to overall meaning of sentences"
   ]
  },
  {
   "cell_type": "code",
   "execution_count": 17,
   "metadata": {},
   "outputs": [
    {
     "data": {
      "text/plain": [
       "[('the', 336758),\n",
       " ('and', 164143),\n",
       " ('a', 163174),\n",
       " ('of', 145867),\n",
       " ('to', 135724),\n",
       " ('is', 107337),\n",
       " ('br', 101872),\n",
       " ('it', 96472),\n",
       " ('in', 93981),\n",
       " ('i', 87702)]"
      ]
     },
     "metadata": {},
     "output_type": "display_data"
    }
   ],
   "source": [
    "display(words_counter.most_common()[:10])"
   ]
  },
  {
   "cell_type": "markdown",
   "metadata": {},
   "source": [
    "List of stopwords from NLTK"
   ]
  },
  {
   "cell_type": "code",
   "execution_count": 18,
   "metadata": {},
   "outputs": [],
   "source": [
    "# import nltk\n",
    "# nltk.download('stopwords')\n",
    "# en_stopwords = nltk.corpus.stopwords.words('english')\n",
    "# stopwords = {sw for sw in en_stopwords}\n",
    "# print(stopwords)\n",
    "stopwords = {'down', 'then', 'of', 'but', 'only', 'yours', 'himself', 'again',\n",
    "             'very', 'or', 'once', 'until', 'have', \"doesn't\", 'what', 'during',\n",
    "             \"that'll\", 'some', 'was', 'be', 'he', \"should've\", 'between',\n",
    "             \"shouldn't\", 'further', 'no', 'yourself', 'm', 've', \"you'll\",\n",
    "             'ain', 't', 'our', 'his', 'o', 'wouldn', 'below', 'any', 'under',\n",
    "             'you', 'isn', 'theirs', 'why', 'that', 'mightn', 'ourselves', 'on',\n",
    "             'haven', 'while', 'to', 'than', 'your', 'she', 'is', 'just',\n",
    "             \"mightn't\", 'with', \"you've\", 'mustn', 'needn', 'same', 'me',\n",
    "             'such', 'myself', 'there', 'own', 'this', 're', 'ma', 'from',\n",
    "             'did', 'couldn', 'hasn', 'for', 'won', \"won't\", \"mustn't\", 'her',\n",
    "             'can', 'doesn', \"wouldn't\", 'when', \"you're\", 'who', 'which', 'll',\n",
    "             'itself', 'against', 'out', 'up', \"it's\", 'a', 'here', 'being',\n",
    "             'they', 'as', 'didn', 'weren', 'aren', 'herself', 'the', 'if',\n",
    "             \"didn't\", 'should', 'doing', 'other', 'has', 'so', \"you'd\",\n",
    "             'above', 'do', 'before', 'at', 'had', 'each', \"aren't\", 'their',\n",
    "             'now', 'an', 'through', 'how', 'those', 'nor', \"hasn't\", 'over',\n",
    "             'by', 'into', 'themselves', 'most', 'shan', 'been', \"she's\",\n",
    "             \"haven't\", \"isn't\", \"wasn't\", 'where', 'about', 'in', \"hadn't\",\n",
    "             'because', 'too', 'whom', 'ours', 'him', 'yourselves', 'after',\n",
    "             'and', 'were', 'both', 'will', 'it', 'my', 'few', 'having', 'them',\n",
    "             'hadn', 'shouldn', 'does', 's', \"couldn't\", 'y', 'all', 'don',\n",
    "             'off', 'more', 'am', 'd', 'hers', 'its', 'are', \"shan't\",\n",
    "             \"weren't\", 'we', \"needn't\", 'i', 'these', \"don't\", 'wasn', 'not'}"
   ]
  },
  {
   "cell_type": "code",
   "execution_count": 19,
   "metadata": {},
   "outputs": [],
   "source": [
    "stopwords.add('br')  # <br /> tag in a lot of reviews"
   ]
  },
  {
   "cell_type": "markdown",
   "metadata": {},
   "source": [
    "Remove stopwords"
   ]
  },
  {
   "cell_type": "code",
   "execution_count": 20,
   "metadata": {},
   "outputs": [],
   "source": [
    "def remove_stopwords(list_of_examples, stopwords):\n",
    "    result_no_stop = []\n",
    "    for list_of_words in list_of_examples:\n",
    "        result_no_stop.append( [w for w in list_of_words if w not in stopwords])\n",
    "    return result_no_stop"
   ]
  },
  {
   "cell_type": "code",
   "execution_count": 21,
   "metadata": {},
   "outputs": [],
   "source": [
    "train_reviews_no_stop = remove_stopwords(train_reviews, stopwords)\n",
    "test_reviews_no_stop = remove_stopwords(test_reviews, stopwords)"
   ]
  },
  {
   "cell_type": "markdown",
   "metadata": {},
   "source": [
    "Show sample review"
   ]
  },
  {
   "cell_type": "code",
   "execution_count": 22,
   "metadata": {},
   "outputs": [
    {
     "name": "stdout",
     "output_type": "stream",
     "text": [
      "['bromwell', 'high', 'cartoon', 'comedy', 'ran', 'time', 'programs', 'school', 'life', 'teachers', 'years', 'teaching', 'profession', 'lead', 'believe', 'bromwell', 'high', 'satire', 'much', 'closer', 'reality', 'teachers', 'scramble', 'survive', 'financially', 'insightful', 'students', 'see', 'right', 'pathetic', 'teachers', 'pomp', 'pettiness', 'whole', 'situation', 'remind', 'schools', 'knew', 'students', 'saw', 'episode', 'student', 'repeatedly', 'tried', 'burn', 'school', 'immediately', 'recalled', 'high', 'classic', 'line', 'inspector', 'sack', 'one', 'teachers', 'student', 'welcome', 'bromwell', 'high', 'expect', 'many', 'adults', 'age', 'think', 'bromwell', 'high', 'far', 'fetched', 'pity']\n"
     ]
    }
   ],
   "source": [
    "print(train_reviews_no_stop[0])"
   ]
  },
  {
   "cell_type": "markdown",
   "metadata": {},
   "source": [
    "And word counts"
   ]
  },
  {
   "cell_type": "code",
   "execution_count": 23,
   "metadata": {},
   "outputs": [
    {
     "name": "stdout",
     "output_type": "stream",
     "text": [
      "Total words:  2988387\n",
      "Unique words:  73118\n"
     ]
    }
   ],
   "source": [
    "total_words, unique_words, words_counter = count_words(train_reviews_no_stop)\n",
    "print('Total words: ', total_words)\n",
    "print('Unique words: ', unique_words)"
   ]
  },
  {
   "cell_type": "markdown",
   "metadata": {},
   "source": [
    "**Reduce Vocabulary**"
   ]
  },
  {
   "cell_type": "markdown",
   "metadata": {},
   "source": [
    "Likewise, check most rare words. They also don't provide much meaning (what is \"lagomorph\" anyways?)"
   ]
  },
  {
   "cell_type": "code",
   "execution_count": 24,
   "metadata": {},
   "outputs": [
    {
     "data": {
      "text/plain": [
       "[('lagomorph', 1),\n",
       " ('ziller', 1),\n",
       " ('deamon', 1),\n",
       " ('yaks', 1),\n",
       " ('hoodies', 1),\n",
       " ('insulation', 1),\n",
       " ('mwuhahahaa', 1),\n",
       " ('bellwood', 1),\n",
       " ('pressurized', 1),\n",
       " ('whelk', 1)]"
      ]
     },
     "metadata": {},
     "output_type": "display_data"
    }
   ],
   "source": [
    "display(words_counter.most_common()[-10:])"
   ]
  },
  {
   "cell_type": "markdown",
   "metadata": {},
   "source": [
    "We will reduce vocabulary to 998 words plus &lt;PAD&gt; and &lt;UNK&gt; tokens for total of 1000 words"
   ]
  },
  {
   "cell_type": "code",
   "execution_count": 25,
   "metadata": {},
   "outputs": [],
   "source": [
    "def get_most_common_words(list_of_examples, num_words):\n",
    "    words_ctr = collections.Counter()\n",
    "    for example in list_of_examples:\n",
    "        words_ctr.update(example)\n",
    "    \n",
    "    keep_words = {w for w, n in words_ctr.most_common()[:num_words]}\n",
    "    return keep_words"
   ]
  },
  {
   "cell_type": "code",
   "execution_count": 26,
   "metadata": {},
   "outputs": [],
   "source": [
    "allowed_words = get_most_common_words(train_reviews_no_stop, 9998)"
   ]
  },
  {
   "cell_type": "markdown",
   "metadata": {},
   "source": [
    "Print some of the allowed words"
   ]
  },
  {
   "cell_type": "code",
   "execution_count": 27,
   "metadata": {},
   "outputs": [
    {
     "name": "stdout",
     "output_type": "stream",
     "text": [
      "['chuckles', 'half', 'productions', 'kidding', 'ewoks', 'strip', 'wisdom', 'farnsworth', 'official', 'pounds', 'presidential', 'con', 'treat', 'cringing', 'spencer', 'bio', 'loretta', 'infant', 'prove', 'gag']\n"
     ]
    }
   ],
   "source": [
    "print([w for w in allowed_words][:20])"
   ]
  },
  {
   "cell_type": "markdown",
   "metadata": {},
   "source": [
    "And reduce vocabulary"
   ]
  },
  {
   "cell_type": "code",
   "execution_count": 28,
   "metadata": {},
   "outputs": [],
   "source": [
    "def reduce_vocabulary(list_of_examples, allowed_words, unk_tok='<UNK>'):\n",
    "    result_reduced = []\n",
    "    for example in list_of_examples:\n",
    "        result_reduced.append( [w if w in allowed_words else unk_tok for w in example] )\n",
    "    return result_reduced"
   ]
  },
  {
   "cell_type": "code",
   "execution_count": 29,
   "metadata": {},
   "outputs": [],
   "source": [
    "train_reviews_reduced = reduce_vocabulary(train_reviews_no_stop, allowed_words)\n",
    "test_reviews_reduced = reduce_vocabulary(test_reviews_no_stop, allowed_words)"
   ]
  },
  {
   "cell_type": "markdown",
   "metadata": {},
   "source": [
    "Show example after reduction"
   ]
  },
  {
   "cell_type": "code",
   "execution_count": 30,
   "metadata": {},
   "outputs": [
    {
     "name": "stdout",
     "output_type": "stream",
     "text": [
      "['<UNK>', 'high', 'cartoon', 'comedy', 'ran', 'time', 'programs', 'school', 'life', 'teachers', 'years', 'teaching', 'profession', 'lead', 'believe', '<UNK>', 'high', 'satire', 'much', 'closer', 'reality', 'teachers', '<UNK>', 'survive', '<UNK>', 'insightful', 'students', 'see', 'right', 'pathetic', 'teachers', '<UNK>', '<UNK>', 'whole', 'situation', 'remind', 'schools', 'knew', 'students', 'saw', 'episode', 'student', 'repeatedly', 'tried', 'burn', 'school', 'immediately', '<UNK>', 'high', 'classic', 'line', 'inspector', 'sack', 'one', 'teachers', 'student', 'welcome', '<UNK>', 'high', 'expect', 'many', 'adults', 'age', 'think', '<UNK>', 'high', 'far', 'fetched', 'pity']\n"
     ]
    }
   ],
   "source": [
    "print(train_reviews_reduced[0])"
   ]
  },
  {
   "cell_type": "markdown",
   "metadata": {},
   "source": [
    "And count words"
   ]
  },
  {
   "cell_type": "code",
   "execution_count": 31,
   "metadata": {},
   "outputs": [
    {
     "name": "stdout",
     "output_type": "stream",
     "text": [
      "Total words:  2988387\n",
      "Unique words:  9999\n"
     ]
    }
   ],
   "source": [
    "total_words, unique_words, words_counter = count_words(train_reviews_reduced)\n",
    "print('Total words: ', total_words)\n",
    "print('Unique words: ', unique_words)"
   ]
  },
  {
   "cell_type": "markdown",
   "metadata": {},
   "source": [
    "**Create dictionaries**"
   ]
  },
  {
   "cell_type": "markdown",
   "metadata": {},
   "source": [
    "Technically we don't do any padding in this notebook but I'm leaving \"&lt;PAD&gt;\" in anyway"
   ]
  },
  {
   "cell_type": "code",
   "execution_count": 32,
   "metadata": {},
   "outputs": [
    {
     "name": "stdout",
     "output_type": "stream",
     "text": [
      "Number of words in dictionaries: 10000\n"
     ]
    }
   ],
   "source": [
    "i2w = {i : w for i, (w, c) in enumerate(words_counter.most_common(), 1)}\n",
    "w2i = {w : i for i, w in i2w.items()}\n",
    "i2w[0] = '<PAD>'                       # use zero index for padding\n",
    "w2i[i2w[0]] = 0\n",
    "print('Number of words in dictionaries:', len(i2w))"
   ]
  },
  {
   "cell_type": "markdown",
   "metadata": {},
   "source": [
    "And confirm dictionaries are build correctly"
   ]
  },
  {
   "cell_type": "code",
   "execution_count": 33,
   "metadata": {},
   "outputs": [
    {
     "name": "stdout",
     "output_type": "stream",
     "text": [
      "0 : <PAD> : 0\n",
      "1 : <UNK> : 1\n",
      "2 : movie : 2\n",
      "3 : film : 3\n",
      "4 : one : 4\n",
      "5 : like : 5\n",
      "6 : good : 6\n",
      "7 : time : 7\n",
      "8 : even : 8\n",
      "9 : would : 9\n"
     ]
    }
   ],
   "source": [
    "for i in range(10):\n",
    "    word = i2w[i]\n",
    "    print(i, ':', word, ':', w2i[word])"
   ]
  },
  {
   "cell_type": "markdown",
   "metadata": {},
   "source": [
    "Print subset of vocabulary"
   ]
  },
  {
   "cell_type": "code",
   "execution_count": 34,
   "metadata": {},
   "outputs": [
    {
     "name": "stdout",
     "output_type": "stream",
     "text": [
      "['<PAD>', '<UNK>', 'aaron', 'abandon', 'abandoned', 'abbott', 'abc', 'abducted', 'abilities', 'ability', 'able', 'aboard', 'abominable', 'abomination', 'abortion', 'abound', 'abraham', 'abroad', 'abrupt', 'abruptly', 'absence', 'absent', 'absolute', 'absolutely', 'absorbed', 'absorbing', 'abstract', 'absurd', 'absurdity', 'abu', 'abundance', 'abuse', 'abused', 'abusive', 'abysmal', 'academic', 'academy', 'accent', 'accents', 'accept', 'acceptable', 'acceptance', 'accepted', 'accepting', 'accepts', 'access', 'accessible', 'accident', 'accidental', 'accidentally', 'acclaim', 'acclaimed', 'accompanied', 'accompany', 'accompanying', 'accomplish', 'accomplished', 'accomplishment', 'according', 'account', 'accounts', 'accuracy', 'accurate', 'accurately', 'accused', 'ace', 'achieve', 'achieved', 'achievement', 'achievements', 'achieves', 'achieving', 'acid', 'acknowledge', 'acknowledged', 'acquire', 'acquired', 'across', 'act', 'acted', 'acting', 'action', 'actions', 'active', 'activities', 'activity', 'actor', 'actors', 'actress', 'actresses', 'acts', 'actual', 'actuality', 'actually', 'ad', 'adam', 'adams', 'adapt', 'adaptation', 'adaptations']\n"
     ]
    }
   ],
   "source": [
    "print(sorted(list(i2w.values()))[:100])"
   ]
  },
  {
   "cell_type": "markdown",
   "metadata": {},
   "source": [
    "**Tokenize**"
   ]
  },
  {
   "cell_type": "markdown",
   "metadata": {},
   "source": [
    "Convert words into integer tokens"
   ]
  },
  {
   "cell_type": "code",
   "execution_count": 35,
   "metadata": {},
   "outputs": [],
   "source": [
    "def tokenize(list_of_examples, word2idx):\n",
    "    result_tokenized = []\n",
    "    for list_of_words in list_of_examples:\n",
    "        result_tokenized.append( [word2idx[w] for w in list_of_words] )\n",
    "    return result_tokenized"
   ]
  },
  {
   "cell_type": "code",
   "execution_count": 36,
   "metadata": {},
   "outputs": [],
   "source": [
    "train_reviews_tok = tokenize(train_reviews_reduced, w2i)\n",
    "test_reviews_tok = tokenize(test_reviews_reduced, w2i)"
   ]
  },
  {
   "cell_type": "markdown",
   "metadata": {},
   "source": [
    "Show example"
   ]
  },
  {
   "cell_type": "code",
   "execution_count": 37,
   "metadata": {},
   "outputs": [
    {
     "name": "stdout",
     "output_type": "stream",
     "text": [
      "[1, 194, 916, 102, 1994, 7, 5643, 264, 34, 5050, 59, 4829, 5707, 354, 148, 1, 194, 1839, 14, 2254, 486, 5050, 1, 1844, 1, 5644, 1363, 12, 99, 1067, 5050, 1, 1, 115, 752, 2848, 5645, 559, 1363, 110, 265, 1275, 3544, 653, 3344, 264, 1080, 1, 194, 233, 225, 2771, 7543, 4, 5050, 1275, 2185, 1, 194, 404, 33, 1314, 418, 26, 1, 194, 120, 4001, 2072]\n"
     ]
    }
   ],
   "source": [
    "print(train_reviews_tok[0])"
   ]
  },
  {
   "cell_type": "markdown",
   "metadata": {},
   "source": [
    "**Trimming and Padding**"
   ]
  },
  {
   "cell_type": "markdown",
   "metadata": {},
   "source": [
    "Lets have a look at review lengths next"
   ]
  },
  {
   "cell_type": "code",
   "execution_count": 38,
   "metadata": {},
   "outputs": [],
   "source": [
    "lengths = np.array([len(r) for r in train_reviews_tok])\n",
    "lenghts_counter = collections.Counter(lengths)"
   ]
  },
  {
   "cell_type": "code",
   "execution_count": 39,
   "metadata": {},
   "outputs": [
    {
     "name": "stdout",
     "output_type": "stream",
     "text": [
      "Shortest review: 4\n",
      "Longest review:  1422\n"
     ]
    }
   ],
   "source": [
    "print('Shortest review:', lengths.min())\n",
    "print('Longest review: ', lengths.max())"
   ]
  },
  {
   "cell_type": "code",
   "execution_count": 40,
   "metadata": {},
   "outputs": [
    {
     "data": {
      "image/png": "[encoded data removed]",
      "text/plain": [
       "<Figure size 1152x432 with 2 Axes>"
      ]
     },
     "metadata": {
      "needs_background": "light"
     },
     "output_type": "display_data"
    }
   ],
   "source": [
    "plot_counts(lenghts_counter, title='Length')"
   ]
  },
  {
   "cell_type": "markdown",
   "metadata": {},
   "source": [
    "Lets see how many reviews are over 200 words long"
   ]
  },
  {
   "cell_type": "code",
   "execution_count": 41,
   "metadata": {},
   "outputs": [
    {
     "name": "stdout",
     "output_type": "stream",
     "text": [
      "Num over 200:         3541\n",
      "Precentage over 200:  14.16\n"
     ]
    }
   ],
   "source": [
    "num_over_200 = (lengths > 200).sum()\n",
    "precentage_over_200 = 100*num_over_200 / len(lengths)\n",
    "print('Num over 200:        ', num_over_200)\n",
    "print('Precentage over 200: ', round(precentage_over_200, 2))"
   ]
  },
  {
   "cell_type": "markdown",
   "metadata": {},
   "source": [
    "To feed reviews into neural network in mini-batches all reviews have to have same length.\n",
    "\n",
    "We will:\n",
    "* trim all reviews to 200 words\n",
    "* pad all shorter reviews with &lt;NOP&gt;"
   ]
  },
  {
   "cell_type": "code",
   "execution_count": 42,
   "metadata": {},
   "outputs": [],
   "source": [
    "def trim_and_pad(list_of_examples, target_len, dtype):\n",
    "    result_np = np.zeros(shape=(len(list_of_examples), target_len), dtype=dtype)\n",
    "    \n",
    "    for i in range(len(list_of_examples)):\n",
    "        example_trimmed = list_of_examples[i][:target_len]      # trim\n",
    "        start = target_len - len(example_trimmed)\n",
    "        result_np[i, start:target_len] = example_trimmed\n",
    "        \n",
    "    return result_np"
   ]
  },
  {
   "cell_type": "markdown",
   "metadata": {},
   "source": [
    "At 10k words in the vocabulary we will fit in the int16 type"
   ]
  },
  {
   "cell_type": "code",
   "execution_count": 43,
   "metadata": {},
   "outputs": [],
   "source": [
    "target_type = np.int16\n",
    "assert len(i2w) < np.iinfo(target_type).max\n",
    "train_reviews_np = trim_and_pad(train_reviews_tok, target_len=200, dtype=target_type)\n",
    "test_reviews_np = trim_and_pad(test_reviews_tok, target_len=200, dtype=target_type)"
   ]
  },
  {
   "cell_type": "code",
   "execution_count": 44,
   "metadata": {},
   "outputs": [
    {
     "name": "stdout",
     "output_type": "stream",
     "text": [
      "[[   0    0    0 ...  120 4001 2072]\n",
      " [   1    1  578 ...    1  161  166]\n",
      " [   0    0    0 ...   12   78  276]\n",
      " ...\n",
      " [   0    0    0 ...   15    2   16]\n",
      " [   0    0    0 ...    1 1043  650]\n",
      " [   0    0    0 ...  311    7 1194]]\n"
     ]
    }
   ],
   "source": [
    "print(train_reviews_np)"
   ]
  },
  {
   "cell_type": "code",
   "execution_count": 45,
   "metadata": {},
   "outputs": [
    {
     "name": "stdout",
     "output_type": "stream",
     "text": [
      "[   0    0    0    0    0    0    0    0    0    0    0    0    0    0\n",
      "    0    0    0    0    0    0    0    0    0    0    0    0    0    0\n",
      "    0    0    0    0    0    0    0    0    0    0    0    0    0    0\n",
      "    0    0    0    0    0    0    0    0    0    0    0    0    0    0\n",
      "    0    0    0    0    0    0    0    0    0    0    0    0    0    0\n",
      "    0    0    0    0    0    0    0    0    0    0    0    0    0    0\n",
      "    0    0    0    0    0    0    0    0    0    0    0    0    0    0\n",
      "    0    0    0    0    0    0    0    0    0    0    0    0    0    0\n",
      "    0    0    0    0    0    0    0    0    0    0    0    0    0    0\n",
      "    0    0    0    0    0    1  194  916  102 1994    7 5643  264   34\n",
      " 5050   59 4829 5707  354  148    1  194 1839   14 2254  486 5050    1\n",
      " 1844    1 5644 1363   12   99 1067 5050    1    1  115  752 2848 5645\n",
      "  559 1363  110  265 1275 3544  653 3344  264 1080    1  194  233  225\n",
      " 2771 7543    4 5050 1275 2185    1  194  404   33 1314  418   26    1\n",
      "  194  120 4001 2072]\n"
     ]
    }
   ],
   "source": [
    "print(train_reviews_np[0])"
   ]
  },
  {
   "cell_type": "code",
   "execution_count": 46,
   "metadata": {},
   "outputs": [
    {
     "data": {
      "text/plain": [
       "'<UNK> high cartoon comedy ran time programs school life teachers years teaching profession lead believe <UNK> high satire much closer reality teachers <UNK> survive <UNK> insightful students see right pathetic teachers <UNK> <UNK> whole situation remind schools knew students saw episode student repeatedly tried burn school immediately <UNK> high classic line inspector sack one teachers student welcome <UNK> high expect many adults age think <UNK> high far fetched pity'"
      ]
     },
     "execution_count": 46,
     "metadata": {},
     "output_type": "execute_result"
    }
   ],
   "source": [
    "' '.join(i2w[c] for c in train_reviews_np[0] if c != 0)"
   ]
  },
  {
   "cell_type": "markdown",
   "metadata": {},
   "source": [
    "**Convert Labels**"
   ]
  },
  {
   "cell_type": "code",
   "execution_count": 47,
   "metadata": {},
   "outputs": [],
   "source": [
    "train_labels = np.array(train_labels_raw).reshape(-1, 1)\n",
    "test_labels = np.array(test_labels_raw).reshape(-1, 1)"
   ]
  },
  {
   "cell_type": "code",
   "execution_count": 48,
   "metadata": {},
   "outputs": [
    {
     "name": "stdout",
     "output_type": "stream",
     "text": [
      "[[1]\n",
      " [1]\n",
      " [1]\n",
      " ...\n",
      " [0]\n",
      " [0]\n",
      " [0]]\n"
     ]
    }
   ],
   "source": [
    "print(train_labels)"
   ]
  },
  {
   "cell_type": "markdown",
   "metadata": {},
   "source": [
    "**Convert to Tensors**"
   ]
  },
  {
   "cell_type": "code",
   "execution_count": 49,
   "metadata": {},
   "outputs": [],
   "source": [
    "train_features = torch.tensor(train_reviews_np, dtype=torch.int64, device=device)\n",
    "train_targets = torch.tensor(train_labels, dtype=torch.float32, device=device)\n",
    "test_features = torch.tensor(test_reviews_np, dtype=torch.int64, device=device)\n",
    "test_targets = torch.tensor(test_labels, dtype=torch.float32, device=device)"
   ]
  },
  {
   "cell_type": "code",
   "execution_count": 50,
   "metadata": {},
   "outputs": [
    {
     "name": "stdout",
     "output_type": "stream",
     "text": [
      "torch.Size([25000, 200]) torch.int64\n",
      "torch.Size([25000, 1]) torch.float32\n",
      "torch.Size([25000, 200]) torch.int64\n",
      "torch.Size([25000, 1]) torch.float32\n"
     ]
    }
   ],
   "source": [
    "print(train_features.shape, train_features.dtype)\n",
    "print(train_targets.shape, train_targets.dtype)\n",
    "print(test_features.shape, test_features.dtype)\n",
    "print(test_targets.shape, test_targets.dtype)"
   ]
  },
  {
   "cell_type": "markdown",
   "metadata": {},
   "source": [
    "# PyTorch Model"
   ]
  },
  {
   "cell_type": "markdown",
   "metadata": {},
   "source": [
    "Helper function for accuracy"
   ]
  },
  {
   "cell_type": "code",
   "execution_count": 51,
   "metadata": {},
   "outputs": [],
   "source": [
    "def accuracy(pred, tar): \n",
    "    return (pred == tar).float().mean()  # tensor!!"
   ]
  },
  {
   "cell_type": "markdown",
   "metadata": {},
   "source": [
    "Evaluate Helper"
   ]
  },
  {
   "cell_type": "code",
   "execution_count": 53,
   "metadata": {},
   "outputs": [],
   "source": [
    "def evaluate(data_features, data_targets, batch_size):\n",
    "    \n",
    "    predictions_all = torch.zeros_like(data_targets)   # model outputs\n",
    "    \n",
    "    model.eval()\n",
    "    \n",
    "    loss_sum, acc_sum = 0, 0\n",
    "    with torch.no_grad():        \n",
    "        for i in range(0, len(data_features), batch_size):\n",
    "\n",
    "            # Pick mini-batch\n",
    "            inputs = data_features[i:i+batch_size]\n",
    "            targets = data_targets[i:i+batch_size]\n",
    "\n",
    "            # Forward pass\n",
    "            logits = model(inputs)\n",
    "            loss = criterion(logits, targets)\n",
    "            probabilities = torch.sigmoid(logits)\n",
    "            predictions = probabilities.round()\n",
    "            acc = accuracy(predictions, targets)\n",
    "\n",
    "            predictions_all[i:i+batch_size] = predictions\n",
    "            \n",
    "            # Record per-iteration loss\n",
    "            loss_sum += loss.item() * len(inputs)\n",
    "            acc_sum += acc.item() * len(inputs)\n",
    "        \n",
    "    loss_avg = loss_sum / len(data_features)\n",
    "    acc_avg = acc_sum / len(data_features)\n",
    "    \n",
    "    return loss_avg, acc_avg, predictions_all"
   ]
  },
  {
   "cell_type": "markdown",
   "metadata": {},
   "source": [
    "Helper for plotting"
   ]
  },
  {
   "cell_type": "code",
   "execution_count": 54,
   "metadata": {},
   "outputs": [],
   "source": [
    "def plot_trace(trace):\n",
    "    fig, (ax1, ax2) = plt.subplots(nrows=1, ncols=2, figsize=(12, 4))\n",
    "    ax1.plot(trace['tloss'], label='train loss')\n",
    "    ax1.plot(trace['vloss'], label='valid loss')\n",
    "    ax1.set_xlabel('Epoch')\n",
    "    ax1.legend()\n",
    "    \n",
    "    ax2.plot(trace['tacc'], label='train acc')\n",
    "    ax2.plot(trace['vacc'], label='valid acc')\n",
    "    ax2.set_xlabel('Epoch')\n",
    "    ax2.legend()\n",
    "    plt.show()"
   ]
  },
  {
   "cell_type": "markdown",
   "metadata": {},
   "source": [
    "Simple LSTM model"
   ]
  },
  {
   "cell_type": "code",
   "execution_count": 55,
   "metadata": {},
   "outputs": [],
   "source": [
    "class SentimentNetwork(nn.Module):\n",
    "    def __init__(self, nb_layers, n_vocab, n_embed, n_hid, n_out, dropout):\n",
    "        super(SentimentNetwork, self).__init__()\n",
    "        \n",
    "        self.embed = nn.Embedding(num_embeddings=n_vocab, embedding_dim=n_embed)\n",
    "        self.lstm = nn.LSTM(input_size=n_embed, hidden_size=n_hid, num_layers=nb_layers,\n",
    "                            batch_first=True, dropout=dropout)\n",
    "        self.drop = nn.Dropout(p=dropout)\n",
    "        self.fc = nn.Linear(in_features=n_hid, out_features=n_out)\n",
    "        \n",
    "    def forward(self, x):\n",
    "        x = self.embed(x)                   # shape [n_batch, n_seq, n_embed]\n",
    "        x, _ = self.lstm(x)                 # shape [n_batch, n_seq, n_hid]\n",
    "        x = x[:, -1, :]                     # shape [n_batch, n_hid]; -1 last pred. only\n",
    "        return self.fc(x)                   # shape [n_batch, n_out]"
   ]
  },
  {
   "cell_type": "markdown",
   "metadata": {},
   "source": [
    "Hyperparameters"
   ]
  },
  {
   "cell_type": "code",
   "execution_count": 94,
   "metadata": {},
   "outputs": [],
   "source": [
    "nb_layers = 2\n",
    "n_vocab = len(i2w)\n",
    "n_embed = 300 # 400  # 50  # 300\n",
    "n_hid = 512   # 50\n",
    "n_out = 1\n",
    "\n",
    "droput = .8"
   ]
  },
  {
   "cell_type": "markdown",
   "metadata": {},
   "source": [
    "Create model"
   ]
  },
  {
   "cell_type": "code",
   "execution_count": 95,
   "metadata": {},
   "outputs": [],
   "source": [
    "model = SentimentNetwork(nb_layers, n_vocab, n_embed, n_hid, n_out, dropout=droput)\n",
    "model.to(device)\n",
    "optimizer = torch.optim.Adam(model.parameters())\n",
    "criterion = nn.BCEWithLogitsLoss()"
   ]
  },
  {
   "cell_type": "markdown",
   "metadata": {},
   "source": [
    "Train model"
   ]
  },
  {
   "cell_type": "code",
   "execution_count": 96,
   "metadata": {},
   "outputs": [],
   "source": [
    "batch_size = 250 # 50 # 250\n",
    "hist = { 'loss':[], 'acc':[] }\n",
    "trace = {'epoch': [], 'tloss': [], 'vloss': [], 'tacc': [], 'vacc': []}"
   ]
  },
  {
   "cell_type": "code",
   "execution_count": 97,
   "metadata": {
    "scrolled": false
   },
   "outputs": [
    {
     "name": "stdout",
     "output_type": "stream",
     "text": [
      "Epoch:   0     T/V Loss: 0.5742 / 0.5196     T/V Acc: 0.6982 / 0.7462     Time: 37.13s\n",
      "Epoch:   1     T/V Loss: 0.4355 / 0.4968     T/V Acc: 0.8052 / 0.7860     Time: 39.28s\n",
      "Epoch:   2     T/V Loss: 0.3783 / 0.4107     T/V Acc: 0.8380 / 0.8260     Time: 38.74s\n",
      "Epoch:   3     T/V Loss: 0.3218 / 0.3707     T/V Acc: 0.8705 / 0.8440     Time: 38.84s\n",
      "Epoch:   4     T/V Loss: 0.2530 / 0.3673     T/V Acc: 0.9014 / 0.8393     Time: 39.04s\n",
      "Epoch:   5     T/V Loss: 0.2221 / 0.3734     T/V Acc: 0.9150 / 0.8460     Time: 38.98s\n",
      "Epoch:   6     T/V Loss: 0.1843 / 0.3897     T/V Acc: 0.9323 / 0.8497     Time: 39.14s\n",
      "Epoch:   7     T/V Loss: 0.1501 / 0.4220     T/V Acc: 0.9442 / 0.8520     Time: 39.18s\n",
      "Epoch:   8     T/V Loss: 0.1129 / 0.4687     T/V Acc: 0.9607 / 0.8465     Time: 39.45s\n",
      "Epoch:   9     T/V Loss: 0.0838 / 0.5234     T/V Acc: 0.9724 / 0.8463     Time: 39.29s\n"
     ]
    }
   ],
   "source": [
    "for epoch in range(10):  # loop over the dataset multiple times\n",
    "\n",
    "    time_start = time.time()\n",
    "    \n",
    "    #\n",
    "    #   Train\n",
    "    #\n",
    "    model.train()\n",
    "    tloss_sum, tacc_sum = 0, 0\n",
    "    indices = torch.randperm(len(train_features), device=device)\n",
    "    for i in range(0, len(train_features), batch_size):\n",
    "\n",
    "        # Pick mini-batch\n",
    "        inputs = train_features[indices[i:i+batch_size]]\n",
    "        targets = train_targets[indices[i:i+batch_size]]\n",
    "        \n",
    "        # Optimize\n",
    "        optimizer.zero_grad()\n",
    "        logits = model(inputs)\n",
    "        loss = criterion(logits, targets)\n",
    "        loss.backward()\n",
    "        nn.utils.clip_grad_norm_(model.parameters(), 5.0)\n",
    "        optimizer.step()\n",
    "        \n",
    "        # Record\n",
    "        with torch.no_grad():\n",
    "            probabilities = torch.sigmoid(logits)\n",
    "            predictions = probabilities.round()\n",
    "            acc = accuracy(predictions, targets)\n",
    "            hist['loss'].append( loss.item() )\n",
    "            hist['acc'].append( acc.item() )\n",
    "            tloss_sum += loss.item() * len(inputs)\n",
    "            tacc_sum  += acc.item() * len(inputs)\n",
    "            \n",
    "    tloss_avg = tloss_sum / len(train_features)\n",
    "    tacc_avg = tacc_sum / len(train_features)\n",
    "    \n",
    "    #\n",
    "    #   Evaluate\n",
    "    #\n",
    "    \n",
    "    # includes model.eval() and torch.no_grad()\n",
    "    vloss_avg, vacc_avg, _ = evaluate(test_features, test_targets, batch_size)\n",
    "    \n",
    "    #\n",
    "    #   Logging\n",
    "    #\n",
    "    \n",
    "    time_delta = time.time() - time_start\n",
    "    \n",
    "    trace['epoch'].append(epoch)\n",
    "    trace['tloss'].append(tloss_avg)\n",
    "    trace['tacc'].append(tacc_avg)\n",
    "    trace['vloss'].append(vloss_avg)\n",
    "    trace['vacc'].append(vacc_avg)\n",
    "    \n",
    "    print(f'Epoch: {epoch:3}     T/V Loss: {tloss_avg:.4f} / {vloss_avg:.4f}     '\n",
    "          f'T/V Acc: {tacc_avg:.4f} / {vacc_avg:.4f}     Time: {time_delta:.2f}s')"
   ]
  },
  {
   "cell_type": "markdown",
   "metadata": {},
   "source": [
    "Final Results"
   ]
  },
  {
   "cell_type": "code",
   "execution_count": 98,
   "metadata": {},
   "outputs": [
    {
     "name": "stdout",
     "output_type": "stream",
     "text": [
      "Accuracy on train set: 0.99\n"
     ]
    }
   ],
   "source": [
    "_, acc, _ = evaluate(train_features, train_targets, batch_size)\n",
    "print(f'Accuracy on train set: {acc:.2f}')"
   ]
  },
  {
   "cell_type": "code",
   "execution_count": 99,
   "metadata": {},
   "outputs": [
    {
     "name": "stdout",
     "output_type": "stream",
     "text": [
      "Accuracy on test set: 0.85\n"
     ]
    }
   ],
   "source": [
    "_, acc, _ = evaluate(test_features, test_targets, batch_size)\n",
    "print(f'Accuracy on test set: {acc:.2f}')"
   ]
  },
  {
   "cell_type": "markdown",
   "metadata": {},
   "source": [
    "Plot training statistics"
   ]
  },
  {
   "cell_type": "code",
   "execution_count": 100,
   "metadata": {},
   "outputs": [
    {
     "data": {
      "image/png": "[encoded data removed]",
      "text/plain": [
       "<Figure size 864x288 with 2 Axes>"
      ]
     },
     "metadata": {
      "needs_background": "light"
     },
     "output_type": "display_data"
    }
   ],
   "source": [
    "plot_trace(trace)"
   ]
  },
  {
   "cell_type": "code",
   "execution_count": 101,
   "metadata": {},
   "outputs": [
    {
     "data": {
      "image/png": "[encoded data removed]",
      "text/plain": [
       "<Figure size 432x288 with 1 Axes>"
      ]
     },
     "metadata": {
      "needs_background": "light"
     },
     "output_type": "display_data"
    }
   ],
   "source": [
    "plt.plot(hist['loss'], label='loss')\n",
    "plt.plot(hist['acc'], label='acc', color='red')\n",
    "plt.legend();"
   ]
  },
  {
   "cell_type": "code",
   "execution_count": null,
   "metadata": {},
   "outputs": [],
   "source": []
  }
 ],
 "metadata": {
  "kernelspec": {
   "display_name": "Python [conda env:ptgpu]",
   "language": "python",
   "name": "conda-env-ptgpu-py"
  },
  "language_info": {
   "codemirror_mode": {
    "name": "ipython",
    "version": 3
   },
   "file_extension": ".py",
   "mimetype": "text/x-python",
   "name": "python",
   "nbconvert_exporter": "python",
   "pygments_lexer": "ipython3",
   "version": "3.7.1"
  }
 },
 "nbformat": 4,
 "nbformat_minor": 2
}
